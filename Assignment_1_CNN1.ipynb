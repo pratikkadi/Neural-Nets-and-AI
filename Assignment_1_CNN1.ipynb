{
  "nbformat": 4,
  "nbformat_minor": 0,
  "metadata": {
    "colab": {
      "name": "Assignment_1_CNN1.ipynb",
      "version": "0.3.2",
      "provenance": [],
      "collapsed_sections": []
    },
    "kernelspec": {
      "name": "python3",
      "display_name": "Python 3"
    },
    "accelerator": "GPU"
  },
  "cells": [
    {
      "metadata": {
        "id": "XX1wV6Tmy72D",
        "colab_type": "code",
        "colab": {}
      },
      "cell_type": "code",
      "source": [
        "import keras"
      ],
      "execution_count": 0,
      "outputs": []
    },
    {
      "metadata": {
        "id": "UaKGvBA9y-6u",
        "colab_type": "code",
        "colab": {}
      },
      "cell_type": "code",
      "source": [
        "from keras.datasets import cifar10\n",
        "from keras.preprocessing.image import ImageDataGenerator\n",
        "from keras.models import Sequential\n",
        "from keras.layers import Dense, Dropout, Activation, Flatten\n",
        "from keras.layers import Conv2D, MaxPooling2D\n",
        "import matplotlib.pyplot as plt"
      ],
      "execution_count": 0,
      "outputs": []
    },
    {
      "metadata": {
        "id": "QGNGFy4bzTbI",
        "colab_type": "code",
        "colab": {}
      },
      "cell_type": "code",
      "source": [
        "batch_size = 50\n",
        "num_classes = 10\n",
        "epochs = 34\n",
        "num_predictions = 20"
      ],
      "execution_count": 0,
      "outputs": []
    },
    {
      "metadata": {
        "id": "gnfFc7cKzqFM",
        "colab_type": "code",
        "outputId": "610097b9-9991-4ead-f65d-668fec8d748e",
        "colab": {
          "base_uri": "https://localhost:8080/",
          "height": 70
        }
      },
      "cell_type": "code",
      "source": [
        "(x_train, y_train), (x_test, y_test) = cifar10.load_data()\n",
        "print('x_train shape:', x_train.shape)\n",
        "print(x_train.shape[0], 'train samples')\n",
        "print(x_test.shape[0], 'test samples')"
      ],
      "execution_count": 122,
      "outputs": [
        {
          "output_type": "stream",
          "text": [
            "x_train shape: (50000, 32, 32, 3)\n",
            "50000 train samples\n",
            "10000 test samples\n"
          ],
          "name": "stdout"
        }
      ]
    },
    {
      "metadata": {
        "id": "vDkpcoPTzuzI",
        "colab_type": "code",
        "colab": {}
      },
      "cell_type": "code",
      "source": [
        "y_train = keras.utils.to_categorical(y_train, num_classes)\n",
        "y_test = keras.utils.to_categorical(y_test, num_classes)"
      ],
      "execution_count": 0,
      "outputs": []
    },
    {
      "metadata": {
        "id": "VCYrr_2d1k-5",
        "colab_type": "code",
        "colab": {}
      },
      "cell_type": "code",
      "source": [
        "model = Sequential()\n",
        "model.add(Conv2D(32, (3, 3), padding='same',\n",
        "                 input_shape=x_train.shape[1:]))\n",
        "model.add(Activation('relu'))\n",
        "model.add(Conv2D(32, (3, 3)))\n",
        "model.add(Activation('relu'))\n",
        "model.add(MaxPooling2D(pool_size=(2, 2),strides=3,padding='same'))"
      ],
      "execution_count": 0,
      "outputs": []
    },
    {
      "metadata": {
        "id": "nJKWVjYyfNnV",
        "colab_type": "code",
        "colab": {}
      },
      "cell_type": "code",
      "source": [
        "model.add(Conv2D(64, (3, 3), padding='same'))\n",
        "model.add(Activation('relu'))\n",
        "model.add(Conv2D(64, (3, 3)))\n",
        "model.add(Activation('relu'))\n",
        "model.add(MaxPooling2D(pool_size=(2, 2),strides=3,padding='same'))\n",
        "model.add(Dropout(0.25))"
      ],
      "execution_count": 0,
      "outputs": []
    },
    {
      "metadata": {
        "id": "1OrfYLO4HKPI",
        "colab_type": "code",
        "colab": {}
      },
      "cell_type": "code",
      "source": [
        "# model.add(Conv2D(64, (3, 3), padding='valid'))\n",
        "# model.add(Activation('relu'))\n",
        "# model.add(Conv2D(64, (3, 3)))\n",
        "# model.add(Activation('relu'))\n",
        "# model.add(MaxPooling2D(pool_size=(5, 5),strides=2))\n",
        "# model.add(Dropout(0.25))"
      ],
      "execution_count": 0,
      "outputs": []
    },
    {
      "metadata": {
        "id": "qNRvMQCCfVHo",
        "colab_type": "code",
        "colab": {}
      },
      "cell_type": "code",
      "source": [
        "model.add(Flatten())\n",
        "model.add(Dense(512))\n",
        "model.add(Activation('relu'))\n",
        "model.add(Dropout(0.25))\n",
        "model.add(Dense(num_classes))\n",
        "model.add(Activation('softmax'))"
      ],
      "execution_count": 0,
      "outputs": []
    },
    {
      "metadata": {
        "id": "3GfO5ZhdxS0u",
        "colab_type": "code",
        "colab": {
          "base_uri": "https://localhost:8080/",
          "height": 746
        },
        "outputId": "dc798042-47cd-4fe9-f85d-55da3fec067d"
      },
      "cell_type": "code",
      "source": [
        "model.summary()"
      ],
      "execution_count": 128,
      "outputs": [
        {
          "output_type": "stream",
          "text": [
            "_________________________________________________________________\n",
            "Layer (type)                 Output Shape              Param #   \n",
            "=================================================================\n",
            "conv2d_48 (Conv2D)           (None, 32, 32, 32)        896       \n",
            "_________________________________________________________________\n",
            "activation_58 (Activation)   (None, 32, 32, 32)        0         \n",
            "_________________________________________________________________\n",
            "conv2d_49 (Conv2D)           (None, 30, 30, 32)        9248      \n",
            "_________________________________________________________________\n",
            "activation_59 (Activation)   (None, 30, 30, 32)        0         \n",
            "_________________________________________________________________\n",
            "max_pooling2d_22 (MaxPooling (None, 10, 10, 32)        0         \n",
            "_________________________________________________________________\n",
            "conv2d_50 (Conv2D)           (None, 10, 10, 64)        18496     \n",
            "_________________________________________________________________\n",
            "activation_60 (Activation)   (None, 10, 10, 64)        0         \n",
            "_________________________________________________________________\n",
            "conv2d_51 (Conv2D)           (None, 8, 8, 64)          36928     \n",
            "_________________________________________________________________\n",
            "activation_61 (Activation)   (None, 8, 8, 64)          0         \n",
            "_________________________________________________________________\n",
            "max_pooling2d_23 (MaxPooling (None, 3, 3, 64)          0         \n",
            "_________________________________________________________________\n",
            "dropout_17 (Dropout)         (None, 3, 3, 64)          0         \n",
            "_________________________________________________________________\n",
            "flatten_8 (Flatten)          (None, 576)               0         \n",
            "_________________________________________________________________\n",
            "dense_15 (Dense)             (None, 512)               295424    \n",
            "_________________________________________________________________\n",
            "activation_62 (Activation)   (None, 512)               0         \n",
            "_________________________________________________________________\n",
            "dropout_18 (Dropout)         (None, 512)               0         \n",
            "_________________________________________________________________\n",
            "dense_16 (Dense)             (None, 10)                5130      \n",
            "_________________________________________________________________\n",
            "activation_63 (Activation)   (None, 10)                0         \n",
            "=================================================================\n",
            "Total params: 366,122\n",
            "Trainable params: 366,122\n",
            "Non-trainable params: 0\n",
            "_________________________________________________________________\n"
          ],
          "name": "stdout"
        }
      ]
    },
    {
      "metadata": {
        "id": "r0MlBHr4fWwQ",
        "colab_type": "code",
        "colab": {}
      },
      "cell_type": "code",
      "source": [
        "opt = keras.optimizers.rmsprop(lr=0.0001, decay=1e-6)"
      ],
      "execution_count": 0,
      "outputs": []
    },
    {
      "metadata": {
        "id": "mn0_d-EN1wG5",
        "colab_type": "code",
        "colab": {}
      },
      "cell_type": "code",
      "source": [
        "model.compile(loss='categorical_crossentropy',\n",
        "              optimizer=opt,\n",
        "              metrics=['accuracy'])\n",
        "\n",
        "x_train = x_train.astype('float32')\n",
        "x_test = x_test.astype('float32')\n",
        "x_train /= 255\n",
        "x_test /= 255"
      ],
      "execution_count": 0,
      "outputs": []
    },
    {
      "metadata": {
        "id": "Ie1rYJEVhejH",
        "colab_type": "code",
        "outputId": "48d0f1e3-bc03-4246-97c6-810bace7fcbc",
        "colab": {
          "base_uri": "https://localhost:8080/",
          "height": 1244
        }
      },
      "cell_type": "code",
      "source": [
        "history=model.fit(x_train, y_train,\n",
        "              batch_size=batch_size,\n",
        "              epochs=epochs,\n",
        "              validation_data=(x_test, y_test),\n",
        "              shuffle=True)"
      ],
      "execution_count": 131,
      "outputs": [
        {
          "output_type": "stream",
          "text": [
            "Train on 50000 samples, validate on 10000 samples\n",
            "Epoch 1/34\n",
            "50000/50000 [==============================] - 15s 297us/step - loss: 1.8845 - acc: 0.3120 - val_loss: 1.6733 - val_acc: 0.4042\n",
            "Epoch 2/34\n",
            "50000/50000 [==============================] - 14s 286us/step - loss: 1.5974 - acc: 0.4161 - val_loss: 1.4699 - val_acc: 0.4618\n",
            "Epoch 3/34\n",
            "50000/50000 [==============================] - 14s 286us/step - loss: 1.4852 - acc: 0.4620 - val_loss: 1.3786 - val_acc: 0.5053\n",
            "Epoch 4/34\n",
            "50000/50000 [==============================] - 14s 286us/step - loss: 1.4015 - acc: 0.4932 - val_loss: 1.3558 - val_acc: 0.5177\n",
            "Epoch 5/34\n",
            "50000/50000 [==============================] - 14s 289us/step - loss: 1.3380 - acc: 0.5201 - val_loss: 1.2260 - val_acc: 0.5612\n",
            "Epoch 6/34\n",
            "50000/50000 [==============================] - 14s 289us/step - loss: 1.2751 - acc: 0.5451 - val_loss: 1.1797 - val_acc: 0.5802\n",
            "Epoch 7/34\n",
            "50000/50000 [==============================] - 14s 285us/step - loss: 1.2278 - acc: 0.5611 - val_loss: 1.1557 - val_acc: 0.5924\n",
            "Epoch 8/34\n",
            "50000/50000 [==============================] - 14s 285us/step - loss: 1.1873 - acc: 0.5751 - val_loss: 1.1084 - val_acc: 0.6067\n",
            "Epoch 9/34\n",
            "50000/50000 [==============================] - 14s 285us/step - loss: 1.1487 - acc: 0.5928 - val_loss: 1.1081 - val_acc: 0.6071\n",
            "Epoch 10/34\n",
            "50000/50000 [==============================] - 14s 285us/step - loss: 1.1197 - acc: 0.6057 - val_loss: 1.0818 - val_acc: 0.6199\n",
            "Epoch 11/34\n",
            "50000/50000 [==============================] - 14s 287us/step - loss: 1.0842 - acc: 0.6195 - val_loss: 1.0747 - val_acc: 0.6213\n",
            "Epoch 12/34\n",
            "50000/50000 [==============================] - 14s 286us/step - loss: 1.0577 - acc: 0.6279 - val_loss: 1.0108 - val_acc: 0.6433\n",
            "Epoch 13/34\n",
            "50000/50000 [==============================] - 14s 285us/step - loss: 1.0399 - acc: 0.6353 - val_loss: 0.9670 - val_acc: 0.6631\n",
            "Epoch 14/34\n",
            "50000/50000 [==============================] - 14s 285us/step - loss: 1.0113 - acc: 0.6439 - val_loss: 0.9677 - val_acc: 0.6593\n",
            "Epoch 15/34\n",
            "50000/50000 [==============================] - 14s 288us/step - loss: 0.9910 - acc: 0.6511 - val_loss: 0.9481 - val_acc: 0.6678\n",
            "Epoch 16/34\n",
            "50000/50000 [==============================] - 14s 287us/step - loss: 0.9703 - acc: 0.6581 - val_loss: 0.9345 - val_acc: 0.6778\n",
            "Epoch 17/34\n",
            "50000/50000 [==============================] - 14s 286us/step - loss: 0.9492 - acc: 0.6678 - val_loss: 0.9589 - val_acc: 0.6688\n",
            "Epoch 18/34\n",
            "50000/50000 [==============================] - 14s 286us/step - loss: 0.9333 - acc: 0.6741 - val_loss: 0.9055 - val_acc: 0.6849\n",
            "Epoch 19/34\n",
            "50000/50000 [==============================] - 14s 285us/step - loss: 0.9133 - acc: 0.6803 - val_loss: 0.9032 - val_acc: 0.6879\n",
            "Epoch 20/34\n",
            "50000/50000 [==============================] - 14s 287us/step - loss: 0.8996 - acc: 0.6848 - val_loss: 0.8663 - val_acc: 0.7038\n",
            "Epoch 21/34\n",
            "50000/50000 [==============================] - 14s 286us/step - loss: 0.8805 - acc: 0.6915 - val_loss: 0.8807 - val_acc: 0.6937\n",
            "Epoch 22/34\n",
            "50000/50000 [==============================] - 14s 286us/step - loss: 0.8653 - acc: 0.6962 - val_loss: 0.8511 - val_acc: 0.7048\n",
            "Epoch 23/34\n",
            "50000/50000 [==============================] - 14s 285us/step - loss: 0.8505 - acc: 0.7026 - val_loss: 0.8401 - val_acc: 0.7063\n",
            "Epoch 24/34\n",
            "50000/50000 [==============================] - 14s 285us/step - loss: 0.8379 - acc: 0.7062 - val_loss: 0.8243 - val_acc: 0.7139\n",
            "Epoch 25/34\n",
            "50000/50000 [==============================] - 14s 286us/step - loss: 0.8193 - acc: 0.7121 - val_loss: 0.8111 - val_acc: 0.7189\n",
            "Epoch 26/34\n",
            "50000/50000 [==============================] - 14s 287us/step - loss: 0.8095 - acc: 0.7147 - val_loss: 0.8286 - val_acc: 0.7129\n",
            "Epoch 27/34\n",
            "50000/50000 [==============================] - 14s 290us/step - loss: 0.7965 - acc: 0.7209 - val_loss: 0.8119 - val_acc: 0.7176\n",
            "Epoch 28/34\n",
            "50000/50000 [==============================] - 14s 287us/step - loss: 0.7892 - acc: 0.7237 - val_loss: 0.7952 - val_acc: 0.7245\n",
            "Epoch 29/34\n",
            "50000/50000 [==============================] - 14s 288us/step - loss: 0.7713 - acc: 0.7288 - val_loss: 0.8148 - val_acc: 0.7173\n",
            "Epoch 30/34\n",
            "50000/50000 [==============================] - 14s 286us/step - loss: 0.7622 - acc: 0.7336 - val_loss: 0.7698 - val_acc: 0.7347\n",
            "Epoch 31/34\n",
            "50000/50000 [==============================] - 14s 287us/step - loss: 0.7503 - acc: 0.7385 - val_loss: 0.7732 - val_acc: 0.7360\n",
            "Epoch 32/34\n",
            "50000/50000 [==============================] - 14s 287us/step - loss: 0.7395 - acc: 0.7423 - val_loss: 0.7787 - val_acc: 0.7342\n",
            "Epoch 33/34\n",
            "50000/50000 [==============================] - 14s 286us/step - loss: 0.7315 - acc: 0.7454 - val_loss: 0.7844 - val_acc: 0.7322\n",
            "Epoch 34/34\n",
            "50000/50000 [==============================] - 14s 286us/step - loss: 0.7197 - acc: 0.7473 - val_loss: 0.7537 - val_acc: 0.7433\n"
          ],
          "name": "stdout"
        }
      ]
    },
    {
      "metadata": {
        "id": "SZxaSfFwE0VY",
        "colab_type": "code",
        "outputId": "2cafd5db-aee7-4cba-fdf2-0e16e2719de7",
        "colab": {
          "base_uri": "https://localhost:8080/",
          "height": 70
        }
      },
      "cell_type": "code",
      "source": [
        "scores = model.evaluate(x_test, y_test, verbose=1)\n",
        "print('Test loss:', scores[0])\n",
        "print('Test accuracy:', scores[1])"
      ],
      "execution_count": 133,
      "outputs": [
        {
          "output_type": "stream",
          "text": [
            "10000/10000 [==============================] - 1s 130us/step\n",
            "Test loss: 0.7536503143310547\n",
            "Test accuracy: 0.7433\n"
          ],
          "name": "stdout"
        }
      ]
    },
    {
      "metadata": {
        "id": "8KZTo9x1E4yV",
        "colab_type": "code",
        "outputId": "a9501a09-9931-4b69-90c5-a9355716b5ac",
        "colab": {
          "base_uri": "https://localhost:8080/",
          "height": 735
        }
      },
      "cell_type": "code",
      "source": [
        "plt.plot(history.history['acc'])\n",
        "plt.plot(history.history['val_acc'])\n",
        "plt.title('model accuracy')\n",
        "plt.ylabel('accuracy')\n",
        "plt.xlabel('epoch')\n",
        "plt.legend(['train', 'validation'], loc='upper left')\n",
        "plt.show()\n",
        "# \"Loss\"\n",
        "plt.plot(history.history['loss'])\n",
        "plt.plot(history.history['val_loss'])\n",
        "plt.title('model loss')\n",
        "plt.ylabel('loss')\n",
        "plt.xlabel('epoch')\n",
        "plt.legend(['train', 'validation'], loc='upper left')\n",
        "plt.show()"
      ],
      "execution_count": 134,
      "outputs": [
        {
          "output_type": "display_data",
          "data": {
            "image/png": "[encoded data removed]",
            "text/plain": [
              "<Figure size 576x396 with 1 Axes>"
            ]
          },
          "metadata": {
            "tags": []
          }
        },
        {
          "output_type": "display_data",
          "data": {
            "image/png": "[encoded data removed]",
            "text/plain": [
              "<Figure size 576x396 with 1 Axes>"
            ]
          },
          "metadata": {
            "tags": []
          }
        }
      ]
    },
    {
      "metadata": {
        "id": "2WMfDH-FW3rr",
        "colab_type": "code",
        "colab": {}
      },
      "cell_type": "code",
      "source": [
        ""
      ],
      "execution_count": 0,
      "outputs": []
    }
  ]
}