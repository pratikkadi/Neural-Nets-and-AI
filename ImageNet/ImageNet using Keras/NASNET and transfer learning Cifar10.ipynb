{
 "cells": [
  {
   "cell_type": "markdown",
   "metadata": {},
   "source": [
    "# NASNet model and transfer learning for CIFAR 10"
   ]
  },
  {
   "cell_type": "code",
   "execution_count": 0,
   "metadata": {
    "colab": {},
    "colab_type": "code",
    "id": "nH9MI4YbhhGd"
   },
   "outputs": [],
   "source": [
    "import os\n",
    "import keras\n",
    "from keras.models import Sequential\n",
    "from keras.utils import np_utils\n",
    "from keras.preprocessing.image import ImageDataGenerator\n",
    "from keras.layers import Dense, Activation, Flatten, Dropout, BatchNormalization\n",
    "from keras.layers import Conv2D, MaxPooling2D\n",
    "from keras.datasets import cifar10\n",
    "from keras import regularizers\n",
    "from keras.callbacks import LearningRateScheduler\n",
    "import numpy as np\n",
    "from keras.layers.convolutional import Convolution2D, MaxPooling2D, ZeroPadding2D, AveragePooling2D\n",
    "from PIL import Image\n",
    "from keras.datasets import mnist\n",
    "from keras.models import Sequential\n",
    "from keras import regularizers\n",
    "from keras.datasets import cifar10\n",
    "#from keras.regularizers import WeightRegularizer, ActivityRegularizer \n",
    "from keras.layers.core import Dense, Dropout, Activation, Flatten\n",
    "from keras.layers.convolutional import Convolution2D, MaxPooling2D, ZeroPadding2D, AveragePooling2D\n",
    "from keras.layers.normalization import BatchNormalization \n",
    "from keras.utils import np_utils\n",
    "from keras.optimizers import SGD\n",
    "from keras.preprocessing.image import ImageDataGenerator\n",
    "#from plotter import Plotter\n",
    "# from keras.utils.visualize_util import plot\n",
    "import h5py\n",
    "import matplotlib.pyplot as plt\n",
    "import numpy as np # linear algebra\n",
    "import pandas as pd # data processing, CSV file I/O (e.g. pd.read_csv)\n",
    "from keras.layers import Dense\n",
    "from keras.models import Sequential\n",
    "from keras.applications.nasnet import NASNetMobile\n",
    "from keras.callbacks import EarlyStopping,ModelCheckpoint\n",
    "from pathlib import Path\n",
    "import cv2\n",
    "# Input data files are available in the \"../input/\" directory.\n",
    "# For example, running this (by clicking run or pressing Shift+Enter) will list the files in the input directory\n",
    "\n",
    "import os\n"
   ]
  },
  {
   "cell_type": "code",
   "execution_count": 0,
   "metadata": {
    "colab": {},
    "colab_type": "code",
    "id": "ShWSpj9-hjIS"
   },
   "outputs": [],
   "source": [
    "def get_annotations_map():\n",
    "\tvalAnnotationsPath = 'tiny-imagenet-200/tiny-imagenet-200/val/val_annotations.txt'\n",
    "\tvalAnnotationsFile = open(valAnnotationsPath, 'r')\n",
    "\tvalAnnotationsContents = valAnnotationsFile.read()\n",
    "\tvalAnnotations = {}\n",
    "\n",
    "\tfor line in valAnnotationsContents.splitlines():\n",
    "\t\tpieces = line.strip().split()\n",
    "\t\tvalAnnotations[pieces[0]] = pieces[1]\n",
    "\n",
    "\treturn valAnnotations"
   ]
  },
  {
   "cell_type": "code",
   "execution_count": 0,
   "metadata": {
    "colab": {},
    "colab_type": "code",
    "id": "gFpcXpN6hjYU"
   },
   "outputs": [],
   "source": [
    "def load_images(path,num_classes):\n",
    "    #Load images\n",
    "    \n",
    "    print('Loading ' + str(num_classes) + ' classes')\n",
    "\n",
    "    X_train=np.zeros([num_classes*500,32,32,3],dtype='uint8')\n",
    "    y_train=np.zeros([num_classes*500], dtype='uint8')\n",
    "\n",
    "    trainPath=path+'/train'\n",
    "\n",
    "    print('loading training images...');\n",
    "\n",
    "    i=0\n",
    "    j=0\n",
    "    annotations={}\n",
    "    for sChild in os.listdir(trainPath):\n",
    "        sChildPath = os.path.join(os.path.join(trainPath,sChild),'images')\n",
    "        annotations[sChild]=j\n",
    "        for c in os.listdir(sChildPath):\n",
    "            X=np.array(Image.open(os.path.join(sChildPath,c)))\n",
    "            if len(np.shape(X))==2:\n",
    "                X_train[i]=np.array([X,X,X])\n",
    "            else:\n",
    "                X_train[i]=np.transpose(X,(1,0,2))\n",
    "            y_train[i]=j\n",
    "            i+=1\n",
    "        j+=1\n",
    "        if (j >= num_classes):\n",
    "            break\n",
    "\n",
    "    print('finished loading training images')\n",
    "\n",
    "    val_annotations_map = get_annotations_map()\n",
    "\n",
    "    X_test = np.zeros([num_classes*50,32,32,3],dtype='uint8')\n",
    "    y_test = np.zeros([num_classes*50], dtype='uint8')\n",
    "\n",
    "\n",
    "    print('loading test images...')\n",
    "\n",
    "    i = 0\n",
    "    testPath=path+'/val/images'\n",
    "    for sChild in os.listdir(testPath):\n",
    "        if val_annotations_map[sChild] in annotations.keys():\n",
    "            sChildPath = os.path.join(testPath, sChild)\n",
    "            X=np.array(Image.open(sChildPath))\n",
    "            if len(np.shape(X))==2:\n",
    "                X_test[i]=np.array([X,X,X])\n",
    "            else:\n",
    "                X_test[i]=np.transpose(X,(1,0,2))\n",
    "            y_test[i]=annotations[val_annotations_map[sChild]]\n",
    "            i+=1\n",
    "        else:\n",
    "            pass\n",
    "\n",
    "\n",
    "\n",
    "    return X_train,y_train,X_test,y_test"
   ]
  },
  {
   "cell_type": "code",
   "execution_count": 0,
   "metadata": {
    "colab": {
     "base_uri": "https://localhost:8080/",
     "height": 74,
     "resources": {
      "http://localhost:8080/nbextensions/google.colab/files.js": {
       "data": "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",
       "headers": [
        [
         "content-type",
         "application/javascript"
        ]
       ],
       "ok": true,
       "status": 200,
       "status_text": ""
      }
     }
    },
    "colab_type": "code",
    "id": "TDfpj8CahxPX",
    "outputId": "8bec2bec-4150-44e3-e759-378d175d5e81"
   },
   "outputs": [
    {
     "data": {
      "text/html": [
       "\n",
       "     <input type=\"file\" id=\"files-687dbcb0-e362-49f9-8a66-3d3abbe870c7\" name=\"files[]\" multiple disabled />\n",
       "     <output id=\"result-687dbcb0-e362-49f9-8a66-3d3abbe870c7\">\n",
       "      Upload widget is only available when the cell has been executed in the\n",
       "      current browser session. Please rerun this cell to enable.\n",
       "      </output>\n",
       "      <script src=\"/nbextensions/google.colab/files.js\"></script> "
      ],
      "text/plain": [
       "<IPython.core.display.HTML object>"
      ]
     },
     "metadata": {
      "tags": []
     },
     "output_type": "display_data"
    },
    {
     "name": "stdout",
     "output_type": "stream",
     "text": [
      "Saving tiny-imagenet-200.zip to tiny-imagenet-200 (1).zip\n"
     ]
    }
   ],
   "source": [
    "from google.colab import files\n",
    "uploaded=files.upload()\n"
   ]
  },
  {
   "cell_type": "code",
   "execution_count": 0,
   "metadata": {
    "colab": {},
    "colab_type": "code",
    "id": "WGTI_NIlhxSN"
   },
   "outputs": [],
   "source": [
    "import zipfile\n",
    "import io\n",
    "data = zipfile.ZipFile(io.BytesIO(uploaded['tiny-imagenet-200.zip']), 'r')\n",
    "data.extractall()\n"
   ]
  },
  {
   "cell_type": "code",
   "execution_count": 0,
   "metadata": {
    "colab": {
     "base_uri": "https://localhost:8080/",
     "height": 258
    },
    "colab_type": "code",
    "id": "5skg6AFfh6Bb",
    "outputId": "2d30f7fa-80c8-48ed-de43-7e861ebbd244"
   },
   "outputs": [
    {
     "name": "stdout",
     "output_type": "stream",
     "text": [
      "Training a CNN Multi-Classifier Model ......\n",
      "\n",
      " - names of classes:  ['n02129165', 'n03837869', 'n01742172', 'n03250847', 'n03126707', 'n02815834', 'n04532670', 'n03854065', 'n12267677', 'n07615774', 'n03649909', 'n03584254', 'n02226429', 'n02423022', 'n03014705', 'n09332890', 'n03617480', 'n02206856', 'n03763968', 'n03201208', 'n01774384', 'n01698640', 'n01944390', 'n04507155', 'n04532106', 'n03400231', 'n03796401', 'n04259630', 'n02883205', 'n02403003', 'n03976657', 'n02837789', 'n04251144', 'n02123045', 'n02795169', 'n01855672', 'n02124075', 'n04540053', 'n04067472', 'n04560804', 'n02056570', 'n01983481', 'n02486410', 'n07920052', 'n04074963', 'n04376876', 'n04118538', 'n04465501', 'n03838899', 'n03404251', 'n04597913', 'n02988304', 'n03160309', 'n02504458', 'n04417672', 'n02410509', 'n02909870', 'n06596364', 'n07734744', 'n03983396', 'n02480495', 'n02281406', 'n04371430', 'n03662601', 'n03544143', 'n07875152', 'n03937543', 'n02927161', 'n01644900', 'n07720875', 'n02841315', 'n02699494', 'n07768694', 'n01641577', 'n02321529', 'n07753592', 'n03770439', 'n02823428', 'n04023962', 'n03891332', 'n03814639', 'n03637318', 'n02917067', 'n03970156', 'n02106662', 'n04285008', 'n01784675', 'n01945685', 'n01629819', 'n04254777', 'n03733131', 'n04486054', 'n02099712', 'n02094433', 'n02231487', 'n03393912', 'n04596742', 'n01917289', 'n02279972', 'n02364673', 'n01910747', 'n03179701', 'n04501370', 'n02002724', 'n02165456', 'n02085620', 'n04398044', 'n02125311', 'n02268443', 'n02236044', 'n07695742', 'n07711569', 'n02190166', 'n03992509', 'n02843684', 'n02977058', 'n03388043', 'n07614500', 'n01774750', 'n02099601', 'n03447447', 'n04456115', 'n01443537', 'n02481823', 'n07747607', 'n02814860', 'n04275548', 'n03902125', 'n02950826', 'n07871810', 'n03670208', 'n01984695', 'n04133789', 'n07749582', 'n01950731', 'n03100240', 'n02963159', 'n02808440', 'n04366367', 'n03355925', 'n02669723', 'n02769748', 'n04149813', 'n03977966', 'n04487081', 'n09256479', 'n03089624', 'n02233338', 'n02814533', 'n02058221', 'n01770393', 'n02437312', 'n04356056', 'n04008634', 'n02395406', 'n04562935', 'n04179913', 'n03804744', 'n02788148', 'n03599486', 'n07579787', 'n04265275', 'n07873807', 'n02123394', 'n07583066', 'n04070727', 'n02415577', 'n03706229', 'n02802426', 'n02948072', 'n03085013', 'n04328186', 'n03255030', 'n02666196', 'n07715103', 'n03444034', 'n02906734', 'n09193705', 'n03042490', 'n09428293', 'n02793495', 'n02730930', 'n04399382', 'n02113799', 'n02509815', 'n03424325', 'n01882714', 'n03930313', 'n09246464', 'n02074367', 'n02892201', 'n04146614', 'n01768244', 'n04311004', 'n02999410', 'n04099969', 'n03026506', 'n02132136', 'n02791270', 'n03980874'] \n",
      " - # of classes:  200\n",
      " - # of trained samples:  100200 \n",
      " - # of validation samples:  10001 \n",
      " - # of test samples:  10000 \n",
      " - total # of samples:  120201 \n",
      " - train ratio: 83.36 \n",
      " - validation ratio: 8.32 \n",
      " - test ratio: 8.32  % \n",
      " - # of epochs:  2 \n",
      " - batch size:  500\n"
     ]
    }
   ],
   "source": [
    "train_data_dir = 'tiny-imagenet-200/tiny-imagenet-200/train'  \n",
    "validation_data_dir = 'tiny-imagenet-200/tiny-imagenet-200/val'  \n",
    "test_data_dir = 'tiny-imagenet-200//tiny-imagenet-200/test' \n",
    "target_names = [item for item in os.listdir(train_data_dir) if os.path.isdir(os.path.join(train_data_dir, item))]\n",
    "nb_train_samples = sum([len(files) for _, _, files in os.walk(train_data_dir)])  \n",
    "nb_validation_samples = sum([len(files) for _, _, files in os.walk(validation_data_dir)])\n",
    "nb_test_samples = sum([len(files) for _, _, files in os.walk(test_data_dir)])\n",
    "total_nb_samples = nb_train_samples + nb_validation_samples + nb_test_samples\n",
    "\n",
    "nb_classes = len(target_names)      # number of output classes\n",
    "\n",
    "print('Training a CNN Multi-Classifier Model ......')\n",
    "print('\\n - names of classes: ', target_names, '\\n - # of classes: ', nb_classes)\n",
    "print(' - # of trained samples: ', nb_train_samples, '\\n - # of validation samples: ', nb_validation_samples,\n",
    "      '\\n - # of test samples: ', nb_test_samples,\n",
    "       '\\n - total # of samples: ', total_nb_samples, '\\n - train ratio:', round(nb_train_samples/total_nb_samples*100, 2),\n",
    "      '\\n - validation ratio:', round(nb_validation_samples/total_nb_samples*100, 2),\n",
    "      '\\n - test ratio:', round(nb_test_samples/total_nb_samples*100, 2),\n",
    "     ' %', '\\n - # of epochs: ', 2, '\\n - batch size: ', 500)"
   ]
  },
  {
   "cell_type": "code",
   "execution_count": 0,
   "metadata": {
    "colab": {
     "base_uri": "https://localhost:8080/",
     "height": 381
    },
    "colab_type": "code",
    "id": "5Yll-3DzhwgM",
    "outputId": "69c4ea07-261b-453d-fb2e-2cf948d05163"
   },
   "outputs": [
    {
     "name": "stdout",
     "output_type": "stream",
     "text": [
      "(32, 32, 3)\n"
     ]
    },
    {
     "data": {
      "text/plain": [
       "<matplotlib.image.AxesImage at 0x7f8761b59eb8>"
      ]
     },
     "execution_count": 8,
     "metadata": {
      "tags": []
     },
     "output_type": "execute_result"
    },
    {
     "data": {
      "image/png": "[encoded data removed]",
      "text/plain": [
       "<Figure size 576x396 with 1 Axes>"
      ]
     },
     "metadata": {
      "tags": []
     },
     "output_type": "display_data"
    }
   ],
   "source": [
    "import matplotlib.pylab as plt\n",
    "img = cv2.imread('tiny-imagenet-200/tiny-imagenet-200/train/n01443537/images/n01443537_9.JPEG')\n",
    "print(img.shape)\n",
    "plt.imshow(img)\n"
   ]
  },
  {
   "cell_type": "code",
   "execution_count": 0,
   "metadata": {
    "colab": {
     "base_uri": "https://localhost:8080/",
     "height": 85
    },
    "colab_type": "code",
    "id": "6O2Yi7wej-Xt",
    "outputId": "59205080-815b-448c-bc2e-263d9ce3c813"
   },
   "outputs": [
    {
     "name": "stdout",
     "output_type": "stream",
     "text": [
      "Loading 200 classes\n",
      "loading training images...\n",
      "finished loading training images\n",
      "loading test images...\n"
     ]
    }
   ],
   "source": [
    "path='tiny-imagenet-200/tiny-imagenet-200'\n",
    "X_train,y_train,X_test,y_test=load_images(path,nb_classes)"
   ]
  },
  {
   "cell_type": "code",
   "execution_count": 0,
   "metadata": {
    "colab": {},
    "colab_type": "code",
    "id": "EFZ8yKsCj4yl"
   },
   "outputs": [],
   "source": [
    "model = Sequential()\n",
    "model.add(NASNetMobile(include_top=False,weights=None,pooling='avg',input_shape=(32,32,3)))\n",
    "model.add(Dense(200,activation='softmax'))"
   ]
  },
  {
   "cell_type": "code",
   "execution_count": 0,
   "metadata": {
    "colab": {
     "base_uri": "https://localhost:8080/",
     "height": 204
    },
    "colab_type": "code",
    "id": "n_WKancikBqm",
    "outputId": "bba3eff3-a2bc-4549-b67e-482e5a35fd04"
   },
   "outputs": [
    {
     "name": "stdout",
     "output_type": "stream",
     "text": [
      "_________________________________________________________________\n",
      "Layer (type)                 Output Shape              Param #   \n",
      "=================================================================\n",
      "NASNet (Model)               (None, 1056)              4269716   \n",
      "_________________________________________________________________\n",
      "dense_2 (Dense)              (None, 200)               211400    \n",
      "=================================================================\n",
      "Total params: 4,481,116\n",
      "Trainable params: 4,444,378\n",
      "Non-trainable params: 36,738\n",
      "_________________________________________________________________\n"
     ]
    }
   ],
   "source": [
    "model.summary()"
   ]
  },
  {
   "cell_type": "code",
   "execution_count": 0,
   "metadata": {
    "colab": {},
    "colab_type": "code",
    "id": "MFW0OAd9kJ0m"
   },
   "outputs": [],
   "source": [
    "X_train = X_train.astype('float32')\n",
    "X_test = X_test.astype('float32')\n",
    "X_train /= 255\n",
    "X_test /= 255\n",
    "\n",
    "y_train = keras.utils.to_categorical(y_train, nb_classes)\n",
    "y_test = keras.utils.to_categorical(y_test, nb_classes)"
   ]
  },
  {
   "cell_type": "code",
   "execution_count": 0,
   "metadata": {
    "colab": {},
    "colab_type": "code",
    "id": "ZYiJ2XVUJvhx"
   },
   "outputs": [],
   "source": [
    "model.compile(optimizer='adam',\n",
    "              loss = 'categorical_crossentropy',\n",
    "              metrics = [\"accuracy\"]\n",
    "             )"
   ]
  },
  {
   "cell_type": "code",
   "execution_count": 0,
   "metadata": {
    "colab": {
     "base_uri": "https://localhost:8080/",
     "height": 153
    },
    "colab_type": "code",
    "id": "R2EtWfS-EJ3M",
    "outputId": "8317ff56-060d-4280-c05f-0fb711ae18ec"
   },
   "outputs": [
    {
     "name": "stdout",
     "output_type": "stream",
     "text": [
      "WARNING:tensorflow:From /usr/local/lib/python3.6/dist-packages/tensorflow/python/ops/math_ops.py:3066: to_int32 (from tensorflow.python.ops.math_ops) is deprecated and will be removed in a future version.\n",
      "Instructions for updating:\n",
      "Use tf.cast instead.\n",
      "Train on 100000 samples, validate on 10000 samples\n",
      "Epoch 1/2\n",
      "100000/100000 [==============================] - 188s 2ms/step - loss: 5.5560 - acc: 0.0000e+00 - val_loss: 16.0257 - val_acc: 0.0051\n",
      "Epoch 2/2\n",
      "100000/100000 [==============================] - 105s 1ms/step - loss: 5.3084 - acc: 0.0020 - val_loss: 15.0459 - val_acc: 0.0047\n"
     ]
    }
   ],
   "source": [
    "history=model.fit(X_train, y_train,\n",
    "              batch_size=500,\n",
    "              epochs=2,\n",
    "              validation_data=(X_test, y_test),\n",
    "              shuffle=False)"
   ]
  },
  {
   "cell_type": "code",
   "execution_count": 0,
   "metadata": {
    "colab": {
     "base_uri": "https://localhost:8080/",
     "height": 707
    },
    "colab_type": "code",
    "id": "PsLM8xChke-g",
    "outputId": "34c3b2ca-9236-4cb0-a927-f35b66c572b7"
   },
   "outputs": [
    {
     "data": {
      "image/png": "[encoded data removed]",
      "text/plain": [
       "<Figure size 576x396 with 1 Axes>"
      ]
     },
     "metadata": {
      "tags": []
     },
     "output_type": "display_data"
    },
    {
     "data": {
      "image/png": "[encoded data removed]",
      "text/plain": [
       "<Figure size 576x396 with 1 Axes>"
      ]
     },
     "metadata": {
      "tags": []
     },
     "output_type": "display_data"
    }
   ],
   "source": [
    "acc = history.history['acc']\n",
    "val_acc = history.history['val_acc']\n",
    "loss = history.history['loss']\n",
    "val_loss = history.history['val_loss']\n",
    "epochs = range(1, len(acc) + 1)\n",
    "\n",
    "plt.title('Training and validation accuracy')\n",
    "plt.plot(epochs, acc, 'red', label='Training acc')\n",
    "plt.plot(epochs, val_acc, 'blue', label='Validation acc')\n",
    "plt.legend()\n",
    "\n",
    "plt.figure()\n",
    "plt.title('Training and validation loss')\n",
    "plt.plot(epochs, loss, 'red', label='Training loss')\n",
    "plt.plot(epochs, val_loss, 'blue', label='Validation loss')\n",
    "\n",
    "plt.legend()\n",
    "\n",
    "plt.show()\n"
   ]
  },
  {
   "cell_type": "markdown",
   "metadata": {
    "colab_type": "text",
    "id": "V-FvThqsTxkI"
   },
   "source": [
    "# CIFAR Transfer learning"
   ]
  },
  {
   "cell_type": "code",
   "execution_count": 54,
   "metadata": {
    "colab": {
     "base_uri": "https://localhost:8080/",
     "height": 51
    },
    "colab_type": "code",
    "id": "2kKECwYATwzc",
    "outputId": "1c7260b1-1407-43f6-a8cc-e076fa6833ec"
   },
   "outputs": [
    {
     "name": "stdout",
     "output_type": "stream",
     "text": [
      "50000 train samples\n",
      "10000 test samples\n"
     ]
    }
   ],
   "source": [
    "(XC_train, yC_train), (XC_test, yC_test) = cifar10.load_data()\n",
    "\n",
    "XC_train = XC_train.astype('float32')\n",
    "XC_test = XC_test.astype('float32')\n",
    "XC_train /= 255\n",
    "XC_test /= 255\n",
    "print(XC_train.shape[0], 'train samples')\n",
    "print(XC_test.shape[0], 'test samples')\n",
    "\n",
    "# convert class vectors to binary class matrices\n",
    "yC_train = keras.utils.to_categorical(yC_train, 10)\n",
    "yC_test = keras.utils.to_categorical(yC_test, 10)\n",
    "\n",
    "\n"
   ]
  },
  {
   "cell_type": "code",
   "execution_count": 0,
   "metadata": {
    "colab": {},
    "colab_type": "code",
    "id": "cZ_63Z0HiWWa"
   },
   "outputs": [],
   "source": [
    "model = Sequential()\n",
    "model.add(NASNetMobile(include_top=False,weights=None,pooling='avg',input_shape=(32,32,3)))\n",
    "model.add(Dense(10,activation='softmax'))\n"
   ]
  },
  {
   "cell_type": "code",
   "execution_count": 36,
   "metadata": {
    "colab": {
     "base_uri": "https://localhost:8080/",
     "height": 34
    },
    "colab_type": "code",
    "id": "o1pYZqtJiW1c",
    "outputId": "54c97516-eb35-4b32-bf57-be7bfd36e244"
   },
   "outputs": [
    {
     "data": {
      "text/plain": [
       "<bound method Network.summary of <keras.engine.sequential.Sequential object at 0x7f8702978358>>"
      ]
     },
     "execution_count": 36,
     "metadata": {
      "tags": []
     },
     "output_type": "execute_result"
    }
   ],
   "source": [
    "model.summary()"
   ]
  },
  {
   "cell_type": "code",
   "execution_count": 0,
   "metadata": {
    "colab": {},
    "colab_type": "code",
    "id": "GNnCEHM9ilPu"
   },
   "outputs": [],
   "source": [
    "model.compile(optimizer='adam',\n",
    "              loss = 'categorical_crossentropy',\n",
    "              metrics = [\"accuracy\"]\n",
    "             )\n"
   ]
  },
  {
   "cell_type": "code",
   "execution_count": 38,
   "metadata": {
    "colab": {
     "base_uri": "https://localhost:8080/",
     "height": 103
    },
    "colab_type": "code",
    "id": "zRMlJN0WTw-i",
    "outputId": "bb3d959a-2ed9-41b2-cf51-5322a90eb68f"
   },
   "outputs": [
    {
     "name": "stdout",
     "output_type": "stream",
     "text": [
      "Train on 50000 samples, validate on 10000 samples\n",
      "Epoch 1/2\n",
      "50000/50000 [==============================] - 146s 3ms/step - loss: 1.8292 - acc: 0.3260 - val_loss: 1.9397 - val_acc: 0.3825\n",
      "Epoch 2/2\n",
      "50000/50000 [==============================] - 54s 1ms/step - loss: 1.4653 - acc: 0.4685 - val_loss: 2.7912 - val_acc: 0.3271\n"
     ]
    }
   ],
   "source": [
    "history=model.fit(XC_train, yC_train,\n",
    "              batch_size=500,\n",
    "              epochs=2,\n",
    "              validation_data=(XC_test, yC_test),\n",
    "              shuffle=True)"
   ]
  },
  {
   "cell_type": "code",
   "execution_count": 39,
   "metadata": {
    "colab": {
     "base_uri": "https://localhost:8080/",
     "height": 706
    },
    "colab_type": "code",
    "id": "NTCmNji0iqRc",
    "outputId": "e918c39b-4b65-4964-a68d-41a6345d17e0"
   },
   "outputs": [
    {
     "data": {
      "image/png": "[encoded data removed]",
      "text/plain": [
       "<Figure size 576x396 with 1 Axes>"
      ]
     },
     "metadata": {
      "tags": []
     },
     "output_type": "display_data"
    },
    {
     "data": {
      "image/png": "[encoded data removed]",
      "text/plain": [
       "<Figure size 576x396 with 1 Axes>"
      ]
     },
     "metadata": {
      "tags": []
     },
     "output_type": "display_data"
    }
   ],
   "source": [
    "acc = history.history['acc']\n",
    "val_acc = history.history['val_acc']\n",
    "loss = history.history['loss']\n",
    "val_loss = history.history['val_loss']\n",
    "epochs = range(1, len(acc) + 1)\n",
    "\n",
    "plt.title('Training and validation accuracy')\n",
    "plt.plot(epochs, acc, 'red', label='Training acc')\n",
    "plt.plot(epochs, val_acc, 'blue', label='Validation acc')\n",
    "plt.legend()\n",
    "\n",
    "plt.figure()\n",
    "plt.title('Training and validation loss')\n",
    "plt.plot(epochs, loss, 'red', label='Training loss')\n",
    "plt.plot(epochs, val_loss, 'blue', label='Validation loss')\n",
    "\n",
    "plt.legend()\n",
    "\n",
    "plt.show()\n"
   ]
  },
  {
   "cell_type": "markdown",
   "metadata": {
    "colab_type": "text",
    "id": "KPxDIea4Z-O3"
   },
   "source": [
    "#Fine Tuning"
   ]
  },
  {
   "cell_type": "code",
   "execution_count": 51,
   "metadata": {
    "colab": {
     "base_uri": "https://localhost:8080/",
     "height": 200
    },
    "colab_type": "code",
    "id": "0mvKDWGGuxJ9",
    "outputId": "bfd5c9be-2037-46c6-8d5e-71ef2d3c1708"
   },
   "outputs": [
    {
     "ename": "NameError",
     "evalue": "ignored",
     "output_type": "error",
     "traceback": [
      "\u001b[0;31m---------------------------------------------------------------------------\u001b[0m",
      "\u001b[0;31mNameError\u001b[0m                                 Traceback (most recent call last)",
      "\u001b[0;32m<ipython-input-51-8ee389e591d0>\u001b[0m in \u001b[0;36m<module>\u001b[0;34m()\u001b[0m\n\u001b[0;32m----> 1\u001b[0;31m \u001b[0mmodel\u001b[0m\u001b[0;34m=\u001b[0m\u001b[0mmodels\u001b[0m\u001b[0;34m.\u001b[0m\u001b[0mSequential\u001b[0m\u001b[0;34m(\u001b[0m\u001b[0;34m)\u001b[0m\u001b[0;34m\u001b[0m\u001b[0;34m\u001b[0m\u001b[0m\n\u001b[0m\u001b[1;32m      2\u001b[0m \u001b[0mmodel\u001b[0m\u001b[0;34m.\u001b[0m\u001b[0madd\u001b[0m\u001b[0;34m(\u001b[0m\u001b[0mNASNetMobile_conv\u001b[0m\u001b[0;34m)\u001b[0m\u001b[0;34m\u001b[0m\u001b[0;34m\u001b[0m\u001b[0m\n\u001b[1;32m      3\u001b[0m \u001b[0mmodels\u001b[0m\u001b[0;34m.\u001b[0m\u001b[0madd\u001b[0m\u001b[0;34m(\u001b[0m\u001b[0mlayers\u001b[0m\u001b[0;34m.\u001b[0m\u001b[0mDense\u001b[0m\u001b[0;34m(\u001b[0m\u001b[0;36m10\u001b[0m\u001b[0;34m,\u001b[0m\u001b[0mactivation\u001b[0m\u001b[0;34m=\u001b[0m\u001b[0;34m'softmax'\u001b[0m\u001b[0;34m)\u001b[0m\u001b[0;34m)\u001b[0m\u001b[0;34m\u001b[0m\u001b[0;34m\u001b[0m\u001b[0m\n",
      "\u001b[0;31mNameError\u001b[0m: name 'models' is not defined"
     ]
    }
   ],
   "source": [
    "model=Sequential()\n",
    "model.add(NASNetMobile_conv)\n",
    "model.add(layers.Dense(10,activation='softmax'))"
   ]
  },
  {
   "cell_type": "code",
   "execution_count": 57,
   "metadata": {
    "colab": {
     "base_uri": "https://localhost:8080/",
     "height": 13363
    },
    "colab_type": "code",
    "id": "2dQJzZamZ9LX",
    "outputId": "d7b15b5e-6bbf-44a6-baae-60e005c71ce0"
   },
   "outputs": [
    {
     "name": "stdout",
     "output_type": "stream",
     "text": [
      "<keras.engine.input_layer.InputLayer object at 0x7f86765c6860> False\n",
      "<keras.layers.convolutional.Conv2D object at 0x7f86765c6ba8> False\n",
      "<keras.layers.normalization.BatchNormalization object at 0x7f86765c6a20> False\n",
      "<keras.layers.core.Activation object at 0x7f8676579320> False\n",
      "<keras.layers.convolutional.Conv2D object at 0x7f8676579c50> False\n",
      "<keras.layers.normalization.BatchNormalization object at 0x7f86765b48d0> False\n",
      "<keras.layers.core.Activation object at 0x7f8676415e80> False\n",
      "<keras.layers.core.Activation object at 0x7f86762b76d8> False\n",
      "<keras.layers.convolutional.ZeroPadding2D object at 0x7f8676415f28> False\n",
      "<keras.layers.convolutional.ZeroPadding2D object at 0x7f8676287e48> False\n",
      "<keras.layers.convolutional.SeparableConv2D object at 0x7f8676415dd8> False\n",
      "<keras.layers.convolutional.SeparableConv2D object at 0x7f867625bc50> False\n",
      "<keras.layers.normalization.BatchNormalization object at 0x7f86763b79e8> False\n",
      "<keras.layers.normalization.BatchNormalization object at 0x7f867617a978> False\n",
      "<keras.layers.core.Activation object at 0x7f86763b7e80> False\n",
      "<keras.layers.core.Activation object at 0x7f867613ccf8> False\n",
      "<keras.layers.convolutional.SeparableConv2D object at 0x7f86763b7f98> False\n",
      "<keras.layers.convolutional.SeparableConv2D object at 0x7f8676111da0> False\n",
      "<keras.layers.core.Activation object at 0x7f867600d748> False\n",
      "<keras.layers.normalization.BatchNormalization object at 0x7f8676383ba8> False\n",
      "<keras.layers.normalization.BatchNormalization object at 0x7f867616f9e8> False\n",
      "<keras.layers.convolutional.ZeroPadding2D object at 0x7f867600d358> False\n",
      "<keras.layers.core.Activation object at 0x7f8675d7d278> False\n",
      "<keras.layers.merge.Add object at 0x7f8676498d30> False\n",
      "<keras.layers.convolutional.SeparableConv2D object at 0x7f8676025eb8> False\n",
      "<keras.layers.convolutional.ZeroPadding2D object at 0x7f8675d17550> False\n",
      "<keras.layers.core.Activation object at 0x7f8675a9a908> False\n",
      "<keras.layers.normalization.BatchNormalization object at 0x7f8675f0c320> False\n",
      "<keras.layers.convolutional.SeparableConv2D object at 0x7f8675d5d390> False\n",
      "<keras.layers.convolutional.SeparableConv2D object at 0x7f8675a9a898> False\n",
      "<keras.layers.core.Activation object at 0x7f8675f27b70> False\n",
      "<keras.layers.normalization.BatchNormalization object at 0x7f8675cd78d0> False\n",
      "<keras.layers.normalization.BatchNormalization object at 0x7f8675a514e0> False\n",
      "<keras.layers.convolutional.ZeroPadding2D object at 0x7f8676502668> False\n",
      "<keras.layers.convolutional.SeparableConv2D object at 0x7f8675e7ea58> False\n",
      "<keras.layers.core.Activation object at 0x7f8675c9acf8> False\n",
      "<keras.layers.core.Activation object at 0x7f8675a51f60> False\n",
      "<keras.layers.pooling.MaxPooling2D object at 0x7f86764984e0> False\n",
      "<keras.layers.normalization.BatchNormalization object at 0x7f8675edd860> False\n",
      "<keras.layers.convolutional.SeparableConv2D object at 0x7f8675c9ac18> False\n",
      "<keras.layers.convolutional.SeparableConv2D object at 0x7f8675a6c1d0> False\n",
      "<keras.layers.core.Activation object at 0x7f8675896048> False\n",
      "<keras.layers.merge.Add object at 0x7f86764152b0> False\n",
      "<keras.layers.pooling.AveragePooling2D object at 0x7f8676415ef0> False\n",
      "<keras.layers.normalization.BatchNormalization object at 0x7f8675c707b8> False\n",
      "<keras.layers.pooling.AveragePooling2D object at 0x7f8676071cc0> False\n",
      "<keras.layers.normalization.BatchNormalization object at 0x7f86759dd4e0> False\n",
      "<keras.layers.pooling.MaxPooling2D object at 0x7f8675b25358> False\n",
      "<keras.layers.convolutional.ZeroPadding2D object at 0x7f86757b9c50> False\n",
      "<keras.layers.merge.Add object at 0x7f86760710b8> False\n",
      "<keras.layers.merge.Add object at 0x7f8675dc1f60> False\n",
      "<keras.layers.merge.Add object at 0x7f8675b8eb38> False\n",
      "<keras.layers.convolutional.Cropping2D object at 0x7f86757b9ef0> False\n",
      "<keras.layers.merge.Concatenate object at 0x7f867647dd30> False\n",
      "<keras.layers.pooling.AveragePooling2D object at 0x7f8675896f60> False\n",
      "<keras.layers.pooling.AveragePooling2D object at 0x7f86757b9eb8> False\n",
      "<keras.layers.core.Activation object at 0x7f8675b8e860> False\n",
      "<keras.layers.convolutional.Conv2D object at 0x7f8675807d30> False\n",
      "<keras.layers.convolutional.Conv2D object at 0x7f86757d87b8> False\n",
      "<keras.layers.convolutional.Conv2D object at 0x7f867652cfd0> False\n",
      "<keras.layers.merge.Concatenate object at 0x7f86757ec828> False\n",
      "<keras.layers.normalization.BatchNormalization object at 0x7f86758961d0> False\n",
      "<keras.layers.normalization.BatchNormalization object at 0x7f86757ecc88> False\n",
      "<keras.layers.core.Activation object at 0x7f86755f2ef0> False\n",
      "<keras.layers.core.Activation object at 0x7f8675498748> False\n",
      "<keras.layers.convolutional.ZeroPadding2D object at 0x7f86755f2f98> False\n",
      "<keras.layers.convolutional.ZeroPadding2D object at 0x7f8675467eb8> False\n",
      "<keras.layers.convolutional.SeparableConv2D object at 0x7f86755f2e48> False\n",
      "<keras.layers.convolutional.SeparableConv2D object at 0x7f86753bacc0> False\n",
      "<keras.layers.normalization.BatchNormalization object at 0x7f8675591a58> False\n",
      "<keras.layers.normalization.BatchNormalization object at 0x7f8675358f28> False\n",
      "<keras.layers.core.Activation object at 0x7f8675591dd8> False\n",
      "<keras.layers.core.Activation object at 0x7f8675317da0> False\n",
      "<keras.layers.convolutional.SeparableConv2D object at 0x7f86755af5f8> False\n",
      "<keras.layers.convolutional.SeparableConv2D object at 0x7f86752eef98> False\n",
      "<keras.layers.core.Activation object at 0x7f86751e97f0> False\n",
      "<keras.layers.normalization.BatchNormalization object at 0x7f8675561c18> False\n",
      "<keras.layers.normalization.BatchNormalization object at 0x7f86752cca90> False\n",
      "<keras.layers.convolutional.ZeroPadding2D object at 0x7f86751e9400> False\n",
      "<keras.layers.core.Activation object at 0x7f8674f5e320> False\n",
      "<keras.layers.merge.Add object at 0x7f86755f8470> False\n",
      "<keras.layers.convolutional.SeparableConv2D object at 0x7f8675183f60> False\n",
      "<keras.layers.convolutional.ZeroPadding2D object at 0x7f8674f5e9b0> False\n",
      "<keras.layers.core.Activation object at 0x7f8674bfd9b0> False\n",
      "<keras.layers.normalization.BatchNormalization object at 0x7f86750ed3c8> False\n",
      "<keras.layers.convolutional.SeparableConv2D object at 0x7f8674ef3710> False\n",
      "<keras.layers.convolutional.SeparableConv2D object at 0x7f8674bfdb38> False\n",
      "<keras.layers.core.Activation object at 0x7f8675087c18> False\n",
      "<keras.layers.normalization.BatchNormalization object at 0x7f8674e37978> False\n",
      "<keras.layers.normalization.BatchNormalization object at 0x7f8674c2f588> False\n",
      "<keras.layers.convolutional.ZeroPadding2D object at 0x7f8675682588> False\n",
      "<keras.layers.convolutional.SeparableConv2D object at 0x7f86750edd68> False\n",
      "<keras.layers.core.Activation object at 0x7f8674df5978> False\n",
      "<keras.layers.core.Activation object at 0x7f8674bcdf98> False\n",
      "<keras.layers.pooling.MaxPooling2D object at 0x7f86755f8cc0> False\n",
      "<keras.layers.normalization.BatchNormalization object at 0x7f867505fb00> False\n",
      "<keras.layers.convolutional.SeparableConv2D object at 0x7f8674e5aac8> False\n",
      "<keras.layers.convolutional.SeparableConv2D object at 0x7f8674bcd390> False\n",
      "<keras.layers.core.Activation object at 0x7f86749f7588> False\n",
      "<keras.layers.merge.Add object at 0x7f86755f2a58> False\n",
      "<keras.layers.pooling.AveragePooling2D object at 0x7f86755f2f60> False\n",
      "<keras.layers.normalization.BatchNormalization object at 0x7f8674dce860> False\n",
      "<keras.layers.pooling.AveragePooling2D object at 0x7f86751ced68> False\n",
      "<keras.layers.normalization.BatchNormalization object at 0x7f8674b3a588> False\n",
      "<keras.layers.pooling.MaxPooling2D object at 0x7f8674d6c908> False\n",
      "<keras.layers.convolutional.ZeroPadding2D object at 0x7f867499ccf8> False\n",
      "<keras.layers.merge.Add object at 0x7f86751ce160> False\n",
      "<keras.layers.merge.Add object at 0x7f8674f9f278> False\n",
      "<keras.layers.merge.Add object at 0x7f8674d11ba8> False\n",
      "<keras.layers.convolutional.Cropping2D object at 0x7f867499cfd0> False\n",
      "<keras.layers.merge.Concatenate object at 0x7f867652c8d0> False\n",
      "<keras.layers.pooling.AveragePooling2D object at 0x7f86749f7dd8> False\n",
      "<keras.layers.pooling.AveragePooling2D object at 0x7f867499cf60> False\n",
      "<keras.layers.convolutional.Conv2D object at 0x7f86749ebdd8> False\n",
      "<keras.layers.convolutional.Conv2D object at 0x7f8674936860> False\n",
      "<keras.layers.core.Activation object at 0x7f8675655cc0> False\n",
      "<keras.layers.merge.Concatenate object at 0x7f867494a8d0> False\n",
      "<keras.layers.convolutional.Conv2D object at 0x7f8674d11e10> False\n",
      "<keras.layers.normalization.BatchNormalization object at 0x7f867494ad30> False\n",
      "<keras.layers.normalization.BatchNormalization object at 0x7f86749f7470> False\n",
      "<keras.layers.core.Activation object at 0x7f86747d02e8> False\n",
      "<keras.layers.core.Activation object at 0x7f86745f8fd0> False\n",
      "<keras.layers.core.Activation object at 0x7f8674358eb8> False\n",
      "<keras.layers.core.Activation object at 0x7f86741adda0> False\n",
      "<keras.layers.core.Activation object at 0x7f8673dd7ba8> False\n",
      "<keras.layers.convolutional.SeparableConv2D object at 0x7f86747d0d68> False\n",
      "<keras.layers.convolutional.SeparableConv2D object at 0x7f86745b5cf8> False\n",
      "<keras.layers.convolutional.SeparableConv2D object at 0x7f86743ec6d8> False\n",
      "<keras.layers.convolutional.SeparableConv2D object at 0x7f867416d3c8> False\n",
      "<keras.layers.convolutional.SeparableConv2D object at 0x7f8673dd7198> False\n",
      "<keras.layers.normalization.BatchNormalization object at 0x7f8674748390> False\n",
      "<keras.layers.normalization.BatchNormalization object at 0x7f867458c7b8> False\n",
      "<keras.layers.normalization.BatchNormalization object at 0x7f86742fb240> False\n",
      "<keras.layers.normalization.BatchNormalization object at 0x7f86740c2748> False\n",
      "<keras.layers.normalization.BatchNormalization object at 0x7f8673dd7d68> False\n",
      "<keras.layers.core.Activation object at 0x7f8674748ef0> False\n",
      "<keras.layers.core.Activation object at 0x7f8674501ef0> False\n",
      "<keras.layers.core.Activation object at 0x7f8674279e10> False\n",
      "<keras.layers.core.Activation object at 0x7f867403ce80> False\n",
      "<keras.layers.core.Activation object at 0x7f8673dd7f60> False\n",
      "<keras.layers.convolutional.SeparableConv2D object at 0x7f8674703d30> False\n",
      "<keras.layers.convolutional.SeparableConv2D object at 0x7f86744cdb00> False\n",
      "<keras.layers.convolutional.SeparableConv2D object at 0x7f867423acc0> False\n",
      "<keras.layers.convolutional.SeparableConv2D object at 0x7f8674007a58> False\n",
      "<keras.layers.convolutional.SeparableConv2D object at 0x7f8673d771d0> False\n",
      "<keras.layers.normalization.BatchNormalization object at 0x7f86746b7a20> False\n",
      "<keras.layers.normalization.BatchNormalization object at 0x7f8674443358> False\n",
      "<keras.layers.normalization.BatchNormalization object at 0x7f867426d9b0> False\n",
      "<keras.layers.normalization.BatchNormalization object at 0x7f8673fc0358> False\n",
      "<keras.layers.pooling.AveragePooling2D object at 0x7f8673f727b8> False\n",
      "<keras.layers.pooling.AveragePooling2D object at 0x7f8674812940> False\n",
      "<keras.layers.pooling.AveragePooling2D object at 0x7f8673f23358> False\n",
      "<keras.layers.normalization.BatchNormalization object at 0x7f8673d624e0> False\n",
      "<keras.layers.merge.Add object at 0x7f8674831d68> False\n",
      "<keras.layers.merge.Add object at 0x7f86743b8898> False\n",
      "<keras.layers.merge.Add object at 0x7f8674812128> False\n",
      "<keras.layers.merge.Add object at 0x7f8673eb24e0> False\n",
      "<keras.layers.merge.Add object at 0x7f8673e31f28> False\n",
      "<keras.layers.merge.Concatenate object at 0x7f86748535c0> False\n",
      "<keras.layers.core.Activation object at 0x7f8673c82588> False\n",
      "<keras.layers.core.Activation object at 0x7f86756cf5c0> False\n",
      "<keras.layers.convolutional.Conv2D object at 0x7f8673c82748> False\n",
      "<keras.layers.convolutional.Conv2D object at 0x7f8673cd7c18> False\n",
      "<keras.layers.normalization.BatchNormalization object at 0x7f8673b3d4a8> False\n",
      "<keras.layers.normalization.BatchNormalization object at 0x7f8673e31400> False\n",
      "<keras.layers.core.Activation object at 0x7f8673a2ce10> False\n",
      "<keras.layers.core.Activation object at 0x7f8673846dd8> False\n",
      "<keras.layers.core.Activation object at 0x7f8673556e80> False\n",
      "<keras.layers.core.Activation object at 0x7f867337ff60> False\n",
      "<keras.layers.core.Activation object at 0x7f8672fcd860> False\n",
      "<keras.layers.convolutional.SeparableConv2D object at 0x7f86739c9978> False\n",
      "<keras.layers.convolutional.SeparableConv2D object at 0x7f867386f940> False\n",
      "<keras.layers.convolutional.SeparableConv2D object at 0x7f86735df358> False\n",
      "<keras.layers.convolutional.SeparableConv2D object at 0x7f86733aa8d0> False\n",
      "<keras.layers.convolutional.SeparableConv2D object at 0x7f8672fcd8d0> False\n",
      "<keras.layers.normalization.BatchNormalization object at 0x7f867393f198> False\n",
      "<keras.layers.normalization.BatchNormalization object at 0x7f8673787438> False\n",
      "<keras.layers.normalization.BatchNormalization object at 0x7f8673574a58> False\n",
      "<keras.layers.normalization.BatchNormalization object at 0x7f86732c13c8> False\n",
      "<keras.layers.normalization.BatchNormalization object at 0x7f8672fcd9e8> False\n",
      "<keras.layers.core.Activation object at 0x7f867393fda0> False\n",
      "<keras.layers.core.Activation object at 0x7f86736fbb70> False\n",
      "<keras.layers.core.Activation object at 0x7f86734efbe0> False\n",
      "<keras.layers.core.Activation object at 0x7f8673235b00> False\n",
      "<keras.layers.core.Activation object at 0x7f8672fea908> False\n",
      "<keras.layers.convolutional.SeparableConv2D object at 0x7f86738fb9b0> False\n",
      "<keras.layers.convolutional.SeparableConv2D object at 0x7f86736c9780> False\n",
      "<keras.layers.convolutional.SeparableConv2D object at 0x7f86734b4d68> False\n",
      "<keras.layers.convolutional.SeparableConv2D object at 0x7f86732056d8> False\n",
      "<keras.layers.convolutional.SeparableConv2D object at 0x7f8672fcdfd0> False\n",
      "<keras.layers.normalization.BatchNormalization object at 0x7f86738d2898> False\n",
      "<keras.layers.normalization.BatchNormalization object at 0x7f867367ba90> False\n",
      "<keras.layers.normalization.BatchNormalization object at 0x7f867340a828> False\n",
      "<keras.layers.normalization.BatchNormalization object at 0x7f86731b69e8> False\n",
      "<keras.layers.pooling.AveragePooling2D object at 0x7f8673633fd0> False\n",
      "<keras.layers.pooling.AveragePooling2D object at 0x7f8673a0a8d0> False\n",
      "<keras.layers.pooling.AveragePooling2D object at 0x7f8673002fd0> False\n",
      "<keras.layers.normalization.BatchNormalization object at 0x7f8672fa0b38> False\n",
      "<keras.layers.merge.Add object at 0x7f8673a72d30> False\n",
      "<keras.layers.merge.Add object at 0x7f8673a2cac8> False\n",
      "<keras.layers.merge.Add object at 0x7f8673a0a4a8> False\n",
      "<keras.layers.merge.Add object at 0x7f86730d2da0> False\n",
      "<keras.layers.merge.Add object at 0x7f86730b0828> False\n",
      "<keras.layers.merge.Concatenate object at 0x7f8673a56da0> False\n",
      "<keras.layers.core.Activation object at 0x7f8672e7e208> False\n",
      "<keras.layers.core.Activation object at 0x7f86748da390> False\n",
      "<keras.layers.convolutional.Conv2D object at 0x7f8672e7e3c8> False\n",
      "<keras.layers.convolutional.Conv2D object at 0x7f8672ed2668> False\n",
      "<keras.layers.normalization.BatchNormalization object at 0x7f8672d8f390> False\n",
      "<keras.layers.normalization.BatchNormalization object at 0x7f867302a9e8> False\n",
      "<keras.layers.core.Activation object at 0x7f8672c1f898> False\n",
      "<keras.layers.core.Activation object at 0x7f8672a3cc50> False\n",
      "<keras.layers.core.Activation object at 0x7f8672777cf8> False\n",
      "<keras.layers.core.Activation object at 0x7f8672577be0> False\n",
      "<keras.layers.core.Activation object at 0x7f86721c4550> False\n",
      "<keras.layers.convolutional.SeparableConv2D object at 0x7f8672bc0470> False\n",
      "<keras.layers.convolutional.SeparableConv2D object at 0x7f8672a0e860> False\n",
      "<keras.layers.convolutional.SeparableConv2D object at 0x7f86727772e8> False\n",
      "<keras.layers.convolutional.SeparableConv2D object at 0x7f86725447f0> False\n",
      "<keras.layers.convolutional.SeparableConv2D object at 0x7f86721c43c8> False\n",
      "<keras.layers.normalization.BatchNormalization object at 0x7f8672b90c88> False\n",
      "<keras.layers.normalization.BatchNormalization object at 0x7f86729bfb70> False\n",
      "<keras.layers.normalization.BatchNormalization object at 0x7f867276c550> False\n",
      "<keras.layers.normalization.BatchNormalization object at 0x7f86724f7b00> False\n",
      "<keras.layers.normalization.BatchNormalization object at 0x7f86721c4668> False\n",
      "<keras.layers.core.Activation object at 0x7f8672b3b898> False\n",
      "<keras.layers.core.Activation object at 0x7f86728f75c0> False\n",
      "<keras.layers.core.Activation object at 0x7f86726e9860> False\n",
      "<keras.layers.core.Activation object at 0x7f86724abf98> False\n",
      "<keras.layers.core.Activation object at 0x7f86721e1eb8> False\n",
      "<keras.layers.convolutional.SeparableConv2D object at 0x7f8672b5a208> False\n",
      "<keras.layers.convolutional.SeparableConv2D object at 0x7f86728bfd30> False\n",
      "<keras.layers.convolutional.SeparableConv2D object at 0x7f867268b2b0> False\n",
      "<keras.layers.convolutional.SeparableConv2D object at 0x7f86723f7c88> False\n",
      "<keras.layers.convolutional.SeparableConv2D object at 0x7f8672135cc0> False\n",
      "<keras.layers.normalization.BatchNormalization object at 0x7f8672ac9518> False\n",
      "<keras.layers.normalization.BatchNormalization object at 0x7f86728f3a20> False\n",
      "<keras.layers.normalization.BatchNormalization object at 0x7f86725ff4a8> False\n",
      "<keras.layers.normalization.BatchNormalization object at 0x7f867242c978> False\n",
      "<keras.layers.pooling.AveragePooling2D object at 0x7f8672834fd0> False\n",
      "<keras.layers.pooling.AveragePooling2D object at 0x7f8672c68710> False\n",
      "<keras.layers.pooling.AveragePooling2D object at 0x7f867232b240> False\n",
      "<keras.layers.normalization.BatchNormalization object at 0x7f8672190898> False\n",
      "<keras.layers.merge.Add object at 0x7f8672c1f748> False\n",
      "<keras.layers.merge.Add object at 0x7f8672c03e80> False\n",
      "<keras.layers.merge.Add object at 0x7f8672c68e80> False\n",
      "<keras.layers.merge.Add object at 0x7f86723072e8> False\n",
      "<keras.layers.merge.Add object at 0x7f86722a5630> False\n",
      "<keras.layers.merge.Concatenate object at 0x7f8672d28400> False\n",
      "<keras.layers.core.Activation object at 0x7f8672223a90> False\n",
      "<keras.layers.core.Activation object at 0x7f8672c46860> False\n",
      "<keras.layers.convolutional.Conv2D object at 0x7f8672223f98> False\n",
      "<keras.layers.convolutional.Conv2D object at 0x7f86720cff28> False\n",
      "<keras.layers.normalization.BatchNormalization object at 0x7f8671f88630> False\n",
      "<keras.layers.normalization.BatchNormalization object at 0x7f8672075cf8> False\n",
      "<keras.layers.core.Activation object at 0x7f8671e1b518> False\n",
      "<keras.layers.core.Activation object at 0x7f8671c3a6a0> False\n",
      "<keras.layers.core.Activation object at 0x7f8671a2c940> False\n",
      "<keras.layers.core.Activation object at 0x7f86717ee630> False\n",
      "<keras.layers.core.Activation object at 0x7f8671420e80> False\n",
      "<keras.layers.convolutional.SeparableConv2D object at 0x7f8671dbb198> False\n",
      "<keras.layers.convolutional.SeparableConv2D object at 0x7f8671c03e10> False\n",
      "<keras.layers.convolutional.SeparableConv2D object at 0x7f86719cdcf8> False\n",
      "<keras.layers.convolutional.SeparableConv2D object at 0x7f8671739da0> False\n",
      "<keras.layers.convolutional.SeparableConv2D object at 0x7f8671420f28> False\n",
      "<keras.layers.normalization.BatchNormalization object at 0x7f8671d8a908> False\n",
      "<keras.layers.normalization.BatchNormalization object at 0x7f8671bb97f0> False\n",
      "<keras.layers.normalization.BatchNormalization object at 0x7f86719641d0> False\n",
      "<keras.layers.normalization.BatchNormalization object at 0x7f867176aa90> False\n",
      "<keras.layers.normalization.BatchNormalization object at 0x7f86713bd320> False\n",
      "<keras.layers.core.Activation object at 0x7f8671d39588> False\n",
      "<keras.layers.core.Activation object at 0x7f8671b74e80> False\n",
      "<keras.layers.core.Activation object at 0x7f86718888d0> False\n",
      "<keras.layers.core.Activation object at 0x7f86716aa8d0> False\n",
      "<keras.layers.core.Activation object at 0x7f86713d2b38> False\n",
      "<keras.layers.convolutional.SeparableConv2D object at 0x7f8671d39e48> False\n",
      "<keras.layers.convolutional.SeparableConv2D object at 0x7f8671ab69b0> False\n",
      "<keras.layers.convolutional.SeparableConv2D object at 0x7f86718e0f98> False\n",
      "<keras.layers.convolutional.SeparableConv2D object at 0x7f867166dd30> False\n",
      "<keras.layers.convolutional.SeparableConv2D object at 0x7f86713aca20> False\n",
      "<keras.layers.normalization.BatchNormalization object at 0x7f8671d01b70> False\n",
      "<keras.layers.normalization.BatchNormalization object at 0x7f8671a8c898> False\n",
      "<keras.layers.normalization.BatchNormalization object at 0x7f867183cb00> False\n",
      "<keras.layers.normalization.BatchNormalization object at 0x7f86715c47f0> False\n",
      "<keras.layers.pooling.AveragePooling2D object at 0x7f8671539f28> False\n",
      "<keras.layers.pooling.AveragePooling2D object at 0x7f8671e5fda0> False\n",
      "<keras.layers.pooling.AveragePooling2D object at 0x7f8671503da0> False\n",
      "<keras.layers.normalization.BatchNormalization object at 0x7f867138a828> False\n",
      "<keras.layers.merge.Add object at 0x7f8671e1b3c8> False\n",
      "<keras.layers.merge.Add object at 0x7f8671a04dd8> False\n",
      "<keras.layers.merge.Add object at 0x7f8671e5f470> False\n",
      "<keras.layers.merge.Add object at 0x7f86714bcef0> False\n",
      "<keras.layers.merge.Add object at 0x7f867149e2b0> False\n",
      "<keras.layers.merge.Concatenate object at 0x7f8671f23748> False\n",
      "<keras.layers.core.Activation object at 0x7f86712c9ac8> False\n",
      "<keras.layers.core.Activation object at 0x7f8671420d68> False\n",
      "<keras.layers.convolutional.Conv2D object at 0x7f86712042e8> False\n",
      "<keras.layers.convolutional.Conv2D object at 0x7f86714208d0> False\n",
      "<keras.layers.normalization.BatchNormalization object at 0x7f86712ecf60> False\n",
      "<keras.layers.normalization.BatchNormalization object at 0x7f86711809e8> False\n",
      "<keras.layers.core.Activation object at 0x7f8670fb23c8> False\n",
      "<keras.layers.core.Activation object at 0x7f8670e35be0> False\n",
      "<keras.layers.convolutional.ZeroPadding2D object at 0x7f8670fb2588> False\n",
      "<keras.layers.convolutional.ZeroPadding2D object at 0x7f8670e087f0> False\n",
      "<keras.layers.convolutional.SeparableConv2D object at 0x7f8670fb2320> False\n",
      "<keras.layers.convolutional.SeparableConv2D object at 0x7f8670dd5f28> False\n",
      "<keras.layers.normalization.BatchNormalization object at 0x7f8670fb2cc0> False\n",
      "<keras.layers.normalization.BatchNormalization object at 0x7f8670d1f160> False\n",
      "<keras.layers.core.Activation object at 0x7f8670fb2fd0> False\n",
      "<keras.layers.core.Activation object at 0x7f8670cbf6d8> False\n",
      "<keras.layers.convolutional.SeparableConv2D object at 0x7f8670f50198> False\n",
      "<keras.layers.convolutional.SeparableConv2D object at 0x7f8670c8fef0> False\n",
      "<keras.layers.core.Activation object at 0x7f8670b2c7f0> False\n",
      "<keras.layers.normalization.BatchNormalization object at 0x7f8670ebf4a8> False\n",
      "<keras.layers.normalization.BatchNormalization object at 0x7f8670cf09e8> False\n",
      "<keras.layers.convolutional.ZeroPadding2D object at 0x7f8670b8eda0> False\n",
      "<keras.layers.core.Activation object at 0x7f86708fd4e0> False\n",
      "<keras.layers.merge.Add object at 0x7f8670fb2470> False\n",
      "<keras.layers.convolutional.SeparableConv2D object at 0x7f8670ba9400> False\n",
      "<keras.layers.convolutional.ZeroPadding2D object at 0x7f86708fd8d0> False\n",
      "<keras.layers.core.Activation object at 0x7f8670623c18> False\n",
      "<keras.layers.normalization.BatchNormalization object at 0x7f8670a8f208> False\n",
      "<keras.layers.convolutional.SeparableConv2D object at 0x7f8670898668> False\n",
      "<keras.layers.convolutional.SeparableConv2D object at 0x7f8670623da0> False\n",
      "<keras.layers.core.Activation object at 0x7f8670aa8e80> False\n",
      "<keras.layers.normalization.BatchNormalization object at 0x7f867085abe0> False\n",
      "<keras.layers.normalization.BatchNormalization object at 0x7f86705ca9b0> False\n",
      "<keras.layers.convolutional.ZeroPadding2D object at 0x7f86710967b8> False\n",
      "<keras.layers.convolutional.SeparableConv2D object at 0x7f8670a00c88> False\n",
      "<keras.layers.core.Activation object at 0x7f867081abe0> False\n",
      "<keras.layers.core.Activation object at 0x7f867058bd30> False\n",
      "<keras.layers.pooling.MaxPooling2D object at 0x7f8670c32c88> False\n",
      "<keras.layers.normalization.BatchNormalization object at 0x7f8670a5e860> False\n",
      "<keras.layers.convolutional.SeparableConv2D object at 0x7f86707b6d30> False\n",
      "<keras.layers.convolutional.SeparableConv2D object at 0x7f867058bc50> False\n",
      "<keras.layers.core.Activation object at 0x7f86703be2b0> False\n",
      "<keras.layers.merge.Add object at 0x7f8670f815f8> False\n",
      "<keras.layers.pooling.AveragePooling2D object at 0x7f8670f81cc0> False\n",
      "<keras.layers.normalization.BatchNormalization object at 0x7f8670777ac8> False\n",
      "<keras.layers.pooling.AveragePooling2D object at 0x7f8670bce2b0> False\n",
      "<keras.layers.normalization.BatchNormalization object at 0x7f86705627f0> False\n",
      "<keras.layers.pooling.MaxPooling2D object at 0x7f86706b0668> False\n",
      "<keras.layers.convolutional.ZeroPadding2D object at 0x7f86703631d0> False\n",
      "<keras.layers.merge.Add object at 0x7f8670bce0b8> False\n",
      "<keras.layers.merge.Add object at 0x7f86709440b8> False\n",
      "<keras.layers.merge.Add object at 0x7f86706b6fd0> False\n",
      "<keras.layers.convolutional.Cropping2D object at 0x7f86703635c0> False\n",
      "<keras.layers.merge.Concatenate object at 0x7f8671ea1dd8> False\n",
      "<keras.layers.pooling.AveragePooling2D object at 0x7f86703be128> False\n",
      "<keras.layers.pooling.AveragePooling2D object at 0x7f8670363198> False\n",
      "<keras.layers.convolutional.Conv2D object at 0x7f8670390588> False\n",
      "<keras.layers.convolutional.Conv2D object at 0x7f8670363240> False\n",
      "<keras.layers.core.Activation object at 0x7f8671072f28> False\n",
      "<keras.layers.merge.Concatenate object at 0x7f86702f7b38> False\n",
      "<keras.layers.convolutional.Conv2D object at 0x7f86706b6a20> False\n",
      "<keras.layers.normalization.BatchNormalization object at 0x7f86702f7f98> False\n",
      "<keras.layers.normalization.BatchNormalization object at 0x7f867041a4e0> False\n",
      "<keras.layers.core.Activation object at 0x7f867017b438> False\n",
      "<keras.layers.core.Activation object at 0x7f8670020ef0> False\n",
      "<keras.layers.core.Activation object at 0x7f866fd8b940> False\n",
      "<keras.layers.core.Activation object at 0x7f866fb54f98> False\n",
      "<keras.layers.core.Activation object at 0x7f866f782c18> False\n",
      "<keras.layers.convolutional.SeparableConv2D object at 0x7f867017beb8> False\n",
      "<keras.layers.convolutional.SeparableConv2D object at 0x7f866ffe2b38> False\n",
      "<keras.layers.convolutional.SeparableConv2D object at 0x7f866fd8b668> False\n",
      "<keras.layers.convolutional.SeparableConv2D object at 0x7f866fb16ac8> False\n",
      "<keras.layers.convolutional.SeparableConv2D object at 0x7f866f7820b8> False\n",
      "<keras.layers.normalization.BatchNormalization object at 0x7f86701692e8> False\n",
      "<keras.layers.normalization.BatchNormalization object at 0x7f866ff96828> False\n",
      "<keras.layers.normalization.BatchNormalization object at 0x7f866fd1d4a8> False\n",
      "<keras.layers.normalization.BatchNormalization object at 0x7f866facdfd0> False\n",
      "<keras.layers.normalization.BatchNormalization object at 0x7f866f782eb8> False\n",
      "<keras.layers.core.Activation object at 0x7f867012ff98> False\n",
      "<keras.layers.core.Activation object at 0x7f866fed6ac8> False\n",
      "<keras.layers.core.Activation object at 0x7f866fc66f28> False\n",
      "<keras.layers.core.Activation object at 0x7f866fa0d908> False\n",
      "<keras.layers.core.Activation object at 0x7f866f7b1c88> False\n",
      "<keras.layers.convolutional.SeparableConv2D object at 0x7f8670080da0> False\n",
      "<keras.layers.convolutional.SeparableConv2D object at 0x7f866fed6ba8> False\n",
      "<keras.layers.convolutional.SeparableConv2D object at 0x7f866fbbdd30> False\n",
      "<keras.layers.convolutional.SeparableConv2D object at 0x7f866fa0def0> False\n",
      "<keras.layers.convolutional.SeparableConv2D object at 0x7f866f7b1ba8> False\n",
      "<keras.layers.normalization.BatchNormalization object at 0x7f86700e0978> False\n",
      "<keras.layers.normalization.BatchNormalization object at 0x7f866fe6f5c0> False\n",
      "<keras.layers.normalization.BatchNormalization object at 0x7f866fc18908> False\n",
      "<keras.layers.normalization.BatchNormalization object at 0x7f866f9a6518> False\n",
      "<keras.layers.pooling.AveragePooling2D object at 0x7f866f91cc50> False\n",
      "<keras.layers.pooling.AveragePooling2D object at 0x7f86701bcac8> False\n",
      "<keras.layers.pooling.AveragePooling2D object at 0x7f866f7d05c0> False\n",
      "<keras.layers.normalization.BatchNormalization object at 0x7f866f705748> False\n",
      "<keras.layers.merge.Add object at 0x7f86701bcef0> False\n",
      "<keras.layers.merge.Add object at 0x7f866fddecf8> False\n",
      "<keras.layers.merge.Add object at 0x7f86701bcba8> False\n",
      "<keras.layers.merge.Add object at 0x7f866f89ca90> False\n",
      "<keras.layers.merge.Add object at 0x7f866f85b080> False\n",
      "<keras.layers.merge.Concatenate object at 0x7f86701fef60> False\n",
      "<keras.layers.core.Activation object at 0x7f866f7825f8> False\n",
      "<keras.layers.core.Activation object at 0x7f867111c550> False\n",
      "<keras.layers.convolutional.Conv2D object at 0x7f866f782320> False\n",
      "<keras.layers.convolutional.Conv2D object at 0x7f866f67ce80> False\n",
      "<keras.layers.normalization.BatchNormalization object at 0x7f866f565710> False\n",
      "<keras.layers.normalization.BatchNormalization object at 0x7f866f782e80> False\n",
      "<keras.layers.core.Activation object at 0x7f866f3f0160> False\n",
      "<keras.layers.core.Activation object at 0x7f866f219cf8> False\n",
      "<keras.layers.core.Activation object at 0x7f866eefccc0> False\n",
      "<keras.layers.core.Activation object at 0x7f866ed51c88> False\n",
      "<keras.layers.core.Activation object at 0x7f866e9f4a90> False\n",
      "<keras.layers.convolutional.SeparableConv2D object at 0x7f866f3f0c50> False\n",
      "<keras.layers.convolutional.SeparableConv2D object at 0x7f866f1baf60> False\n",
      "<keras.layers.convolutional.SeparableConv2D object at 0x7f866ef8a5c0> False\n",
      "<keras.layers.convolutional.SeparableConv2D object at 0x7f866ecf5fd0> False\n",
      "<keras.layers.convolutional.SeparableConv2D object at 0x7f866e9f45c0> False\n",
      "<keras.layers.normalization.BatchNormalization object at 0x7f866f36a278> False\n",
      "<keras.layers.normalization.BatchNormalization object at 0x7f866f1ae6a0> False\n",
      "<keras.layers.normalization.BatchNormalization object at 0x7f866ef1d1d0> False\n",
      "<keras.layers.normalization.BatchNormalization object at 0x7f866ece9630> False\n",
      "<keras.layers.normalization.BatchNormalization object at 0x7f866e9f4c50> False\n",
      "<keras.layers.core.Activation object at 0x7f866f36af28> False\n",
      "<keras.layers.core.Activation object at 0x7f866f123dd8> False\n",
      "<keras.layers.core.Activation object at 0x7f866ee9be48> False\n",
      "<keras.layers.core.Activation object at 0x7f866ec5cd68> False\n",
      "<keras.layers.core.Activation object at 0x7f866e9f4f28> False\n",
      "<keras.layers.convolutional.SeparableConv2D object at 0x7f866f326c18> False\n",
      "<keras.layers.convolutional.SeparableConv2D object at 0x7f866f0f19e8> False\n",
      "<keras.layers.convolutional.SeparableConv2D object at 0x7f866ee5cba8> False\n",
      "<keras.layers.convolutional.SeparableConv2D object at 0x7f866ec28940> False\n",
      "<keras.layers.convolutional.SeparableConv2D object at 0x7f866e995208> False\n",
      "<keras.layers.normalization.BatchNormalization object at 0x7f866f27cb00> False\n",
      "<keras.layers.normalization.BatchNormalization object at 0x7f866f0a7c18> False\n",
      "<keras.layers.normalization.BatchNormalization object at 0x7f866ee0f898> False\n",
      "<keras.layers.normalization.BatchNormalization object at 0x7f866ebe1b70> False\n",
      "<keras.layers.pooling.AveragePooling2D object at 0x7f866eb156a0> False\n",
      "<keras.layers.pooling.AveragePooling2D object at 0x7f866f433828> False\n",
      "<keras.layers.pooling.AveragePooling2D object at 0x7f866eac2240> False\n",
      "<keras.layers.normalization.BatchNormalization object at 0x7f866e9023c8> False\n",
      "<keras.layers.merge.Add object at 0x7f866f3d1c50> False\n",
      "<keras.layers.merge.Add object at 0x7f866efda748> False\n",
      "<keras.layers.merge.Add object at 0x7f866f433438> False\n",
      "<keras.layers.merge.Add object at 0x7f866ea533c8> False\n",
      "<keras.layers.merge.Add object at 0x7f866e9f4b00> False\n",
      "<keras.layers.merge.Concatenate object at 0x7f866f3fd518> False\n",
      "<keras.layers.core.Activation object at 0x7f866e8a7470> False\n",
      "<keras.layers.core.Activation object at 0x7f86702538d0> False\n",
      "<keras.layers.convolutional.Conv2D object at 0x7f866e8a7630> False\n",
      "<keras.layers.convolutional.Conv2D object at 0x7f866e878b00> False\n",
      "<keras.layers.normalization.BatchNormalization object at 0x7f866e736b70> False\n",
      "<keras.layers.normalization.BatchNormalization object at 0x7f866e9d2e10> False\n",
      "<keras.layers.core.Activation object at 0x7f866e5e8198> False\n",
      "<keras.layers.core.Activation object at 0x7f866e462eb8> False\n",
      "<keras.layers.core.Activation object at 0x7f866e16ea20> False\n",
      "<keras.layers.core.Activation object at 0x7f866df9be48> False\n",
      "<keras.layers.core.Activation object at 0x7f866dbea7b8> False\n",
      "<keras.layers.convolutional.SeparableConv2D object at 0x7f866e537ef0> False\n",
      "<keras.layers.convolutional.SeparableConv2D object at 0x7f866e42cac8> False\n",
      "<keras.layers.convolutional.SeparableConv2D object at 0x7f866e17d048> False\n",
      "<keras.layers.convolutional.SeparableConv2D object at 0x7f866df69a58> False\n",
      "<keras.layers.convolutional.SeparableConv2D object at 0x7f866dbea630> False\n",
      "<keras.layers.normalization.BatchNormalization object at 0x7f866e55d668> False\n",
      "<keras.layers.normalization.BatchNormalization object at 0x7f866e3a2320> False\n",
      "<keras.layers.normalization.BatchNormalization object at 0x7f866e1148d0> False\n",
      "<keras.layers.normalization.BatchNormalization object at 0x7f866df1e358> False\n",
      "<keras.layers.normalization.BatchNormalization object at 0x7f866dbea8d0> False\n",
      "<keras.layers.core.Activation object at 0x7f866e55dc18> False\n",
      "<keras.layers.core.Activation object at 0x7f866e31c828> False\n",
      "<keras.layers.core.Activation object at 0x7f866e091ac8> False\n",
      "<keras.layers.core.Activation object at 0x7f866de537b8> False\n",
      "<keras.layers.core.Activation object at 0x7f866db887f0> False\n",
      "<keras.layers.convolutional.SeparableConv2D object at 0x7f866e517cc0> False\n",
      "<keras.layers.convolutional.SeparableConv2D object at 0x7f866e2e6f98> False\n",
      "<keras.layers.convolutional.SeparableConv2D object at 0x7f866e051c50> False\n",
      "<keras.layers.convolutional.SeparableConv2D object at 0x7f866de1fef0> False\n",
      "<keras.layers.convolutional.SeparableConv2D object at 0x7f866db59f28> False\n",
      "<keras.layers.normalization.BatchNormalization object at 0x7f866e4ed780> False\n",
      "<keras.layers.normalization.BatchNormalization object at 0x7f866e298978> False\n",
      "<keras.layers.normalization.BatchNormalization object at 0x7f866e025710> False\n",
      "<keras.layers.normalization.BatchNormalization object at 0x7f866ddd38d0> False\n",
      "<keras.layers.pooling.AveragePooling2D object at 0x7f866dd12f60> False\n",
      "<keras.layers.pooling.AveragePooling2D object at 0x7f866e629fd0> False\n",
      "<keras.layers.pooling.AveragePooling2D object at 0x7f866dcb8128> False\n",
      "<keras.layers.normalization.BatchNormalization object at 0x7f866db3bb00> False\n",
      "<keras.layers.merge.Add object at 0x7f866e5c99b0> False\n",
      "<keras.layers.merge.Add object at 0x7f866e1daef0> False\n",
      "<keras.layers.merge.Add object at 0x7f866e629320> False\n",
      "<keras.layers.merge.Add object at 0x7f866dcefc88> False\n",
      "<keras.layers.merge.Add object at 0x7f866dc4b710> False\n",
      "<keras.layers.merge.Concatenate object at 0x7f866e75aa58> False\n",
      "<keras.layers.core.Activation object at 0x7f866da9f0f0> False\n",
      "<keras.layers.core.Activation object at 0x7f866e6d1320> False\n",
      "<keras.layers.convolutional.Conv2D object at 0x7f866da9f2b0> False\n",
      "<keras.layers.convolutional.Conv2D object at 0x7f866f47a278> False\n",
      "<keras.layers.normalization.BatchNormalization object at 0x7f866d9af278> False\n",
      "<keras.layers.normalization.BatchNormalization object at 0x7f866dbc6eb8> False\n",
      "<keras.layers.core.Activation object at 0x7f866d7c2780> False\n",
      "<keras.layers.core.Activation object at 0x7f866d65eb38> False\n",
      "<keras.layers.core.Activation object at 0x7f866d3e0f60> False\n",
      "<keras.layers.core.Activation object at 0x7f866d1deac8> False\n",
      "<keras.layers.core.Activation object at 0x7f866ce01710> False\n",
      "<keras.layers.convolutional.SeparableConv2D object at 0x7f866d7e2358> False\n",
      "<keras.layers.convolutional.SeparableConv2D object at 0x7f866d62f748> False\n",
      "<keras.layers.convolutional.SeparableConv2D object at 0x7f866d3e0a58> False\n",
      "<keras.layers.convolutional.SeparableConv2D object at 0x7f866d1ac6d8> False\n",
      "<keras.layers.convolutional.SeparableConv2D object at 0x7f866ce26470> False\n",
      "<keras.layers.normalization.BatchNormalization object at 0x7f866d7aeb70> False\n",
      "<keras.layers.normalization.BatchNormalization object at 0x7f866d5dca58> False\n",
      "<keras.layers.normalization.BatchNormalization object at 0x7f866d364438> False\n",
      "<keras.layers.normalization.BatchNormalization object at 0x7f866d1569e8> False\n",
      "<keras.layers.normalization.BatchNormalization object at 0x7f866ce26550> False\n",
      "<keras.layers.core.Activation object at 0x7f866d755780> False\n",
      "<keras.layers.core.Activation object at 0x7f866d513f98> False\n",
      "<keras.layers.core.Activation object at 0x7f866d2df748> False\n",
      "<keras.layers.core.Activation object at 0x7f866d094fd0> False\n",
      "<keras.layers.core.Activation object at 0x7f866cdbcda0> False\n",
      "<keras.layers.convolutional.SeparableConv2D object at 0x7f866d774240> False\n",
      "<keras.layers.convolutional.SeparableConv2D object at 0x7f866d4dcc18> False\n",
      "<keras.layers.convolutional.SeparableConv2D object at 0x7f866d280748> False\n",
      "<keras.layers.convolutional.SeparableConv2D object at 0x7f866d055b70> False\n",
      "<keras.layers.convolutional.SeparableConv2D object at 0x7f866cd90f98> False\n",
      "<keras.layers.normalization.BatchNormalization object at 0x7f866d6e8400> False\n",
      "<keras.layers.normalization.BatchNormalization object at 0x7f866d4b3b00> False\n",
      "<keras.layers.normalization.BatchNormalization object at 0x7f866d26f390> False\n",
      "<keras.layers.normalization.BatchNormalization object at 0x7f866d00a860> False\n",
      "<keras.layers.pooling.AveragePooling2D object at 0x7f866cf4db00> False\n",
      "<keras.layers.pooling.AveragePooling2D object at 0x7f866d807fd0> False\n",
      "<keras.layers.pooling.AveragePooling2D object at 0x7f866cf71f98> False\n",
      "<keras.layers.normalization.BatchNormalization object at 0x7f866cdf0a90> False\n",
      "<keras.layers.merge.Add object at 0x7f866d7c2630> False\n",
      "<keras.layers.merge.Add object at 0x7f866d3c4cf8> False\n",
      "<keras.layers.merge.Add object at 0x7f866d807cc0> False\n",
      "<keras.layers.merge.Add object at 0x7f866cf29278> False\n",
      "<keras.layers.merge.Add object at 0x7f866ce84518> False\n",
      "<keras.layers.merge.Concatenate object at 0x7f866d8cb438> False\n",
      "<keras.layers.core.Activation object at 0x7f866cd30dd8> False\n",
      "<keras.layers.core.Activation object at 0x7f866ce01550> False\n",
      "<keras.layers.convolutional.Conv2D object at 0x7f866cc69550> False\n",
      "<keras.layers.convolutional.Conv2D object at 0x7f866ce01fd0> False\n",
      "<keras.layers.normalization.BatchNormalization object at 0x7f866ccf1d68> False\n",
      "<keras.layers.normalization.BatchNormalization object at 0x7f866cbeac50> False\n",
      "<keras.layers.core.Activation object at 0x7f866c999630> False\n",
      "<keras.layers.core.Activation object at 0x7f866c89be48> False\n",
      "<keras.layers.convolutional.ZeroPadding2D object at 0x7f866c9997f0> False\n",
      "<keras.layers.convolutional.ZeroPadding2D object at 0x7f866c867a58> False\n",
      "<keras.layers.convolutional.SeparableConv2D object at 0x7f866c999588> False\n",
      "<keras.layers.convolutional.SeparableConv2D object at 0x7f866c738208> False\n",
      "<keras.layers.normalization.BatchNormalization object at 0x7f866c999d30> False\n",
      "<keras.layers.normalization.BatchNormalization object at 0x7f866c707208> False\n",
      "<keras.layers.core.Activation object at 0x7f866c947c50> False\n",
      "<keras.layers.core.Activation object at 0x7f866c707da0> False\n",
      "<keras.layers.convolutional.SeparableConv2D object at 0x7f866c947b70> False\n",
      "<keras.layers.convolutional.SeparableConv2D object at 0x7f866c707e48> False\n",
      "<keras.layers.core.Activation object at 0x7f866c504a58> False\n",
      "<keras.layers.normalization.BatchNormalization object at 0x7f866c920710> False\n",
      "<keras.layers.normalization.BatchNormalization object at 0x7f866c6d8b70> False\n",
      "<keras.layers.convolutional.ZeroPadding2D object at 0x7f866c58e3c8> False\n",
      "<keras.layers.core.Activation object at 0x7f866c2fa978> False\n",
      "<keras.layers.merge.Add object at 0x7f866c9996d8> False\n",
      "<keras.layers.convolutional.SeparableConv2D object at 0x7f866c58e400> False\n",
      "<keras.layers.convolutional.ZeroPadding2D object at 0x7f866c2fa9b0> False\n",
      "<keras.layers.core.Activation object at 0x7f866c009ac8> False\n",
      "<keras.layers.normalization.BatchNormalization object at 0x7f866c4f27f0> False\n",
      "<keras.layers.convolutional.SeparableConv2D object at 0x7f866c2fa4e0> False\n",
      "<keras.layers.convolutional.SeparableConv2D object at 0x7f866c009e10> False\n",
      "<keras.layers.core.Activation object at 0x7f866c48d7b8> False\n",
      "<keras.layers.normalization.BatchNormalization object at 0x7f866c23dac8> False\n",
      "<keras.layers.normalization.BatchNormalization object at 0x7f866c02f668> False\n",
      "<keras.layers.convolutional.ZeroPadding2D object at 0x7f866cb864e0> False\n",
      "<keras.layers.convolutional.SeparableConv2D object at 0x7f866c45ffd0> False\n",
      "<keras.layers.core.Activation object at 0x7f866c1fee48> False\n",
      "<keras.layers.core.Activation object at 0x7f866bfebb70> False\n",
      "<keras.layers.pooling.MaxPooling2D object at 0x7f866c60f6a0> False\n",
      "<keras.layers.normalization.BatchNormalization object at 0x7f866c440ac8> False\n",
      "<keras.layers.convolutional.SeparableConv2D object at 0x7f866c1d5c50> False\n",
      "<keras.layers.convolutional.SeparableConv2D object at 0x7f866bf42a58> False\n",
      "<keras.layers.core.Activation object at 0x7f866be21518> False\n",
      "<keras.layers.merge.Add object at 0x7f866c9ee860> False\n",
      "<keras.layers.pooling.AveragePooling2D object at 0x7f866c9eef28> False\n",
      "<keras.layers.normalization.BatchNormalization object at 0x7f866c233828> False\n",
      "<keras.layers.pooling.AveragePooling2D object at 0x7f866c5bb240> False\n",
      "<keras.layers.normalization.BatchNormalization object at 0x7f866bf9e860> False\n",
      "<keras.layers.pooling.MaxPooling2D object at 0x7f866c0908d0> False\n",
      "<keras.layers.convolutional.ZeroPadding2D object at 0x7f866bd43208> False\n",
      "<keras.layers.merge.Add object at 0x7f866c5bb518> False\n",
      "<keras.layers.merge.Add object at 0x7f866c3ab048> False\n",
      "<keras.layers.merge.Add object at 0x7f866c11ac88> False\n",
      "<keras.layers.convolutional.Cropping2D object at 0x7f866bd43828> False\n",
      "<keras.layers.merge.Concatenate object at 0x7f866ca83cc0> False\n",
      "<keras.layers.pooling.AveragePooling2D object at 0x7f866be21390> False\n",
      "<keras.layers.pooling.AveragePooling2D object at 0x7f866bd43400> False\n",
      "<keras.layers.convolutional.Conv2D object at 0x7f866bd757f0> False\n",
      "<keras.layers.convolutional.Conv2D object at 0x7f866bd434a8> False\n",
      "<keras.layers.core.Activation object at 0x7f866c9d1208> False\n",
      "<keras.layers.merge.Concatenate object at 0x7f866bd5eda0> False\n",
      "<keras.layers.convolutional.Conv2D object at 0x7f866c11a198> False\n",
      "<keras.layers.normalization.BatchNormalization object at 0x7f866bd5ebe0> False\n",
      "<keras.layers.normalization.BatchNormalization object at 0x7f866be03748> False\n",
      "<keras.layers.core.Activation object at 0x7f866bbde4a8> False\n",
      "<keras.layers.core.Activation object at 0x7f866b9fa630> False\n",
      "<keras.layers.core.Activation object at 0x7f866b7f38d0> False\n",
      "<keras.layers.core.Activation object at 0x7f866b5b25c0> False\n",
      "<keras.layers.core.Activation object at 0x7f866b1e2278> False\n",
      "<keras.layers.convolutional.SeparableConv2D object at 0x7f866bb82048> False\n",
      "<keras.layers.convolutional.SeparableConv2D object at 0x7f866b9c5da0> False\n",
      "<keras.layers.convolutional.SeparableConv2D object at 0x7f866b794dd8> False\n",
      "<keras.layers.convolutional.SeparableConv2D object at 0x7f866b4fad30> False\n",
      "<keras.layers.convolutional.SeparableConv2D object at 0x7f866b1e2e80> False\n",
      "<keras.layers.normalization.BatchNormalization object at 0x7f866bb4d860> False\n",
      "<keras.layers.normalization.BatchNormalization object at 0x7f866b977a90> False\n",
      "<keras.layers.normalization.BatchNormalization object at 0x7f866b72c160> False\n",
      "<keras.layers.normalization.BatchNormalization object at 0x7f866b531a20> False\n",
      "<keras.layers.normalization.BatchNormalization object at 0x7f866b17f2b0> False\n",
      "<keras.layers.core.Activation object at 0x7f866bb148d0> False\n",
      "<keras.layers.core.Activation object at 0x7f866b8bbdd8> False\n",
      "<keras.layers.core.Activation object at 0x7f866b649860> False\n",
      "<keras.layers.core.Activation object at 0x7f866b46fe80> False\n",
      "<keras.layers.core.Activation object at 0x7f866b199ac8> False\n",
      "<keras.layers.convolutional.SeparableConv2D object at 0x7f866bafef98> False\n",
      "<keras.layers.convolutional.SeparableConv2D object at 0x7f866b87dd68> False\n",
      "<keras.layers.convolutional.SeparableConv2D object at 0x7f866b6169b0> False\n",
      "<keras.layers.convolutional.SeparableConv2D object at 0x7f866b42d0b8> False\n",
      "<keras.layers.convolutional.SeparableConv2D object at 0x7f866b16e9b0> False\n",
      "<keras.layers.normalization.BatchNormalization object at 0x7f866bac8b00> False\n",
      "<keras.layers.normalization.BatchNormalization object at 0x7f866b853828> False\n",
      "<keras.layers.normalization.BatchNormalization object at 0x7f866b5fcb70> False\n",
      "<keras.layers.normalization.BatchNormalization object at 0x7f866b387780> False\n",
      "<keras.layers.pooling.AveragePooling2D object at 0x7f866b2ffeb8> False\n",
      "<keras.layers.pooling.AveragePooling2D object at 0x7f866bc28d30> False\n",
      "<keras.layers.pooling.AveragePooling2D object at 0x7f866b327828> False\n",
      "<keras.layers.normalization.BatchNormalization object at 0x7f866b14efd0> False\n",
      "<keras.layers.merge.Add object at 0x7f866bbde358> False\n",
      "<keras.layers.merge.Add object at 0x7f866b7c9f60> False\n",
      "<keras.layers.merge.Add object at 0x7f866bc28400> False\n",
      "<keras.layers.merge.Add object at 0x7f866b27ee80> False\n",
      "<keras.layers.merge.Add object at 0x7f866b262240> False\n",
      "<keras.layers.merge.Concatenate object at 0x7f866bce6860> False\n",
      "<keras.layers.core.Activation object at 0x7f866b1e2860> False\n",
      "<keras.layers.core.Activation object at 0x7f866b08da58> False\n",
      "<keras.layers.convolutional.Conv2D object at 0x7f866b1e2588> False\n",
      "<keras.layers.convolutional.Conv2D object at 0x7f866afc6278> False\n",
      "<keras.layers.normalization.BatchNormalization object at 0x7f866af417f0> False\n",
      "<keras.layers.normalization.BatchNormalization object at 0x7f866b1e2438> False\n",
      "<keras.layers.core.Activation object at 0x7f866add7668> False\n",
      "<keras.layers.core.Activation object at 0x7f866abfcf28> False\n",
      "<keras.layers.core.Activation object at 0x7f866a957978> False\n",
      "<keras.layers.core.Activation object at 0x7f866a736eb8> False\n",
      "<keras.layers.core.Activation object at 0x7f866a3ded30> False\n",
      "<keras.layers.convolutional.SeparableConv2D object at 0x7f866add7dd8> False\n",
      "<keras.layers.convolutional.SeparableConv2D object at 0x7f866abbaa58> False\n",
      "<keras.layers.convolutional.SeparableConv2D object at 0x7f866a9e6860> False\n",
      "<keras.layers.convolutional.SeparableConv2D object at 0x7f866a6f69e8> False\n",
      "<keras.layers.convolutional.SeparableConv2D object at 0x7f866a3de0f0> False\n",
      "<keras.layers.normalization.BatchNormalization object at 0x7f866ad44208> False\n",
      "<keras.layers.normalization.BatchNormalization object at 0x7f866ab92940> False\n",
      "<keras.layers.normalization.BatchNormalization object at 0x7f866a9031d0> False\n",
      "<keras.layers.normalization.BatchNormalization object at 0x7f866a6c98d0> False\n",
      "<keras.layers.normalization.BatchNormalization object at 0x7f866a3deef0> False\n",
      "<keras.layers.core.Activation object at 0x7f866ad08eb8> False\n",
      "<keras.layers.core.Activation object at 0x7f866ab08e80> False\n",
      "<keras.layers.core.Activation object at 0x7f866a841e48> False\n",
      "<keras.layers.core.Activation object at 0x7f866a645e10> False\n",
      "<keras.layers.core.Activation object at 0x7f866a3788d0> False\n",
      "<keras.layers.convolutional.SeparableConv2D object at 0x7f866acdfcc0> False\n",
      "<keras.layers.convolutional.SeparableConv2D object at 0x7f866ab32ac8> False\n",
      "<keras.layers.convolutional.SeparableConv2D object at 0x7f866a815c50> False\n",
      "<keras.layers.convolutional.SeparableConv2D object at 0x7f866a60cda0> False\n",
      "<keras.layers.convolutional.SeparableConv2D object at 0x7f866a378fd0> False\n",
      "<keras.layers.normalization.BatchNormalization object at 0x7f866acbb898> False\n",
      "<keras.layers.normalization.BatchNormalization object at 0x7f866aa4a4e0> False\n",
      "<keras.layers.normalization.BatchNormalization object at 0x7f866a7f6828> False\n",
      "<keras.layers.normalization.BatchNormalization object at 0x7f866a585438> False\n",
      "<keras.layers.pooling.AveragePooling2D object at 0x7f866a4f8b70> False\n",
      "<keras.layers.pooling.AveragePooling2D object at 0x7f866ae13ac8> False\n",
      "<keras.layers.pooling.AveragePooling2D object at 0x7f866a51e4e0> False\n",
      "<keras.layers.normalization.BatchNormalization object at 0x7f866a36c668> False\n",
      "<keras.layers.merge.Add object at 0x7f866ae33fd0> False\n",
      "<keras.layers.merge.Add object at 0x7f866a9bfc18> False\n",
      "<keras.layers.merge.Add object at 0x7f866ae130b8> False\n",
      "<keras.layers.merge.Add object at 0x7f866a43d320> False\n",
      "<keras.layers.merge.Add object at 0x7f866a42f4e0> False\n",
      "<keras.layers.merge.Concatenate object at 0x7f866ae55780> False\n",
      "<keras.layers.core.Activation object at 0x7f866a2e0da0> False\n",
      "<keras.layers.core.Activation object at 0x7f866bc625f8> False\n",
      "<keras.layers.convolutional.Conv2D object at 0x7f866a2215f8> False\n",
      "<keras.layers.convolutional.Conv2D object at 0x7f866a42ff98> False\n",
      "<keras.layers.normalization.BatchNormalization object at 0x7f866a141630> False\n",
      "<keras.layers.normalization.BatchNormalization object at 0x7f866a287710> False\n",
      "<keras.layers.core.Activation object at 0x7f8669fcf9e8> False\n",
      "<keras.layers.core.Activation object at 0x7f8669df6ac8> False\n",
      "<keras.layers.core.Activation object at 0x7f8669b5cfd0> False\n",
      "<keras.layers.core.Activation object at 0x7f86699afa58> False\n",
      "<keras.layers.core.Activation object at 0x7f86695d19e8> False\n",
      "<keras.layers.convolutional.SeparableConv2D object at 0x7f8669fcfb70> False\n",
      "<keras.layers.convolutional.SeparableConv2D object at 0x7f8669df6ba8> False\n",
      "<keras.layers.convolutional.SeparableConv2D object at 0x7f8669bea4e0> False\n",
      "<keras.layers.convolutional.SeparableConv2D object at 0x7f86699afb38> False\n",
      "<keras.layers.convolutional.SeparableConv2D object at 0x7f86695d1a58> False\n",
      "<keras.layers.normalization.BatchNormalization object at 0x7f8669f45198> False\n",
      "<keras.layers.normalization.BatchNormalization object at 0x7f8669d855c0> False\n",
      "<keras.layers.normalization.BatchNormalization object at 0x7f8669afe198> False\n",
      "<keras.layers.normalization.BatchNormalization object at 0x7f86698c7550> False\n",
      "<keras.layers.normalization.BatchNormalization object at 0x7f86695d1b70> False\n",
      "<keras.layers.core.Activation object at 0x7f8669f45f28> False\n",
      "<keras.layers.core.Activation object at 0x7f8669d01cf8> False\n",
      "<keras.layers.core.Activation object at 0x7f8669a7ad68> False\n",
      "<keras.layers.core.Activation object at 0x7f866983cc88> False\n",
      "<keras.layers.core.Activation object at 0x7f86695d1e48> False\n",
      "<keras.layers.convolutional.SeparableConv2D object at 0x7f8669effb38> False\n",
      "<keras.layers.convolutional.SeparableConv2D object at 0x7f8669cce908> False\n",
      "<keras.layers.convolutional.SeparableConv2D object at 0x7f8669a39ac8> False\n",
      "<keras.layers.convolutional.SeparableConv2D object at 0x7f8669808860> False\n",
      "<keras.layers.convolutional.SeparableConv2D object at 0x7f86695ef6a0> False\n",
      "<keras.layers.normalization.BatchNormalization object at 0x7f8669eb7828> False\n",
      "<keras.layers.normalization.BatchNormalization object at 0x7f8669c86b38> False\n",
      "<keras.layers.normalization.BatchNormalization object at 0x7f8669a69fd0> False\n",
      "<keras.layers.normalization.BatchNormalization object at 0x7f86697bbb70> False\n",
      "<keras.layers.pooling.AveragePooling2D object at 0x7f86697735c0> False\n",
      "<keras.layers.pooling.AveragePooling2D object at 0x7f866a00aa58> False\n",
      "<keras.layers.pooling.AveragePooling2D object at 0x7f8669720160> False\n",
      "<keras.layers.normalization.BatchNormalization object at 0x7f86695612e8> False\n",
      "<keras.layers.merge.Add object at 0x7f866a02bf60> False\n",
      "<keras.layers.merge.Add object at 0x7f8669bbd668> False\n",
      "<keras.layers.merge.Add object at 0x7f866a00a320> False\n",
      "<keras.layers.merge.Add object at 0x7f8669636438> False\n",
      "<keras.layers.merge.Add object at 0x7f8669630208> False\n",
      "<keras.layers.merge.Concatenate object at 0x7f866a054d30> False\n",
      "<keras.layers.core.Activation object at 0x7f8669486390> False\n",
      "<keras.layers.core.Activation object at 0x7f866aedf518> False\n",
      "<keras.layers.convolutional.Conv2D object at 0x7f8669486550> False\n",
      "<keras.layers.convolutional.Conv2D object at 0x7f86694db7f0> False\n",
      "<keras.layers.normalization.BatchNormalization object at 0x7f8669399080> False\n",
      "<keras.layers.normalization.BatchNormalization object at 0x7f8669630e10> False\n",
      "<keras.layers.core.Activation object at 0x7f866922cd68> False\n",
      "<keras.layers.core.Activation object at 0x7f866904bdd8> False\n",
      "<keras.layers.core.Activation object at 0x7f8668de1cf8> False\n",
      "<keras.layers.core.Activation object at 0x7f8668b83d68> False\n",
      "<keras.layers.core.Activation object at 0x7f86687cc6d8> False\n",
      "<keras.layers.convolutional.SeparableConv2D object at 0x7f86691cd5f8> False\n",
      "<keras.layers.convolutional.SeparableConv2D object at 0x7f86690179e8> False\n",
      "<keras.layers.convolutional.SeparableConv2D object at 0x7f8668de1198> False\n",
      "<keras.layers.convolutional.SeparableConv2D object at 0x7f8668b4d978> False\n",
      "<keras.layers.convolutional.SeparableConv2D object at 0x7f86687cc550> False\n",
      "<keras.layers.normalization.BatchNormalization object at 0x7f8669145588> False\n",
      "<keras.layers.normalization.BatchNormalization object at 0x7f8668fcdc18> False\n",
      "<keras.layers.normalization.BatchNormalization object at 0x7f8668cf76d8> False\n",
      "<keras.layers.normalization.BatchNormalization object at 0x7f8668b05ba8> False\n",
      "<keras.layers.normalization.BatchNormalization object at 0x7f86687cc7f0> False\n",
      "<keras.layers.core.Activation object at 0x7f8669145a20> False\n",
      "<keras.layers.core.Activation object at 0x7f8668eff748> False\n",
      "<keras.layers.core.Activation object at 0x7f8668c759e8> False\n",
      "<keras.layers.core.Activation object at 0x7f8668a3a6d8> False\n",
      "<keras.layers.core.Activation object at 0x7f86687ed710> False\n",
      "<keras.layers.convolutional.SeparableConv2D object at 0x7f8669166f60> False\n",
      "<keras.layers.convolutional.SeparableConv2D object at 0x7f8668ecbeb8> False\n",
      "<keras.layers.convolutional.SeparableConv2D object at 0x7f8668c97fd0> False\n",
      "<keras.layers.convolutional.SeparableConv2D object at 0x7f8668a04e10> False\n",
      "<keras.layers.convolutional.SeparableConv2D object at 0x7f866873cf28> False\n",
      "<keras.layers.normalization.BatchNormalization object at 0x7f86690d36a0> False\n",
      "<keras.layers.normalization.BatchNormalization object at 0x7f8668e7e898> False\n",
      "<keras.layers.normalization.BatchNormalization object at 0x7f8668c0f630> False\n",
      "<keras.layers.normalization.BatchNormalization object at 0x7f86689b67f0> False\n",
      "<keras.layers.pooling.AveragePooling2D object at 0x7f8668dbff28> False\n",
      "<keras.layers.pooling.AveragePooling2D object at 0x7f8669272b00> False\n",
      "<keras.layers.pooling.AveragePooling2D object at 0x7f866891a048> False\n",
      "<keras.layers.normalization.BatchNormalization object at 0x7f866879ea20> False\n",
      "<keras.layers.merge.Add object at 0x7f866922c8d0> False\n",
      "<keras.layers.merge.Add object at 0x7f866920df28> False\n",
      "<keras.layers.merge.Add object at 0x7f8669272898> False\n",
      "<keras.layers.merge.Add object at 0x7f86688d5470> False\n",
      "<keras.layers.merge.Add object at 0x7f86688b17b8> True\n",
      "<keras.layers.merge.Concatenate object at 0x7f8669332550> True\n",
      "<keras.layers.core.Activation object at 0x7f86765d13c8> True\n",
      "<keras.layers.pooling.GlobalAveragePooling2D object at 0x7f866bc3be80> True\n"
     ]
    }
   ],
   "source": [
    "# Freeze the layers except the last 4 layers\n",
    "NASNetMobile_conv=NASNetMobile(include_top=False,weights=None,pooling='avg',input_shape=(32,32,3))\n",
    "\n",
    "for layer in NASNetMobile_conv.layers[:-4]:\n",
    "    layer.trainable = False\n",
    " \n",
    "# Check the trainable status of the individual layers\n",
    "for layer in NASNetMobile_conv.layers:\n",
    "    print(layer, layer.trainable)"
   ]
  },
  {
   "cell_type": "code",
   "execution_count": 58,
   "metadata": {
    "colab": {
     "base_uri": "https://localhost:8080/",
     "height": 207
    },
    "colab_type": "code",
    "id": "PMBUipHR2ASR",
    "outputId": "c48f1d52-c36a-4d21-a127-0c4c46bc11ad"
   },
   "outputs": [
    {
     "name": "stdout",
     "output_type": "stream",
     "text": [
      "_________________________________________________________________\n",
      "Layer (type)                 Output Shape              Param #   \n",
      "=================================================================\n",
      "NASNet (Model)               (None, 1056)              4269716   \n",
      "_________________________________________________________________\n",
      "dense_5 (Dense)              (None, 10)                10570     \n",
      "=================================================================\n",
      "Total params: 4,280,286\n",
      "Trainable params: 4,243,548\n",
      "Non-trainable params: 36,738\n",
      "_________________________________________________________________\n"
     ]
    }
   ],
   "source": [
    "model.summary()"
   ]
  },
  {
   "cell_type": "code",
   "execution_count": 60,
   "metadata": {
    "colab": {
     "base_uri": "https://localhost:8080/",
     "height": 103
    },
    "colab_type": "code",
    "id": "N-cLiAcRlQNM",
    "outputId": "99f7c7ec-1acc-4582-97df-d8c90a4c08ca"
   },
   "outputs": [
    {
     "name": "stdout",
     "output_type": "stream",
     "text": [
      "Train on 50000 samples, validate on 10000 samples\n",
      "Epoch 1/2\n",
      "50000/50000 [==============================] - 356s 7ms/step - loss: 2.0992 - acc: 0.2347 - val_loss: 2.0257 - val_acc: 0.2744\n",
      "Epoch 2/2\n",
      "50000/50000 [==============================] - 54s 1ms/step - loss: 1.7905 - acc: 0.3394 - val_loss: 1.8945 - val_acc: 0.3137\n"
     ]
    }
   ],
   "source": [
    "from keras import optimizers\n",
    "# Compile the model\n",
    "model.compile(loss='categorical_crossentropy',\n",
    "              optimizer=optimizers.RMSprop(lr=1e-4),\n",
    "              metrics=['acc'])\n",
    "history=model.fit(XC_train, yC_train,\n",
    "              batch_size=500,\n",
    "              epochs=2,\n",
    "              validation_data=(XC_test, yC_test),\n",
    "              shuffle=True)\n",
    "# Train the model\n",
    "# Save the model\n",
    "model.save('small_last4.h5')"
   ]
  },
  {
   "cell_type": "code",
   "execution_count": 61,
   "metadata": {
    "colab": {
     "base_uri": "https://localhost:8080/",
     "height": 706
    },
    "colab_type": "code",
    "id": "qu0S0RkUaYfg",
    "outputId": "acfa74f9-26a4-4dc6-f935-4198886874fc"
   },
   "outputs": [
    {
     "data": {
      "image/png": "[encoded data removed]",
      "text/plain": [
       "<Figure size 576x396 with 1 Axes>"
      ]
     },
     "metadata": {
      "tags": []
     },
     "output_type": "display_data"
    },
    {
     "data": {
      "image/png": "[encoded data removed]",
      "text/plain": [
       "<Figure size 576x396 with 1 Axes>"
      ]
     },
     "metadata": {
      "tags": []
     },
     "output_type": "display_data"
    }
   ],
   "source": [
    "acc = history.history['acc']\n",
    "val_acc = history.history['val_acc']\n",
    "loss = history.history['loss']\n",
    "val_loss = history.history['val_loss']\n",
    " \n",
    "epochs = range(len(acc))\n",
    " \n",
    "plt.plot(epochs, acc, 'b', label='Training acc')\n",
    "plt.plot(epochs, val_acc, 'r', label='Validation acc')\n",
    "plt.title('Training and validation accuracy')\n",
    "plt.legend()\n",
    " \n",
    "plt.figure()\n",
    " \n",
    "plt.plot(epochs, loss, 'b', label='Training loss')\n",
    "plt.plot(epochs, val_loss, 'r', label='Validation loss')\n",
    "plt.title('Training and validation loss')\n",
    "plt.legend()\n",
    " \n",
    "plt.show()"
   ]
  }
 ],
 "metadata": {
  "accelerator": "GPU",
  "colab": {
   "collapsed_sections": [],
   "name": "NASNET.ipynb",
   "provenance": [],
   "version": "0.3.2"
  },
  "kernelspec": {
   "display_name": "Python 3",
   "language": "python",
   "name": "python3"
  },
  "language_info": {
   "codemirror_mode": {
    "name": "ipython",
    "version": 3
   },
   "file_extension": ".py",
   "mimetype": "text/x-python",
   "name": "python",
   "nbconvert_exporter": "python",
   "pygments_lexer": "ipython3",
   "version": "3.7.2"
  }
 },
 "nbformat": 4,
 "nbformat_minor": 1
}
