{
  "nbformat": 4,
  "nbformat_minor": 0,
  "metadata": {
    "colab": {
      "name": "H20AI.ipynb",
      "version": "0.3.2",
      "provenance": [],
      "collapsed_sections": []
    },
    "kernelspec": {
      "name": "python3",
      "display_name": "Python 3"
    }
  },
  "cells": [
    {
      "metadata": {
        "id": "m2iYlfTZnGqG",
        "colab_type": "code",
        "colab": {
          "base_uri": "https://localhost:8080/",
          "height": 390
        },
        "outputId": "088439fd-cdf1-4ab8-deb3-bc3c6c973071"
      },
      "cell_type": "code",
      "source": [
        "!pip install -f http://h2o-release.s3.amazonaws.com/h2o/latest_stable_Py.html h2o"
      ],
      "execution_count": 1,
      "outputs": [
        {
          "output_type": "stream",
          "text": [
            "Looking in links: http://h2o-release.s3.amazonaws.com/h2o/latest_stable_Py.html\n",
            "Collecting h2o\n",
            "\u001b[33m  The repository located at h2o-release.s3.amazonaws.com is not a trusted or secure host and is being ignored. If this repository is available via HTTPS we recommend you use HTTPS instead, otherwise you may silence this warning and allow it anyway with '--trusted-host h2o-release.s3.amazonaws.com'.\u001b[0m\n",
            "\u001b[?25l  Downloading https://files.pythonhosted.org/packages/94/8a/cce6663380742405994eb2de6f93c93ac63fa8c026c937d7270539e16eaa/h2o-3.22.1.6.tar.gz (120.9MB)\n",
            "\u001b[K    100% |████████████████████████████████| 120.9MB 199kB/s \n",
            "\u001b[?25hRequirement already satisfied: requests in /usr/local/lib/python3.6/dist-packages (from h2o) (2.18.4)\n",
            "Requirement already satisfied: tabulate in /usr/local/lib/python3.6/dist-packages (from h2o) (0.8.3)\n",
            "Requirement already satisfied: future in /usr/local/lib/python3.6/dist-packages (from h2o) (0.16.0)\n",
            "Collecting colorama>=0.3.8 (from h2o)\n",
            "\u001b[33m  The repository located at h2o-release.s3.amazonaws.com is not a trusted or secure host and is being ignored. If this repository is available via HTTPS we recommend you use HTTPS instead, otherwise you may silence this warning and allow it anyway with '--trusted-host h2o-release.s3.amazonaws.com'.\u001b[0m\n",
            "  Downloading https://files.pythonhosted.org/packages/4f/a6/728666f39bfff1719fc94c481890b2106837da9318031f71a8424b662e12/colorama-0.4.1-py2.py3-none-any.whl\n",
            "Requirement already satisfied: certifi>=2017.4.17 in /usr/local/lib/python3.6/dist-packages (from requests->h2o) (2019.3.9)\n",
            "Requirement already satisfied: chardet<3.1.0,>=3.0.2 in /usr/local/lib/python3.6/dist-packages (from requests->h2o) (3.0.4)\n",
            "Requirement already satisfied: idna<2.7,>=2.5 in /usr/local/lib/python3.6/dist-packages (from requests->h2o) (2.6)\n",
            "Requirement already satisfied: urllib3<1.23,>=1.21.1 in /usr/local/lib/python3.6/dist-packages (from requests->h2o) (1.22)\n",
            "Building wheels for collected packages: h2o\n",
            "  Building wheel for h2o (setup.py) ... \u001b[?25ldone\n",
            "\u001b[?25h  Stored in directory: /root/.cache/pip/wheels/f4/21/59/e953dbf8206d5061ce1346e119dad9ffafd7f88011430682ba\n",
            "Successfully built h2o\n",
            "Installing collected packages: colorama, h2o\n",
            "Successfully installed colorama-0.4.1 h2o-3.22.1.6\n"
          ],
          "name": "stdout"
        }
      ]
    },
    {
      "metadata": {
        "id": "P2i-2wABnYl0",
        "colab_type": "code",
        "colab": {
          "base_uri": "https://localhost:8080/",
          "height": 372
        },
        "outputId": "e31fc261-6c20-41ca-f3d0-5ea31793165d"
      },
      "cell_type": "code",
      "source": [
        "import h2o\n",
        "import pandas as pd\n",
        "import numpy as np\n",
        "from sklearn.model_selection import train_test_split\n",
        "from h2o.automl import H2OAutoML\n",
        "\n",
        "h2o.init()"
      ],
      "execution_count": 59,
      "outputs": [
        {
          "output_type": "stream",
          "text": [
            "Checking whether there is an H2O instance running at http://localhost:54321. connected.\n"
          ],
          "name": "stdout"
        },
        {
          "output_type": "display_data",
          "data": {
            "text/html": [
              "<div style=\"overflow:auto\"><table style=\"width:50%\"><tr><td>H2O cluster uptime:</td>\n",
              "<td>39 mins 21 secs</td></tr>\n",
              "<tr><td>H2O cluster timezone:</td>\n",
              "<td>Etc/UTC</td></tr>\n",
              "<tr><td>H2O data parsing timezone:</td>\n",
              "<td>UTC</td></tr>\n",
              "<tr><td>H2O cluster version:</td>\n",
              "<td>3.22.1.6</td></tr>\n",
              "<tr><td>H2O cluster version age:</td>\n",
              "<td>10 days </td></tr>\n",
              "<tr><td>H2O cluster name:</td>\n",
              "<td>H2O_from_python_unknownUser_bzwy0k</td></tr>\n",
              "<tr><td>H2O cluster total nodes:</td>\n",
              "<td>1</td></tr>\n",
              "<tr><td>H2O cluster free memory:</td>\n",
              "<td>2.976 Gb</td></tr>\n",
              "<tr><td>H2O cluster total cores:</td>\n",
              "<td>2</td></tr>\n",
              "<tr><td>H2O cluster allowed cores:</td>\n",
              "<td>2</td></tr>\n",
              "<tr><td>H2O cluster status:</td>\n",
              "<td>locked, healthy</td></tr>\n",
              "<tr><td>H2O connection url:</td>\n",
              "<td>http://localhost:54321</td></tr>\n",
              "<tr><td>H2O connection proxy:</td>\n",
              "<td>None</td></tr>\n",
              "<tr><td>H2O internal security:</td>\n",
              "<td>False</td></tr>\n",
              "<tr><td>H2O API Extensions:</td>\n",
              "<td>Amazon S3, XGBoost, Algos, AutoML, Core V3, Core V4</td></tr>\n",
              "<tr><td>Python version:</td>\n",
              "<td>3.6.7 final</td></tr></table></div>"
            ],
            "text/plain": [
              "--------------------------  ---------------------------------------------------\n",
              "H2O cluster uptime:         39 mins 21 secs\n",
              "H2O cluster timezone:       Etc/UTC\n",
              "H2O data parsing timezone:  UTC\n",
              "H2O cluster version:        3.22.1.6\n",
              "H2O cluster version age:    10 days\n",
              "H2O cluster name:           H2O_from_python_unknownUser_bzwy0k\n",
              "H2O cluster total nodes:    1\n",
              "H2O cluster free memory:    2.976 Gb\n",
              "H2O cluster total cores:    2\n",
              "H2O cluster allowed cores:  2\n",
              "H2O cluster status:         locked, healthy\n",
              "H2O connection url:         http://localhost:54321\n",
              "H2O connection proxy:\n",
              "H2O internal security:      False\n",
              "H2O API Extensions:         Amazon S3, XGBoost, Algos, AutoML, Core V3, Core V4\n",
              "Python version:             3.6.7 final\n",
              "--------------------------  ---------------------------------------------------"
            ]
          },
          "metadata": {
            "tags": []
          }
        }
      ]
    },
    {
      "metadata": {
        "id": "GLBaJblrUc1F",
        "colab_type": "code",
        "colab": {}
      },
      "cell_type": "code",
      "source": [
        "from sklearn.metrics import accuracy_score"
      ],
      "execution_count": 0,
      "outputs": []
    },
    {
      "metadata": {
        "id": "AgZvjzLeoDNk",
        "colab_type": "code",
        "colab": {}
      },
      "cell_type": "code",
      "source": [
        "scores= pd.read_csv('combined_GE.csv')"
      ],
      "execution_count": 0,
      "outputs": []
    },
    {
      "metadata": {
        "id": "3lVLqbEboXdS",
        "colab_type": "code",
        "colab": {
          "base_uri": "https://localhost:8080/",
          "height": 618
        },
        "outputId": "60d2b955-e621-4b8a-dfb2-fb349ad0c58f"
      },
      "cell_type": "code",
      "source": [
        "scores.head(5)"
      ],
      "execution_count": 62,
      "outputs": [
        {
          "output_type": "execute_result",
          "data": {
            "text/html": [
              "<div>\n",
              "<style scoped>\n",
              "    .dataframe tbody tr th:only-of-type {\n",
              "        vertical-align: middle;\n",
              "    }\n",
              "\n",
              "    .dataframe tbody tr th {\n",
              "        vertical-align: top;\n",
              "    }\n",
              "\n",
              "    .dataframe thead th {\n",
              "        text-align: right;\n",
              "    }\n",
              "</style>\n",
              "<table border=\"1\" class=\"dataframe\">\n",
              "  <thead>\n",
              "    <tr style=\"text-align: right;\">\n",
              "      <th></th>\n",
              "      <th>Unnamed: 0</th>\n",
              "      <th>AWSSentiment</th>\n",
              "      <th>AWSMixed</th>\n",
              "      <th>AWSNegative</th>\n",
              "      <th>AWSNeutral</th>\n",
              "      <th>AWSPositive</th>\n",
              "      <th>GCPmagnitude</th>\n",
              "      <th>GCPscore</th>\n",
              "      <th>IBMlabel</th>\n",
              "      <th>IBMscore</th>\n",
              "      <th>id</th>\n",
              "      <th>Azurescore</th>\n",
              "      <th>realSentiment</th>\n",
              "      <th>Text</th>\n",
              "    </tr>\n",
              "  </thead>\n",
              "  <tbody>\n",
              "    <tr>\n",
              "      <th>0</th>\n",
              "      <td>1</td>\n",
              "      <td>POSITIVE</td>\n",
              "      <td>0.012899</td>\n",
              "      <td>0.001309</td>\n",
              "      <td>0.180401</td>\n",
              "      <td>0.805391</td>\n",
              "      <td>1.0</td>\n",
              "      <td>0.2</td>\n",
              "      <td>positive</td>\n",
              "      <td>0.871771</td>\n",
              "      <td>1</td>\n",
              "      <td>0.812409</td>\n",
              "      <td>neutral</td>\n",
              "      <td>Good day, ladies and gentlemen and welcome to ...</td>\n",
              "    </tr>\n",
              "    <tr>\n",
              "      <th>1</th>\n",
              "      <td>2</td>\n",
              "      <td>NEUTRAL</td>\n",
              "      <td>0.002106</td>\n",
              "      <td>0.026452</td>\n",
              "      <td>0.952022</td>\n",
              "      <td>0.019421</td>\n",
              "      <td>0.0</td>\n",
              "      <td>0.0</td>\n",
              "      <td>positive</td>\n",
              "      <td>0.607113</td>\n",
              "      <td>2</td>\n",
              "      <td>0.823700</td>\n",
              "      <td>neutral</td>\n",
              "      <td>I would now like to turn the program over to y...</td>\n",
              "    </tr>\n",
              "    <tr>\n",
              "      <th>2</th>\n",
              "      <td>3</td>\n",
              "      <td>POSITIVE</td>\n",
              "      <td>0.003473</td>\n",
              "      <td>0.001572</td>\n",
              "      <td>0.210365</td>\n",
              "      <td>0.784590</td>\n",
              "      <td>1.6</td>\n",
              "      <td>0.4</td>\n",
              "      <td>positive</td>\n",
              "      <td>0.572983</td>\n",
              "      <td>3</td>\n",
              "      <td>0.762308</td>\n",
              "      <td>neutral</td>\n",
              "      <td>In the spirit of providing you with all the in...</td>\n",
              "    </tr>\n",
              "    <tr>\n",
              "      <th>3</th>\n",
              "      <td>4</td>\n",
              "      <td>NEGATIVE</td>\n",
              "      <td>0.039225</td>\n",
              "      <td>0.559341</td>\n",
              "      <td>0.396765</td>\n",
              "      <td>0.004668</td>\n",
              "      <td>0.0</td>\n",
              "      <td>0.0</td>\n",
              "      <td>positive</td>\n",
              "      <td>0.547195</td>\n",
              "      <td>4</td>\n",
              "      <td>0.500000</td>\n",
              "      <td>neutral</td>\n",
              "      <td>Well, Jeff what I was referring to there was t...</td>\n",
              "    </tr>\n",
              "    <tr>\n",
              "      <th>4</th>\n",
              "      <td>5</td>\n",
              "      <td>NEUTRAL</td>\n",
              "      <td>0.030986</td>\n",
              "      <td>0.167251</td>\n",
              "      <td>0.796661</td>\n",
              "      <td>0.005102</td>\n",
              "      <td>1.9</td>\n",
              "      <td>0.0</td>\n",
              "      <td>negative</td>\n",
              "      <td>-0.552928</td>\n",
              "      <td>5</td>\n",
              "      <td>0.500000</td>\n",
              "      <td>neutral</td>\n",
              "      <td>Morning. Maybe as the first question on Power....</td>\n",
              "    </tr>\n",
              "  </tbody>\n",
              "</table>\n",
              "</div>"
            ],
            "text/plain": [
              "   Unnamed: 0 AWSSentiment  AWSMixed  AWSNegative  AWSNeutral  AWSPositive  \\\n",
              "0           1     POSITIVE  0.012899     0.001309    0.180401     0.805391   \n",
              "1           2      NEUTRAL  0.002106     0.026452    0.952022     0.019421   \n",
              "2           3     POSITIVE  0.003473     0.001572    0.210365     0.784590   \n",
              "3           4     NEGATIVE  0.039225     0.559341    0.396765     0.004668   \n",
              "4           5      NEUTRAL  0.030986     0.167251    0.796661     0.005102   \n",
              "\n",
              "   GCPmagnitude  GCPscore  IBMlabel  IBMscore  id  Azurescore realSentiment  \\\n",
              "0           1.0       0.2  positive  0.871771   1    0.812409       neutral   \n",
              "1           0.0       0.0  positive  0.607113   2    0.823700       neutral   \n",
              "2           1.6       0.4  positive  0.572983   3    0.762308       neutral   \n",
              "3           0.0       0.0  positive  0.547195   4    0.500000       neutral   \n",
              "4           1.9       0.0  negative -0.552928   5    0.500000       neutral   \n",
              "\n",
              "                                                Text  \n",
              "0  Good day, ladies and gentlemen and welcome to ...  \n",
              "1  I would now like to turn the program over to y...  \n",
              "2  In the spirit of providing you with all the in...  \n",
              "3  Well, Jeff what I was referring to there was t...  \n",
              "4  Morning. Maybe as the first question on Power....  "
            ]
          },
          "metadata": {
            "tags": []
          },
          "execution_count": 62
        }
      ]
    },
    {
      "metadata": {
        "id": "C3QeHyaZofb3",
        "colab_type": "code",
        "colab": {}
      },
      "cell_type": "code",
      "source": [
        "coloumns=['AWSMixed','AWSNegative','AWSNeutral','AWSPositive','GCPscore','IBMscore','Azurescore']"
      ],
      "execution_count": 0,
      "outputs": []
    },
    {
      "metadata": {
        "id": "HoGNxj5OpcpE",
        "colab_type": "code",
        "colab": {}
      },
      "cell_type": "code",
      "source": [
        "X=np.asarray(scores[coloumns])\n",
        "y=np.asarray(scores['realSentiment'])"
      ],
      "execution_count": 0,
      "outputs": []
    },
    {
      "metadata": {
        "id": "HHnwqEMIpoc_",
        "colab_type": "code",
        "colab": {}
      },
      "cell_type": "code",
      "source": [
        "x_train, x_test, y_train, y_test = train_test_split(X, y, test_size=0.2, random_state=11)"
      ],
      "execution_count": 0,
      "outputs": []
    },
    {
      "metadata": {
        "id": "NCF0ftO0p0DF",
        "colab_type": "code",
        "colab": {
          "base_uri": "https://localhost:8080/",
          "height": 34
        },
        "outputId": "c2effc99-bd0c-4c50-c17c-093f6c7a265c"
      },
      "cell_type": "code",
      "source": [
        "x_train.shape"
      ],
      "execution_count": 66,
      "outputs": [
        {
          "output_type": "execute_result",
          "data": {
            "text/plain": [
              "(123, 7)"
            ]
          },
          "metadata": {
            "tags": []
          },
          "execution_count": 66
        }
      ]
    },
    {
      "metadata": {
        "id": "zdokGDEVqM80",
        "colab_type": "code",
        "colab": {}
      },
      "cell_type": "code",
      "source": [
        "aml = H2OAutoML(max_models=20, seed=1)"
      ],
      "execution_count": 0,
      "outputs": []
    },
    {
      "metadata": {
        "id": "pSQluu6aqiRm",
        "colab_type": "code",
        "colab": {}
      },
      "cell_type": "code",
      "source": [
        "df = pd.DataFrame(x_train)\n",
        "df['realSentiment'] = y_train"
      ],
      "execution_count": 0,
      "outputs": []
    },
    {
      "metadata": {
        "id": "g3CvxhrFqnDh",
        "colab_type": "code",
        "colab": {
          "base_uri": "https://localhost:8080/",
          "height": 34
        },
        "outputId": "cb46b28d-74a5-4536-e450-9304708f418d"
      },
      "cell_type": "code",
      "source": [
        "h2o_data = h2o.import_file('combined_GE.csv')\n",
        "\n",
        "predictors = ['AWSMixed','AWSNegative','AWSNeutral','AWSPositive','GCPscore','IBMscore','Azurescore']\n",
        "response = \"realSentiment\"\n",
        "\n",
        "train, valid = h2o_data.split_frame(ratios = [.8], seed = 11)"
      ],
      "execution_count": 69,
      "outputs": [
        {
          "output_type": "stream",
          "text": [
            "Parse progress: |█████████████████████████████████████████████████████████| 100%\n"
          ],
          "name": "stdout"
        }
      ]
    },
    {
      "metadata": {
        "id": "FCfZGo3lq16j",
        "colab_type": "code",
        "colab": {
          "base_uri": "https://localhost:8080/",
          "height": 34
        },
        "outputId": "77d5be64-b3de-4a2e-9bb0-7bce73f48ff6"
      },
      "cell_type": "code",
      "source": [
        "aml.train(x=predictors, y=response, training_frame=h2o_data)"
      ],
      "execution_count": 70,
      "outputs": [
        {
          "output_type": "stream",
          "text": [
            "AutoML progress: |████████████████████████████████████████████████████████| 100%\n"
          ],
          "name": "stdout"
        }
      ]
    },
    {
      "metadata": {
        "id": "ZcAPOVsDq5yd",
        "colab_type": "code",
        "colab": {
          "base_uri": "https://localhost:8080/",
          "height": 478
        },
        "outputId": "b3515b92-ce07-4acc-ca73-fb5992285b00"
      },
      "cell_type": "code",
      "source": [
        "lb = aml.leaderboard\n",
        "lb.head(rows=lb.nrows)"
      ],
      "execution_count": 71,
      "outputs": [
        {
          "output_type": "display_data",
          "data": {
            "text/html": [
              "<table>\n",
              "<thead>\n",
              "<tr><th>model_id                                           </th><th style=\"text-align: right;\">  mean_per_class_error</th><th style=\"text-align: right;\">  logloss</th><th style=\"text-align: right;\">    rmse</th><th style=\"text-align: right;\">     mse</th></tr>\n",
              "</thead>\n",
              "<tbody>\n",
              "<tr><td>DeepLearning_1_AutoML_20190324_043515              </td><td style=\"text-align: right;\">              0.505613</td><td style=\"text-align: right;\"> 1.2934  </td><td style=\"text-align: right;\">0.508661</td><td style=\"text-align: right;\">0.258736</td></tr>\n",
              "<tr><td>DeepLearning_grid_1_AutoML_20190324_043515_model_2 </td><td style=\"text-align: right;\">              0.585335</td><td style=\"text-align: right;\"> 1.77334 </td><td style=\"text-align: right;\">0.512546</td><td style=\"text-align: right;\">0.262703</td></tr>\n",
              "<tr><td>DeepLearning_grid_1_AutoML_20190324_043515_model_1 </td><td style=\"text-align: right;\">              0.588589</td><td style=\"text-align: right;\"> 1.68935 </td><td style=\"text-align: right;\">0.490455</td><td style=\"text-align: right;\">0.240546</td></tr>\n",
              "<tr><td>DeepLearning_grid_1_AutoML_20190324_043515_model_3 </td><td style=\"text-align: right;\">              0.595095</td><td style=\"text-align: right;\"> 1.29829 </td><td style=\"text-align: right;\">0.478349</td><td style=\"text-align: right;\">0.228817</td></tr>\n",
              "<tr><td>GBM_grid_1_AutoML_20190324_043515_model_2          </td><td style=\"text-align: right;\">              0.608037</td><td style=\"text-align: right;\"> 1.71028 </td><td style=\"text-align: right;\">0.551052</td><td style=\"text-align: right;\">0.303659</td></tr>\n",
              "<tr><td>DRF_1_AutoML_20190324_043515                       </td><td style=\"text-align: right;\">              0.625375</td><td style=\"text-align: right;\"> 2.66705 </td><td style=\"text-align: right;\">0.504083</td><td style=\"text-align: right;\">0.2541  </td></tr>\n",
              "<tr><td>XGBoost_grid_1_AutoML_20190324_043515_model_2      </td><td style=\"text-align: right;\">              0.635135</td><td style=\"text-align: right;\"> 0.766937</td><td style=\"text-align: right;\">0.500953</td><td style=\"text-align: right;\">0.250954</td></tr>\n",
              "<tr><td>GBM_3_AutoML_20190324_043515                       </td><td style=\"text-align: right;\">              0.637888</td><td style=\"text-align: right;\"> 0.770484</td><td style=\"text-align: right;\">0.495659</td><td style=\"text-align: right;\">0.245677</td></tr>\n",
              "<tr><td>GBM_2_AutoML_20190324_043515                       </td><td style=\"text-align: right;\">              0.637888</td><td style=\"text-align: right;\"> 0.774643</td><td style=\"text-align: right;\">0.495814</td><td style=\"text-align: right;\">0.245832</td></tr>\n",
              "<tr><td>GBM_4_AutoML_20190324_043515                       </td><td style=\"text-align: right;\">              0.637888</td><td style=\"text-align: right;\"> 0.770856</td><td style=\"text-align: right;\">0.495689</td><td style=\"text-align: right;\">0.245708</td></tr>\n",
              "<tr><td>StackedEnsemble_AllModels_AutoML_20190324_043515   </td><td style=\"text-align: right;\">              0.638388</td><td style=\"text-align: right;\"> 0.76514 </td><td style=\"text-align: right;\">0.489056</td><td style=\"text-align: right;\">0.239176</td></tr>\n",
              "<tr><td>XRT_1_AutoML_20190324_043515                       </td><td style=\"text-align: right;\">              0.640641</td><td style=\"text-align: right;\"> 2.87056 </td><td style=\"text-align: right;\">0.510055</td><td style=\"text-align: right;\">0.260156</td></tr>\n",
              "<tr><td>GBM_1_AutoML_20190324_043515                       </td><td style=\"text-align: right;\">              0.6504  </td><td style=\"text-align: right;\"> 0.927946</td><td style=\"text-align: right;\">0.510414</td><td style=\"text-align: right;\">0.260522</td></tr>\n",
              "<tr><td>GLM_grid_1_AutoML_20190324_043515_model_1          </td><td style=\"text-align: right;\">              0.654154</td><td style=\"text-align: right;\"> 0.698732</td><td style=\"text-align: right;\">0.468426</td><td style=\"text-align: right;\">0.219423</td></tr>\n",
              "<tr><td>XGBoost_2_AutoML_20190324_043515                   </td><td style=\"text-align: right;\">              0.65966 </td><td style=\"text-align: right;\"> 0.748217</td><td style=\"text-align: right;\">0.512744</td><td style=\"text-align: right;\">0.262907</td></tr>\n",
              "<tr><td>XGBoost_1_AutoML_20190324_043515                   </td><td style=\"text-align: right;\">              0.662663</td><td style=\"text-align: right;\"> 0.747698</td><td style=\"text-align: right;\">0.501767</td><td style=\"text-align: right;\">0.25177 </td></tr>\n",
              "<tr><td>XGBoost_grid_1_AutoML_20190324_043515_model_4      </td><td style=\"text-align: right;\">              0.665415</td><td style=\"text-align: right;\"> 0.756544</td><td style=\"text-align: right;\">0.504611</td><td style=\"text-align: right;\">0.254632</td></tr>\n",
              "<tr><td>GBM_grid_1_AutoML_20190324_043515_model_1          </td><td style=\"text-align: right;\">              0.668418</td><td style=\"text-align: right;\"> 0.749999</td><td style=\"text-align: right;\">0.507143</td><td style=\"text-align: right;\">0.257194</td></tr>\n",
              "<tr><td>XGBoost_grid_1_AutoML_20190324_043515_model_1      </td><td style=\"text-align: right;\">              0.668919</td><td style=\"text-align: right;\"> 0.731131</td><td style=\"text-align: right;\">0.495277</td><td style=\"text-align: right;\">0.245299</td></tr>\n",
              "<tr><td>StackedEnsemble_BestOfFamily_AutoML_20190324_043515</td><td style=\"text-align: right;\">              0.669169</td><td style=\"text-align: right;\"> 0.751994</td><td style=\"text-align: right;\">0.482112</td><td style=\"text-align: right;\">0.232432</td></tr>\n",
              "<tr><td>XGBoost_3_AutoML_20190324_043515                   </td><td style=\"text-align: right;\">              0.675676</td><td style=\"text-align: right;\"> 0.755102</td><td style=\"text-align: right;\">0.517451</td><td style=\"text-align: right;\">0.267755</td></tr>\n",
              "<tr><td>XGBoost_grid_1_AutoML_20190324_043515_model_3      </td><td style=\"text-align: right;\">              0.678679</td><td style=\"text-align: right;\"> 0.737221</td><td style=\"text-align: right;\">0.507949</td><td style=\"text-align: right;\">0.258012</td></tr>\n",
              "</tbody>\n",
              "</table>"
            ]
          },
          "metadata": {
            "tags": []
          }
        },
        {
          "output_type": "execute_result",
          "data": {
            "text/plain": [
              ""
            ]
          },
          "metadata": {
            "tags": []
          },
          "execution_count": 71
        }
      ]
    },
    {
      "metadata": {
        "id": "TzdXq_sotUle",
        "colab_type": "code",
        "colab": {
          "base_uri": "https://localhost:8080/",
          "height": 34
        },
        "outputId": "f2729732-fa33-4df1-98ac-92c0ef0d48ff"
      },
      "cell_type": "code",
      "source": [
        "predictions = aml.leader.predict(valid)"
      ],
      "execution_count": 72,
      "outputs": [
        {
          "output_type": "stream",
          "text": [
            "deeplearning prediction progress: |███████████████████████████████████████| 100%\n"
          ],
          "name": "stdout"
        }
      ]
    },
    {
      "metadata": {
        "id": "PR92GFyttgNi",
        "colab_type": "code",
        "colab": {
          "base_uri": "https://localhost:8080/",
          "height": 238
        },
        "outputId": "0758cc40-3403-454e-b197-3fe4eb7d2adc"
      },
      "cell_type": "code",
      "source": [
        "predictions"
      ],
      "execution_count": 73,
      "outputs": [
        {
          "output_type": "display_data",
          "data": {
            "text/html": [
              "<table>\n",
              "<thead>\n",
              "<tr><th>predict  </th><th style=\"text-align: right;\">   negative</th><th style=\"text-align: right;\">  neutral</th><th style=\"text-align: right;\">  positive</th></tr>\n",
              "</thead>\n",
              "<tbody>\n",
              "<tr><td>positive </td><td style=\"text-align: right;\">0.00575182 </td><td style=\"text-align: right;\"> 0.4516  </td><td style=\"text-align: right;\"> 0.542648 </td></tr>\n",
              "<tr><td>neutral  </td><td style=\"text-align: right;\">0.0592196  </td><td style=\"text-align: right;\"> 0.845148</td><td style=\"text-align: right;\"> 0.0956328</td></tr>\n",
              "<tr><td>neutral  </td><td style=\"text-align: right;\">0.003003   </td><td style=\"text-align: right;\"> 0.634395</td><td style=\"text-align: right;\"> 0.362602 </td></tr>\n",
              "<tr><td>neutral  </td><td style=\"text-align: right;\">0.0165071  </td><td style=\"text-align: right;\"> 0.808507</td><td style=\"text-align: right;\"> 0.174986 </td></tr>\n",
              "<tr><td>neutral  </td><td style=\"text-align: right;\">0.0309314  </td><td style=\"text-align: right;\"> 0.715505</td><td style=\"text-align: right;\"> 0.253564 </td></tr>\n",
              "<tr><td>neutral  </td><td style=\"text-align: right;\">0.00567935 </td><td style=\"text-align: right;\"> 0.653404</td><td style=\"text-align: right;\"> 0.340916 </td></tr>\n",
              "<tr><td>neutral  </td><td style=\"text-align: right;\">0.00878172 </td><td style=\"text-align: right;\"> 0.876626</td><td style=\"text-align: right;\"> 0.114593 </td></tr>\n",
              "<tr><td>neutral  </td><td style=\"text-align: right;\">0.00857502 </td><td style=\"text-align: right;\"> 0.812669</td><td style=\"text-align: right;\"> 0.178756 </td></tr>\n",
              "<tr><td>neutral  </td><td style=\"text-align: right;\">0.0650504  </td><td style=\"text-align: right;\"> 0.53822 </td><td style=\"text-align: right;\"> 0.39673  </td></tr>\n",
              "<tr><td>neutral  </td><td style=\"text-align: right;\">0.000842169</td><td style=\"text-align: right;\"> 0.824635</td><td style=\"text-align: right;\"> 0.174523 </td></tr>\n",
              "</tbody>\n",
              "</table>"
            ]
          },
          "metadata": {
            "tags": []
          }
        },
        {
          "output_type": "execute_result",
          "data": {
            "text/plain": [
              ""
            ]
          },
          "metadata": {
            "tags": []
          },
          "execution_count": 73
        }
      ]
    },
    {
      "metadata": {
        "id": "-61QorvcwkWC",
        "colab_type": "code",
        "colab": {
          "base_uri": "https://localhost:8080/",
          "height": 385
        },
        "outputId": "46ea3d75-fd3f-41cc-abbe-baa9922e93be"
      },
      "cell_type": "code",
      "source": [
        "metrics = aml.leader.model_performance(valid)\n",
        "metrics"
      ],
      "execution_count": 74,
      "outputs": [
        {
          "output_type": "stream",
          "text": [
            "\n",
            "ModelMetricsMultinomial: deeplearning\n",
            "** Reported on test data. **\n",
            "\n",
            "MSE: 0.18912272620316287\n",
            "RMSE: 0.43488242802298055\n",
            "LogLoss: 0.6416816868769595\n",
            "Mean Per-Class Error: 0.6185185185185186\n",
            "Confusion Matrix: Row labels: Actual class; Column labels: Predicted class\n",
            "\n"
          ],
          "name": "stdout"
        },
        {
          "output_type": "display_data",
          "data": {
            "text/html": [
              "<div style=\"overflow:auto\"><table style=\"width:50%\"><tr><td><b>negative</b></td>\n",
              "<td><b>neutral</b></td>\n",
              "<td><b>positive</b></td>\n",
              "<td><b>Error</b></td>\n",
              "<td><b>Rate</b></td></tr>\n",
              "<tr><td>0.0</td>\n",
              "<td>1.0</td>\n",
              "<td>0.0</td>\n",
              "<td>1.0</td>\n",
              "<td>1 / 1</td></tr>\n",
              "<tr><td>0.0</td>\n",
              "<td>17.0</td>\n",
              "<td>1.0</td>\n",
              "<td>0.0555556</td>\n",
              "<td>1 / 18</td></tr>\n",
              "<tr><td>0.0</td>\n",
              "<td>4.0</td>\n",
              "<td>1.0</td>\n",
              "<td>0.8</td>\n",
              "<td>4 / 5</td></tr>\n",
              "<tr><td>0.0</td>\n",
              "<td>22.0</td>\n",
              "<td>2.0</td>\n",
              "<td>0.25</td>\n",
              "<td>6 / 24</td></tr></table></div>"
            ],
            "text/plain": [
              "negative    neutral    positive    Error      Rate\n",
              "----------  ---------  ----------  ---------  ------\n",
              "0           1          0           1          1 / 1\n",
              "0           17         1           0.0555556  1 / 18\n",
              "0           4          1           0.8        4 / 5\n",
              "0           22         2           0.25       6 / 24"
            ]
          },
          "metadata": {
            "tags": []
          }
        },
        {
          "output_type": "stream",
          "text": [
            "Top-3 Hit Ratios: \n"
          ],
          "name": "stdout"
        },
        {
          "output_type": "display_data",
          "data": {
            "text/html": [
              "<div style=\"overflow:auto\"><table style=\"width:50%\"><tr><td><b>k</b></td>\n",
              "<td><b>hit_ratio</b></td></tr>\n",
              "<tr><td>1</td>\n",
              "<td>0.75</td></tr>\n",
              "<tr><td>2</td>\n",
              "<td>0.9583333</td></tr>\n",
              "<tr><td>3</td>\n",
              "<td>1.0</td></tr></table></div>"
            ],
            "text/plain": [
              "k    hit_ratio\n",
              "---  -----------\n",
              "1    0.75\n",
              "2    0.958333\n",
              "3    1"
            ]
          },
          "metadata": {
            "tags": []
          }
        },
        {
          "output_type": "execute_result",
          "data": {
            "text/plain": [
              ""
            ]
          },
          "metadata": {
            "tags": []
          },
          "execution_count": 74
        }
      ]
    },
    {
      "metadata": {
        "id": "tu6bAefBwl-5",
        "colab_type": "code",
        "colab": {
          "base_uri": "https://localhost:8080/",
          "height": 152
        },
        "outputId": "95c05292-bfb1-4be4-b017-7c7b08d1fd14"
      },
      "cell_type": "code",
      "source": [
        "metrics.confusion_matrix()"
      ],
      "execution_count": 75,
      "outputs": [
        {
          "output_type": "stream",
          "text": [
            "Confusion Matrix: Row labels: Actual class; Column labels: Predicted class\n",
            "\n"
          ],
          "name": "stdout"
        },
        {
          "output_type": "display_data",
          "data": {
            "text/html": [
              "<div style=\"overflow:auto\"><table style=\"width:50%\"><tr><td><b>negative</b></td>\n",
              "<td><b>neutral</b></td>\n",
              "<td><b>positive</b></td>\n",
              "<td><b>Error</b></td>\n",
              "<td><b>Rate</b></td></tr>\n",
              "<tr><td>0.0</td>\n",
              "<td>1.0</td>\n",
              "<td>0.0</td>\n",
              "<td>1.0</td>\n",
              "<td>1 / 1</td></tr>\n",
              "<tr><td>0.0</td>\n",
              "<td>17.0</td>\n",
              "<td>1.0</td>\n",
              "<td>0.0555556</td>\n",
              "<td>1 / 18</td></tr>\n",
              "<tr><td>0.0</td>\n",
              "<td>4.0</td>\n",
              "<td>1.0</td>\n",
              "<td>0.8</td>\n",
              "<td>4 / 5</td></tr>\n",
              "<tr><td>0.0</td>\n",
              "<td>22.0</td>\n",
              "<td>2.0</td>\n",
              "<td>0.25</td>\n",
              "<td>6 / 24</td></tr></table></div>"
            ],
            "text/plain": [
              "negative    neutral    positive    Error      Rate\n",
              "----------  ---------  ----------  ---------  ------\n",
              "0           1          0           1          1 / 1\n",
              "0           17         1           0.0555556  1 / 18\n",
              "0           4          1           0.8        4 / 5\n",
              "0           22         2           0.25       6 / 24"
            ]
          },
          "metadata": {
            "tags": []
          }
        },
        {
          "output_type": "execute_result",
          "data": {
            "text/plain": [
              ""
            ]
          },
          "metadata": {
            "tags": []
          },
          "execution_count": 75
        }
      ]
    }
  ]
}