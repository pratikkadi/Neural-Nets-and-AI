{
  "nbformat": 4,
  "nbformat_minor": 0,
  "metadata": {
    "colab": {
      "name": "H20AI_combined (1).ipynb",
      "version": "0.3.2",
      "provenance": [],
      "collapsed_sections": []
    },
    "kernelspec": {
      "name": "python3",
      "display_name": "Python 3"
    }
  },
  "cells": [
    {
      "metadata": {
        "id": "m2iYlfTZnGqG",
        "colab_type": "code",
        "outputId": "97093c8d-b522-4314-eff1-6f132b1d97e3",
        "colab": {
          "base_uri": "https://localhost:8080/",
          "height": 173
        }
      },
      "cell_type": "code",
      "source": [
        "pip install h2o"
      ],
      "execution_count": 0,
      "outputs": [
        {
          "output_type": "stream",
          "text": [
            "Requirement already satisfied: h2o in /usr/local/lib/python3.6/dist-packages (3.22.1.6)\n",
            "Requirement already satisfied: tabulate in /usr/local/lib/python3.6/dist-packages (from h2o) (0.8.3)\n",
            "Requirement already satisfied: requests in /usr/local/lib/python3.6/dist-packages (from h2o) (2.18.4)\n",
            "Requirement already satisfied: future in /usr/local/lib/python3.6/dist-packages (from h2o) (0.16.0)\n",
            "Requirement already satisfied: colorama>=0.3.8 in /usr/local/lib/python3.6/dist-packages (from h2o) (0.4.1)\n",
            "Requirement already satisfied: chardet<3.1.0,>=3.0.2 in /usr/local/lib/python3.6/dist-packages (from requests->h2o) (3.0.4)\n",
            "Requirement already satisfied: certifi>=2017.4.17 in /usr/local/lib/python3.6/dist-packages (from requests->h2o) (2019.3.9)\n",
            "Requirement already satisfied: idna<2.7,>=2.5 in /usr/local/lib/python3.6/dist-packages (from requests->h2o) (2.6)\n",
            "Requirement already satisfied: urllib3<1.23,>=1.21.1 in /usr/local/lib/python3.6/dist-packages (from requests->h2o) (1.22)\n"
          ],
          "name": "stdout"
        }
      ]
    },
    {
      "metadata": {
        "id": "P2i-2wABnYl0",
        "colab_type": "code",
        "outputId": "2292609b-7268-454a-d3fd-70478b9e2070",
        "colab": {
          "base_uri": "https://localhost:8080/",
          "height": 377
        }
      },
      "cell_type": "code",
      "source": [
        "import h2o\n",
        "import pandas as pd\n",
        "import numpy as np\n",
        "from sklearn.model_selection import train_test_split\n",
        "from h2o.automl import H2OAutoML\n",
        "\n",
        "h2o.init()"
      ],
      "execution_count": 0,
      "outputs": [
        {
          "output_type": "stream",
          "text": [
            "Checking whether there is an H2O instance running at http://localhost:54321. connected.\n"
          ],
          "name": "stdout"
        },
        {
          "output_type": "display_data",
          "data": {
            "text/html": [
              "<div style=\"overflow:auto\"><table style=\"width:50%\"><tr><td>H2O cluster uptime:</td>\n",
              "<td>4 mins 43 secs</td></tr>\n",
              "<tr><td>H2O cluster timezone:</td>\n",
              "<td>Etc/UTC</td></tr>\n",
              "<tr><td>H2O data parsing timezone:</td>\n",
              "<td>UTC</td></tr>\n",
              "<tr><td>H2O cluster version:</td>\n",
              "<td>3.22.1.6</td></tr>\n",
              "<tr><td>H2O cluster version age:</td>\n",
              "<td>10 days </td></tr>\n",
              "<tr><td>H2O cluster name:</td>\n",
              "<td>H2O_from_python_unknownUser_ence8p</td></tr>\n",
              "<tr><td>H2O cluster total nodes:</td>\n",
              "<td>1</td></tr>\n",
              "<tr><td>H2O cluster free memory:</td>\n",
              "<td>3 Gb</td></tr>\n",
              "<tr><td>H2O cluster total cores:</td>\n",
              "<td>2</td></tr>\n",
              "<tr><td>H2O cluster allowed cores:</td>\n",
              "<td>2</td></tr>\n",
              "<tr><td>H2O cluster status:</td>\n",
              "<td>locked, healthy</td></tr>\n",
              "<tr><td>H2O connection url:</td>\n",
              "<td>http://localhost:54321</td></tr>\n",
              "<tr><td>H2O connection proxy:</td>\n",
              "<td>None</td></tr>\n",
              "<tr><td>H2O internal security:</td>\n",
              "<td>False</td></tr>\n",
              "<tr><td>H2O API Extensions:</td>\n",
              "<td>Amazon S3, XGBoost, Algos, AutoML, Core V3, Core V4</td></tr>\n",
              "<tr><td>Python version:</td>\n",
              "<td>3.6.7 final</td></tr></table></div>"
            ],
            "text/plain": [
              "--------------------------  ---------------------------------------------------\n",
              "H2O cluster uptime:         4 mins 43 secs\n",
              "H2O cluster timezone:       Etc/UTC\n",
              "H2O data parsing timezone:  UTC\n",
              "H2O cluster version:        3.22.1.6\n",
              "H2O cluster version age:    10 days\n",
              "H2O cluster name:           H2O_from_python_unknownUser_ence8p\n",
              "H2O cluster total nodes:    1\n",
              "H2O cluster free memory:    3 Gb\n",
              "H2O cluster total cores:    2\n",
              "H2O cluster allowed cores:  2\n",
              "H2O cluster status:         locked, healthy\n",
              "H2O connection url:         http://localhost:54321\n",
              "H2O connection proxy:\n",
              "H2O internal security:      False\n",
              "H2O API Extensions:         Amazon S3, XGBoost, Algos, AutoML, Core V3, Core V4\n",
              "Python version:             3.6.7 final\n",
              "--------------------------  ---------------------------------------------------"
            ]
          },
          "metadata": {
            "tags": []
          }
        }
      ]
    },
    {
      "metadata": {
        "id": "GLBaJblrUc1F",
        "colab_type": "code",
        "colab": {}
      },
      "cell_type": "code",
      "source": [
        "from sklearn.metrics import accuracy_score"
      ],
      "execution_count": 0,
      "outputs": []
    },
    {
      "metadata": {
        "id": "AgZvjzLeoDNk",
        "colab_type": "code",
        "colab": {}
      },
      "cell_type": "code",
      "source": [
        "scores= pd.read_csv('combinedattr.csv')"
      ],
      "execution_count": 0,
      "outputs": []
    },
    {
      "metadata": {
        "id": "3lVLqbEboXdS",
        "colab_type": "code",
        "outputId": "b41c0db1-6918-4972-c289-36a5a61374d0",
        "colab": {
          "base_uri": "https://localhost:8080/",
          "height": 206
        }
      },
      "cell_type": "code",
      "source": [
        "scores.head(5)"
      ],
      "execution_count": 0,
      "outputs": [
        {
          "output_type": "execute_result",
          "data": {
            "text/html": [
              "<div>\n",
              "<style scoped>\n",
              "    .dataframe tbody tr th:only-of-type {\n",
              "        vertical-align: middle;\n",
              "    }\n",
              "\n",
              "    .dataframe tbody tr th {\n",
              "        vertical-align: top;\n",
              "    }\n",
              "\n",
              "    .dataframe thead th {\n",
              "        text-align: right;\n",
              "    }\n",
              "</style>\n",
              "<table border=\"1\" class=\"dataframe\">\n",
              "  <thead>\n",
              "    <tr style=\"text-align: right;\">\n",
              "      <th></th>\n",
              "      <th>AWSNegative</th>\n",
              "      <th>AWSNeutral</th>\n",
              "      <th>AWSPositive</th>\n",
              "      <th>GCPscore</th>\n",
              "      <th>IBMscore</th>\n",
              "      <th>Azurescore</th>\n",
              "      <th>realSentiment</th>\n",
              "    </tr>\n",
              "  </thead>\n",
              "  <tbody>\n",
              "    <tr>\n",
              "      <th>0</th>\n",
              "      <td>0.003904</td>\n",
              "      <td>0.201138</td>\n",
              "      <td>0.791934</td>\n",
              "      <td>0.0</td>\n",
              "      <td>0.987951</td>\n",
              "      <td>0.887542</td>\n",
              "      <td>positive</td>\n",
              "    </tr>\n",
              "    <tr>\n",
              "      <th>1</th>\n",
              "      <td>0.006084</td>\n",
              "      <td>0.974791</td>\n",
              "      <td>0.016305</td>\n",
              "      <td>0.1</td>\n",
              "      <td>0.655981</td>\n",
              "      <td>0.832603</td>\n",
              "      <td>neutral</td>\n",
              "    </tr>\n",
              "    <tr>\n",
              "      <th>2</th>\n",
              "      <td>0.008785</td>\n",
              "      <td>0.940597</td>\n",
              "      <td>0.048969</td>\n",
              "      <td>0.1</td>\n",
              "      <td>0.000000</td>\n",
              "      <td>0.500000</td>\n",
              "      <td>neutral</td>\n",
              "    </tr>\n",
              "    <tr>\n",
              "      <th>3</th>\n",
              "      <td>0.004265</td>\n",
              "      <td>0.859948</td>\n",
              "      <td>0.132651</td>\n",
              "      <td>0.1</td>\n",
              "      <td>0.580306</td>\n",
              "      <td>0.792194</td>\n",
              "      <td>positive</td>\n",
              "    </tr>\n",
              "    <tr>\n",
              "      <th>4</th>\n",
              "      <td>0.294444</td>\n",
              "      <td>0.688630</td>\n",
              "      <td>0.010235</td>\n",
              "      <td>0.0</td>\n",
              "      <td>0.683194</td>\n",
              "      <td>0.749581</td>\n",
              "      <td>neutral</td>\n",
              "    </tr>\n",
              "  </tbody>\n",
              "</table>\n",
              "</div>"
            ],
            "text/plain": [
              "   AWSNegative  AWSNeutral  AWSPositive  GCPscore  IBMscore  Azurescore  \\\n",
              "0     0.003904    0.201138     0.791934       0.0  0.987951    0.887542   \n",
              "1     0.006084    0.974791     0.016305       0.1  0.655981    0.832603   \n",
              "2     0.008785    0.940597     0.048969       0.1  0.000000    0.500000   \n",
              "3     0.004265    0.859948     0.132651       0.1  0.580306    0.792194   \n",
              "4     0.294444    0.688630     0.010235       0.0  0.683194    0.749581   \n",
              "\n",
              "  realSentiment  \n",
              "0      positive  \n",
              "1       neutral  \n",
              "2       neutral  \n",
              "3      positive  \n",
              "4       neutral  "
            ]
          },
          "metadata": {
            "tags": []
          },
          "execution_count": 4
        }
      ]
    },
    {
      "metadata": {
        "id": "C3QeHyaZofb3",
        "colab_type": "code",
        "colab": {}
      },
      "cell_type": "code",
      "source": [
        "coloumns=['AWSNegative','AWSNeutral','AWSPositive','GCPscore','IBMscore','Azurescore']"
      ],
      "execution_count": 0,
      "outputs": []
    },
    {
      "metadata": {
        "id": "HoGNxj5OpcpE",
        "colab_type": "code",
        "colab": {}
      },
      "cell_type": "code",
      "source": [
        "X=np.asarray(scores[coloumns])\n",
        "y=np.asarray(scores['realSentiment'])"
      ],
      "execution_count": 0,
      "outputs": []
    },
    {
      "metadata": {
        "id": "HHnwqEMIpoc_",
        "colab_type": "code",
        "colab": {}
      },
      "cell_type": "code",
      "source": [
        "x_train, x_test, y_train, y_test = train_test_split(X, y, test_size=0.2, random_state=11)"
      ],
      "execution_count": 0,
      "outputs": []
    },
    {
      "metadata": {
        "id": "NCF0ftO0p0DF",
        "colab_type": "code",
        "outputId": "7ed1f01b-d85d-4bd1-aa17-fd2381c0ede8",
        "colab": {
          "base_uri": "https://localhost:8080/",
          "height": 34
        }
      },
      "cell_type": "code",
      "source": [
        "x_train.shape"
      ],
      "execution_count": 0,
      "outputs": [
        {
          "output_type": "execute_result",
          "data": {
            "text/plain": [
              "(800, 6)"
            ]
          },
          "metadata": {
            "tags": []
          },
          "execution_count": 8
        }
      ]
    },
    {
      "metadata": {
        "id": "zdokGDEVqM80",
        "colab_type": "code",
        "colab": {}
      },
      "cell_type": "code",
      "source": [
        "aml = H2OAutoML(max_runtime_secs=1200)"
      ],
      "execution_count": 0,
      "outputs": []
    },
    {
      "metadata": {
        "id": "pSQluu6aqiRm",
        "colab_type": "code",
        "colab": {}
      },
      "cell_type": "code",
      "source": [
        "df = pd.DataFrame(x_train)\n",
        "df['realSentiment'] = y_train"
      ],
      "execution_count": 0,
      "outputs": []
    },
    {
      "metadata": {
        "id": "g3CvxhrFqnDh",
        "colab_type": "code",
        "outputId": "d35a3860-9efe-454e-8d9f-d419ccb38b70",
        "colab": {
          "base_uri": "https://localhost:8080/",
          "height": 34
        }
      },
      "cell_type": "code",
      "source": [
        "h2o_data = h2o.import_file('combinedattr.csv')\n",
        "\n",
        "predictors = ['AWSNegative','AWSNeutral','AWSPositive','GCPscore','IBMscore','Azurescore']\n",
        "response = \"realSentiment\"\n",
        "\n",
        "train, valid = h2o_data.split_frame(ratios = [.8], seed = 11)"
      ],
      "execution_count": 0,
      "outputs": [
        {
          "output_type": "stream",
          "text": [
            "Parse progress: |█████████████████████████████████████████████████████████| 100%\n"
          ],
          "name": "stdout"
        }
      ]
    },
    {
      "metadata": {
        "id": "FCfZGo3lq16j",
        "colab_type": "code",
        "outputId": "d670e681-b871-45f5-e024-7133335274d5",
        "colab": {
          "base_uri": "https://localhost:8080/",
          "height": 34
        }
      },
      "cell_type": "code",
      "source": [
        "aml.train(x=predictors, y=response, training_frame=h2o_data)"
      ],
      "execution_count": 0,
      "outputs": [
        {
          "output_type": "stream",
          "text": [
            "AutoML progress: |████████████████████████████████████████████████████████| 100%\n"
          ],
          "name": "stdout"
        }
      ]
    },
    {
      "metadata": {
        "id": "ZcAPOVsDq5yd",
        "colab_type": "code",
        "outputId": "1cddbbb4-1386-418c-855f-f66f67385e57",
        "colab": {
          "base_uri": "https://localhost:8080/",
          "height": 893
        }
      },
      "cell_type": "code",
      "source": [
        "lb = aml.leaderboard\n",
        "lb.head(rows=lb.nrows)"
      ],
      "execution_count": 0,
      "outputs": [
        {
          "output_type": "display_data",
          "data": {
            "text/html": [
              "<table>\n",
              "<thead>\n",
              "<tr><th>model_id                                           </th><th style=\"text-align: right;\">  mean_per_class_error</th><th style=\"text-align: right;\">  logloss</th><th style=\"text-align: right;\">    rmse</th><th style=\"text-align: right;\">     mse</th></tr>\n",
              "</thead>\n",
              "<tbody>\n",
              "<tr><td>XGBoost_2_AutoML_20190324_194924                   </td><td style=\"text-align: right;\">              0.65791 </td><td style=\"text-align: right;\"> 0.97154 </td><td style=\"text-align: right;\">0.613537</td><td style=\"text-align: right;\">0.376427</td></tr>\n",
              "<tr><td>GBM_grid_1_AutoML_20190324_194924_model_9          </td><td style=\"text-align: right;\">              0.657983</td><td style=\"text-align: right;\"> 1.0305  </td><td style=\"text-align: right;\">0.642125</td><td style=\"text-align: right;\">0.412324</td></tr>\n",
              "<tr><td>DeepLearning_grid_1_AutoML_20190324_194924_model_1 </td><td style=\"text-align: right;\">              0.659419</td><td style=\"text-align: right;\"> 1.0117  </td><td style=\"text-align: right;\">0.590546</td><td style=\"text-align: right;\">0.348744</td></tr>\n",
              "<tr><td>GBM_grid_1_AutoML_20190324_194924_model_10         </td><td style=\"text-align: right;\">              0.659578</td><td style=\"text-align: right;\"> 0.958509</td><td style=\"text-align: right;\">0.597805</td><td style=\"text-align: right;\">0.357371</td></tr>\n",
              "<tr><td>DeepLearning_grid_1_AutoML_20190324_194924_model_3 </td><td style=\"text-align: right;\">              0.659762</td><td style=\"text-align: right;\"> 0.953227</td><td style=\"text-align: right;\">0.585851</td><td style=\"text-align: right;\">0.343222</td></tr>\n",
              "<tr><td>XGBoost_3_AutoML_20190324_194924                   </td><td style=\"text-align: right;\">              0.659997</td><td style=\"text-align: right;\"> 0.964528</td><td style=\"text-align: right;\">0.611132</td><td style=\"text-align: right;\">0.373482</td></tr>\n",
              "<tr><td>DeepLearning_1_AutoML_20190324_194924              </td><td style=\"text-align: right;\">              0.660273</td><td style=\"text-align: right;\"> 1.09402 </td><td style=\"text-align: right;\">0.607062</td><td style=\"text-align: right;\">0.368524</td></tr>\n",
              "<tr><td>XGBoost_grid_1_AutoML_20190324_194924_model_7      </td><td style=\"text-align: right;\">              0.660739</td><td style=\"text-align: right;\"> 0.952525</td><td style=\"text-align: right;\">0.601098</td><td style=\"text-align: right;\">0.361319</td></tr>\n",
              "<tr><td>XGBoost_grid_1_AutoML_20190324_194924_model_3      </td><td style=\"text-align: right;\">              0.662456</td><td style=\"text-align: right;\"> 0.955588</td><td style=\"text-align: right;\">0.601441</td><td style=\"text-align: right;\">0.361731</td></tr>\n",
              "<tr><td>GBM_grid_1_AutoML_20190324_194924_model_1          </td><td style=\"text-align: right;\">              0.66337 </td><td style=\"text-align: right;\"> 1.03163 </td><td style=\"text-align: right;\">0.642439</td><td style=\"text-align: right;\">0.412728</td></tr>\n",
              "<tr><td>GBM_3_AutoML_20190324_194924                       </td><td style=\"text-align: right;\">              0.663816</td><td style=\"text-align: right;\"> 0.982588</td><td style=\"text-align: right;\">0.600926</td><td style=\"text-align: right;\">0.361112</td></tr>\n",
              "<tr><td>GBM_grid_1_AutoML_20190324_194924_model_8          </td><td style=\"text-align: right;\">              0.664624</td><td style=\"text-align: right;\"> 1.03231 </td><td style=\"text-align: right;\">0.642655</td><td style=\"text-align: right;\">0.413006</td></tr>\n",
              "<tr><td>XGBoost_grid_1_AutoML_20190324_194924_model_8      </td><td style=\"text-align: right;\">              0.664829</td><td style=\"text-align: right;\"> 0.984427</td><td style=\"text-align: right;\">0.609294</td><td style=\"text-align: right;\">0.371239</td></tr>\n",
              "<tr><td>GBM_grid_1_AutoML_20190324_194924_model_11         </td><td style=\"text-align: right;\">              0.666226</td><td style=\"text-align: right;\"> 0.987292</td><td style=\"text-align: right;\">0.612564</td><td style=\"text-align: right;\">0.375234</td></tr>\n",
              "<tr><td>XGBoost_grid_1_AutoML_20190324_194924_model_6      </td><td style=\"text-align: right;\">              0.666519</td><td style=\"text-align: right;\"> 0.954696</td><td style=\"text-align: right;\">0.607985</td><td style=\"text-align: right;\">0.369646</td></tr>\n",
              "<tr><td>GLM_grid_1_AutoML_20190324_194924_model_1          </td><td style=\"text-align: right;\">              0.666667</td><td style=\"text-align: right;\"> 0.924547</td><td style=\"text-align: right;\">0.58241 </td><td style=\"text-align: right;\">0.339201</td></tr>\n",
              "<tr><td>GBM_grid_1_AutoML_20190324_194924_model_7          </td><td style=\"text-align: right;\">              0.667285</td><td style=\"text-align: right;\"> 1.0898  </td><td style=\"text-align: right;\">0.663702</td><td style=\"text-align: right;\">0.4405  </td></tr>\n",
              "<tr><td>GBM_2_AutoML_20190324_194924                       </td><td style=\"text-align: right;\">              0.6673  </td><td style=\"text-align: right;\"> 0.983772</td><td style=\"text-align: right;\">0.601592</td><td style=\"text-align: right;\">0.361913</td></tr>\n",
              "<tr><td>GBM_grid_1_AutoML_20190324_194924_model_4          </td><td style=\"text-align: right;\">              0.667433</td><td style=\"text-align: right;\"> 1.03123 </td><td style=\"text-align: right;\">0.642549</td><td style=\"text-align: right;\">0.41287 </td></tr>\n",
              "<tr><td>XRT_1_AutoML_20190324_194924                       </td><td style=\"text-align: right;\">              0.667827</td><td style=\"text-align: right;\"> 3.72652 </td><td style=\"text-align: right;\">0.623323</td><td style=\"text-align: right;\">0.388532</td></tr>\n",
              "<tr><td>GBM_grid_1_AutoML_20190324_194924_model_12         </td><td style=\"text-align: right;\">              0.66799 </td><td style=\"text-align: right;\"> 0.94554 </td><td style=\"text-align: right;\">0.601872</td><td style=\"text-align: right;\">0.36225 </td></tr>\n",
              "<tr><td>XGBoost_1_AutoML_20190324_194924                   </td><td style=\"text-align: right;\">              0.668164</td><td style=\"text-align: right;\"> 0.957631</td><td style=\"text-align: right;\">0.602503</td><td style=\"text-align: right;\">0.36301 </td></tr>\n",
              "<tr><td>GBM_4_AutoML_20190324_194924                       </td><td style=\"text-align: right;\">              0.671514</td><td style=\"text-align: right;\"> 1.01734 </td><td style=\"text-align: right;\">0.609708</td><td style=\"text-align: right;\">0.371743</td></tr>\n",
              "<tr><td>GBM_grid_1_AutoML_20190324_194924_model_6          </td><td style=\"text-align: right;\">              0.671585</td><td style=\"text-align: right;\"> 1.03072 </td><td style=\"text-align: right;\">0.642301</td><td style=\"text-align: right;\">0.412551</td></tr>\n",
              "<tr><td>GBM_5_AutoML_20190324_194924                       </td><td style=\"text-align: right;\">              0.671709</td><td style=\"text-align: right;\"> 0.939675</td><td style=\"text-align: right;\">0.591033</td><td style=\"text-align: right;\">0.34932 </td></tr>\n",
              "<tr><td>GBM_grid_1_AutoML_20190324_194924_model_3          </td><td style=\"text-align: right;\">              0.673205</td><td style=\"text-align: right;\"> 0.968413</td><td style=\"text-align: right;\">0.60134 </td><td style=\"text-align: right;\">0.361609</td></tr>\n",
              "<tr><td>StackedEnsemble_AllModels_AutoML_20190324_194924   </td><td style=\"text-align: right;\">              0.673402</td><td style=\"text-align: right;\"> 0.941513</td><td style=\"text-align: right;\">0.588721</td><td style=\"text-align: right;\">0.346593</td></tr>\n",
              "<tr><td>DeepLearning_grid_1_AutoML_20190324_194924_model_5 </td><td style=\"text-align: right;\">              0.674107</td><td style=\"text-align: right;\"> 0.938842</td><td style=\"text-align: right;\">0.587239</td><td style=\"text-align: right;\">0.34485 </td></tr>\n",
              "<tr><td>StackedEnsemble_BestOfFamily_AutoML_20190324_194924</td><td style=\"text-align: right;\">              0.675205</td><td style=\"text-align: right;\"> 0.9416  </td><td style=\"text-align: right;\">0.587203</td><td style=\"text-align: right;\">0.344808</td></tr>\n",
              "<tr><td>GBM_grid_1_AutoML_20190324_194924_model_5          </td><td style=\"text-align: right;\">              0.675329</td><td style=\"text-align: right;\"> 0.949907</td><td style=\"text-align: right;\">0.602959</td><td style=\"text-align: right;\">0.363559</td></tr>\n",
              "<tr><td>XGBoost_grid_1_AutoML_20190324_194924_model_1      </td><td style=\"text-align: right;\">              0.67716 </td><td style=\"text-align: right;\"> 1.02558 </td><td style=\"text-align: right;\">0.616707</td><td style=\"text-align: right;\">0.380328</td></tr>\n",
              "<tr><td>XGBoost_grid_1_AutoML_20190324_194924_model_5      </td><td style=\"text-align: right;\">              0.67743 </td><td style=\"text-align: right;\"> 0.958242</td><td style=\"text-align: right;\">0.601949</td><td style=\"text-align: right;\">0.362343</td></tr>\n",
              "<tr><td>GBM_1_AutoML_20190324_194924                       </td><td style=\"text-align: right;\">              0.677833</td><td style=\"text-align: right;\"> 0.985789</td><td style=\"text-align: right;\">0.601351</td><td style=\"text-align: right;\">0.361623</td></tr>\n",
              "<tr><td>DRF_1_AutoML_20190324_194924                       </td><td style=\"text-align: right;\">              0.678785</td><td style=\"text-align: right;\"> 1.758   </td><td style=\"text-align: right;\">0.611801</td><td style=\"text-align: right;\">0.374301</td></tr>\n",
              "<tr><td>GBM_grid_1_AutoML_20190324_194924_model_2          </td><td style=\"text-align: right;\">              0.679878</td><td style=\"text-align: right;\"> 0.976512</td><td style=\"text-align: right;\">0.609414</td><td style=\"text-align: right;\">0.371386</td></tr>\n",
              "<tr><td>DeepLearning_grid_1_AutoML_20190324_194924_model_6 </td><td style=\"text-align: right;\">              0.68045 </td><td style=\"text-align: right;\"> 1.18939 </td><td style=\"text-align: right;\">0.638013</td><td style=\"text-align: right;\">0.407061</td></tr>\n",
              "<tr><td>DeepLearning_grid_1_AutoML_20190324_194924_model_2 </td><td style=\"text-align: right;\">              0.680899</td><td style=\"text-align: right;\"> 1.36917 </td><td style=\"text-align: right;\">0.612749</td><td style=\"text-align: right;\">0.375461</td></tr>\n",
              "<tr><td>DeepLearning_grid_1_AutoML_20190324_194924_model_4 </td><td style=\"text-align: right;\">              0.686343</td><td style=\"text-align: right;\"> 0.986464</td><td style=\"text-align: right;\">0.597302</td><td style=\"text-align: right;\">0.356769</td></tr>\n",
              "<tr><td>XGBoost_grid_1_AutoML_20190324_194924_model_2      </td><td style=\"text-align: right;\">              0.688469</td><td style=\"text-align: right;\"> 1.09861 </td><td style=\"text-align: right;\">0.666667</td><td style=\"text-align: right;\">0.444444</td></tr>\n",
              "<tr><td>XGBoost_grid_1_AutoML_20190324_194924_model_4      </td><td style=\"text-align: right;\">              0.70008 </td><td style=\"text-align: right;\"> 0.996997</td><td style=\"text-align: right;\">0.619835</td><td style=\"text-align: right;\">0.384195</td></tr>\n",
              "</tbody>\n",
              "</table>"
            ]
          },
          "metadata": {
            "tags": []
          }
        },
        {
          "output_type": "execute_result",
          "data": {
            "text/plain": [
              ""
            ]
          },
          "metadata": {
            "tags": []
          },
          "execution_count": 21
        }
      ]
    },
    {
      "metadata": {
        "id": "TzdXq_sotUle",
        "colab_type": "code",
        "outputId": "6c62495f-0940-43f0-b973-da4601bd00d4",
        "colab": {
          "base_uri": "https://localhost:8080/",
          "height": 34
        }
      },
      "cell_type": "code",
      "source": [
        "predictions = aml.leader.predict(valid)"
      ],
      "execution_count": 0,
      "outputs": [
        {
          "output_type": "stream",
          "text": [
            "xgboost prediction progress: |████████████████████████████████████████████| 100%\n"
          ],
          "name": "stdout"
        }
      ]
    },
    {
      "metadata": {
        "id": "PR92GFyttgNi",
        "colab_type": "code",
        "outputId": "c9a4620c-9a82-4bf9-8eaa-d8a463ad5e03",
        "colab": {
          "base_uri": "https://localhost:8080/",
          "height": 253
        }
      },
      "cell_type": "code",
      "source": [
        "predictions"
      ],
      "execution_count": 0,
      "outputs": [
        {
          "output_type": "display_data",
          "data": {
            "text/html": [
              "<table>\n",
              "<thead>\n",
              "<tr><th>predict  </th><th style=\"text-align: right;\">  negative</th><th style=\"text-align: right;\">  neutral</th><th style=\"text-align: right;\">  positive</th></tr>\n",
              "</thead>\n",
              "<tbody>\n",
              "<tr><td>positive </td><td style=\"text-align: right;\">  0.142989</td><td style=\"text-align: right;\"> 0.273624</td><td style=\"text-align: right;\">  0.583387</td></tr>\n",
              "<tr><td>positive </td><td style=\"text-align: right;\">  0.158822</td><td style=\"text-align: right;\"> 0.413426</td><td style=\"text-align: right;\">  0.427752</td></tr>\n",
              "<tr><td>neutral  </td><td style=\"text-align: right;\">  0.238819</td><td style=\"text-align: right;\"> 0.385295</td><td style=\"text-align: right;\">  0.375886</td></tr>\n",
              "<tr><td>positive </td><td style=\"text-align: right;\">  0.232094</td><td style=\"text-align: right;\"> 0.325169</td><td style=\"text-align: right;\">  0.442737</td></tr>\n",
              "<tr><td>positive </td><td style=\"text-align: right;\">  0.21895 </td><td style=\"text-align: right;\"> 0.366255</td><td style=\"text-align: right;\">  0.414795</td></tr>\n",
              "<tr><td>positive </td><td style=\"text-align: right;\">  0.174638</td><td style=\"text-align: right;\"> 0.401054</td><td style=\"text-align: right;\">  0.424308</td></tr>\n",
              "<tr><td>positive </td><td style=\"text-align: right;\">  0.18928 </td><td style=\"text-align: right;\"> 0.37848 </td><td style=\"text-align: right;\">  0.432241</td></tr>\n",
              "<tr><td>neutral  </td><td style=\"text-align: right;\">  0.186014</td><td style=\"text-align: right;\"> 0.417135</td><td style=\"text-align: right;\">  0.396851</td></tr>\n",
              "<tr><td>positive </td><td style=\"text-align: right;\">  0.218755</td><td style=\"text-align: right;\"> 0.379409</td><td style=\"text-align: right;\">  0.401837</td></tr>\n",
              "<tr><td>positive </td><td style=\"text-align: right;\">  0.175929</td><td style=\"text-align: right;\"> 0.343635</td><td style=\"text-align: right;\">  0.480436</td></tr>\n",
              "</tbody>\n",
              "</table>"
            ]
          },
          "metadata": {
            "tags": []
          }
        },
        {
          "output_type": "execute_result",
          "data": {
            "text/plain": [
              ""
            ]
          },
          "metadata": {
            "tags": []
          },
          "execution_count": 23
        }
      ]
    },
    {
      "metadata": {
        "id": "-61QorvcwkWC",
        "colab_type": "code",
        "outputId": "73ea6c5e-6eeb-46d0-c21e-48d1c0b362c4",
        "colab": {
          "base_uri": "https://localhost:8080/",
          "height": 403
        }
      },
      "cell_type": "code",
      "source": [
        "metrics = aml.leader.model_performance(valid)\n",
        "metrics"
      ],
      "execution_count": 0,
      "outputs": [
        {
          "output_type": "stream",
          "text": [
            "\n",
            "ModelMetricsMultinomial: xgboost\n",
            "** Reported on test data. **\n",
            "\n",
            "MSE: 0.3161515718198259\n",
            "RMSE: 0.562273573823122\n",
            "LogLoss: 0.8368870572697146\n",
            "Mean Per-Class Error: 0.4984823068935218\n",
            "Confusion Matrix: Row labels: Actual class; Column labels: Predicted class\n",
            "\n"
          ],
          "name": "stdout"
        },
        {
          "output_type": "display_data",
          "data": {
            "text/html": [
              "<div style=\"overflow:auto\"><table style=\"width:50%\"><tr><td><b>negative</b></td>\n",
              "<td><b>neutral</b></td>\n",
              "<td><b>positive</b></td>\n",
              "<td><b>Error</b></td>\n",
              "<td><b>Rate</b></td></tr>\n",
              "<tr><td>0.0</td>\n",
              "<td>9.0</td>\n",
              "<td>14.0</td>\n",
              "<td>1.0</td>\n",
              "<td>23 / 23</td></tr>\n",
              "<tr><td>0.0</td>\n",
              "<td>43.0</td>\n",
              "<td>35.0</td>\n",
              "<td>0.4487179</td>\n",
              "<td>35 / 78</td></tr>\n",
              "<tr><td>0.0</td>\n",
              "<td>5.0</td>\n",
              "<td>102.0</td>\n",
              "<td>0.0467290</td>\n",
              "<td>5 / 107</td></tr>\n",
              "<tr><td>0.0</td>\n",
              "<td>57.0</td>\n",
              "<td>151.0</td>\n",
              "<td>0.3028846</td>\n",
              "<td>63 / 208</td></tr></table></div>"
            ],
            "text/plain": [
              "negative    neutral    positive    Error     Rate\n",
              "----------  ---------  ----------  --------  --------\n",
              "0           9          14          1         23 / 23\n",
              "0           43         35          0.448718  35 / 78\n",
              "0           5          102         0.046729  5 / 107\n",
              "0           57         151         0.302885  63 / 208"
            ]
          },
          "metadata": {
            "tags": []
          }
        },
        {
          "output_type": "stream",
          "text": [
            "Top-3 Hit Ratios: \n"
          ],
          "name": "stdout"
        },
        {
          "output_type": "display_data",
          "data": {
            "text/html": [
              "<div style=\"overflow:auto\"><table style=\"width:50%\"><tr><td><b>k</b></td>\n",
              "<td><b>hit_ratio</b></td></tr>\n",
              "<tr><td>1</td>\n",
              "<td>0.6971154</td></tr>\n",
              "<tr><td>2</td>\n",
              "<td>0.8990384</td></tr>\n",
              "<tr><td>3</td>\n",
              "<td>1.0</td></tr></table></div>"
            ],
            "text/plain": [
              "k    hit_ratio\n",
              "---  -----------\n",
              "1    0.697115\n",
              "2    0.899038\n",
              "3    1"
            ]
          },
          "metadata": {
            "tags": []
          }
        },
        {
          "output_type": "execute_result",
          "data": {
            "text/plain": [
              ""
            ]
          },
          "metadata": {
            "tags": []
          },
          "execution_count": 24
        }
      ]
    },
    {
      "metadata": {
        "id": "tu6bAefBwl-5",
        "colab_type": "code",
        "outputId": "c15cdeb5-009f-486c-8501-6c4942054fd8",
        "colab": {
          "base_uri": "https://localhost:8080/",
          "height": 160
        }
      },
      "cell_type": "code",
      "source": [
        "metrics.confusion_matrix()"
      ],
      "execution_count": 0,
      "outputs": [
        {
          "output_type": "stream",
          "text": [
            "Confusion Matrix: Row labels: Actual class; Column labels: Predicted class\n",
            "\n"
          ],
          "name": "stdout"
        },
        {
          "output_type": "display_data",
          "data": {
            "text/html": [
              "<div style=\"overflow:auto\"><table style=\"width:50%\"><tr><td><b>negative</b></td>\n",
              "<td><b>neutral</b></td>\n",
              "<td><b>positive</b></td>\n",
              "<td><b>Error</b></td>\n",
              "<td><b>Rate</b></td></tr>\n",
              "<tr><td>0.0</td>\n",
              "<td>9.0</td>\n",
              "<td>14.0</td>\n",
              "<td>1.0</td>\n",
              "<td>23 / 23</td></tr>\n",
              "<tr><td>0.0</td>\n",
              "<td>43.0</td>\n",
              "<td>35.0</td>\n",
              "<td>0.4487179</td>\n",
              "<td>35 / 78</td></tr>\n",
              "<tr><td>0.0</td>\n",
              "<td>5.0</td>\n",
              "<td>102.0</td>\n",
              "<td>0.0467290</td>\n",
              "<td>5 / 107</td></tr>\n",
              "<tr><td>0.0</td>\n",
              "<td>57.0</td>\n",
              "<td>151.0</td>\n",
              "<td>0.3028846</td>\n",
              "<td>63 / 208</td></tr></table></div>"
            ],
            "text/plain": [
              "negative    neutral    positive    Error     Rate\n",
              "----------  ---------  ----------  --------  --------\n",
              "0           9          14          1         23 / 23\n",
              "0           43         35          0.448718  35 / 78\n",
              "0           5          102         0.046729  5 / 107\n",
              "0           57         151         0.302885  63 / 208"
            ]
          },
          "metadata": {
            "tags": []
          }
        },
        {
          "output_type": "execute_result",
          "data": {
            "text/plain": [
              ""
            ]
          },
          "metadata": {
            "tags": []
          },
          "execution_count": 25
        }
      ]
    }
  ]
}