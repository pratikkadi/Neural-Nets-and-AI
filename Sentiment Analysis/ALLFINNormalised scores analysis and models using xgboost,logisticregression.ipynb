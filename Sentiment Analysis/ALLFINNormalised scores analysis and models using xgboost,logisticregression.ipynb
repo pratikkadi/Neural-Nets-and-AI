{
 "cells": [
  {
   "cell_type": "code",
   "execution_count": 1,
   "metadata": {},
   "outputs": [],
   "source": [
    "import pandas as pd\n",
    "import seaborn as sns\n",
    "import matplotlib.pyplot as plt\n",
    "import numpy as np\n",
    "from pandas import Series\n",
    "%matplotlib inline"
   ]
  },
  {
   "cell_type": "code",
   "execution_count": 3,
   "metadata": {},
   "outputs": [
    {
     "data": {
      "text/html": [
       "<div>\n",
       "<style scoped>\n",
       "    .dataframe tbody tr th:only-of-type {\n",
       "        vertical-align: middle;\n",
       "    }\n",
       "\n",
       "    .dataframe tbody tr th {\n",
       "        vertical-align: top;\n",
       "    }\n",
       "\n",
       "    .dataframe thead th {\n",
       "        text-align: right;\n",
       "    }\n",
       "</style>\n",
       "<table border=\"1\" class=\"dataframe\">\n",
       "  <thead>\n",
       "    <tr style=\"text-align: right;\">\n",
       "      <th></th>\n",
       "      <th>Unnamed: 0</th>\n",
       "      <th>AWSMixed</th>\n",
       "      <th>AWSNegative</th>\n",
       "      <th>AWSNeutral</th>\n",
       "      <th>AWSPositive</th>\n",
       "      <th>GCPmagnitude</th>\n",
       "      <th>GCPscore</th>\n",
       "      <th>IBMscore</th>\n",
       "      <th>Azurescore</th>\n",
       "      <th>realSentiment</th>\n",
       "    </tr>\n",
       "  </thead>\n",
       "  <tbody>\n",
       "    <tr>\n",
       "      <th>0</th>\n",
       "      <td>1</td>\n",
       "      <td>-0.063659</td>\n",
       "      <td>-0.094527</td>\n",
       "      <td>-0.388041</td>\n",
       "      <td>0.520243</td>\n",
       "      <td>-0.148952</td>\n",
       "      <td>-0.11225</td>\n",
       "      <td>0.210059</td>\n",
       "      <td>0.250595</td>\n",
       "      <td>positive</td>\n",
       "    </tr>\n",
       "    <tr>\n",
       "      <th>1</th>\n",
       "      <td>2</td>\n",
       "      <td>-0.064006</td>\n",
       "      <td>-0.092341</td>\n",
       "      <td>0.386100</td>\n",
       "      <td>-0.256546</td>\n",
       "      <td>-0.065619</td>\n",
       "      <td>-0.04975</td>\n",
       "      <td>0.039393</td>\n",
       "      <td>0.191815</td>\n",
       "      <td>neutral</td>\n",
       "    </tr>\n",
       "    <tr>\n",
       "      <th>2</th>\n",
       "      <td>3</td>\n",
       "      <td>-0.065998</td>\n",
       "      <td>-0.089634</td>\n",
       "      <td>0.351884</td>\n",
       "      <td>-0.223833</td>\n",
       "      <td>-0.101333</td>\n",
       "      <td>-0.04975</td>\n",
       "      <td>-0.297846</td>\n",
       "      <td>-0.164039</td>\n",
       "      <td>neutral</td>\n",
       "    </tr>\n",
       "    <tr>\n",
       "      <th>3</th>\n",
       "      <td>4</td>\n",
       "      <td>-0.063469</td>\n",
       "      <td>-0.094165</td>\n",
       "      <td>0.271185</td>\n",
       "      <td>-0.140026</td>\n",
       "      <td>-0.113238</td>\n",
       "      <td>-0.04975</td>\n",
       "      <td>0.000489</td>\n",
       "      <td>0.148582</td>\n",
       "      <td>positive</td>\n",
       "    </tr>\n",
       "    <tr>\n",
       "      <th>4</th>\n",
       "      <td>5</td>\n",
       "      <td>-0.057415</td>\n",
       "      <td>0.196786</td>\n",
       "      <td>0.099759</td>\n",
       "      <td>-0.262626</td>\n",
       "      <td>-0.113238</td>\n",
       "      <td>-0.11225</td>\n",
       "      <td>0.053383</td>\n",
       "      <td>0.102990</td>\n",
       "      <td>neutral</td>\n",
       "    </tr>\n",
       "  </tbody>\n",
       "</table>\n",
       "</div>"
      ],
      "text/plain": [
       "   Unnamed: 0  AWSMixed  AWSNegative  AWSNeutral  AWSPositive  GCPmagnitude  \\\n",
       "0           1 -0.063659    -0.094527   -0.388041     0.520243     -0.148952   \n",
       "1           2 -0.064006    -0.092341    0.386100    -0.256546     -0.065619   \n",
       "2           3 -0.065998    -0.089634    0.351884    -0.223833     -0.101333   \n",
       "3           4 -0.063469    -0.094165    0.271185    -0.140026     -0.113238   \n",
       "4           5 -0.057415     0.196786    0.099759    -0.262626     -0.113238   \n",
       "\n",
       "   GCPscore  IBMscore  Azurescore realSentiment  \n",
       "0  -0.11225  0.210059    0.250595      positive  \n",
       "1  -0.04975  0.039393    0.191815       neutral  \n",
       "2  -0.04975 -0.297846   -0.164039       neutral  \n",
       "3  -0.04975  0.000489    0.148582      positive  \n",
       "4  -0.11225  0.053383    0.102990       neutral  "
      ]
     },
     "execution_count": 3,
     "metadata": {},
     "output_type": "execute_result"
    }
   ],
   "source": [
    "combined_continuous_norm = pd.read_csv('combined_continuous_normalall.csv')\n",
    "combined_pairplot = pd.read_csv('combined_pairplotall.csv')\n",
    "combined_continuous_norm['realSentiment'] = combined_pairplot['realSentiment']\n",
    "combined_continuous_norm.head()"
   ]
  },
  {
   "cell_type": "code",
   "execution_count": 4,
   "metadata": {
    "scrolled": true
   },
   "outputs": [
    {
     "data": {
      "text/html": [
       "<div>\n",
       "<style scoped>\n",
       "    .dataframe tbody tr th:only-of-type {\n",
       "        vertical-align: middle;\n",
       "    }\n",
       "\n",
       "    .dataframe tbody tr th {\n",
       "        vertical-align: top;\n",
       "    }\n",
       "\n",
       "    .dataframe thead th {\n",
       "        text-align: right;\n",
       "    }\n",
       "</style>\n",
       "<table border=\"1\" class=\"dataframe\">\n",
       "  <thead>\n",
       "    <tr style=\"text-align: right;\">\n",
       "      <th></th>\n",
       "      <th>AWSMixed</th>\n",
       "      <th>AWSNegative</th>\n",
       "      <th>AWSNeutral</th>\n",
       "      <th>AWSPositive</th>\n",
       "      <th>GCPmagnitude</th>\n",
       "      <th>GCPscore</th>\n",
       "      <th>IBMscore</th>\n",
       "      <th>Azurescore</th>\n",
       "      <th>realSentiment</th>\n",
       "    </tr>\n",
       "  </thead>\n",
       "  <tbody>\n",
       "    <tr>\n",
       "      <th>0</th>\n",
       "      <td>-0.063659</td>\n",
       "      <td>-0.094527</td>\n",
       "      <td>-0.388041</td>\n",
       "      <td>0.520243</td>\n",
       "      <td>-0.148952</td>\n",
       "      <td>-0.11225</td>\n",
       "      <td>0.210059</td>\n",
       "      <td>0.250595</td>\n",
       "      <td>positive</td>\n",
       "    </tr>\n",
       "    <tr>\n",
       "      <th>1</th>\n",
       "      <td>-0.064006</td>\n",
       "      <td>-0.092341</td>\n",
       "      <td>0.386100</td>\n",
       "      <td>-0.256546</td>\n",
       "      <td>-0.065619</td>\n",
       "      <td>-0.04975</td>\n",
       "      <td>0.039393</td>\n",
       "      <td>0.191815</td>\n",
       "      <td>neutral</td>\n",
       "    </tr>\n",
       "    <tr>\n",
       "      <th>2</th>\n",
       "      <td>-0.065998</td>\n",
       "      <td>-0.089634</td>\n",
       "      <td>0.351884</td>\n",
       "      <td>-0.223833</td>\n",
       "      <td>-0.101333</td>\n",
       "      <td>-0.04975</td>\n",
       "      <td>-0.297846</td>\n",
       "      <td>-0.164039</td>\n",
       "      <td>neutral</td>\n",
       "    </tr>\n",
       "    <tr>\n",
       "      <th>3</th>\n",
       "      <td>-0.063469</td>\n",
       "      <td>-0.094165</td>\n",
       "      <td>0.271185</td>\n",
       "      <td>-0.140026</td>\n",
       "      <td>-0.113238</td>\n",
       "      <td>-0.04975</td>\n",
       "      <td>0.000489</td>\n",
       "      <td>0.148582</td>\n",
       "      <td>positive</td>\n",
       "    </tr>\n",
       "    <tr>\n",
       "      <th>4</th>\n",
       "      <td>-0.057415</td>\n",
       "      <td>0.196786</td>\n",
       "      <td>0.099759</td>\n",
       "      <td>-0.262626</td>\n",
       "      <td>-0.113238</td>\n",
       "      <td>-0.11225</td>\n",
       "      <td>0.053383</td>\n",
       "      <td>0.102990</td>\n",
       "      <td>neutral</td>\n",
       "    </tr>\n",
       "  </tbody>\n",
       "</table>\n",
       "</div>"
      ],
      "text/plain": [
       "   AWSMixed  AWSNegative  AWSNeutral  AWSPositive  GCPmagnitude  GCPscore  \\\n",
       "0 -0.063659    -0.094527   -0.388041     0.520243     -0.148952  -0.11225   \n",
       "1 -0.064006    -0.092341    0.386100    -0.256546     -0.065619  -0.04975   \n",
       "2 -0.065998    -0.089634    0.351884    -0.223833     -0.101333  -0.04975   \n",
       "3 -0.063469    -0.094165    0.271185    -0.140026     -0.113238  -0.04975   \n",
       "4 -0.057415     0.196786    0.099759    -0.262626     -0.113238  -0.11225   \n",
       "\n",
       "   IBMscore  Azurescore realSentiment  \n",
       "0  0.210059    0.250595      positive  \n",
       "1  0.039393    0.191815       neutral  \n",
       "2 -0.297846   -0.164039       neutral  \n",
       "3  0.000489    0.148582      positive  \n",
       "4  0.053383    0.102990       neutral  "
      ]
     },
     "execution_count": 4,
     "metadata": {},
     "output_type": "execute_result"
    }
   ],
   "source": [
    "combined_continuous_norm=combined_continuous_norm.drop(['Unnamed: 0'], axis=1)\n",
    "combined_continuous_norm.head()"
   ]
  },
  {
   "cell_type": "code",
   "execution_count": 5,
   "metadata": {
    "scrolled": true
   },
   "outputs": [
    {
     "data": {
      "text/html": [
       "<div>\n",
       "<style scoped>\n",
       "    .dataframe tbody tr th:only-of-type {\n",
       "        vertical-align: middle;\n",
       "    }\n",
       "\n",
       "    .dataframe tbody tr th {\n",
       "        vertical-align: top;\n",
       "    }\n",
       "\n",
       "    .dataframe thead th {\n",
       "        text-align: right;\n",
       "    }\n",
       "</style>\n",
       "<table border=\"1\" class=\"dataframe\">\n",
       "  <thead>\n",
       "    <tr style=\"text-align: right;\">\n",
       "      <th></th>\n",
       "      <th>AWSMixed</th>\n",
       "      <th>AWSNegative</th>\n",
       "      <th>AWSNeutral</th>\n",
       "      <th>AWSPositive</th>\n",
       "      <th>GCPmagnitude</th>\n",
       "      <th>GCPscore</th>\n",
       "      <th>IBMscore</th>\n",
       "      <th>Azurescore</th>\n",
       "    </tr>\n",
       "  </thead>\n",
       "  <tbody>\n",
       "    <tr>\n",
       "      <th>count</th>\n",
       "      <td>1.000000e+03</td>\n",
       "      <td>1.000000e+03</td>\n",
       "      <td>1.000000e+03</td>\n",
       "      <td>1.000000e+03</td>\n",
       "      <td>1.000000e+03</td>\n",
       "      <td>1.000000e+03</td>\n",
       "      <td>1.000000e+03</td>\n",
       "      <td>1.000000e+03</td>\n",
       "    </tr>\n",
       "    <tr>\n",
       "      <th>mean</th>\n",
       "      <td>1.035283e-17</td>\n",
       "      <td>-1.038059e-17</td>\n",
       "      <td>-2.334244e-17</td>\n",
       "      <td>-1.893451e-17</td>\n",
       "      <td>-9.159340e-18</td>\n",
       "      <td>-1.154632e-17</td>\n",
       "      <td>4.224954e-16</td>\n",
       "      <td>-3.747003e-17</td>\n",
       "    </tr>\n",
       "    <tr>\n",
       "      <th>std</th>\n",
       "      <td>1.124273e-01</td>\n",
       "      <td>1.822356e-01</td>\n",
       "      <td>3.089389e-01</td>\n",
       "      <td>2.935154e-01</td>\n",
       "      <td>1.270298e-01</td>\n",
       "      <td>1.486928e-01</td>\n",
       "      <td>2.139603e-01</td>\n",
       "      <td>2.393366e-01</td>\n",
       "    </tr>\n",
       "    <tr>\n",
       "      <th>min</th>\n",
       "      <td>-6.877544e-02</td>\n",
       "      <td>-9.844110e-02</td>\n",
       "      <td>-5.889767e-01</td>\n",
       "      <td>-2.728663e-01</td>\n",
       "      <td>-1.489524e-01</td>\n",
       "      <td>-5.497500e-01</td>\n",
       "      <td>-7.844285e-01</td>\n",
       "      <td>-6.324581e-01</td>\n",
       "    </tr>\n",
       "    <tr>\n",
       "      <th>25%</th>\n",
       "      <td>-6.237028e-02</td>\n",
       "      <td>-9.604432e-02</td>\n",
       "      <td>-2.757634e-01</td>\n",
       "      <td>-2.402722e-01</td>\n",
       "      <td>-8.942858e-02</td>\n",
       "      <td>-1.122500e-01</td>\n",
       "      <td>-4.929083e-02</td>\n",
       "      <td>-1.640394e-01</td>\n",
       "    </tr>\n",
       "    <tr>\n",
       "      <th>50%</th>\n",
       "      <td>-4.416069e-02</td>\n",
       "      <td>-8.218817e-02</td>\n",
       "      <td>6.279459e-02</td>\n",
       "      <td>-1.244829e-01</td>\n",
       "      <td>-2.990476e-02</td>\n",
       "      <td>-4.975000e-02</td>\n",
       "      <td>7.148018e-02</td>\n",
       "      <td>-1.640394e-01</td>\n",
       "    </tr>\n",
       "    <tr>\n",
       "      <th>75%</th>\n",
       "      <td>1.214715e-02</td>\n",
       "      <td>-5.895371e-03</td>\n",
       "      <td>2.814085e-01</td>\n",
       "      <td>1.712414e-01</td>\n",
       "      <td>6.533333e-02</td>\n",
       "      <td>7.525001e-02</td>\n",
       "      <td>1.427119e-01</td>\n",
       "      <td>2.361176e-01</td>\n",
       "    </tr>\n",
       "    <tr>\n",
       "      <th>max</th>\n",
       "      <td>9.312246e-01</td>\n",
       "      <td>9.015589e-01</td>\n",
       "      <td>4.110233e-01</td>\n",
       "      <td>7.271337e-01</td>\n",
       "      <td>8.510476e-01</td>\n",
       "      <td>4.502500e-01</td>\n",
       "      <td>2.155715e-01</td>\n",
       "      <td>3.675419e-01</td>\n",
       "    </tr>\n",
       "  </tbody>\n",
       "</table>\n",
       "</div>"
      ],
      "text/plain": [
       "           AWSMixed   AWSNegative    AWSNeutral   AWSPositive  GCPmagnitude  \\\n",
       "count  1.000000e+03  1.000000e+03  1.000000e+03  1.000000e+03  1.000000e+03   \n",
       "mean   1.035283e-17 -1.038059e-17 -2.334244e-17 -1.893451e-17 -9.159340e-18   \n",
       "std    1.124273e-01  1.822356e-01  3.089389e-01  2.935154e-01  1.270298e-01   \n",
       "min   -6.877544e-02 -9.844110e-02 -5.889767e-01 -2.728663e-01 -1.489524e-01   \n",
       "25%   -6.237028e-02 -9.604432e-02 -2.757634e-01 -2.402722e-01 -8.942858e-02   \n",
       "50%   -4.416069e-02 -8.218817e-02  6.279459e-02 -1.244829e-01 -2.990476e-02   \n",
       "75%    1.214715e-02 -5.895371e-03  2.814085e-01  1.712414e-01  6.533333e-02   \n",
       "max    9.312246e-01  9.015589e-01  4.110233e-01  7.271337e-01  8.510476e-01   \n",
       "\n",
       "           GCPscore      IBMscore    Azurescore  \n",
       "count  1.000000e+03  1.000000e+03  1.000000e+03  \n",
       "mean  -1.154632e-17  4.224954e-16 -3.747003e-17  \n",
       "std    1.486928e-01  2.139603e-01  2.393366e-01  \n",
       "min   -5.497500e-01 -7.844285e-01 -6.324581e-01  \n",
       "25%   -1.122500e-01 -4.929083e-02 -1.640394e-01  \n",
       "50%   -4.975000e-02  7.148018e-02 -1.640394e-01  \n",
       "75%    7.525001e-02  1.427119e-01  2.361176e-01  \n",
       "max    4.502500e-01  2.155715e-01  3.675419e-01  "
      ]
     },
     "execution_count": 5,
     "metadata": {},
     "output_type": "execute_result"
    }
   ],
   "source": [
    "combined_continuous_norm.describe()"
   ]
  },
  {
   "cell_type": "code",
   "execution_count": 6,
   "metadata": {},
   "outputs": [
    {
     "data": {
      "text/plain": [
       "<matplotlib.axes._subplots.AxesSubplot at 0x1f2d82beda0>"
      ]
     },
     "execution_count": 6,
     "metadata": {},
     "output_type": "execute_result"
    },
    {
     "data": {
      "image/png": "[encoded data removed]",
      "text/plain": [
       "<Figure size 1440x1440 with 2 Axes>"
      ]
     },
     "metadata": {
      "needs_background": "light"
     },
     "output_type": "display_data"
    }
   ],
   "source": [
    "corr = combined_continuous_norm.corr()\n",
    "\n",
    "mask = np.zeros_like(corr, dtype=np.bool)\n",
    "mask[np.triu_indices_from(mask)] = True\n",
    "\n",
    "# Set up the matplotlib figure\n",
    "f, ax = plt.subplots(figsize=(20, 20))\n",
    "\n",
    "# Generate a custom diverging colormap\n",
    "cmap = sns.diverging_palette(190, 10, as_cmap=True)\n",
    "\n",
    "# Draw the heatmap with the mask and correct aspect ratio\n",
    "sns.heatmap(corr, mask=mask, cmap=cmap, vmax=.3, center=0,\n",
    "            square=True, linewidths=.5, cbar_kws={\"shrink\": .5})"
   ]
  },
  {
   "cell_type": "code",
   "execution_count": 7,
   "metadata": {},
   "outputs": [
    {
     "name": "stdout",
     "output_type": "stream",
     "text": [
      "median AWSPositive -0.1244828622713415\n",
      "median AWSNegative -0.0821881693878838\n",
      "median GCPscore -0.04975000196509067\n",
      "median IBMscore 0.07148018402712844\n",
      "median Azurescore -0.1640394255262684\n"
     ]
    }
   ],
   "source": [
    "median_priceAWSPositive\t = combined_continuous_norm.loc[:,\"AWSPositive\"].median()\n",
    "print(\"median AWSPositive\" ,median_priceAWSPositive)\n",
    "median_priceAWSNegative = combined_continuous_norm.loc[:,\"AWSNegative\"].median()\n",
    "print(\"median AWSNegative\", median_priceAWSNegative)\n",
    "median_priceGCPscore = combined_continuous_norm.loc[:,\"GCPscore\"].median()\n",
    "print(\"median GCPscore\",median_priceGCPscore)\n",
    "median_priceIBMscore = combined_continuous_norm.loc[:,\"IBMscore\"].median()\n",
    "print(\"median IBMscore\", median_priceIBMscore)\n",
    "median_priceAzurescore = combined_continuous_norm.loc[:,\"Azurescore\"].median()\n",
    "print(\"median Azurescore\", median_priceAzurescore)\n",
    "\n"
   ]
  },
  {
   "cell_type": "markdown",
   "metadata": {},
   "source": [
    "Adding column to dataframe for holding categorical price value : pOSITIVE/NEGATIVE\n",
    "All values < median are POSITIVE and Values >= median are NEGATIVE\n",
    "(EXCEPT AWSNEGATIVE)"
   ]
  },
  {
   "cell_type": "code",
   "execution_count": 8,
   "metadata": {},
   "outputs": [
    {
     "data": {
      "text/html": [
       "<div>\n",
       "<style scoped>\n",
       "    .dataframe tbody tr th:only-of-type {\n",
       "        vertical-align: middle;\n",
       "    }\n",
       "\n",
       "    .dataframe tbody tr th {\n",
       "        vertical-align: top;\n",
       "    }\n",
       "\n",
       "    .dataframe thead th {\n",
       "        text-align: right;\n",
       "    }\n",
       "</style>\n",
       "<table border=\"1\" class=\"dataframe\">\n",
       "  <thead>\n",
       "    <tr style=\"text-align: right;\">\n",
       "      <th></th>\n",
       "      <th>AWSMixed</th>\n",
       "      <th>AWSNegative</th>\n",
       "      <th>AWSNeutral</th>\n",
       "      <th>AWSPositive</th>\n",
       "      <th>GCPmagnitude</th>\n",
       "      <th>GCPscore</th>\n",
       "      <th>IBMscore</th>\n",
       "      <th>Azurescore</th>\n",
       "      <th>realSentiment</th>\n",
       "      <th>AWSPositive_SENTIMENT</th>\n",
       "      <th>AWSNegative_SENTIMENT</th>\n",
       "      <th>GCPscore_SENTIMENT</th>\n",
       "      <th>IBMscore_SENTIMENT</th>\n",
       "      <th>Azurescore_SENTIMENT</th>\n",
       "    </tr>\n",
       "  </thead>\n",
       "  <tbody>\n",
       "    <tr>\n",
       "      <th>0</th>\n",
       "      <td>-0.063659</td>\n",
       "      <td>-0.094527</td>\n",
       "      <td>-0.388041</td>\n",
       "      <td>0.520243</td>\n",
       "      <td>-0.148952</td>\n",
       "      <td>-0.11225</td>\n",
       "      <td>0.210059</td>\n",
       "      <td>0.250595</td>\n",
       "      <td>positive</td>\n",
       "      <td>positive</td>\n",
       "      <td>positive</td>\n",
       "      <td>negative</td>\n",
       "      <td>positive</td>\n",
       "      <td>positive</td>\n",
       "    </tr>\n",
       "    <tr>\n",
       "      <th>1</th>\n",
       "      <td>-0.064006</td>\n",
       "      <td>-0.092341</td>\n",
       "      <td>0.386100</td>\n",
       "      <td>-0.256546</td>\n",
       "      <td>-0.065619</td>\n",
       "      <td>-0.04975</td>\n",
       "      <td>0.039393</td>\n",
       "      <td>0.191815</td>\n",
       "      <td>neutral</td>\n",
       "      <td>negative</td>\n",
       "      <td>positive</td>\n",
       "      <td>negative</td>\n",
       "      <td>negative</td>\n",
       "      <td>positive</td>\n",
       "    </tr>\n",
       "    <tr>\n",
       "      <th>2</th>\n",
       "      <td>-0.065998</td>\n",
       "      <td>-0.089634</td>\n",
       "      <td>0.351884</td>\n",
       "      <td>-0.223833</td>\n",
       "      <td>-0.101333</td>\n",
       "      <td>-0.04975</td>\n",
       "      <td>-0.297846</td>\n",
       "      <td>-0.164039</td>\n",
       "      <td>neutral</td>\n",
       "      <td>negative</td>\n",
       "      <td>positive</td>\n",
       "      <td>negative</td>\n",
       "      <td>negative</td>\n",
       "      <td>negative</td>\n",
       "    </tr>\n",
       "    <tr>\n",
       "      <th>3</th>\n",
       "      <td>-0.063469</td>\n",
       "      <td>-0.094165</td>\n",
       "      <td>0.271185</td>\n",
       "      <td>-0.140026</td>\n",
       "      <td>-0.113238</td>\n",
       "      <td>-0.04975</td>\n",
       "      <td>0.000489</td>\n",
       "      <td>0.148582</td>\n",
       "      <td>positive</td>\n",
       "      <td>negative</td>\n",
       "      <td>positive</td>\n",
       "      <td>negative</td>\n",
       "      <td>negative</td>\n",
       "      <td>positive</td>\n",
       "    </tr>\n",
       "    <tr>\n",
       "      <th>4</th>\n",
       "      <td>-0.057415</td>\n",
       "      <td>0.196786</td>\n",
       "      <td>0.099759</td>\n",
       "      <td>-0.262626</td>\n",
       "      <td>-0.113238</td>\n",
       "      <td>-0.11225</td>\n",
       "      <td>0.053383</td>\n",
       "      <td>0.102990</td>\n",
       "      <td>neutral</td>\n",
       "      <td>negative</td>\n",
       "      <td>negative</td>\n",
       "      <td>negative</td>\n",
       "      <td>negative</td>\n",
       "      <td>positive</td>\n",
       "    </tr>\n",
       "  </tbody>\n",
       "</table>\n",
       "</div>"
      ],
      "text/plain": [
       "   AWSMixed  AWSNegative  AWSNeutral  AWSPositive  GCPmagnitude  GCPscore  \\\n",
       "0 -0.063659    -0.094527   -0.388041     0.520243     -0.148952  -0.11225   \n",
       "1 -0.064006    -0.092341    0.386100    -0.256546     -0.065619  -0.04975   \n",
       "2 -0.065998    -0.089634    0.351884    -0.223833     -0.101333  -0.04975   \n",
       "3 -0.063469    -0.094165    0.271185    -0.140026     -0.113238  -0.04975   \n",
       "4 -0.057415     0.196786    0.099759    -0.262626     -0.113238  -0.11225   \n",
       "\n",
       "   IBMscore  Azurescore realSentiment AWSPositive_SENTIMENT  \\\n",
       "0  0.210059    0.250595      positive              positive   \n",
       "1  0.039393    0.191815       neutral              negative   \n",
       "2 -0.297846   -0.164039       neutral              negative   \n",
       "3  0.000489    0.148582      positive              negative   \n",
       "4  0.053383    0.102990       neutral              negative   \n",
       "\n",
       "  AWSNegative_SENTIMENT GCPscore_SENTIMENT IBMscore_SENTIMENT  \\\n",
       "0              positive           negative           positive   \n",
       "1              positive           negative           negative   \n",
       "2              positive           negative           negative   \n",
       "3              positive           negative           negative   \n",
       "4              negative           negative           negative   \n",
       "\n",
       "  Azurescore_SENTIMENT  \n",
       "0             positive  \n",
       "1             positive  \n",
       "2             negative  \n",
       "3             positive  \n",
       "4             positive  "
      ]
     },
     "execution_count": 8,
     "metadata": {},
     "output_type": "execute_result"
    }
   ],
   "source": [
    "combined_continuous_norm['AWSPositive_SENTIMENT'] = combined_continuous_norm['AWSPositive'].apply(lambda x: 'positive' if x > median_priceAWSPositive else 'negative')\n",
    "combined_continuous_norm['AWSNegative_SENTIMENT'] = combined_continuous_norm['AWSNegative'].apply(lambda x: 'negative' if x > median_priceAWSNegative else 'positive')\n",
    "combined_continuous_norm['GCPscore_SENTIMENT'] = combined_continuous_norm['GCPscore'].apply(lambda x: 'positive' if x > median_priceGCPscore else 'negative')\n",
    "combined_continuous_norm['IBMscore_SENTIMENT'] = combined_continuous_norm['IBMscore'].apply(lambda x: 'positive' if x > median_priceIBMscore else 'negative')\n",
    "combined_continuous_norm['Azurescore_SENTIMENT'] = combined_continuous_norm['Azurescore'].apply(lambda x: 'positive' if x > median_priceAzurescore else 'negative')\n",
    "combined_continuous_norm.head()\n"
   ]
  },
  {
   "cell_type": "code",
   "execution_count": 9,
   "metadata": {},
   "outputs": [],
   "source": [
    "from sklearn.metrics import confusion_matrix\n"
   ]
  },
  {
   "cell_type": "code",
   "execution_count": 10,
   "metadata": {},
   "outputs": [],
   "source": [
    "# This utility function is from the sklearn docs: http://scikit-learn.org/stable/auto_examples/model_selection/plot_confusion_matrix.html\n",
    "def plot_confusion_matrix(cm, classes,\n",
    "                          title='Confusion matrix',\n",
    "                          cmap=plt.cm.Blues):\n",
    "    \"\"\"\n",
    "    This function prints and plots the confusion matrix.\n",
    "    Normalization can be applied by setting `normalize=True`.\n",
    "    \"\"\"\n",
    "\n",
    "    cm = cm.astype('float') / cm.sum(axis=1)[:, np.newaxis]\n",
    "\n",
    "    plt.imshow(cm, interpolation='nearest', cmap=cmap)\n",
    "    plt.title(title, fontsize=30)\n",
    "    plt.colorbar()\n",
    "    tick_marks = np.arange(len(classes))\n",
    "    plt.xticks(tick_marks, classes, rotation=45, fontsize=22)\n",
    "    plt.yticks(tick_marks, classes, fontsize=22)\n",
    "\n",
    "    fmt = '.2f'\n",
    "    thresh = cm.max() / 2.\n",
    "    for i, j in itertools.product(range(cm.shape[0]), range(cm.shape[1])):\n",
    "        plt.text(j, i, format(cm[i, j], fmt),\n",
    "                 horizontalalignment=\"center\",\n",
    "                 color=\"white\" if cm[i, j] > thresh else \"black\")\n",
    "\n",
    "    plt.ylabel('True label', fontsize=25)\n",
    "    plt.xlabel('Predicted label', fontsize=25)"
   ]
  },
  {
   "cell_type": "code",
   "execution_count": 11,
   "metadata": {},
   "outputs": [
    {
     "data": {
      "image/png": "[encoded data removed]",
      "text/plain": [
       "<Figure size 1728x1440 with 2 Axes>"
      ]
     },
     "metadata": {
      "needs_background": "light"
     },
     "output_type": "display_data"
    }
   ],
   "source": [
    "from sklearn.preprocessing import LabelBinarizer, LabelEncoder\n",
    "import itertools\n",
    "\n",
    "train_tags = combined_continuous_norm['realSentiment'][:128]\n",
    "encoder = LabelEncoder()\n",
    "encoder.fit(train_tags)\n",
    "\n",
    "text_labels = encoder.classes_ \n",
    "\n",
    "cnf_matrix = confusion_matrix(combined_continuous_norm['realSentiment'], combined_continuous_norm['AWSPositive_SENTIMENT'])\n",
    "plt.figure(figsize=(24,20))\n",
    "plot_confusion_matrix(cnf_matrix, classes=text_labels, title=\"AWS POSITIVE Confusion matrix\")\n",
    "plt.show()\n"
   ]
  },
  {
   "cell_type": "code",
   "execution_count": 12,
   "metadata": {},
   "outputs": [
    {
     "data": {
      "text/plain": [
       "0.325"
      ]
     },
     "execution_count": 12,
     "metadata": {},
     "output_type": "execute_result"
    }
   ],
   "source": [
    "from sklearn.metrics import accuracy_score\n",
    "accuracy_score(combined_continuous_norm['realSentiment'], combined_continuous_norm['AWSPositive_SENTIMENT'])\n"
   ]
  },
  {
   "cell_type": "code",
   "execution_count": 13,
   "metadata": {},
   "outputs": [
    {
     "data": {
      "image/png": "[encoded data removed]",
      "text/plain": [
       "<Figure size 1728x1440 with 2 Axes>"
      ]
     },
     "metadata": {
      "needs_background": "light"
     },
     "output_type": "display_data"
    }
   ],
   "source": [
    "cnf_matrix = confusion_matrix(combined_continuous_norm['realSentiment'], combined_continuous_norm['AWSNegative_SENTIMENT'])\n",
    "plt.figure(figsize=(24,20))\n",
    "plot_confusion_matrix(cnf_matrix, classes=text_labels, title=\"AWS Negative Confusion matrix\")\n",
    "plt.show()\n"
   ]
  },
  {
   "cell_type": "code",
   "execution_count": 14,
   "metadata": {},
   "outputs": [
    {
     "data": {
      "text/plain": [
       "0.32"
      ]
     },
     "execution_count": 14,
     "metadata": {},
     "output_type": "execute_result"
    }
   ],
   "source": [
    "accuracy_score(combined_continuous_norm['realSentiment'], combined_continuous_norm['AWSNegative_SENTIMENT'])\n"
   ]
  },
  {
   "cell_type": "code",
   "execution_count": 15,
   "metadata": {},
   "outputs": [
    {
     "data": {
      "image/png": "[encoded data removed]",
      "text/plain": [
       "<Figure size 1728x1440 with 2 Axes>"
      ]
     },
     "metadata": {
      "needs_background": "light"
     },
     "output_type": "display_data"
    }
   ],
   "source": [
    "cnf_matrix = confusion_matrix(combined_continuous_norm['realSentiment'], combined_continuous_norm['GCPscore_SENTIMENT'])\n",
    "plt.figure(figsize=(24,20))\n",
    "plot_confusion_matrix(cnf_matrix, classes=text_labels, title=\"GCPSCORE Confusion matrix\")\n",
    "plt.show()\n"
   ]
  },
  {
   "cell_type": "code",
   "execution_count": 16,
   "metadata": {},
   "outputs": [
    {
     "data": {
      "text/plain": [
       "0.302"
      ]
     },
     "execution_count": 16,
     "metadata": {},
     "output_type": "execute_result"
    }
   ],
   "source": [
    "accuracy_score(combined_continuous_norm['realSentiment'], combined_continuous_norm['GCPscore_SENTIMENT'])\n"
   ]
  },
  {
   "cell_type": "code",
   "execution_count": 17,
   "metadata": {},
   "outputs": [
    {
     "data": {
      "image/png": "[encoded data removed]",
      "text/plain": [
       "<Figure size 1728x1440 with 2 Axes>"
      ]
     },
     "metadata": {
      "needs_background": "light"
     },
     "output_type": "display_data"
    }
   ],
   "source": [
    "cnf_matrix = confusion_matrix(combined_continuous_norm['realSentiment'], combined_continuous_norm['IBMscore_SENTIMENT'])\n",
    "plt.figure(figsize=(24,20))\n",
    "plot_confusion_matrix(cnf_matrix, classes=text_labels, title=\"IBMSCORE Confusion matrix\")\n",
    "plt.show()\n"
   ]
  },
  {
   "cell_type": "code",
   "execution_count": 18,
   "metadata": {},
   "outputs": [
    {
     "data": {
      "text/plain": [
       "0.307"
      ]
     },
     "execution_count": 18,
     "metadata": {},
     "output_type": "execute_result"
    }
   ],
   "source": [
    "accuracy_score(combined_continuous_norm['realSentiment'], combined_continuous_norm['IBMscore_SENTIMENT'])\n"
   ]
  },
  {
   "cell_type": "code",
   "execution_count": 19,
   "metadata": {},
   "outputs": [
    {
     "data": {
      "image/png": "[encoded data removed]",
      "text/plain": [
       "<Figure size 1728x1440 with 2 Axes>"
      ]
     },
     "metadata": {
      "needs_background": "light"
     },
     "output_type": "display_data"
    }
   ],
   "source": [
    "cnf_matrix = confusion_matrix(combined_continuous_norm['realSentiment'], combined_continuous_norm['Azurescore_SENTIMENT'])\n",
    "plt.figure(figsize=(24,20))\n",
    "plot_confusion_matrix(cnf_matrix, classes=text_labels, title=\"Azure SCORE Confusion matrix\")\n",
    "plt.show()\n"
   ]
  },
  {
   "cell_type": "code",
   "execution_count": 20,
   "metadata": {},
   "outputs": [
    {
     "data": {
      "text/plain": [
       "0.31"
      ]
     },
     "execution_count": 20,
     "metadata": {},
     "output_type": "execute_result"
    }
   ],
   "source": [
    "accuracy_score(combined_continuous_norm['realSentiment'], combined_continuous_norm['Azurescore_SENTIMENT'])\n"
   ]
  },
  {
   "cell_type": "markdown",
   "metadata": {},
   "source": [
    "## Random Forest Classifier\n"
   ]
  },
  {
   "cell_type": "code",
   "execution_count": 21,
   "metadata": {},
   "outputs": [],
   "source": [
    "from sklearn.model_selection import train_test_split"
   ]
  },
  {
   "cell_type": "code",
   "execution_count": 22,
   "metadata": {},
   "outputs": [
    {
     "data": {
      "text/html": [
       "<div>\n",
       "<style scoped>\n",
       "    .dataframe tbody tr th:only-of-type {\n",
       "        vertical-align: middle;\n",
       "    }\n",
       "\n",
       "    .dataframe tbody tr th {\n",
       "        vertical-align: top;\n",
       "    }\n",
       "\n",
       "    .dataframe thead th {\n",
       "        text-align: right;\n",
       "    }\n",
       "</style>\n",
       "<table border=\"1\" class=\"dataframe\">\n",
       "  <thead>\n",
       "    <tr style=\"text-align: right;\">\n",
       "      <th></th>\n",
       "      <th>AWSMixed</th>\n",
       "      <th>AWSNegative</th>\n",
       "      <th>AWSNeutral</th>\n",
       "      <th>AWSPositive</th>\n",
       "      <th>GCPmagnitude</th>\n",
       "      <th>GCPscore</th>\n",
       "      <th>IBMscore</th>\n",
       "      <th>Azurescore</th>\n",
       "      <th>realSentiment</th>\n",
       "      <th>AWSPositive_SENTIMENT</th>\n",
       "      <th>AWSNegative_SENTIMENT</th>\n",
       "      <th>GCPscore_SENTIMENT</th>\n",
       "      <th>IBMscore_SENTIMENT</th>\n",
       "      <th>Azurescore_SENTIMENT</th>\n",
       "    </tr>\n",
       "  </thead>\n",
       "  <tbody>\n",
       "    <tr>\n",
       "      <th>0</th>\n",
       "      <td>-0.063659</td>\n",
       "      <td>-0.094527</td>\n",
       "      <td>-0.388041</td>\n",
       "      <td>0.520243</td>\n",
       "      <td>-0.148952</td>\n",
       "      <td>-0.11225</td>\n",
       "      <td>0.210059</td>\n",
       "      <td>0.250595</td>\n",
       "      <td>positive</td>\n",
       "      <td>positive</td>\n",
       "      <td>positive</td>\n",
       "      <td>negative</td>\n",
       "      <td>positive</td>\n",
       "      <td>positive</td>\n",
       "    </tr>\n",
       "    <tr>\n",
       "      <th>3</th>\n",
       "      <td>-0.063469</td>\n",
       "      <td>-0.094165</td>\n",
       "      <td>0.271185</td>\n",
       "      <td>-0.140026</td>\n",
       "      <td>-0.113238</td>\n",
       "      <td>-0.04975</td>\n",
       "      <td>0.000489</td>\n",
       "      <td>0.148582</td>\n",
       "      <td>positive</td>\n",
       "      <td>negative</td>\n",
       "      <td>positive</td>\n",
       "      <td>negative</td>\n",
       "      <td>negative</td>\n",
       "      <td>positive</td>\n",
       "    </tr>\n",
       "    <tr>\n",
       "      <th>5</th>\n",
       "      <td>-0.067346</td>\n",
       "      <td>-0.095087</td>\n",
       "      <td>0.399877</td>\n",
       "      <td>-0.265628</td>\n",
       "      <td>-0.006095</td>\n",
       "      <td>-0.11225</td>\n",
       "      <td>-0.078320</td>\n",
       "      <td>-0.164039</td>\n",
       "      <td>positive</td>\n",
       "      <td>negative</td>\n",
       "      <td>positive</td>\n",
       "      <td>negative</td>\n",
       "      <td>negative</td>\n",
       "      <td>negative</td>\n",
       "    </tr>\n",
       "    <tr>\n",
       "      <th>6</th>\n",
       "      <td>-0.066475</td>\n",
       "      <td>-0.096543</td>\n",
       "      <td>0.339734</td>\n",
       "      <td>-0.204491</td>\n",
       "      <td>-0.137048</td>\n",
       "      <td>-0.11225</td>\n",
       "      <td>0.211264</td>\n",
       "      <td>-0.164039</td>\n",
       "      <td>positive</td>\n",
       "      <td>negative</td>\n",
       "      <td>positive</td>\n",
       "      <td>negative</td>\n",
       "      <td>positive</td>\n",
       "      <td>negative</td>\n",
       "    </tr>\n",
       "    <tr>\n",
       "      <th>8</th>\n",
       "      <td>-0.068492</td>\n",
       "      <td>-0.096375</td>\n",
       "      <td>0.408857</td>\n",
       "      <td>-0.272655</td>\n",
       "      <td>-0.041810</td>\n",
       "      <td>-0.17475</td>\n",
       "      <td>-0.563144</td>\n",
       "      <td>-0.164039</td>\n",
       "      <td>positive</td>\n",
       "      <td>negative</td>\n",
       "      <td>positive</td>\n",
       "      <td>negative</td>\n",
       "      <td>negative</td>\n",
       "      <td>negative</td>\n",
       "    </tr>\n",
       "  </tbody>\n",
       "</table>\n",
       "</div>"
      ],
      "text/plain": [
       "   AWSMixed  AWSNegative  AWSNeutral  AWSPositive  GCPmagnitude  GCPscore  \\\n",
       "0 -0.063659    -0.094527   -0.388041     0.520243     -0.148952  -0.11225   \n",
       "3 -0.063469    -0.094165    0.271185    -0.140026     -0.113238  -0.04975   \n",
       "5 -0.067346    -0.095087    0.399877    -0.265628     -0.006095  -0.11225   \n",
       "6 -0.066475    -0.096543    0.339734    -0.204491     -0.137048  -0.11225   \n",
       "8 -0.068492    -0.096375    0.408857    -0.272655     -0.041810  -0.17475   \n",
       "\n",
       "   IBMscore  Azurescore realSentiment AWSPositive_SENTIMENT  \\\n",
       "0  0.210059    0.250595      positive              positive   \n",
       "3  0.000489    0.148582      positive              negative   \n",
       "5 -0.078320   -0.164039      positive              negative   \n",
       "6  0.211264   -0.164039      positive              negative   \n",
       "8 -0.563144   -0.164039      positive              negative   \n",
       "\n",
       "  AWSNegative_SENTIMENT GCPscore_SENTIMENT IBMscore_SENTIMENT  \\\n",
       "0              positive           negative           positive   \n",
       "3              positive           negative           negative   \n",
       "5              positive           negative           negative   \n",
       "6              positive           negative           positive   \n",
       "8              positive           negative           negative   \n",
       "\n",
       "  Azurescore_SENTIMENT  \n",
       "0             positive  \n",
       "3             positive  \n",
       "5             negative  \n",
       "6             negative  \n",
       "8             negative  "
      ]
     },
     "execution_count": 22,
     "metadata": {},
     "output_type": "execute_result"
    }
   ],
   "source": [
    "combined_continuous_norm=combined_continuous_norm[combined_continuous_norm.realSentiment != 'neutral']\n",
    "combined_continuous_norm.head()"
   ]
  },
  {
   "cell_type": "code",
   "execution_count": 23,
   "metadata": {},
   "outputs": [
    {
     "data": {
      "text/html": [
       "<div>\n",
       "<style scoped>\n",
       "    .dataframe tbody tr th:only-of-type {\n",
       "        vertical-align: middle;\n",
       "    }\n",
       "\n",
       "    .dataframe tbody tr th {\n",
       "        vertical-align: top;\n",
       "    }\n",
       "\n",
       "    .dataframe thead th {\n",
       "        text-align: right;\n",
       "    }\n",
       "</style>\n",
       "<table border=\"1\" class=\"dataframe\">\n",
       "  <thead>\n",
       "    <tr style=\"text-align: right;\">\n",
       "      <th></th>\n",
       "      <th>AWSMixed</th>\n",
       "      <th>AWSNegative</th>\n",
       "      <th>AWSNeutral</th>\n",
       "      <th>AWSPositive</th>\n",
       "      <th>GCPmagnitude</th>\n",
       "      <th>GCPscore</th>\n",
       "      <th>IBMscore</th>\n",
       "      <th>Azurescore</th>\n",
       "      <th>realSentiment</th>\n",
       "      <th>AWSPositive_SENTIMENT</th>\n",
       "      <th>AWSNegative_SENTIMENT</th>\n",
       "      <th>GCPscore_SENTIMENT</th>\n",
       "      <th>IBMscore_SENTIMENT</th>\n",
       "      <th>Azurescore_SENTIMENT</th>\n",
       "    </tr>\n",
       "  </thead>\n",
       "  <tbody>\n",
       "    <tr>\n",
       "      <th>0</th>\n",
       "      <td>-0.063659</td>\n",
       "      <td>-0.094527</td>\n",
       "      <td>-0.388041</td>\n",
       "      <td>0.520243</td>\n",
       "      <td>-0.148952</td>\n",
       "      <td>-0.11225</td>\n",
       "      <td>0.210059</td>\n",
       "      <td>0.250595</td>\n",
       "      <td>1</td>\n",
       "      <td>positive</td>\n",
       "      <td>positive</td>\n",
       "      <td>negative</td>\n",
       "      <td>positive</td>\n",
       "      <td>positive</td>\n",
       "    </tr>\n",
       "    <tr>\n",
       "      <th>3</th>\n",
       "      <td>-0.063469</td>\n",
       "      <td>-0.094165</td>\n",
       "      <td>0.271185</td>\n",
       "      <td>-0.140026</td>\n",
       "      <td>-0.113238</td>\n",
       "      <td>-0.04975</td>\n",
       "      <td>0.000489</td>\n",
       "      <td>0.148582</td>\n",
       "      <td>1</td>\n",
       "      <td>negative</td>\n",
       "      <td>positive</td>\n",
       "      <td>negative</td>\n",
       "      <td>negative</td>\n",
       "      <td>positive</td>\n",
       "    </tr>\n",
       "    <tr>\n",
       "      <th>5</th>\n",
       "      <td>-0.067346</td>\n",
       "      <td>-0.095087</td>\n",
       "      <td>0.399877</td>\n",
       "      <td>-0.265628</td>\n",
       "      <td>-0.006095</td>\n",
       "      <td>-0.11225</td>\n",
       "      <td>-0.078320</td>\n",
       "      <td>-0.164039</td>\n",
       "      <td>1</td>\n",
       "      <td>negative</td>\n",
       "      <td>positive</td>\n",
       "      <td>negative</td>\n",
       "      <td>negative</td>\n",
       "      <td>negative</td>\n",
       "    </tr>\n",
       "    <tr>\n",
       "      <th>6</th>\n",
       "      <td>-0.066475</td>\n",
       "      <td>-0.096543</td>\n",
       "      <td>0.339734</td>\n",
       "      <td>-0.204491</td>\n",
       "      <td>-0.137048</td>\n",
       "      <td>-0.11225</td>\n",
       "      <td>0.211264</td>\n",
       "      <td>-0.164039</td>\n",
       "      <td>1</td>\n",
       "      <td>negative</td>\n",
       "      <td>positive</td>\n",
       "      <td>negative</td>\n",
       "      <td>positive</td>\n",
       "      <td>negative</td>\n",
       "    </tr>\n",
       "    <tr>\n",
       "      <th>8</th>\n",
       "      <td>-0.068492</td>\n",
       "      <td>-0.096375</td>\n",
       "      <td>0.408857</td>\n",
       "      <td>-0.272655</td>\n",
       "      <td>-0.041810</td>\n",
       "      <td>-0.17475</td>\n",
       "      <td>-0.563144</td>\n",
       "      <td>-0.164039</td>\n",
       "      <td>1</td>\n",
       "      <td>negative</td>\n",
       "      <td>positive</td>\n",
       "      <td>negative</td>\n",
       "      <td>negative</td>\n",
       "      <td>negative</td>\n",
       "    </tr>\n",
       "  </tbody>\n",
       "</table>\n",
       "</div>"
      ],
      "text/plain": [
       "   AWSMixed  AWSNegative  AWSNeutral  AWSPositive  GCPmagnitude  GCPscore  \\\n",
       "0 -0.063659    -0.094527   -0.388041     0.520243     -0.148952  -0.11225   \n",
       "3 -0.063469    -0.094165    0.271185    -0.140026     -0.113238  -0.04975   \n",
       "5 -0.067346    -0.095087    0.399877    -0.265628     -0.006095  -0.11225   \n",
       "6 -0.066475    -0.096543    0.339734    -0.204491     -0.137048  -0.11225   \n",
       "8 -0.068492    -0.096375    0.408857    -0.272655     -0.041810  -0.17475   \n",
       "\n",
       "   IBMscore  Azurescore  realSentiment AWSPositive_SENTIMENT  \\\n",
       "0  0.210059    0.250595              1              positive   \n",
       "3  0.000489    0.148582              1              negative   \n",
       "5 -0.078320   -0.164039              1              negative   \n",
       "6  0.211264   -0.164039              1              negative   \n",
       "8 -0.563144   -0.164039              1              negative   \n",
       "\n",
       "  AWSNegative_SENTIMENT GCPscore_SENTIMENT IBMscore_SENTIMENT  \\\n",
       "0              positive           negative           positive   \n",
       "3              positive           negative           negative   \n",
       "5              positive           negative           negative   \n",
       "6              positive           negative           positive   \n",
       "8              positive           negative           negative   \n",
       "\n",
       "  Azurescore_SENTIMENT  \n",
       "0             positive  \n",
       "3             positive  \n",
       "5             negative  \n",
       "6             negative  \n",
       "8             negative  "
      ]
     },
     "execution_count": 23,
     "metadata": {},
     "output_type": "execute_result"
    }
   ],
   "source": [
    "combined_continuous_norm['realSentiment'] = combined_continuous_norm['realSentiment'].apply(lambda x: 1 if x == 'positive' else 0)\n",
    "combined_continuous_norm.head()"
   ]
  },
  {
   "cell_type": "code",
   "execution_count": 24,
   "metadata": {},
   "outputs": [],
   "source": [
    "combined_continuous_norm=pd.get_dummies(combined_continuous_norm)"
   ]
  },
  {
   "cell_type": "code",
   "execution_count": 25,
   "metadata": {},
   "outputs": [
    {
     "data": {
      "text/html": [
       "<div>\n",
       "<style scoped>\n",
       "    .dataframe tbody tr th:only-of-type {\n",
       "        vertical-align: middle;\n",
       "    }\n",
       "\n",
       "    .dataframe tbody tr th {\n",
       "        vertical-align: top;\n",
       "    }\n",
       "\n",
       "    .dataframe thead th {\n",
       "        text-align: right;\n",
       "    }\n",
       "</style>\n",
       "<table border=\"1\" class=\"dataframe\">\n",
       "  <thead>\n",
       "    <tr style=\"text-align: right;\">\n",
       "      <th></th>\n",
       "      <th>AWSMixed</th>\n",
       "      <th>AWSNegative</th>\n",
       "      <th>AWSNeutral</th>\n",
       "      <th>AWSPositive</th>\n",
       "      <th>GCPmagnitude</th>\n",
       "      <th>GCPscore</th>\n",
       "      <th>IBMscore</th>\n",
       "      <th>Azurescore</th>\n",
       "      <th>realSentiment</th>\n",
       "      <th>AWSPositive_SENTIMENT_negative</th>\n",
       "      <th>AWSPositive_SENTIMENT_positive</th>\n",
       "      <th>AWSNegative_SENTIMENT_negative</th>\n",
       "      <th>AWSNegative_SENTIMENT_positive</th>\n",
       "      <th>GCPscore_SENTIMENT_negative</th>\n",
       "      <th>GCPscore_SENTIMENT_positive</th>\n",
       "      <th>IBMscore_SENTIMENT_negative</th>\n",
       "      <th>IBMscore_SENTIMENT_positive</th>\n",
       "      <th>Azurescore_SENTIMENT_negative</th>\n",
       "      <th>Azurescore_SENTIMENT_positive</th>\n",
       "    </tr>\n",
       "  </thead>\n",
       "  <tbody>\n",
       "    <tr>\n",
       "      <th>0</th>\n",
       "      <td>-0.063659</td>\n",
       "      <td>-0.094527</td>\n",
       "      <td>-0.388041</td>\n",
       "      <td>0.520243</td>\n",
       "      <td>-0.148952</td>\n",
       "      <td>-0.11225</td>\n",
       "      <td>0.210059</td>\n",
       "      <td>0.250595</td>\n",
       "      <td>1</td>\n",
       "      <td>0</td>\n",
       "      <td>1</td>\n",
       "      <td>0</td>\n",
       "      <td>1</td>\n",
       "      <td>1</td>\n",
       "      <td>0</td>\n",
       "      <td>0</td>\n",
       "      <td>1</td>\n",
       "      <td>0</td>\n",
       "      <td>1</td>\n",
       "    </tr>\n",
       "    <tr>\n",
       "      <th>3</th>\n",
       "      <td>-0.063469</td>\n",
       "      <td>-0.094165</td>\n",
       "      <td>0.271185</td>\n",
       "      <td>-0.140026</td>\n",
       "      <td>-0.113238</td>\n",
       "      <td>-0.04975</td>\n",
       "      <td>0.000489</td>\n",
       "      <td>0.148582</td>\n",
       "      <td>1</td>\n",
       "      <td>1</td>\n",
       "      <td>0</td>\n",
       "      <td>0</td>\n",
       "      <td>1</td>\n",
       "      <td>1</td>\n",
       "      <td>0</td>\n",
       "      <td>1</td>\n",
       "      <td>0</td>\n",
       "      <td>0</td>\n",
       "      <td>1</td>\n",
       "    </tr>\n",
       "    <tr>\n",
       "      <th>5</th>\n",
       "      <td>-0.067346</td>\n",
       "      <td>-0.095087</td>\n",
       "      <td>0.399877</td>\n",
       "      <td>-0.265628</td>\n",
       "      <td>-0.006095</td>\n",
       "      <td>-0.11225</td>\n",
       "      <td>-0.078320</td>\n",
       "      <td>-0.164039</td>\n",
       "      <td>1</td>\n",
       "      <td>1</td>\n",
       "      <td>0</td>\n",
       "      <td>0</td>\n",
       "      <td>1</td>\n",
       "      <td>1</td>\n",
       "      <td>0</td>\n",
       "      <td>1</td>\n",
       "      <td>0</td>\n",
       "      <td>1</td>\n",
       "      <td>0</td>\n",
       "    </tr>\n",
       "    <tr>\n",
       "      <th>6</th>\n",
       "      <td>-0.066475</td>\n",
       "      <td>-0.096543</td>\n",
       "      <td>0.339734</td>\n",
       "      <td>-0.204491</td>\n",
       "      <td>-0.137048</td>\n",
       "      <td>-0.11225</td>\n",
       "      <td>0.211264</td>\n",
       "      <td>-0.164039</td>\n",
       "      <td>1</td>\n",
       "      <td>1</td>\n",
       "      <td>0</td>\n",
       "      <td>0</td>\n",
       "      <td>1</td>\n",
       "      <td>1</td>\n",
       "      <td>0</td>\n",
       "      <td>0</td>\n",
       "      <td>1</td>\n",
       "      <td>1</td>\n",
       "      <td>0</td>\n",
       "    </tr>\n",
       "    <tr>\n",
       "      <th>8</th>\n",
       "      <td>-0.068492</td>\n",
       "      <td>-0.096375</td>\n",
       "      <td>0.408857</td>\n",
       "      <td>-0.272655</td>\n",
       "      <td>-0.041810</td>\n",
       "      <td>-0.17475</td>\n",
       "      <td>-0.563144</td>\n",
       "      <td>-0.164039</td>\n",
       "      <td>1</td>\n",
       "      <td>1</td>\n",
       "      <td>0</td>\n",
       "      <td>0</td>\n",
       "      <td>1</td>\n",
       "      <td>1</td>\n",
       "      <td>0</td>\n",
       "      <td>1</td>\n",
       "      <td>0</td>\n",
       "      <td>1</td>\n",
       "      <td>0</td>\n",
       "    </tr>\n",
       "  </tbody>\n",
       "</table>\n",
       "</div>"
      ],
      "text/plain": [
       "   AWSMixed  AWSNegative  AWSNeutral  AWSPositive  GCPmagnitude  GCPscore  \\\n",
       "0 -0.063659    -0.094527   -0.388041     0.520243     -0.148952  -0.11225   \n",
       "3 -0.063469    -0.094165    0.271185    -0.140026     -0.113238  -0.04975   \n",
       "5 -0.067346    -0.095087    0.399877    -0.265628     -0.006095  -0.11225   \n",
       "6 -0.066475    -0.096543    0.339734    -0.204491     -0.137048  -0.11225   \n",
       "8 -0.068492    -0.096375    0.408857    -0.272655     -0.041810  -0.17475   \n",
       "\n",
       "   IBMscore  Azurescore  realSentiment  AWSPositive_SENTIMENT_negative  \\\n",
       "0  0.210059    0.250595              1                               0   \n",
       "3  0.000489    0.148582              1                               1   \n",
       "5 -0.078320   -0.164039              1                               1   \n",
       "6  0.211264   -0.164039              1                               1   \n",
       "8 -0.563144   -0.164039              1                               1   \n",
       "\n",
       "   AWSPositive_SENTIMENT_positive  AWSNegative_SENTIMENT_negative  \\\n",
       "0                               1                               0   \n",
       "3                               0                               0   \n",
       "5                               0                               0   \n",
       "6                               0                               0   \n",
       "8                               0                               0   \n",
       "\n",
       "   AWSNegative_SENTIMENT_positive  GCPscore_SENTIMENT_negative  \\\n",
       "0                               1                            1   \n",
       "3                               1                            1   \n",
       "5                               1                            1   \n",
       "6                               1                            1   \n",
       "8                               1                            1   \n",
       "\n",
       "   GCPscore_SENTIMENT_positive  IBMscore_SENTIMENT_negative  \\\n",
       "0                            0                            0   \n",
       "3                            0                            1   \n",
       "5                            0                            1   \n",
       "6                            0                            0   \n",
       "8                            0                            1   \n",
       "\n",
       "   IBMscore_SENTIMENT_positive  Azurescore_SENTIMENT_negative  \\\n",
       "0                            1                              0   \n",
       "3                            0                              0   \n",
       "5                            0                              1   \n",
       "6                            1                              1   \n",
       "8                            0                              1   \n",
       "\n",
       "   Azurescore_SENTIMENT_positive  \n",
       "0                              1  \n",
       "3                              1  \n",
       "5                              0  \n",
       "6                              0  \n",
       "8                              0  "
      ]
     },
     "execution_count": 25,
     "metadata": {},
     "output_type": "execute_result"
    }
   ],
   "source": [
    "combined_continuous_norm.head()"
   ]
  },
  {
   "cell_type": "code",
   "execution_count": 26,
   "metadata": {},
   "outputs": [
    {
     "data": {
      "text/plain": [
       "Index(['AWSMixed', 'AWSNegative', 'AWSNeutral', 'AWSPositive', 'GCPmagnitude',\n",
       "       'GCPscore', 'IBMscore', 'Azurescore', 'realSentiment',\n",
       "       'AWSPositive_SENTIMENT_negative', 'AWSPositive_SENTIMENT_positive',\n",
       "       'AWSNegative_SENTIMENT_negative', 'AWSNegative_SENTIMENT_positive',\n",
       "       'GCPscore_SENTIMENT_negative', 'GCPscore_SENTIMENT_positive',\n",
       "       'IBMscore_SENTIMENT_negative', 'IBMscore_SENTIMENT_positive',\n",
       "       'Azurescore_SENTIMENT_negative', 'Azurescore_SENTIMENT_positive'],\n",
       "      dtype='object')"
      ]
     },
     "execution_count": 26,
     "metadata": {},
     "output_type": "execute_result"
    }
   ],
   "source": [
    "combined_continuous_norm.columns"
   ]
  },
  {
   "cell_type": "code",
   "execution_count": 27,
   "metadata": {},
   "outputs": [],
   "source": [
    "from sklearn.model_selection import train_test_split\n",
    "\n",
    "X=combined_continuous_norm[['AWSMixed', 'AWSNegative', 'AWSNeutral', 'AWSPositive', 'GCPmagnitude',\n",
    "       'GCPscore', 'IBMscore', 'Azurescore', \n",
    "       'AWSPositive_SENTIMENT_negative', 'AWSPositive_SENTIMENT_positive',\n",
    "       'AWSNegative_SENTIMENT_negative', 'AWSNegative_SENTIMENT_positive',\n",
    "       'GCPscore_SENTIMENT_negative', 'GCPscore_SENTIMENT_positive',\n",
    "       'IBMscore_SENTIMENT_negative', 'IBMscore_SENTIMENT_positive',\n",
    "       'Azurescore_SENTIMENT_negative', 'Azurescore_SENTIMENT_positive']]  # Features\n",
    "\n",
    "y=combined_continuous_norm['realSentiment']  # Labels\n",
    "       \n",
    "# Split dataset into training set and test set\n",
    "X_train, X_test, y_train, y_test = train_test_split(X, y, test_size=0.3) # 70% training and 30% test"
   ]
  },
  {
   "cell_type": "code",
   "execution_count": 28,
   "metadata": {},
   "outputs": [],
   "source": [
    "#Import Random Forest Model\n",
    "from sklearn.ensemble import RandomForestClassifier\n",
    "\n",
    "#Create a Gaussian Classifier\n",
    "clf=RandomForestClassifier(n_estimators=100)\n",
    "\n",
    "#Train the model using the training sets y_pred=clf.predict(X_test)\n",
    "clf.fit(X_train,y_train)\n",
    "\n",
    "y_pred=clf.predict(X_test)\n"
   ]
  },
  {
   "cell_type": "code",
   "execution_count": 29,
   "metadata": {},
   "outputs": [
    {
     "data": {
      "text/plain": [
       "0.8279569892473119"
      ]
     },
     "execution_count": 29,
     "metadata": {},
     "output_type": "execute_result"
    }
   ],
   "source": [
    "accuracy_score(y_test, y_pred)\n"
   ]
  },
  {
   "cell_type": "code",
   "execution_count": 30,
   "metadata": {},
   "outputs": [],
   "source": [
    "from sklearn.model_selection import RandomizedSearchCV"
   ]
  },
  {
   "cell_type": "code",
   "execution_count": 31,
   "metadata": {},
   "outputs": [],
   "source": [
    "# Number of trees in random forest\n",
    "n_estimators = [int(x) for x in np.linspace(start = 10, stop = 200, num = 5)]\n",
    "# Number of features to consider at every split\n",
    "max_features = ['auto', 'sqrt']\n",
    "# Maximum number of levels in tree\n",
    "max_depth = [int(x) for x in np.linspace(2, 10, num = 5)]\n",
    "max_depth.append(None)\n",
    "# Minimum number of samples required to split a node\n",
    "min_samples_split = [5, 10]\n",
    "# Minimum number of samples required at each leaf node\n",
    "min_samples_leaf = [2, 4]\n",
    "# Method of selecting samples for training each tree\n",
    "#bootstrap = [True, False]\n",
    "# Create the random grid\n",
    "random_grid = {'n_estimators': n_estimators,\n",
    "               'max_features': max_features,\n",
    "               'max_depth': max_depth,\n",
    "               'min_samples_split': min_samples_split,\n",
    "               'min_samples_leaf': min_samples_leaf}\n"
   ]
  },
  {
   "cell_type": "code",
   "execution_count": 32,
   "metadata": {},
   "outputs": [
    {
     "name": "stdout",
     "output_type": "stream",
     "text": [
      "Fitting 3 folds for each of 100 candidates, totalling 300 fits\n"
     ]
    },
    {
     "name": "stderr",
     "output_type": "stream",
     "text": [
      "[Parallel(n_jobs=-1)]: Using backend LokyBackend with 8 concurrent workers.\n",
      "[Parallel(n_jobs=-1)]: Done  25 tasks      | elapsed:    4.7s\n",
      "[Parallel(n_jobs=-1)]: Done 146 tasks      | elapsed:    9.9s\n",
      "[Parallel(n_jobs=-1)]: Done 300 out of 300 | elapsed:   16.4s finished\n"
     ]
    },
    {
     "data": {
      "text/plain": [
       "RandomizedSearchCV(cv=3, error_score='raise-deprecating',\n",
       "          estimator=RandomForestClassifier(bootstrap=True, class_weight=None, criterion='gini',\n",
       "            max_depth=None, max_features='auto', max_leaf_nodes=None,\n",
       "            min_impurity_decrease=0.0, min_impurity_split=None,\n",
       "            min_samples_leaf=1, min_samples_split=2,\n",
       "            min_weight_fraction_leaf=0.0, n_estimators='warn', n_jobs=None,\n",
       "            oob_score=False, random_state=None, verbose=0,\n",
       "            warm_start=False),\n",
       "          fit_params=None, iid='warn', n_iter=100, n_jobs=-1,\n",
       "          param_distributions={'n_estimators': [10, 57, 105, 152, 200], 'max_features': ['auto', 'sqrt'], 'max_depth': [2, 4, 6, 8, 10, None], 'min_samples_split': [5, 10], 'min_samples_leaf': [2, 4]},\n",
       "          pre_dispatch='2*n_jobs', random_state=42, refit=True,\n",
       "          return_train_score='warn', scoring=None, verbose=2)"
      ]
     },
     "execution_count": 32,
     "metadata": {},
     "output_type": "execute_result"
    }
   ],
   "source": [
    "# Use the random grid to search for best hyperparameters\n",
    "# First create the base model to tune\n",
    "clf_base = RandomForestClassifier()\n",
    "# Random search of parameters, using 3 fold cross validation, \n",
    "# search across 100 different combinations, and use all available cores\n",
    "clf_random = RandomizedSearchCV(estimator = clf_base, param_distributions = random_grid, n_iter = 100, cv = 3, verbose=2, random_state=42, n_jobs = -1)\n",
    "# Fit the random search model\n",
    "clf_random.fit(X_train,y_train)"
   ]
  },
  {
   "cell_type": "code",
   "execution_count": 33,
   "metadata": {
    "scrolled": true
   },
   "outputs": [
    {
     "data": {
      "text/plain": [
       "{'n_estimators': 200,\n",
       " 'min_samples_split': 5,\n",
       " 'min_samples_leaf': 2,\n",
       " 'max_features': 'sqrt',\n",
       " 'max_depth': 2}"
      ]
     },
     "execution_count": 33,
     "metadata": {},
     "output_type": "execute_result"
    }
   ],
   "source": [
    "clf_random.best_params_"
   ]
  },
  {
   "cell_type": "markdown",
   "metadata": {},
   "source": [
    "### Evaluate Random Search"
   ]
  },
  {
   "cell_type": "code",
   "execution_count": 34,
   "metadata": {},
   "outputs": [],
   "source": [
    "## Common Classification algorithm evaluator. It returns the roc_auc\n",
    "from sklearn.metrics import roc_curve, auc\n",
    "def evaluate(model, X_train,y_train, X_test, y_test):\n",
    "    model.fit(X_train,y_train)\n",
    "    predictions = model.predict(X_test)\n",
    "    false_positive_rate, true_positive_rate, thresholds = roc_curve(y_test, predictions)\n",
    "    roc_auc = auc(false_positive_rate, true_positive_rate)\n",
    "    #print(roc)\n",
    "    return roc_auc"
   ]
  },
  {
   "cell_type": "code",
   "execution_count": 35,
   "metadata": {},
   "outputs": [],
   "source": [
    "base_model = RandomForestClassifier(n_estimators = 10, random_state = 42)"
   ]
  },
  {
   "cell_type": "code",
   "execution_count": 36,
   "metadata": {},
   "outputs": [],
   "source": [
    "best_random = clf_random.best_estimator_"
   ]
  },
  {
   "cell_type": "code",
   "execution_count": 37,
   "metadata": {
    "scrolled": true
   },
   "outputs": [
    {
     "name": "stdout",
     "output_type": "stream",
     "text": [
      "ROC for base model : 0.5012820512820513\n",
      "ROC for best model : 0.5\n"
     ]
    }
   ],
   "source": [
    "print('ROC for base model : ' + str(evaluate(base_model,X_train,y_train, X_test, y_test)))\n",
    "print('ROC for best model : ' + str(evaluate(best_random,X_train,y_train, X_test, y_test)))"
   ]
  },
  {
   "cell_type": "markdown",
   "metadata": {},
   "source": [
    "### Grid Search with Cross Validation"
   ]
  },
  {
   "cell_type": "code",
   "execution_count": 38,
   "metadata": {},
   "outputs": [],
   "source": [
    "from sklearn.model_selection import GridSearchCV\n",
    "# Create the parameter grid based on the results of random search \n",
    "param_grid = {\n",
    "    'bootstrap': [True],\n",
    "    'max_features': ['auto'],\n",
    "    'min_samples_leaf': [1,2,3],\n",
    "    'min_samples_split': [3,5,7],\n",
    "    'n_estimators': [10, 20, 30,15]\n",
    "}\n",
    "# Create a based model\n",
    "clf = RandomForestClassifier()\n",
    "# Instantiate the grid search model\n",
    "grid_search = GridSearchCV(estimator = clf, param_grid = param_grid, \n",
    "                          cv = 3, n_jobs = -1, verbose = 2)"
   ]
  },
  {
   "cell_type": "code",
   "execution_count": 39,
   "metadata": {
    "scrolled": false
   },
   "outputs": [
    {
     "name": "stdout",
     "output_type": "stream",
     "text": [
      "Fitting 3 folds for each of 36 candidates, totalling 108 fits\n"
     ]
    },
    {
     "name": "stderr",
     "output_type": "stream",
     "text": [
      "[Parallel(n_jobs=-1)]: Using backend LokyBackend with 8 concurrent workers.\n",
      "[Parallel(n_jobs=-1)]: Done 108 out of 108 | elapsed:    1.9s finished\n"
     ]
    },
    {
     "data": {
      "text/plain": [
       "GridSearchCV(cv=3, error_score='raise-deprecating',\n",
       "       estimator=RandomForestClassifier(bootstrap=True, class_weight=None, criterion='gini',\n",
       "            max_depth=None, max_features='auto', max_leaf_nodes=None,\n",
       "            min_impurity_decrease=0.0, min_impurity_split=None,\n",
       "            min_samples_leaf=1, min_samples_split=2,\n",
       "            min_weight_fraction_leaf=0.0, n_estimators='warn', n_jobs=None,\n",
       "            oob_score=False, random_state=None, verbose=0,\n",
       "            warm_start=False),\n",
       "       fit_params=None, iid='warn', n_jobs=-1,\n",
       "       param_grid={'bootstrap': [True], 'max_features': ['auto'], 'min_samples_leaf': [1, 2, 3], 'min_samples_split': [3, 5, 7], 'n_estimators': [10, 20, 30, 15]},\n",
       "       pre_dispatch='2*n_jobs', refit=True, return_train_score='warn',\n",
       "       scoring=None, verbose=2)"
      ]
     },
     "execution_count": 39,
     "metadata": {},
     "output_type": "execute_result"
    }
   ],
   "source": [
    "grid_search.fit(X_train, y_train)"
   ]
  },
  {
   "cell_type": "code",
   "execution_count": 40,
   "metadata": {},
   "outputs": [
    {
     "data": {
      "text/plain": [
       "{'bootstrap': True,\n",
       " 'max_features': 'auto',\n",
       " 'min_samples_leaf': 3,\n",
       " 'min_samples_split': 3,\n",
       " 'n_estimators': 15}"
      ]
     },
     "execution_count": 40,
     "metadata": {},
     "output_type": "execute_result"
    }
   ],
   "source": [
    "grid_search.best_params_"
   ]
  },
  {
   "cell_type": "code",
   "execution_count": 41,
   "metadata": {},
   "outputs": [],
   "source": [
    "best_grid = grid_search.best_estimator_"
   ]
  },
  {
   "cell_type": "code",
   "execution_count": 42,
   "metadata": {},
   "outputs": [
    {
     "name": "stdout",
     "output_type": "stream",
     "text": [
      "ROC for best grid search model : 0.5\n"
     ]
    }
   ],
   "source": [
    "print('ROC for best grid search model : ' + str(evaluate(best_grid,X_train,y_train, X_test, y_test)))"
   ]
  },
  {
   "cell_type": "markdown",
   "metadata": {},
   "source": [
    "### Now lets implement XGBoost (eXtreme Gradient Boosting) "
   ]
  },
  {
   "cell_type": "markdown",
   "metadata": {},
   "source": [
    "I’ll consider only tree booster here because it always outperforms the linear booster and thus the later is rarely used."
   ]
  },
  {
   "cell_type": "code",
   "execution_count": 43,
   "metadata": {},
   "outputs": [],
   "source": [
    "from xgboost import XGBClassifier\n",
    "from sklearn.metrics import accuracy_score"
   ]
  },
  {
   "cell_type": "code",
   "execution_count": 44,
   "metadata": {
    "scrolled": false
   },
   "outputs": [
    {
     "data": {
      "text/plain": [
       "XGBClassifier(base_score=0.5, booster='gbtree', colsample_bylevel=1,\n",
       "       colsample_bytree=1, gamma=0, learning_rate=0.1, max_delta_step=0,\n",
       "       max_depth=3, min_child_weight=1, missing=None, n_estimators=100,\n",
       "       n_jobs=1, nthread=None, objective='binary:logistic', random_state=0,\n",
       "       reg_alpha=0, reg_lambda=1, scale_pos_weight=1, seed=None,\n",
       "       silent=True, subsample=1)"
      ]
     },
     "execution_count": 44,
     "metadata": {},
     "output_type": "execute_result"
    }
   ],
   "source": [
    "# fit model on training data\n",
    "xgBoostClassifierModel = XGBClassifier()\n",
    "xgBoostClassifierModel.fit(X_train, y_train)"
   ]
  },
  {
   "cell_type": "code",
   "execution_count": 45,
   "metadata": {},
   "outputs": [],
   "source": [
    "# make predictions for test data\n",
    "y_pred = xgBoostClassifierModel.predict(X_test)\n",
    "predictions = [round(value) for value in y_pred]"
   ]
  },
  {
   "cell_type": "code",
   "execution_count": 46,
   "metadata": {},
   "outputs": [
    {
     "name": "stdout",
     "output_type": "stream",
     "text": [
      "Accuracy: 83.33%\n"
     ]
    }
   ],
   "source": [
    "# evaluate predictions\n",
    "accuracy = accuracy_score(y_test, predictions)\n",
    "print(\"Accuracy: %.2f%%\" % (accuracy * 100.0))"
   ]
  },
  {
   "cell_type": "code",
   "execution_count": 47,
   "metadata": {},
   "outputs": [],
   "source": [
    "from sklearn.model_selection import GridSearchCV\n",
    "from sklearn.model_selection import StratifiedKFold"
   ]
  },
  {
   "cell_type": "code",
   "execution_count": 48,
   "metadata": {},
   "outputs": [
    {
     "name": "stderr",
     "output_type": "stream",
     "text": [
      "C:\\Anaconda3\\lib\\site-packages\\sklearn\\model_selection\\_search.py:841: DeprecationWarning: The default of the `iid` parameter will change from True to False in version 0.22 and will be removed in 0.24. This will change numeric results when test-set sizes are unequal.\n",
      "  DeprecationWarning)\n"
     ]
    },
    {
     "name": "stdout",
     "output_type": "stream",
     "text": [
      "Best: -0.433305 using {'n_estimators': 50}\n",
      "-0.433305 (0.046961) with: {'n_estimators': 50}\n",
      "-0.452280 (0.068675) with: {'n_estimators': 100}\n",
      "-0.468617 (0.085306) with: {'n_estimators': 150}\n",
      "-0.489789 (0.099925) with: {'n_estimators': 200}\n",
      "-0.513392 (0.119787) with: {'n_estimators': 250}\n",
      "-0.533756 (0.133459) with: {'n_estimators': 300}\n",
      "-0.551362 (0.140688) with: {'n_estimators': 350}\n"
     ]
    },
    {
     "data": {
      "image/png": "[encoded data removed]",
      "text/plain": [
       "<Figure size 432x288 with 1 Axes>"
      ]
     },
     "metadata": {
      "needs_background": "light"
     },
     "output_type": "display_data"
    }
   ],
   "source": [
    "model = XGBClassifier()\n",
    "n_estimators = range(50, 400, 50)\n",
    "param_grid = dict(n_estimators=n_estimators)\n",
    "kfold = StratifiedKFold(n_splits=10, shuffle=True, random_state=7)\n",
    "grid_search = GridSearchCV(model, param_grid, scoring=\"neg_log_loss\", n_jobs=-1, cv=kfold)\n",
    "grid_result = grid_search.fit(X_train, y_train)\n",
    "# summarize results\n",
    "print(\"Best: %f using %s\" % (grid_result.best_score_, grid_result.best_params_))\n",
    "means = grid_result.cv_results_['mean_test_score']\n",
    "stds = grid_result.cv_results_['std_test_score']\n",
    "params = grid_result.cv_results_['params']\n",
    "for mean, stdev, param in zip(means, stds, params):\n",
    "\tprint(\"%f (%f) with: %r\" % (mean, stdev, param))\n",
    "# plot\n",
    "plt.errorbar(n_estimators, means, yerr=stds)\n",
    "plt.title(\"XGBoost n_estimators vs Log Loss\")\n",
    "plt.xlabel('n_estimators')\n",
    "plt.ylabel('Log Loss')\n",
    "plt.savefig('n_estimators.png')"
   ]
  },
  {
   "cell_type": "code",
   "execution_count": 50,
   "metadata": {},
   "outputs": [
    {
     "name": "stdout",
     "output_type": "stream",
     "text": [
      "range(1, 11, 2)\n",
      "Fitting 10 folds for each of 5 candidates, totalling 50 fits\n"
     ]
    },
    {
     "name": "stderr",
     "output_type": "stream",
     "text": [
      "[Parallel(n_jobs=-1)]: Using backend LokyBackend with 8 concurrent workers.\n"
     ]
    },
    {
     "name": "stdout",
     "output_type": "stream",
     "text": [
      "Best: -0.417095 using {'max_depth': 1}\n",
      "-0.417095 (0.031009) with: {'max_depth': 1}\n",
      "-0.452280 (0.068675) with: {'max_depth': 3}\n",
      "-0.482601 (0.102453) with: {'max_depth': 5}\n",
      "-0.512507 (0.119877) with: {'max_depth': 7}\n",
      "-0.518529 (0.114404) with: {'max_depth': 9}\n"
     ]
    },
    {
     "name": "stderr",
     "output_type": "stream",
     "text": [
      "[Parallel(n_jobs=-1)]: Done  50 out of  50 | elapsed:    1.8s finished\n",
      "C:\\Anaconda3\\lib\\site-packages\\sklearn\\model_selection\\_search.py:841: DeprecationWarning: The default of the `iid` parameter will change from True to False in version 0.22 and will be removed in 0.24. This will change numeric results when test-set sizes are unequal.\n",
      "  DeprecationWarning)\n"
     ]
    }
   ],
   "source": [
    "model = XGBClassifier()\n",
    "max_depth = range(1, 11, 2)\n",
    "print(max_depth)\n",
    "param_grid = dict(max_depth=max_depth)\n",
    "kfold = StratifiedKFold(n_splits=10, shuffle=True, random_state=7)\n",
    "grid_search = GridSearchCV(model, param_grid, scoring=\"neg_log_loss\", n_jobs=-1, cv=kfold, verbose=1)\n",
    "grid_result = grid_search.fit(X_train, y_train)\n",
    "# summarize results\n",
    "print(\"Best: %f using %s\" % (grid_result.best_score_, grid_result.best_params_))\n",
    "means = grid_result.cv_results_['mean_test_score']\n",
    "stds = grid_result.cv_results_['std_test_score']\n",
    "params = grid_result.cv_results_['params']\n",
    "for mean, stdev, param in zip(means, stds, params):\n",
    "\tprint(\"%f (%f) with: %r\" % (mean, stdev, param))\n"
   ]
  },
  {
   "cell_type": "code",
   "execution_count": 51,
   "metadata": {},
   "outputs": [
    {
     "data": {
      "image/png": "[encoded data removed]",
      "text/plain": [
       "<Figure size 432x288 with 1 Axes>"
      ]
     },
     "metadata": {
      "needs_background": "light"
     },
     "output_type": "display_data"
    }
   ],
   "source": [
    "# plot\n",
    "plt.errorbar(max_depth, means, yerr=stds)\n",
    "plt.title(\"XGBoost max_depth vs Log Loss\")\n",
    "plt.xlabel('max_depth')\n",
    "plt.ylabel('Log Loss')\n",
    "plt.savefig('max_depth.png')"
   ]
  },
  {
   "cell_type": "code",
   "execution_count": 52,
   "metadata": {},
   "outputs": [
    {
     "name": "stdout",
     "output_type": "stream",
     "text": [
      "[6, 7, 8, 9]\n",
      "Fitting 10 folds for each of 16 candidates, totalling 160 fits\n"
     ]
    },
    {
     "name": "stderr",
     "output_type": "stream",
     "text": [
      "[Parallel(n_jobs=-1)]: Using backend LokyBackend with 8 concurrent workers.\n",
      "[Parallel(n_jobs=-1)]: Done  34 tasks      | elapsed:    4.1s\n",
      "[Parallel(n_jobs=-1)]: Done 160 out of 160 | elapsed:   18.9s finished\n",
      "C:\\Anaconda3\\lib\\site-packages\\sklearn\\model_selection\\_search.py:841: DeprecationWarning: The default of the `iid` parameter will change from True to False in version 0.22 and will be removed in 0.24. This will change numeric results when test-set sizes are unequal.\n",
      "  DeprecationWarning)\n"
     ]
    },
    {
     "name": "stdout",
     "output_type": "stream",
     "text": [
      "Best: -0.599548 using {'max_depth': 6, 'n_estimators': 250}\n",
      "-0.628115 (0.179952) with: {'max_depth': 6, 'n_estimators': 350}\n",
      "-0.616064 (0.175983) with: {'max_depth': 6, 'n_estimators': 300}\n",
      "-0.599548 (0.170635) with: {'max_depth': 6, 'n_estimators': 250}\n",
      "-0.636972 (0.183954) with: {'max_depth': 6, 'n_estimators': 400}\n",
      "-0.634026 (0.167181) with: {'max_depth': 7, 'n_estimators': 350}\n",
      "-0.625028 (0.164026) with: {'max_depth': 7, 'n_estimators': 300}\n",
      "-0.611046 (0.159210) with: {'max_depth': 7, 'n_estimators': 250}\n",
      "-0.643325 (0.169376) with: {'max_depth': 7, 'n_estimators': 400}\n",
      "-0.635980 (0.167205) with: {'max_depth': 8, 'n_estimators': 350}\n",
      "-0.627624 (0.164015) with: {'max_depth': 8, 'n_estimators': 300}\n",
      "-0.610904 (0.158634) with: {'max_depth': 8, 'n_estimators': 250}\n",
      "-0.642822 (0.168623) with: {'max_depth': 8, 'n_estimators': 400}\n",
      "-0.626070 (0.151945) with: {'max_depth': 9, 'n_estimators': 350}\n",
      "-0.616184 (0.149740) with: {'max_depth': 9, 'n_estimators': 300}\n",
      "-0.602975 (0.144572) with: {'max_depth': 9, 'n_estimators': 250}\n",
      "-0.633963 (0.154932) with: {'max_depth': 9, 'n_estimators': 400}\n"
     ]
    }
   ],
   "source": [
    "# grid search\n",
    "model = XGBClassifier()\n",
    "n_estimators = [350, 300, 250, 400]\n",
    "max_depth = [6, 7, 8, 9]\n",
    "print(max_depth)\n",
    "param_grid = dict(max_depth=max_depth, n_estimators=n_estimators)\n",
    "kfold = StratifiedKFold(n_splits=10, shuffle=True, random_state=7)\n",
    "grid_search = GridSearchCV(model, param_grid, scoring=\"neg_log_loss\", n_jobs=-1, cv=kfold, verbose=1)\n",
    "grid_result = grid_search.fit(X_train, y_train)\n",
    "# summarize results\n",
    "print(\"Best: %f using %s\" % (grid_result.best_score_, grid_result.best_params_))\n",
    "means = grid_result.cv_results_['mean_test_score']\n",
    "stds = grid_result.cv_results_['std_test_score']\n",
    "params = grid_result.cv_results_['params']\n",
    "for mean, stdev, param in zip(means, stds, params):\n",
    "\tprint(\"%f (%f) with: %r\" % (mean, stdev, param))\n"
   ]
  },
  {
   "cell_type": "code",
   "execution_count": 53,
   "metadata": {
    "scrolled": true
   },
   "outputs": [
    {
     "data": {
      "image/png": "[encoded data removed]",
      "text/plain": [
       "<Figure size 432x288 with 1 Axes>"
      ]
     },
     "metadata": {
      "needs_background": "light"
     },
     "output_type": "display_data"
    }
   ],
   "source": [
    "# plot results\n",
    "scores = np.array(means).reshape(len(max_depth), len(n_estimators))\n",
    "for i, value in enumerate(max_depth):\n",
    "    plt.plot(n_estimators, scores[i], label='depth: ' + str(value))\n",
    "plt.legend()\n",
    "plt.xlabel('n_estimators')\n",
    "plt.ylabel('Log Loss')\n",
    "plt.savefig('n_estimators_vs_max_depth.png')"
   ]
  },
  {
   "cell_type": "markdown",
   "metadata": {},
   "source": [
    "We can see that the best result was achieved with a n_estimators=250 and max_depth=6, similar to the best values found from the previous two rounds of standalone parameter tuning (n_estimators=250, max_depth=5).\n",
    "\n",
    "We can plot the relationship between each series of max_depth values for a given n_estimators."
   ]
  },
  {
   "cell_type": "markdown",
   "metadata": {},
   "source": [
    "Fewer boosted trees are required with increased tree depth.\n",
    "\n",
    "Further, we would expect the increase complexity provided by deeper individual trees to result in greater overfitting of the training data which would be exacerbated by having more trees, in turn resulting in a lower cross validation score. We don’t see this here as our trees are not that deep nor do we have too many. Exploring this expectation  is left as an exercise you could explore yourself."
   ]
  },
  {
   "cell_type": "markdown",
   "metadata": {},
   "source": [
    "## Creating the model with the best values for Hyper parameters\n"
   ]
  },
  {
   "cell_type": "code",
   "execution_count": 54,
   "metadata": {},
   "outputs": [],
   "source": [
    "model = XGBClassifier(max_depth=6, n_estimators=250)"
   ]
  },
  {
   "cell_type": "code",
   "execution_count": 55,
   "metadata": {},
   "outputs": [
    {
     "name": "stdout",
     "output_type": "stream",
     "text": [
      "XGBClassifier(base_score=0.5, booster='gbtree', colsample_bylevel=1,\n",
      "       colsample_bytree=1, gamma=0, learning_rate=0.1, max_delta_step=0,\n",
      "       max_depth=6, min_child_weight=1, missing=None, n_estimators=250,\n",
      "       n_jobs=1, nthread=None, objective='binary:logistic', random_state=0,\n",
      "       reg_alpha=0, reg_lambda=1, scale_pos_weight=1, seed=None,\n",
      "       silent=True, subsample=1)\n"
     ]
    }
   ],
   "source": [
    "print(model)"
   ]
  },
  {
   "cell_type": "code",
   "execution_count": 56,
   "metadata": {
    "scrolled": true
   },
   "outputs": [],
   "source": [
    "model.fit(X_train, y_train)\n",
    "y_pred = model.predict(X_test)\n",
    "predictions = [round(value) for value in y_pred]"
   ]
  },
  {
   "cell_type": "code",
   "execution_count": 57,
   "metadata": {
    "scrolled": true
   },
   "outputs": [
    {
     "name": "stdout",
     "output_type": "stream",
     "text": [
      "ROC for the XGBoost model is: 0.4807692307692308\n"
     ]
    }
   ],
   "source": [
    "print('ROC for the XGBoost model is: ' + str(evaluate(model, X_train,y_train, X_test, y_test)))"
   ]
  },
  {
   "cell_type": "markdown",
   "metadata": {},
   "source": [
    "We need to develop a Nominal Logistic Regression model which will predict whether the house price is HIGH(1) or LOW(-1)"
   ]
  },
  {
   "cell_type": "code",
   "execution_count": 58,
   "metadata": {},
   "outputs": [],
   "source": [
    "import statsmodels.api as sm\n",
    "import statsmodels.formula.api as smf\n",
    "import pandas as pd\n",
    "from sklearn.linear_model import LogisticRegression"
   ]
  },
  {
   "cell_type": "code",
   "execution_count": 59,
   "metadata": {},
   "outputs": [
    {
     "name": "stdout",
     "output_type": "stream",
     "text": [
      "Warning: Maximum number of iterations has been exceeded.\n",
      "         Current function value: 0.398741\n",
      "         Iterations: 35\n",
      "                           Logit Regression Results                           \n",
      "==============================================================================\n",
      "Dep. Variable:          realSentiment   No. Observations:                  434\n",
      "Model:                          Logit   Df Residuals:                      420\n",
      "Method:                           MLE   Df Model:                           13\n",
      "Date:                Sat, 23 Mar 2019   Pseudo R-squ.:                 0.01780\n",
      "Time:                        19:07:47   Log-Likelihood:                -173.05\n",
      "converged:                      False   LL-Null:                       -176.19\n",
      "                                        LLR p-value:                    0.9357\n",
      "==================================================================================================\n",
      "                                     coef    std err          z      P>|z|      [0.025      0.975]\n",
      "--------------------------------------------------------------------------------------------------\n",
      "AWSMixed                          38.1080   1.94e+06   1.96e-05      1.000    -3.8e+06     3.8e+06\n",
      "AWSNegative                       61.7169   3.29e+06   1.87e-05      1.000   -6.46e+06    6.46e+06\n",
      "AWSNeutral                        62.6418    3.3e+06    1.9e-05      1.000   -6.47e+06    6.47e+06\n",
      "AWSPositive                       62.1039    3.3e+06   1.88e-05      1.000   -6.46e+06    6.46e+06\n",
      "GCPmagnitude                      -0.5036      1.332     -0.378      0.705      -3.113       2.106\n",
      "GCPscore                           1.0910      1.534      0.711      0.477      -1.915       4.097\n",
      "IBMscore                           0.1377      0.872      0.158      0.874      -1.571       1.846\n",
      "Azurescore                        -0.1225      1.629     -0.075      0.940      -3.314       3.069\n",
      "AWSPositive_SENTIMENT_negative     0.0320        nan        nan        nan         nan         nan\n",
      "AWSPositive_SENTIMENT_positive     0.7103        nan        nan        nan         nan         nan\n",
      "AWSNegative_SENTIMENT_negative     0.2537   9.16e+06   2.77e-08      1.000    -1.8e+07     1.8e+07\n",
      "AWSNegative_SENTIMENT_positive     0.4887   9.16e+06   5.33e-08      1.000    -1.8e+07     1.8e+07\n",
      "GCPscore_SENTIMENT_negative        0.6791   9.17e+06    7.4e-08      1.000    -1.8e+07     1.8e+07\n",
      "GCPscore_SENTIMENT_positive        0.0633   9.17e+06    6.9e-09      1.000    -1.8e+07     1.8e+07\n",
      "IBMscore_SENTIMENT_negative        0.4480   7.49e+06   5.98e-08      1.000   -1.47e+07    1.47e+07\n",
      "IBMscore_SENTIMENT_positive        0.2944   7.49e+06   3.93e-08      1.000   -1.47e+07    1.47e+07\n",
      "Azurescore_SENTIMENT_negative      0.3416   6.33e+06    5.4e-08      1.000   -1.24e+07    1.24e+07\n",
      "Azurescore_SENTIMENT_positive      0.4008   6.33e+06   6.33e-08      1.000   -1.24e+07    1.24e+07\n",
      "==================================================================================================\n"
     ]
    },
    {
     "name": "stderr",
     "output_type": "stream",
     "text": [
      "C:\\Anaconda3\\lib\\site-packages\\statsmodels\\base\\model.py:508: ConvergenceWarning: Maximum Likelihood optimization failed to converge. Check mle_retvals\n",
      "  \"Check mle_retvals\", ConvergenceWarning)\n",
      "C:\\Anaconda3\\lib\\site-packages\\statsmodels\\base\\model.py:1092: RuntimeWarning: invalid value encountered in sqrt\n",
      "  bse_ = np.sqrt(np.diag(self.cov_params()))\n",
      "C:\\Anaconda3\\lib\\site-packages\\scipy\\stats\\_distn_infrastructure.py:879: RuntimeWarning: invalid value encountered in greater\n",
      "  return (self.a < x) & (x < self.b)\n",
      "C:\\Anaconda3\\lib\\site-packages\\scipy\\stats\\_distn_infrastructure.py:879: RuntimeWarning: invalid value encountered in less\n",
      "  return (self.a < x) & (x < self.b)\n",
      "C:\\Anaconda3\\lib\\site-packages\\scipy\\stats\\_distn_infrastructure.py:1821: RuntimeWarning: invalid value encountered in less_equal\n",
      "  cond2 = cond0 & (x <= self.a)\n"
     ]
    }
   ],
   "source": [
    "logit_model=sm.Logit(y_train,X_train)\n",
    "result=logit_model.fit()\n",
    "print(result.summary())"
   ]
  }
 ],
 "metadata": {
  "kernelspec": {
   "display_name": "Python 3",
   "language": "python",
   "name": "python3"
  },
  "language_info": {
   "codemirror_mode": {
    "name": "ipython",
    "version": 3
   },
   "file_extension": ".py",
   "mimetype": "text/x-python",
   "name": "python",
   "nbconvert_exporter": "python",
   "pygments_lexer": "ipython3",
   "version": "3.7.1"
  }
 },
 "nbformat": 4,
 "nbformat_minor": 2
}
