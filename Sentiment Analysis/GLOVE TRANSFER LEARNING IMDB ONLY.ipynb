{
 "cells": [
  {
   "cell_type": "code",
   "execution_count": 128,
   "metadata": {},
   "outputs": [],
   "source": [
    "from keras.datasets import imdb\n",
    "from keras import preprocessing\n",
    "\n",
    "max_features = 10000 # nr of words to consider as features\n",
    "maxlen = 300 # cuts off the text after this nr of words among the most common words, i.e. 'max_features'\n",
    "\n",
    "(x_train, y_train), (x_test, y_test) = imdb.load_data(num_words =max_features) # loads the data as list of integers\n",
    "\n",
    "x_train = preprocessing.sequence.pad_sequences(x_train, maxlen=maxlen) # turns the list of integers above into a 2D integer tensor of shape (samples, maxlen)\n",
    "x_test = preprocessing.sequence.pad_sequences(x_test, maxlen=maxlen) # (same as for x_train)"
   ]
  },
  {
   "cell_type": "code",
   "execution_count": 129,
   "metadata": {},
   "outputs": [
    {
     "name": "stdout",
     "output_type": "stream",
     "text": [
      "_________________________________________________________________\n",
      "Layer (type)                 Output Shape              Param #   \n",
      "=================================================================\n",
      "embedding_19 (Embedding)     (None, 300, 8)            80000     \n",
      "_________________________________________________________________\n",
      "flatten_10 (Flatten)         (None, 2400)              0         \n",
      "_________________________________________________________________\n",
      "dense_14 (Dense)             (None, 1)                 2401      \n",
      "=================================================================\n",
      "Total params: 82,401\n",
      "Trainable params: 82,401\n",
      "Non-trainable params: 0\n",
      "_________________________________________________________________\n"
     ]
    }
   ],
   "source": [
    "from keras.layers import Embedding\n",
    "from keras.models import Sequential\n",
    "from keras.layers import Flatten, Dense\n",
    "\n",
    "model = Sequential()\n",
    "model.add(Embedding(10000, 8, input_length = maxlen)) \n",
    "\n",
    "\n",
    "\n",
    "model.add(Flatten()) # Flattens the 3D tensor of embeddings (=(samples, maxlen, 8)) into a 2D tensor of shape (samples,maxlen*8)\n",
    "\n",
    "model.add(Dense(1, activation=\"sigmoid\")) \n",
    "model.compile(optimizer=\"rmsprop\", loss=\"binary_crossentropy\", metrics=[\"acc\"])\n",
    "model.summary()"
   ]
  },
  {
   "cell_type": "code",
   "execution_count": 130,
   "metadata": {},
   "outputs": [
    {
     "name": "stdout",
     "output_type": "stream",
     "text": [
      "Train on 20000 samples, validate on 5000 samples\n",
      "Epoch 1/5\n",
      "20000/20000 [==============================] - ETA: 16s - loss: 0.6952 - acc: 0.45 - ETA: 4s - loss: 0.6945 - acc: 0.4800 - ETA: 2s - loss: 0.6941 - acc: 0.489 - ETA: 1s - loss: 0.6935 - acc: 0.501 - ETA: 1s - loss: 0.6933 - acc: 0.504 - ETA: 0s - loss: 0.6930 - acc: 0.506 - ETA: 0s - loss: 0.6929 - acc: 0.509 - ETA: 0s - loss: 0.6928 - acc: 0.511 - ETA: 0s - loss: 0.6924 - acc: 0.516 - ETA: 0s - loss: 0.6922 - acc: 0.517 - ETA: 0s - loss: 0.6917 - acc: 0.525 - ETA: 0s - loss: 0.6913 - acc: 0.530 - 1s 60us/step - loss: 0.6908 - acc: 0.5345 - val_loss: 0.6842 - val_acc: 0.5706\n",
      "Epoch 2/5\n",
      "20000/20000 [==============================] - ETA: 0s - loss: 0.6792 - acc: 0.598 - ETA: 0s - loss: 0.6787 - acc: 0.605 - ETA: 0s - loss: 0.6773 - acc: 0.636 - ETA: 0s - loss: 0.6751 - acc: 0.650 - ETA: 0s - loss: 0.6741 - acc: 0.646 - ETA: 0s - loss: 0.6727 - acc: 0.654 - ETA: 0s - loss: 0.6710 - acc: 0.659 - ETA: 0s - loss: 0.6690 - acc: 0.666 - ETA: 0s - loss: 0.6670 - acc: 0.673 - ETA: 0s - loss: 0.6648 - acc: 0.679 - ETA: 0s - loss: 0.6629 - acc: 0.682 - ETA: 0s - loss: 0.6605 - acc: 0.688 - ETA: 0s - loss: 0.6581 - acc: 0.692 - 1s 39us/step - loss: 0.6555 - acc: 0.6967 - val_loss: 0.6255 - val_acc: 0.7328\n",
      "Epoch 3/5\n",
      "20000/20000 [==============================] - ETA: 0s - loss: 0.6127 - acc: 0.784 - ETA: 0s - loss: 0.6144 - acc: 0.760 - ETA: 0s - loss: 0.6089 - acc: 0.769 - ETA: 0s - loss: 0.6046 - acc: 0.769 - ETA: 0s - loss: 0.6013 - acc: 0.770 - ETA: 0s - loss: 0.5970 - acc: 0.773 - ETA: 0s - loss: 0.5940 - acc: 0.773 - ETA: 0s - loss: 0.5909 - acc: 0.775 - ETA: 0s - loss: 0.5871 - acc: 0.777 - ETA: 0s - loss: 0.5838 - acc: 0.777 - ETA: 0s - loss: 0.5796 - acc: 0.780 - ETA: 0s - loss: 0.5753 - acc: 0.783 - ETA: 0s - loss: 0.5711 - acc: 0.785 - 1s 38us/step - loss: 0.5682 - acc: 0.7874 - val_loss: 0.5271 - val_acc: 0.7940\n",
      "Epoch 4/5\n",
      "20000/20000 [==============================] - ETA: 0s - loss: 0.4916 - acc: 0.844 - ETA: 0s - loss: 0.5010 - acc: 0.837 - ETA: 0s - loss: 0.4957 - acc: 0.835 - ETA: 0s - loss: 0.4923 - acc: 0.836 - ETA: 0s - loss: 0.4895 - acc: 0.835 - ETA: 0s - loss: 0.4851 - acc: 0.836 - ETA: 0s - loss: 0.4822 - acc: 0.836 - ETA: 0s - loss: 0.4793 - acc: 0.836 - ETA: 0s - loss: 0.4755 - acc: 0.838 - ETA: 0s - loss: 0.4719 - acc: 0.839 - ETA: 0s - loss: 0.4699 - acc: 0.838 - ETA: 0s - loss: 0.4672 - acc: 0.839 - 1s 36us/step - loss: 0.4635 - acc: 0.8406 - val_loss: 0.4390 - val_acc: 0.8378\n",
      "Epoch 5/5\n",
      "20000/20000 [==============================] - ETA: 0s - loss: 0.4240 - acc: 0.844 - ETA: 0s - loss: 0.4112 - acc: 0.864 - ETA: 0s - loss: 0.4050 - acc: 0.866 - ETA: 0s - loss: 0.4005 - acc: 0.867 - ETA: 0s - loss: 0.3949 - acc: 0.870 - ETA: 0s - loss: 0.3934 - acc: 0.869 - ETA: 0s - loss: 0.3892 - acc: 0.871 - ETA: 0s - loss: 0.3876 - acc: 0.872 - ETA: 0s - loss: 0.3866 - acc: 0.871 - ETA: 0s - loss: 0.3853 - acc: 0.871 - ETA: 0s - loss: 0.3833 - acc: 0.871 - ETA: 0s - loss: 0.3810 - acc: 0.872 - ETA: 0s - loss: 0.3787 - acc: 0.872 - 1s 39us/step - loss: 0.3776 - acc: 0.8725 - val_loss: 0.3795 - val_acc: 0.8562\n"
     ]
    }
   ],
   "source": [
    "history = model.fit(x_train, y_train, epochs=5, batch_size=500, validation_split=0.2)"
   ]
  },
  {
   "cell_type": "code",
   "execution_count": 131,
   "metadata": {},
   "outputs": [
    {
     "data": {
      "image/png": "[encoded data removed]",
      "text/plain": [
       "<Figure size 432x288 with 1 Axes>"
      ]
     },
     "metadata": {
      "needs_background": "light"
     },
     "output_type": "display_data"
    },
    {
     "data": {
      "image/png": "[encoded data removed]",
      "text/plain": [
       "<Figure size 432x288 with 1 Axes>"
      ]
     },
     "metadata": {
      "needs_background": "light"
     },
     "output_type": "display_data"
    }
   ],
   "source": [
    "import matplotlib.pyplot as plt\n",
    "\n",
    "acc = history.history[\"acc\"] # Training accuracy\n",
    "val_acc = history.history[\"val_acc\"] # Validation accuracy\n",
    "loss = history.history[\"loss\"] # Training loss\n",
    "val_loss = history.history[\"val_loss\"] # Validation loss\n",
    "\n",
    "epochs = range(1, len(acc) + 1) #plots every epoch, here 10\n",
    "\n",
    "plt.plot(epochs, acc, \"bo\", label = \"Training acc\") # \"bo\" gives dot plot\n",
    "plt.plot(epochs, val_acc, \"b\", label = \"Validation acc\") # \"b\" gives line plot\n",
    "plt.title(\"Training and validation accuracy\")\n",
    "plt.legend()\n",
    "plt.figure()\n",
    "\n",
    "plt.plot(epochs, loss, \"bo\", label = \"Training loss\")\n",
    "plt.plot(epochs, val_loss, \"b\", label = \"Validation loss\")\n",
    "plt.title(\"Training and validation loss\")\n",
    "plt.legend()\n",
    "\n",
    "plt.show()"
   ]
  },
  {
   "cell_type": "code",
   "execution_count": 132,
   "metadata": {},
   "outputs": [],
   "source": [
    "import numpy\n",
    "from keras.datasets import imdb\n",
    "from matplotlib import pyplot\n",
    "# load the dataset\n",
    "(X_train, y_train), (X_test, y_test) = imdb.load_data()\n",
    "X = numpy.concatenate((X_train, X_test), axis=0)\n",
    "y = numpy.concatenate((y_train, y_test), axis=0)"
   ]
  },
  {
   "cell_type": "code",
   "execution_count": 133,
   "metadata": {},
   "outputs": [
    {
     "name": "stdout",
     "output_type": "stream",
     "text": [
      "Training data: \n",
      "(50000,)\n",
      "(50000,)\n"
     ]
    }
   ],
   "source": [
    "# summarize size\n",
    "print(\"Training data: \")\n",
    "print(X.shape)\n",
    "print(y.shape)"
   ]
  },
  {
   "cell_type": "code",
   "execution_count": 134,
   "metadata": {},
   "outputs": [
    {
     "name": "stdout",
     "output_type": "stream",
     "text": [
      "Classes: \n",
      "[0 1]\n"
     ]
    }
   ],
   "source": [
    "# Summarize number of classes\n",
    "print(\"Classes: \")\n",
    "print(numpy.unique(y))"
   ]
  },
  {
   "cell_type": "code",
   "execution_count": 135,
   "metadata": {},
   "outputs": [
    {
     "name": "stdout",
     "output_type": "stream",
     "text": [
      "Number of words: \n",
      "88585\n"
     ]
    }
   ],
   "source": [
    "# Summarize number of words\n",
    "print(\"Number of words: \")\n",
    "print(len(numpy.unique(numpy.hstack(X))))"
   ]
  },
  {
   "cell_type": "code",
   "execution_count": 136,
   "metadata": {},
   "outputs": [
    {
     "name": "stdout",
     "output_type": "stream",
     "text": [
      "Review length: \n",
      "Mean 234.76 words (172.911495)\n"
     ]
    },
    {
     "data": {
      "image/png": "[encoded data removed]",
      "text/plain": [
       "<Figure size 432x288 with 1 Axes>"
      ]
     },
     "metadata": {
      "needs_background": "light"
     },
     "output_type": "display_data"
    }
   ],
   "source": [
    "# Summarize review length\n",
    "print(\"Review length: \")\n",
    "result = [len(x) for x in X]\n",
    "print(\"Mean %.2f words (%f)\" % (numpy.mean(result), numpy.std(result)))\n",
    "# plot review length\n",
    "pyplot.boxplot(result)\n",
    "pyplot.show()"
   ]
  },
  {
   "cell_type": "code",
   "execution_count": 141,
   "metadata": {},
   "outputs": [],
   "source": [
    "import os\n",
    "\n",
    "imdb_dir = \"aclImdb\"\n",
    "train_dir = os.path.join(imdb_dir, \"test\")\n",
    "\n",
    "labels = []\n",
    "texts = []\n",
    "\n",
    "for label_type in [\"neg\", \"pos\"]:\n",
    "    dir_name = os.path.join(train_dir, label_type)\n",
    "    for fname in os.listdir(dir_name):\n",
    "        if fname [-4:] == \".txt\":\n",
    "            \n",
    "            f = open(os.path.join(dir_name, fname), encoding='utf-8')\n",
    "            texts.append(f.read())\n",
    "            f.close()\n",
    "            if label_type == \"neg\":\n",
    "                labels.append(0)\n",
    "            else:\n",
    "                labels.append(1)"
   ]
  },
  {
   "cell_type": "code",
   "execution_count": 142,
   "metadata": {},
   "outputs": [
    {
     "name": "stdout",
     "output_type": "stream",
     "text": [
      "Found 72633 unique tokens.\n",
      "Shape of data tensor: (17243, 500)\n",
      "Shape of label tensor: (17243,)\n"
     ]
    }
   ],
   "source": [
    "from keras.preprocessing.text import Tokenizer\n",
    "from keras.preprocessing. sequence import pad_sequences\n",
    "import numpy as np\n",
    "\n",
    "maxlen = 500 \n",
    "training_samples = 1000 # Trains on 1000 samples\n",
    "validation_samples = 10000 # Validates o 10000 samples\n",
    "max_words = 10000 # Considers only the top 10000 words in the dataset\n",
    "\n",
    "tokenizer = Tokenizer(num_words=max_words)\n",
    "tokenizer.fit_on_texts(texts)\n",
    "sequences = tokenizer.texts_to_sequences(texts)\n",
    "word_index = tokenizer.word_index                   \n",
    "print(\"Found %s unique tokens.\" % len(word_index))\n",
    "\n",
    "data = pad_sequences(sequences, maxlen=maxlen)\n",
    "\n",
    "labels = np.asarray(labels)\n",
    "print(\"Shape of data tensor:\", data.shape)\n",
    "print(\"Shape of label tensor:\", labels.shape)\n",
    "\n",
    "indices = np.arange(data.shape[0]) # Splits data into training and validation set, but shuffles is, since samples are ordered: \n",
    "# all negatives first, then all positive\n",
    "np.random.shuffle(indices)\n",
    "data = data[indices]\n",
    "labels = labels[indices]\n",
    "\n",
    "x_train = data[:training_samples] \n",
    "y_train = labels[:training_samples] \n",
    "x_val = data[training_samples:training_samples+validation_samples] \n",
    "y_val = labels[training_samples:training_samples+validation_samples] \n",
    "\n",
    "\n"
   ]
  },
  {
   "cell_type": "code",
   "execution_count": 143,
   "metadata": {},
   "outputs": [
    {
     "name": "stdout",
     "output_type": "stream",
     "text": [
      "found 400000 word vectors.\n"
     ]
    }
   ],
   "source": [
    "glove_dir = \"C:/Users/SHREYA GANESH/Desktop/NEURAL 3/glove.6B.zip\"\n",
    "\n",
    "embeddings_index = {}\n",
    "\n",
    "f = open((\"glove.6B.100d.txt\"), encoding='utf-8') #added , encoding='utf-8'\n",
    "for line in f:\n",
    "    values = line.split()\n",
    "    word = values[0]\n",
    "    coefs = np.asarray(values[1:], dtype=\"float32\")\n",
    "    embeddings_index[word] = coefs\n",
    "f.close()\n",
    "\n",
    "print(\"found %s word vectors.\" % len (embeddings_index))"
   ]
  },
  {
   "cell_type": "code",
   "execution_count": 146,
   "metadata": {},
   "outputs": [],
   "source": [
    "embedding_dim = 100 # GloVe contains 100-dimensional embedding vectors for 400.000 words\n",
    "\n",
    "embedding_matrix = np.zeros((max_words, embedding_dim)) # embedding_matrix.shape (10000, 100)\n",
    "for word, i in word_index.items():\n",
    "    if i < max_words:\n",
    "        embedding_vector = embeddings_index.get(word) # embedding_vector.shape (100,)\n",
    "        if embedding_vector is not None:\n",
    "            embedding_matrix[i] = embedding_vector "
   ]
  },
  {
   "cell_type": "code",
   "execution_count": 147,
   "metadata": {},
   "outputs": [
    {
     "name": "stdout",
     "output_type": "stream",
     "text": [
      "_________________________________________________________________\n",
      "Layer (type)                 Output Shape              Param #   \n",
      "=================================================================\n",
      "embedding_21 (Embedding)     (None, 500, 100)          1000000   \n",
      "_________________________________________________________________\n",
      "flatten_12 (Flatten)         (None, 50000)             0         \n",
      "_________________________________________________________________\n",
      "dense_17 (Dense)             (None, 32)                1600032   \n",
      "_________________________________________________________________\n",
      "dense_18 (Dense)             (None, 1)                 33        \n",
      "=================================================================\n",
      "Total params: 2,600,065\n",
      "Trainable params: 2,600,065\n",
      "Non-trainable params: 0\n",
      "_________________________________________________________________\n"
     ]
    }
   ],
   "source": [
    "from keras.models import Sequential\n",
    "from keras.layers import Embedding, Flatten, Dense\n",
    "\n",
    "model = Sequential()\n",
    "model.add(Embedding(max_words, embedding_dim, input_length = maxlen)) \n",
    "model.add(Flatten()) \n",
    "model.add(Dense(32, activation = \"relu\"))\n",
    "model.add(Dense(1, activation=\"sigmoid\")) \n",
    "model.summary()"
   ]
  },
  {
   "cell_type": "code",
   "execution_count": 148,
   "metadata": {},
   "outputs": [],
   "source": [
    "model.layers[0].set_weights([embedding_matrix])\n",
    "model.layers[0].trainable = False"
   ]
  },
  {
   "cell_type": "code",
   "execution_count": 149,
   "metadata": {},
   "outputs": [
    {
     "name": "stdout",
     "output_type": "stream",
     "text": [
      "Train on 1000 samples, validate on 10000 samples\n",
      "Epoch 1/5\n",
      "1000/1000 [==============================] - ETA: 50s - loss: 0.6189 - acc: 0.60 - ETA: 18s - loss: 2.5723 - acc: 0.70 - ETA: 12s - loss: 2.8883 - acc: 0.72 - ETA: 9s - loss: 2.6441 - acc: 0.7286 - ETA: 7s - loss: 2.1903 - acc: 0.700 - ETA: 6s - loss: 2.0039 - acc: 0.709 - ETA: 6s - loss: 1.8069 - acc: 0.715 - ETA: 5s - loss: 1.6494 - acc: 0.726 - ETA: 5s - loss: 1.5586 - acc: 0.723 - ETA: 4s - loss: 1.4626 - acc: 0.715 - ETA: 4s - loss: 1.3953 - acc: 0.709 - ETA: 4s - loss: 1.3309 - acc: 0.708 - ETA: 4s - loss: 1.2849 - acc: 0.692 - ETA: 3s - loss: 1.2409 - acc: 0.696 - ETA: 3s - loss: 1.2029 - acc: 0.696 - ETA: 3s - loss: 1.1696 - acc: 0.712 - ETA: 3s - loss: 1.1404 - acc: 0.718 - ETA: 3s - loss: 1.1147 - acc: 0.717 - ETA: 3s - loss: 1.0916 - acc: 0.718 - ETA: 2s - loss: 1.0709 - acc: 0.717 - ETA: 2s - loss: 1.0525 - acc: 0.709 - ETA: 2s - loss: 1.0354 - acc: 0.709 - ETA: 2s - loss: 1.0203 - acc: 0.706 - ETA: 2s - loss: 1.0045 - acc: 0.706 - ETA: 2s - loss: 0.9905 - acc: 0.702 - ETA: 2s - loss: 0.9748 - acc: 0.705 - ETA: 2s - loss: 0.9640 - acc: 0.703 - ETA: 2s - loss: 0.9545 - acc: 0.700 - ETA: 1s - loss: 0.9439 - acc: 0.698 - ETA: 1s - loss: 0.9319 - acc: 0.698 - ETA: 1s - loss: 0.9215 - acc: 0.700 - ETA: 1s - loss: 0.9107 - acc: 0.701 - ETA: 1s - loss: 0.9002 - acc: 0.701 - ETA: 1s - loss: 0.8911 - acc: 0.701 - ETA: 1s - loss: 0.8838 - acc: 0.701 - ETA: 1s - loss: 0.8745 - acc: 0.701 - ETA: 1s - loss: 0.8636 - acc: 0.705 - ETA: 1s - loss: 0.8573 - acc: 0.708 - ETA: 1s - loss: 0.8506 - acc: 0.709 - ETA: 0s - loss: 0.8495 - acc: 0.705 - ETA: 0s - loss: 0.8466 - acc: 0.701 - ETA: 0s - loss: 0.8428 - acc: 0.698 - ETA: 0s - loss: 0.8380 - acc: 0.698 - ETA: 0s - loss: 0.8364 - acc: 0.694 - ETA: 0s - loss: 0.8323 - acc: 0.693 - ETA: 0s - loss: 0.8265 - acc: 0.694 - ETA: 0s - loss: 0.8228 - acc: 0.694 - ETA: 0s - loss: 0.8201 - acc: 0.692 - ETA: 0s - loss: 0.8157 - acc: 0.692 - ETA: 0s - loss: 0.8105 - acc: 0.694 - 7s 7ms/step - loss: 0.8093 - acc: 0.6910 - val_loss: 0.6046 - val_acc: 0.7277\n",
      "Epoch 2/5\n",
      "1000/1000 [==============================] - ETA: 3s - loss: 0.6400 - acc: 0.700 - ETA: 3s - loss: 0.6347 - acc: 0.600 - ETA: 3s - loss: 0.5981 - acc: 0.640 - ETA: 3s - loss: 0.7125 - acc: 0.585 - ETA: 3s - loss: 0.6876 - acc: 0.622 - ETA: 3s - loss: 0.6492 - acc: 0.672 - ETA: 3s - loss: 0.6579 - acc: 0.669 - ETA: 3s - loss: 0.6435 - acc: 0.673 - ETA: 3s - loss: 0.6399 - acc: 0.676 - ETA: 3s - loss: 0.6284 - acc: 0.684 - ETA: 2s - loss: 0.6132 - acc: 0.700 - ETA: 2s - loss: 0.6166 - acc: 0.691 - ETA: 2s - loss: 0.6172 - acc: 0.684 - ETA: 2s - loss: 0.6515 - acc: 0.685 - ETA: 2s - loss: 0.6433 - acc: 0.689 - ETA: 2s - loss: 0.6537 - acc: 0.690 - ETA: 2s - loss: 0.6553 - acc: 0.681 - ETA: 2s - loss: 0.6707 - acc: 0.680 - ETA: 2s - loss: 0.6661 - acc: 0.681 - ETA: 2s - loss: 0.6575 - acc: 0.689 - ETA: 2s - loss: 0.6532 - acc: 0.687 - ETA: 1s - loss: 0.6426 - acc: 0.695 - ETA: 1s - loss: 0.6311 - acc: 0.702 - ETA: 1s - loss: 0.6295 - acc: 0.702 - ETA: 1s - loss: 0.6347 - acc: 0.700 - ETA: 1s - loss: 0.6334 - acc: 0.698 - ETA: 1s - loss: 0.6267 - acc: 0.701 - ETA: 1s - loss: 0.6294 - acc: 0.703 - ETA: 1s - loss: 0.6274 - acc: 0.705 - ETA: 1s - loss: 0.6256 - acc: 0.706 - ETA: 1s - loss: 0.6280 - acc: 0.701 - ETA: 1s - loss: 0.6268 - acc: 0.700 - ETA: 1s - loss: 0.6251 - acc: 0.700 - ETA: 1s - loss: 0.6229 - acc: 0.700 - ETA: 1s - loss: 0.6206 - acc: 0.704 - ETA: 1s - loss: 0.6211 - acc: 0.705 - ETA: 0s - loss: 0.6232 - acc: 0.705 - ETA: 0s - loss: 0.6222 - acc: 0.706 - ETA: 0s - loss: 0.6242 - acc: 0.706 - ETA: 0s - loss: 0.6193 - acc: 0.710 - ETA: 0s - loss: 0.6184 - acc: 0.708 - ETA: 0s - loss: 0.6159 - acc: 0.710 - ETA: 0s - loss: 0.6175 - acc: 0.705 - ETA: 0s - loss: 0.6174 - acc: 0.702 - ETA: 0s - loss: 0.6147 - acc: 0.705 - ETA: 0s - loss: 0.6104 - acc: 0.708 - ETA: 0s - loss: 0.6118 - acc: 0.706 - ETA: 0s - loss: 0.6106 - acc: 0.706 - ETA: 0s - loss: 0.6164 - acc: 0.706 - ETA: 0s - loss: 0.6149 - acc: 0.706 - 6s 6ms/step - loss: 0.6135 - acc: 0.7060 - val_loss: 0.5758 - val_acc: 0.7272\n",
      "Epoch 3/5\n",
      "1000/1000 [==============================] - ETA: 3s - loss: 0.3702 - acc: 0.800 - ETA: 3s - loss: 0.5549 - acc: 0.700 - ETA: 3s - loss: 0.5560 - acc: 0.700 - ETA: 2s - loss: 0.5758 - acc: 0.671 - ETA: 2s - loss: 0.5250 - acc: 0.722 - ETA: 2s - loss: 0.5202 - acc: 0.718 - ETA: 2s - loss: 0.5207 - acc: 0.700 - ETA: 2s - loss: 0.5166 - acc: 0.693 - ETA: 2s - loss: 0.5261 - acc: 0.682 - ETA: 2s - loss: 0.5056 - acc: 0.705 - ETA: 2s - loss: 0.5307 - acc: 0.666 - ETA: 2s - loss: 0.5235 - acc: 0.673 - ETA: 2s - loss: 0.5161 - acc: 0.684 - ETA: 2s - loss: 0.5154 - acc: 0.685 - ETA: 2s - loss: 0.5063 - acc: 0.686 - ETA: 2s - loss: 0.5022 - acc: 0.690 - ETA: 2s - loss: 0.5020 - acc: 0.690 - ETA: 2s - loss: 0.5066 - acc: 0.682 - ETA: 2s - loss: 0.5027 - acc: 0.688 - ETA: 2s - loss: 0.5030 - acc: 0.689 - ETA: 2s - loss: 0.5048 - acc: 0.687 - ETA: 2s - loss: 0.5057 - acc: 0.688 - ETA: 1s - loss: 0.5020 - acc: 0.695 - ETA: 1s - loss: 0.5013 - acc: 0.695 - ETA: 1s - loss: 0.4982 - acc: 0.700 - ETA: 1s - loss: 0.4977 - acc: 0.698 - ETA: 1s - loss: 0.4941 - acc: 0.701 - ETA: 1s - loss: 0.4892 - acc: 0.705 - ETA: 1s - loss: 0.4854 - acc: 0.707 - ETA: 1s - loss: 0.4793 - acc: 0.710 - ETA: 1s - loss: 0.4768 - acc: 0.711 - ETA: 1s - loss: 0.4771 - acc: 0.711 - ETA: 1s - loss: 0.4725 - acc: 0.715 - ETA: 1s - loss: 0.4685 - acc: 0.719 - ETA: 1s - loss: 0.4687 - acc: 0.717 - ETA: 1s - loss: 0.4656 - acc: 0.720 - ETA: 0s - loss: 0.4682 - acc: 0.719 - ETA: 0s - loss: 0.4670 - acc: 0.718 - ETA: 0s - loss: 0.4702 - acc: 0.715 - ETA: 0s - loss: 0.4662 - acc: 0.719 - ETA: 0s - loss: 0.4725 - acc: 0.715 - ETA: 0s - loss: 0.4724 - acc: 0.712 - ETA: 0s - loss: 0.4720 - acc: 0.711 - ETA: 0s - loss: 0.4711 - acc: 0.712 - ETA: 0s - loss: 0.4695 - acc: 0.713 - ETA: 0s - loss: 0.4695 - acc: 0.715 - ETA: 0s - loss: 0.4703 - acc: 0.715 - ETA: 0s - loss: 0.4698 - acc: 0.714 - ETA: 0s - loss: 0.4716 - acc: 0.712 - ETA: 0s - loss: 0.4712 - acc: 0.711 - 6s 6ms/step - loss: 0.4738 - acc: 0.7130 - val_loss: 0.5737 - val_acc: 0.7182\n",
      "Epoch 4/5\n",
      "1000/1000 [==============================] - ETA: 3s - loss: 0.3908 - acc: 0.800 - ETA: 3s - loss: 0.3367 - acc: 0.866 - ETA: 3s - loss: 0.3488 - acc: 0.860 - ETA: 3s - loss: 0.3099 - acc: 0.885 - ETA: 3s - loss: 0.3253 - acc: 0.877 - ETA: 2s - loss: 0.3262 - acc: 0.863 - ETA: 2s - loss: 0.3420 - acc: 0.869 - ETA: 2s - loss: 0.3413 - acc: 0.866 - ETA: 2s - loss: 0.3278 - acc: 0.864 - ETA: 2s - loss: 0.3292 - acc: 0.857 - ETA: 2s - loss: 0.3338 - acc: 0.852 - ETA: 2s - loss: 0.3651 - acc: 0.852 - ETA: 2s - loss: 0.3659 - acc: 0.852 - ETA: 2s - loss: 0.3655 - acc: 0.855 - ETA: 2s - loss: 0.3589 - acc: 0.855 - ETA: 2s - loss: 0.3665 - acc: 0.845 - ETA: 2s - loss: 0.3677 - acc: 0.848 - ETA: 2s - loss: 0.3625 - acc: 0.854 - ETA: 2s - loss: 0.3610 - acc: 0.848 - ETA: 2s - loss: 0.3568 - acc: 0.851 - ETA: 2s - loss: 0.3586 - acc: 0.848 - ETA: 1s - loss: 0.3553 - acc: 0.851 - ETA: 1s - loss: 0.3503 - acc: 0.853 - ETA: 1s - loss: 0.3478 - acc: 0.853 - ETA: 1s - loss: 0.3489 - acc: 0.855 - ETA: 1s - loss: 0.3467 - acc: 0.858 - ETA: 1s - loss: 0.3413 - acc: 0.864 - ETA: 1s - loss: 0.3385 - acc: 0.863 - ETA: 1s - loss: 0.3372 - acc: 0.866 - ETA: 1s - loss: 0.3406 - acc: 0.864 - ETA: 1s - loss: 0.3400 - acc: 0.865 - ETA: 1s - loss: 0.3401 - acc: 0.865 - ETA: 1s - loss: 0.3414 - acc: 0.864 - ETA: 1s - loss: 0.3386 - acc: 0.867 - ETA: 1s - loss: 0.3398 - acc: 0.862 - ETA: 0s - loss: 0.3357 - acc: 0.863 - ETA: 0s - loss: 0.3324 - acc: 0.865 - ETA: 0s - loss: 0.3328 - acc: 0.865 - ETA: 0s - loss: 0.3334 - acc: 0.864 - ETA: 0s - loss: 0.3382 - acc: 0.867 - ETA: 0s - loss: 0.3367 - acc: 0.869 - ETA: 0s - loss: 0.3360 - acc: 0.870 - ETA: 0s - loss: 0.3348 - acc: 0.871 - ETA: 0s - loss: 0.3339 - acc: 0.872 - ETA: 0s - loss: 0.3345 - acc: 0.872 - ETA: 0s - loss: 0.3425 - acc: 0.866 - ETA: 0s - loss: 0.3410 - acc: 0.868 - ETA: 0s - loss: 0.3397 - acc: 0.870 - ETA: 0s - loss: 0.3383 - acc: 0.871 - ETA: 0s - loss: 0.3364 - acc: 0.873 - 6s 6ms/step - loss: 0.3678 - acc: 0.8650 - val_loss: 0.7662 - val_acc: 0.6905\n",
      "Epoch 5/5\n",
      "1000/1000 [==============================] - ETA: 3s - loss: 0.3509 - acc: 0.700 - ETA: 3s - loss: 0.2393 - acc: 0.900 - ETA: 3s - loss: 0.2011 - acc: 0.940 - ETA: 3s - loss: 0.3151 - acc: 0.885 - ETA: 3s - loss: 0.2759 - acc: 0.911 - ETA: 2s - loss: 0.2570 - acc: 0.927 - ETA: 2s - loss: 0.2403 - acc: 0.938 - ETA: 2s - loss: 0.2262 - acc: 0.946 - ETA: 2s - loss: 0.2154 - acc: 0.941 - ETA: 2s - loss: 0.2363 - acc: 0.936 - ETA: 2s - loss: 0.2482 - acc: 0.933 - ETA: 2s - loss: 0.2400 - acc: 0.939 - ETA: 2s - loss: 0.2349 - acc: 0.940 - ETA: 2s - loss: 0.2291 - acc: 0.944 - ETA: 2s - loss: 0.2208 - acc: 0.948 - ETA: 2s - loss: 0.2180 - acc: 0.945 - ETA: 2s - loss: 0.2113 - acc: 0.948 - ETA: 2s - loss: 0.2074 - acc: 0.951 - ETA: 2s - loss: 0.2042 - acc: 0.954 - ETA: 2s - loss: 0.2005 - acc: 0.956 - ETA: 1s - loss: 0.1983 - acc: 0.958 - ETA: 1s - loss: 0.1931 - acc: 0.960 - ETA: 1s - loss: 0.1938 - acc: 0.957 - ETA: 1s - loss: 0.1997 - acc: 0.957 - ETA: 1s - loss: 0.1976 - acc: 0.957 - ETA: 1s - loss: 0.1967 - acc: 0.958 - ETA: 1s - loss: 0.2011 - acc: 0.952 - ETA: 1s - loss: 0.1993 - acc: 0.952 - ETA: 1s - loss: 0.2042 - acc: 0.950 - ETA: 1s - loss: 0.2034 - acc: 0.950 - ETA: 1s - loss: 0.1995 - acc: 0.952 - ETA: 1s - loss: 0.1962 - acc: 0.954 - ETA: 1s - loss: 0.1998 - acc: 0.952 - ETA: 1s - loss: 0.1986 - acc: 0.953 - ETA: 1s - loss: 0.1964 - acc: 0.955 - ETA: 0s - loss: 0.1934 - acc: 0.956 - ETA: 0s - loss: 0.1899 - acc: 0.957 - ETA: 0s - loss: 0.2033 - acc: 0.946 - ETA: 0s - loss: 0.2039 - acc: 0.945 - ETA: 0s - loss: 0.2020 - acc: 0.945 - ETA: 0s - loss: 0.1996 - acc: 0.946 - ETA: 0s - loss: 0.1981 - acc: 0.947 - ETA: 0s - loss: 0.1955 - acc: 0.947 - ETA: 0s - loss: 0.1925 - acc: 0.948 - ETA: 0s - loss: 0.1915 - acc: 0.948 - ETA: 0s - loss: 0.1899 - acc: 0.948 - ETA: 0s - loss: 0.1902 - acc: 0.948 - ETA: 0s - loss: 0.1893 - acc: 0.948 - ETA: 0s - loss: 0.1885 - acc: 0.948 - ETA: 0s - loss: 0.1888 - acc: 0.948 - 6s 6ms/step - loss: 0.1888 - acc: 0.9480 - val_loss: 0.6368 - val_acc: 0.7227\n"
     ]
    }
   ],
   "source": [
    "model.compile(optimizer = \"rmsprop\", \n",
    "              loss = \"binary_crossentropy\", \n",
    "              metrics = [\"acc\"]) \n",
    "history = model.fit(x_train, y_train,\n",
    "                   epochs = 5,\n",
    "                   batch_size = 10,\n",
    "                   validation_data = (x_val, y_val))\n",
    "model.save_weights(\"pre_trained_glove_model.h5\")"
   ]
  },
  {
   "cell_type": "code",
   "execution_count": 150,
   "metadata": {},
   "outputs": [
    {
     "data": {
      "image/png": "[encoded data removed]",
      "text/plain": [
       "<Figure size 432x288 with 1 Axes>"
      ]
     },
     "metadata": {
      "needs_background": "light"
     },
     "output_type": "display_data"
    },
    {
     "data": {
      "image/png": "[encoded data removed]",
      "text/plain": [
       "<Figure size 432x288 with 1 Axes>"
      ]
     },
     "metadata": {
      "needs_background": "light"
     },
     "output_type": "display_data"
    }
   ],
   "source": [
    "import matplotlib.pyplot as plt\n",
    "\n",
    "acc = history.history[\"acc\"] # Training accuracy\n",
    "val_acc = history.history[\"val_acc\"] # Validation accuracy\n",
    "loss = history.history[\"loss\"] # Training loss\n",
    "val_loss = history.history[\"val_loss\"] # Validation loss\n",
    "\n",
    "epochs = range(1, len(acc) + 1) \n",
    "\n",
    "plt.plot(epochs, acc, \"bo\", label = \"Training acc\") # \"bo\" gives dot plot\n",
    "plt.plot(epochs, val_acc, \"b\", label = \"Validation acc\") # \"b\" gives line plot\n",
    "plt.title(\"Training and validation accuracy\")\n",
    "plt.legend()\n",
    "plt.figure()\n",
    "\n",
    "plt.plot(epochs, loss, \"bo\", label = \"Training loss\")\n",
    "plt.plot(epochs, val_loss, \"b\", label = \"Validation loss\")\n",
    "plt.title(\"Training and validation loss\")\n",
    "plt.legend()\n",
    "\n",
    "plt.show()"
   ]
  },
  {
   "cell_type": "code",
   "execution_count": null,
   "metadata": {},
   "outputs": [],
   "source": []
  }
 ],
 "metadata": {
  "kernelspec": {
   "display_name": "Python 3",
   "language": "python",
   "name": "python3"
  },
  "language_info": {
   "codemirror_mode": {
    "name": "ipython",
    "version": 3
   },
   "file_extension": ".py",
   "mimetype": "text/x-python",
   "name": "python",
   "nbconvert_exporter": "python",
   "pygments_lexer": "ipython3",
   "version": "3.7.0"
  }
 },
 "nbformat": 4,
 "nbformat_minor": 2
}
