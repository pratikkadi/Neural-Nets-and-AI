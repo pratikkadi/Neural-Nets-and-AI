{
  "nbformat": 4,
  "nbformat_minor": 0,
  "metadata": {
    "colab": {
      "name": "H20AI.ipynb",
      "version": "0.3.2",
      "provenance": [],
      "collapsed_sections": []
    },
    "kernelspec": {
      "name": "python3",
      "display_name": "Python 3"
    }
  },
  "cells": [
    {
      "metadata": {
        "id": "m2iYlfTZnGqG",
        "colab_type": "code",
        "colab": {
          "base_uri": "https://localhost:8080/",
          "height": 390
        },
        "outputId": "088439fd-cdf1-4ab8-deb3-bc3c6c973071"
      },
      "cell_type": "code",
      "source": [
        "!pip install -f http://h2o-release.s3.amazonaws.com/h2o/latest_stable_Py.html h2o"
      ],
      "execution_count": 1,
      "outputs": [
        {
          "output_type": "stream",
          "text": [
            "Looking in links: http://h2o-release.s3.amazonaws.com/h2o/latest_stable_Py.html\n",
            "Collecting h2o\n",
            "\u001b[33m  The repository located at h2o-release.s3.amazonaws.com is not a trusted or secure host and is being ignored. If this repository is available via HTTPS we recommend you use HTTPS instead, otherwise you may silence this warning and allow it anyway with '--trusted-host h2o-release.s3.amazonaws.com'.\u001b[0m\n",
            "\u001b[?25l  Downloading https://files.pythonhosted.org/packages/94/8a/cce6663380742405994eb2de6f93c93ac63fa8c026c937d7270539e16eaa/h2o-3.22.1.6.tar.gz (120.9MB)\n",
            "\u001b[K    100% |████████████████████████████████| 120.9MB 199kB/s \n",
            "\u001b[?25hRequirement already satisfied: requests in /usr/local/lib/python3.6/dist-packages (from h2o) (2.18.4)\n",
            "Requirement already satisfied: tabulate in /usr/local/lib/python3.6/dist-packages (from h2o) (0.8.3)\n",
            "Requirement already satisfied: future in /usr/local/lib/python3.6/dist-packages (from h2o) (0.16.0)\n",
            "Collecting colorama>=0.3.8 (from h2o)\n",
            "\u001b[33m  The repository located at h2o-release.s3.amazonaws.com is not a trusted or secure host and is being ignored. If this repository is available via HTTPS we recommend you use HTTPS instead, otherwise you may silence this warning and allow it anyway with '--trusted-host h2o-release.s3.amazonaws.com'.\u001b[0m\n",
            "  Downloading https://files.pythonhosted.org/packages/4f/a6/728666f39bfff1719fc94c481890b2106837da9318031f71a8424b662e12/colorama-0.4.1-py2.py3-none-any.whl\n",
            "Requirement already satisfied: certifi>=2017.4.17 in /usr/local/lib/python3.6/dist-packages (from requests->h2o) (2019.3.9)\n",
            "Requirement already satisfied: chardet<3.1.0,>=3.0.2 in /usr/local/lib/python3.6/dist-packages (from requests->h2o) (3.0.4)\n",
            "Requirement already satisfied: idna<2.7,>=2.5 in /usr/local/lib/python3.6/dist-packages (from requests->h2o) (2.6)\n",
            "Requirement already satisfied: urllib3<1.23,>=1.21.1 in /usr/local/lib/python3.6/dist-packages (from requests->h2o) (1.22)\n",
            "Building wheels for collected packages: h2o\n",
            "  Building wheel for h2o (setup.py) ... \u001b[?25ldone\n",
            "\u001b[?25h  Stored in directory: /root/.cache/pip/wheels/f4/21/59/e953dbf8206d5061ce1346e119dad9ffafd7f88011430682ba\n",
            "Successfully built h2o\n",
            "Installing collected packages: colorama, h2o\n",
            "Successfully installed colorama-0.4.1 h2o-3.22.1.6\n"
          ],
          "name": "stdout"
        }
      ]
    },
    {
      "metadata": {
        "id": "P2i-2wABnYl0",
        "colab_type": "code",
        "colab": {
          "base_uri": "https://localhost:8080/",
          "height": 372
        },
        "outputId": "4a5fee42-e923-4816-b9a3-885406bbd6d5"
      },
      "cell_type": "code",
      "source": [
        "import h2o\n",
        "import pandas as pd\n",
        "import numpy as np\n",
        "from sklearn.model_selection import train_test_split\n",
        "from h2o.automl import H2OAutoML\n",
        "\n",
        "h2o.init()"
      ],
      "execution_count": 34,
      "outputs": [
        {
          "output_type": "stream",
          "text": [
            "Checking whether there is an H2O instance running at http://localhost:54321. connected.\n"
          ],
          "name": "stdout"
        },
        {
          "output_type": "display_data",
          "data": {
            "text/html": [
              "<div style=\"overflow:auto\"><table style=\"width:50%\"><tr><td>H2O cluster uptime:</td>\n",
              "<td>19 mins 30 secs</td></tr>\n",
              "<tr><td>H2O cluster timezone:</td>\n",
              "<td>Etc/UTC</td></tr>\n",
              "<tr><td>H2O data parsing timezone:</td>\n",
              "<td>UTC</td></tr>\n",
              "<tr><td>H2O cluster version:</td>\n",
              "<td>3.22.1.6</td></tr>\n",
              "<tr><td>H2O cluster version age:</td>\n",
              "<td>10 days </td></tr>\n",
              "<tr><td>H2O cluster name:</td>\n",
              "<td>H2O_from_python_unknownUser_bzwy0k</td></tr>\n",
              "<tr><td>H2O cluster total nodes:</td>\n",
              "<td>1</td></tr>\n",
              "<tr><td>H2O cluster free memory:</td>\n",
              "<td>2.988 Gb</td></tr>\n",
              "<tr><td>H2O cluster total cores:</td>\n",
              "<td>2</td></tr>\n",
              "<tr><td>H2O cluster allowed cores:</td>\n",
              "<td>2</td></tr>\n",
              "<tr><td>H2O cluster status:</td>\n",
              "<td>locked, healthy</td></tr>\n",
              "<tr><td>H2O connection url:</td>\n",
              "<td>http://localhost:54321</td></tr>\n",
              "<tr><td>H2O connection proxy:</td>\n",
              "<td>None</td></tr>\n",
              "<tr><td>H2O internal security:</td>\n",
              "<td>False</td></tr>\n",
              "<tr><td>H2O API Extensions:</td>\n",
              "<td>Amazon S3, XGBoost, Algos, AutoML, Core V3, Core V4</td></tr>\n",
              "<tr><td>Python version:</td>\n",
              "<td>3.6.7 final</td></tr></table></div>"
            ],
            "text/plain": [
              "--------------------------  ---------------------------------------------------\n",
              "H2O cluster uptime:         19 mins 30 secs\n",
              "H2O cluster timezone:       Etc/UTC\n",
              "H2O data parsing timezone:  UTC\n",
              "H2O cluster version:        3.22.1.6\n",
              "H2O cluster version age:    10 days\n",
              "H2O cluster name:           H2O_from_python_unknownUser_bzwy0k\n",
              "H2O cluster total nodes:    1\n",
              "H2O cluster free memory:    2.988 Gb\n",
              "H2O cluster total cores:    2\n",
              "H2O cluster allowed cores:  2\n",
              "H2O cluster status:         locked, healthy\n",
              "H2O connection url:         http://localhost:54321\n",
              "H2O connection proxy:\n",
              "H2O internal security:      False\n",
              "H2O API Extensions:         Amazon S3, XGBoost, Algos, AutoML, Core V3, Core V4\n",
              "Python version:             3.6.7 final\n",
              "--------------------------  ---------------------------------------------------"
            ]
          },
          "metadata": {
            "tags": []
          }
        }
      ]
    },
    {
      "metadata": {
        "id": "GLBaJblrUc1F",
        "colab_type": "code",
        "colab": {}
      },
      "cell_type": "code",
      "source": [
        "from sklearn.metrics import accuracy_score"
      ],
      "execution_count": 0,
      "outputs": []
    },
    {
      "metadata": {
        "id": "AgZvjzLeoDNk",
        "colab_type": "code",
        "colab": {}
      },
      "cell_type": "code",
      "source": [
        "scores= pd.read_csv('combinedall.csv')"
      ],
      "execution_count": 0,
      "outputs": []
    },
    {
      "metadata": {
        "id": "3lVLqbEboXdS",
        "colab_type": "code",
        "colab": {
          "base_uri": "https://localhost:8080/",
          "height": 635
        },
        "outputId": "b861e0a4-6dc1-4a68-b7a1-b0dc4c05e0ae"
      },
      "cell_type": "code",
      "source": [
        "scores.head(5)"
      ],
      "execution_count": 37,
      "outputs": [
        {
          "output_type": "execute_result",
          "data": {
            "text/html": [
              "<div>\n",
              "<style scoped>\n",
              "    .dataframe tbody tr th:only-of-type {\n",
              "        vertical-align: middle;\n",
              "    }\n",
              "\n",
              "    .dataframe tbody tr th {\n",
              "        vertical-align: top;\n",
              "    }\n",
              "\n",
              "    .dataframe thead th {\n",
              "        text-align: right;\n",
              "    }\n",
              "</style>\n",
              "<table border=\"1\" class=\"dataframe\">\n",
              "  <thead>\n",
              "    <tr style=\"text-align: right;\">\n",
              "      <th></th>\n",
              "      <th>Unnamed: 0</th>\n",
              "      <th>AWSSentiment</th>\n",
              "      <th>AWSMixed</th>\n",
              "      <th>AWSNegative</th>\n",
              "      <th>AWSNeutral</th>\n",
              "      <th>AWSPositive</th>\n",
              "      <th>GCPmagnitude</th>\n",
              "      <th>GCPscore</th>\n",
              "      <th>IBMlabel</th>\n",
              "      <th>IBMscore</th>\n",
              "      <th>id</th>\n",
              "      <th>Azurescore</th>\n",
              "      <th>realSentiment</th>\n",
              "      <th>text</th>\n",
              "    </tr>\n",
              "  </thead>\n",
              "  <tbody>\n",
              "    <tr>\n",
              "      <th>0</th>\n",
              "      <td>1</td>\n",
              "      <td>POSITIVE</td>\n",
              "      <td>0.003024</td>\n",
              "      <td>0.003904</td>\n",
              "      <td>0.201138</td>\n",
              "      <td>0.791934</td>\n",
              "      <td>0.0</td>\n",
              "      <td>0.0</td>\n",
              "      <td>positive</td>\n",
              "      <td>0.987951</td>\n",
              "      <td>1</td>\n",
              "      <td>0.887542</td>\n",
              "      <td>positive</td>\n",
              "      <td>Thank you, Ellen. We have a strong 2018, with ...</td>\n",
              "    </tr>\n",
              "    <tr>\n",
              "      <th>1</th>\n",
              "      <td>2</td>\n",
              "      <td>NEUTRAL</td>\n",
              "      <td>0.002820</td>\n",
              "      <td>0.006084</td>\n",
              "      <td>0.974791</td>\n",
              "      <td>0.016305</td>\n",
              "      <td>0.7</td>\n",
              "      <td>0.1</td>\n",
              "      <td>positive</td>\n",
              "      <td>0.655981</td>\n",
              "      <td>2</td>\n",
              "      <td>0.832603</td>\n",
              "      <td>neutral</td>\n",
              "      <td>Let me now turn to and talk about Other Bets. ...</td>\n",
              "    </tr>\n",
              "    <tr>\n",
              "      <th>2</th>\n",
              "      <td>3</td>\n",
              "      <td>NEUTRAL</td>\n",
              "      <td>0.001650</td>\n",
              "      <td>0.008785</td>\n",
              "      <td>0.940597</td>\n",
              "      <td>0.048969</td>\n",
              "      <td>0.4</td>\n",
              "      <td>0.1</td>\n",
              "      <td>neutral</td>\n",
              "      <td>0.000000</td>\n",
              "      <td>3</td>\n",
              "      <td>0.500000</td>\n",
              "      <td>neutral</td>\n",
              "      <td>Secondly, could you talk about advertising rev...</td>\n",
              "    </tr>\n",
              "    <tr>\n",
              "      <th>3</th>\n",
              "      <td>4</td>\n",
              "      <td>NEUTRAL</td>\n",
              "      <td>0.003136</td>\n",
              "      <td>0.004265</td>\n",
              "      <td>0.859948</td>\n",
              "      <td>0.132651</td>\n",
              "      <td>0.3</td>\n",
              "      <td>0.1</td>\n",
              "      <td>positive</td>\n",
              "      <td>0.580306</td>\n",
              "      <td>4</td>\n",
              "      <td>0.792194</td>\n",
              "      <td>positive</td>\n",
              "      <td>Our Investment Banking franchise overall remai...</td>\n",
              "    </tr>\n",
              "    <tr>\n",
              "      <th>4</th>\n",
              "      <td>5</td>\n",
              "      <td>NEUTRAL</td>\n",
              "      <td>0.006692</td>\n",
              "      <td>0.294444</td>\n",
              "      <td>0.688630</td>\n",
              "      <td>0.010235</td>\n",
              "      <td>0.3</td>\n",
              "      <td>0.0</td>\n",
              "      <td>positive</td>\n",
              "      <td>0.683194</td>\n",
              "      <td>5</td>\n",
              "      <td>0.749581</td>\n",
              "      <td>neutral</td>\n",
              "      <td>Great. Thank you. I just wanted to follow up o...</td>\n",
              "    </tr>\n",
              "  </tbody>\n",
              "</table>\n",
              "</div>"
            ],
            "text/plain": [
              "   Unnamed: 0 AWSSentiment  AWSMixed  AWSNegative  AWSNeutral  AWSPositive  \\\n",
              "0           1     POSITIVE  0.003024     0.003904    0.201138     0.791934   \n",
              "1           2      NEUTRAL  0.002820     0.006084    0.974791     0.016305   \n",
              "2           3      NEUTRAL  0.001650     0.008785    0.940597     0.048969   \n",
              "3           4      NEUTRAL  0.003136     0.004265    0.859948     0.132651   \n",
              "4           5      NEUTRAL  0.006692     0.294444    0.688630     0.010235   \n",
              "\n",
              "   GCPmagnitude  GCPscore  IBMlabel  IBMscore  id  Azurescore realSentiment  \\\n",
              "0           0.0       0.0  positive  0.987951   1    0.887542      positive   \n",
              "1           0.7       0.1  positive  0.655981   2    0.832603       neutral   \n",
              "2           0.4       0.1   neutral  0.000000   3    0.500000       neutral   \n",
              "3           0.3       0.1  positive  0.580306   4    0.792194      positive   \n",
              "4           0.3       0.0  positive  0.683194   5    0.749581       neutral   \n",
              "\n",
              "                                                text  \n",
              "0  Thank you, Ellen. We have a strong 2018, with ...  \n",
              "1  Let me now turn to and talk about Other Bets. ...  \n",
              "2  Secondly, could you talk about advertising rev...  \n",
              "3  Our Investment Banking franchise overall remai...  \n",
              "4  Great. Thank you. I just wanted to follow up o...  "
            ]
          },
          "metadata": {
            "tags": []
          },
          "execution_count": 37
        }
      ]
    },
    {
      "metadata": {
        "id": "C3QeHyaZofb3",
        "colab_type": "code",
        "colab": {}
      },
      "cell_type": "code",
      "source": [
        "coloumns=['AWSMixed','AWSNegative','AWSNeutral','AWSPositive','GCPscore','IBMscore','Azurescore']"
      ],
      "execution_count": 0,
      "outputs": []
    },
    {
      "metadata": {
        "id": "HoGNxj5OpcpE",
        "colab_type": "code",
        "colab": {}
      },
      "cell_type": "code",
      "source": [
        "X=np.asarray(scores[coloumns])\n",
        "y=np.asarray(scores['realSentiment'])"
      ],
      "execution_count": 0,
      "outputs": []
    },
    {
      "metadata": {
        "id": "HHnwqEMIpoc_",
        "colab_type": "code",
        "colab": {}
      },
      "cell_type": "code",
      "source": [
        "x_train, x_test, y_train, y_test = train_test_split(X, y, test_size=0.2, random_state=11)"
      ],
      "execution_count": 0,
      "outputs": []
    },
    {
      "metadata": {
        "id": "NCF0ftO0p0DF",
        "colab_type": "code",
        "colab": {
          "base_uri": "https://localhost:8080/",
          "height": 34
        },
        "outputId": "e013f000-83d6-4035-a81d-ad2285455435"
      },
      "cell_type": "code",
      "source": [
        "x_train.shape"
      ],
      "execution_count": 41,
      "outputs": [
        {
          "output_type": "execute_result",
          "data": {
            "text/plain": [
              "(800, 7)"
            ]
          },
          "metadata": {
            "tags": []
          },
          "execution_count": 41
        }
      ]
    },
    {
      "metadata": {
        "id": "zdokGDEVqM80",
        "colab_type": "code",
        "colab": {}
      },
      "cell_type": "code",
      "source": [
        "aml = H2OAutoML(max_models=20, seed=1)"
      ],
      "execution_count": 0,
      "outputs": []
    },
    {
      "metadata": {
        "id": "pSQluu6aqiRm",
        "colab_type": "code",
        "colab": {}
      },
      "cell_type": "code",
      "source": [
        "df = pd.DataFrame(x_train)\n",
        "df['realSentiment'] = y_train"
      ],
      "execution_count": 0,
      "outputs": []
    },
    {
      "metadata": {
        "id": "g3CvxhrFqnDh",
        "colab_type": "code",
        "colab": {
          "base_uri": "https://localhost:8080/",
          "height": 34
        },
        "outputId": "29710be9-7e79-435d-dc78-96859b607f68"
      },
      "cell_type": "code",
      "source": [
        "h2o_data = h2o.import_file('combinedall.csv')\n",
        "\n",
        "predictors = ['AWSMixed','AWSNegative','AWSNeutral','AWSPositive','GCPscore','IBMscore','Azurescore']\n",
        "response = \"realSentiment\"\n",
        "\n",
        "train, valid = h2o_data.split_frame(ratios = [.8], seed = 11)"
      ],
      "execution_count": 44,
      "outputs": [
        {
          "output_type": "stream",
          "text": [
            "Parse progress: |█████████████████████████████████████████████████████████| 100%\n"
          ],
          "name": "stdout"
        }
      ]
    },
    {
      "metadata": {
        "id": "FCfZGo3lq16j",
        "colab_type": "code",
        "colab": {
          "base_uri": "https://localhost:8080/",
          "height": 34
        },
        "outputId": "d855ef0f-4710-45e3-be41-b432396b34d0"
      },
      "cell_type": "code",
      "source": [
        "aml.train(x=predictors, y=response, training_frame=h2o_data)"
      ],
      "execution_count": 45,
      "outputs": [
        {
          "output_type": "stream",
          "text": [
            "AutoML progress: |████████████████████████████████████████████████████████| 100%\n"
          ],
          "name": "stdout"
        }
      ]
    },
    {
      "metadata": {
        "id": "ZcAPOVsDq5yd",
        "colab_type": "code",
        "colab": {
          "base_uri": "https://localhost:8080/",
          "height": 478
        },
        "outputId": "43dc9719-04f8-4293-d970-da9e7853ba70"
      },
      "cell_type": "code",
      "source": [
        "lb = aml.leaderboard\n",
        "lb.head(rows=lb.nrows)"
      ],
      "execution_count": 47,
      "outputs": [
        {
          "output_type": "display_data",
          "data": {
            "text/html": [
              "<table>\n",
              "<thead>\n",
              "<tr><th>model_id                                           </th><th style=\"text-align: right;\">  mean_per_class_error</th><th style=\"text-align: right;\">  logloss</th><th style=\"text-align: right;\">    rmse</th><th style=\"text-align: right;\">     mse</th></tr>\n",
              "</thead>\n",
              "<tbody>\n",
              "<tr><td>XGBoost_3_AutoML_20190324_041503                   </td><td style=\"text-align: right;\">              0.6481  </td><td style=\"text-align: right;\"> 0.961656</td><td style=\"text-align: right;\">0.609975</td><td style=\"text-align: right;\">0.37207 </td></tr>\n",
              "<tr><td>DeepLearning_grid_1_AutoML_20190324_041503_model_1 </td><td style=\"text-align: right;\">              0.654946</td><td style=\"text-align: right;\"> 1.11764 </td><td style=\"text-align: right;\">0.589651</td><td style=\"text-align: right;\">0.347688</td></tr>\n",
              "<tr><td>DeepLearning_1_AutoML_20190324_041503              </td><td style=\"text-align: right;\">              0.656802</td><td style=\"text-align: right;\"> 1.13193 </td><td style=\"text-align: right;\">0.609633</td><td style=\"text-align: right;\">0.371653</td></tr>\n",
              "<tr><td>XGBoost_2_AutoML_20190324_041503                   </td><td style=\"text-align: right;\">              0.658342</td><td style=\"text-align: right;\"> 0.973777</td><td style=\"text-align: right;\">0.613946</td><td style=\"text-align: right;\">0.37693 </td></tr>\n",
              "<tr><td>DeepLearning_grid_1_AutoML_20190324_041503_model_2 </td><td style=\"text-align: right;\">              0.658444</td><td style=\"text-align: right;\"> 0.978294</td><td style=\"text-align: right;\">0.583066</td><td style=\"text-align: right;\">0.339966</td></tr>\n",
              "<tr><td>XGBoost_grid_1_AutoML_20190324_041503_model_3      </td><td style=\"text-align: right;\">              0.658798</td><td style=\"text-align: right;\"> 0.949927</td><td style=\"text-align: right;\">0.601113</td><td style=\"text-align: right;\">0.361337</td></tr>\n",
              "<tr><td>GBM_3_AutoML_20190324_041503                       </td><td style=\"text-align: right;\">              0.663433</td><td style=\"text-align: right;\"> 0.990539</td><td style=\"text-align: right;\">0.601853</td><td style=\"text-align: right;\">0.362227</td></tr>\n",
              "<tr><td>GLM_grid_1_AutoML_20190324_041503_model_1          </td><td style=\"text-align: right;\">              0.666667</td><td style=\"text-align: right;\"> 0.924414</td><td style=\"text-align: right;\">0.582357</td><td style=\"text-align: right;\">0.33914 </td></tr>\n",
              "<tr><td>XGBoost_1_AutoML_20190324_041503                   </td><td style=\"text-align: right;\">              0.666743</td><td style=\"text-align: right;\"> 0.955444</td><td style=\"text-align: right;\">0.601382</td><td style=\"text-align: right;\">0.36166 </td></tr>\n",
              "<tr><td>XRT_1_AutoML_20190324_041503                       </td><td style=\"text-align: right;\">              0.667474</td><td style=\"text-align: right;\"> 3.50797 </td><td style=\"text-align: right;\">0.624007</td><td style=\"text-align: right;\">0.389384</td></tr>\n",
              "<tr><td>StackedEnsemble_AllModels_AutoML_20190324_041503   </td><td style=\"text-align: right;\">              0.66788 </td><td style=\"text-align: right;\"> 0.978399</td><td style=\"text-align: right;\">0.592731</td><td style=\"text-align: right;\">0.35133 </td></tr>\n",
              "<tr><td>GBM_4_AutoML_20190324_041503                       </td><td style=\"text-align: right;\">              0.670006</td><td style=\"text-align: right;\"> 1.00813 </td><td style=\"text-align: right;\">0.606464</td><td style=\"text-align: right;\">0.367799</td></tr>\n",
              "<tr><td>GBM_2_AutoML_20190324_041503                       </td><td style=\"text-align: right;\">              0.670587</td><td style=\"text-align: right;\"> 0.989542</td><td style=\"text-align: right;\">0.602853</td><td style=\"text-align: right;\">0.363431</td></tr>\n",
              "<tr><td>StackedEnsemble_BestOfFamily_AutoML_20190324_041503</td><td style=\"text-align: right;\">              0.671054</td><td style=\"text-align: right;\"> 0.941922</td><td style=\"text-align: right;\">0.585721</td><td style=\"text-align: right;\">0.343069</td></tr>\n",
              "<tr><td>GBM_5_AutoML_20190324_041503                       </td><td style=\"text-align: right;\">              0.671734</td><td style=\"text-align: right;\"> 0.940032</td><td style=\"text-align: right;\">0.591535</td><td style=\"text-align: right;\">0.349913</td></tr>\n",
              "<tr><td>GBM_1_AutoML_20190324_041503                       </td><td style=\"text-align: right;\">              0.67257 </td><td style=\"text-align: right;\"> 0.990311</td><td style=\"text-align: right;\">0.601493</td><td style=\"text-align: right;\">0.361793</td></tr>\n",
              "<tr><td>XGBoost_grid_1_AutoML_20190324_041503_model_4      </td><td style=\"text-align: right;\">              0.677838</td><td style=\"text-align: right;\"> 0.958726</td><td style=\"text-align: right;\">0.601825</td><td style=\"text-align: right;\">0.362194</td></tr>\n",
              "<tr><td>XGBoost_grid_1_AutoML_20190324_041503_model_2      </td><td style=\"text-align: right;\">              0.679408</td><td style=\"text-align: right;\"> 1.03591 </td><td style=\"text-align: right;\">0.618165</td><td style=\"text-align: right;\">0.382128</td></tr>\n",
              "<tr><td>DRF_1_AutoML_20190324_041503                       </td><td style=\"text-align: right;\">              0.680335</td><td style=\"text-align: right;\"> 1.42742 </td><td style=\"text-align: right;\">0.6065  </td><td style=\"text-align: right;\">0.367843</td></tr>\n",
              "<tr><td>GBM_grid_1_AutoML_20190324_041503_model_2          </td><td style=\"text-align: right;\">              0.680417</td><td style=\"text-align: right;\"> 1.74021 </td><td style=\"text-align: right;\">0.660379</td><td style=\"text-align: right;\">0.436101</td></tr>\n",
              "<tr><td>GBM_grid_1_AutoML_20190324_041503_model_1          </td><td style=\"text-align: right;\">              0.684746</td><td style=\"text-align: right;\"> 1.00998 </td><td style=\"text-align: right;\">0.618216</td><td style=\"text-align: right;\">0.382191</td></tr>\n",
              "<tr><td>XGBoost_grid_1_AutoML_20190324_041503_model_1      </td><td style=\"text-align: right;\">              0.68994 </td><td style=\"text-align: right;\"> 1.09861 </td><td style=\"text-align: right;\">0.666667</td><td style=\"text-align: right;\">0.444444</td></tr>\n",
              "</tbody>\n",
              "</table>"
            ]
          },
          "metadata": {
            "tags": []
          }
        },
        {
          "output_type": "execute_result",
          "data": {
            "text/plain": [
              ""
            ]
          },
          "metadata": {
            "tags": []
          },
          "execution_count": 47
        }
      ]
    },
    {
      "metadata": {
        "id": "TzdXq_sotUle",
        "colab_type": "code",
        "colab": {
          "base_uri": "https://localhost:8080/",
          "height": 34
        },
        "outputId": "9b97559d-28b3-43c3-e926-81ff9aeb95ad"
      },
      "cell_type": "code",
      "source": [
        "predictions = aml.leader.predict(valid)"
      ],
      "execution_count": 49,
      "outputs": [
        {
          "output_type": "stream",
          "text": [
            "xgboost prediction progress: |████████████████████████████████████████████| 100%\n"
          ],
          "name": "stdout"
        }
      ]
    },
    {
      "metadata": {
        "id": "PR92GFyttgNi",
        "colab_type": "code",
        "colab": {
          "base_uri": "https://localhost:8080/",
          "height": 238
        },
        "outputId": "4f7b2382-c252-4850-f1c7-e2f3ea7b79ae"
      },
      "cell_type": "code",
      "source": [
        "predictions"
      ],
      "execution_count": 51,
      "outputs": [
        {
          "output_type": "display_data",
          "data": {
            "text/html": [
              "<table>\n",
              "<thead>\n",
              "<tr><th>predict  </th><th style=\"text-align: right;\">  negative</th><th style=\"text-align: right;\">  neutral</th><th style=\"text-align: right;\">  positive</th></tr>\n",
              "</thead>\n",
              "<tbody>\n",
              "<tr><td>positive </td><td style=\"text-align: right;\">  0.157612</td><td style=\"text-align: right;\"> 0.359932</td><td style=\"text-align: right;\">  0.482456</td></tr>\n",
              "<tr><td>positive </td><td style=\"text-align: right;\">  0.140292</td><td style=\"text-align: right;\"> 0.411337</td><td style=\"text-align: right;\">  0.448371</td></tr>\n",
              "<tr><td>positive </td><td style=\"text-align: right;\">  0.190692</td><td style=\"text-align: right;\"> 0.399847</td><td style=\"text-align: right;\">  0.409461</td></tr>\n",
              "<tr><td>positive </td><td style=\"text-align: right;\">  0.239194</td><td style=\"text-align: right;\"> 0.295844</td><td style=\"text-align: right;\">  0.464962</td></tr>\n",
              "<tr><td>positive </td><td style=\"text-align: right;\">  0.177064</td><td style=\"text-align: right;\"> 0.384198</td><td style=\"text-align: right;\">  0.438738</td></tr>\n",
              "<tr><td>positive </td><td style=\"text-align: right;\">  0.152599</td><td style=\"text-align: right;\"> 0.355678</td><td style=\"text-align: right;\">  0.491723</td></tr>\n",
              "<tr><td>positive </td><td style=\"text-align: right;\">  0.178001</td><td style=\"text-align: right;\"> 0.341682</td><td style=\"text-align: right;\">  0.480317</td></tr>\n",
              "<tr><td>neutral  </td><td style=\"text-align: right;\">  0.1961  </td><td style=\"text-align: right;\"> 0.405548</td><td style=\"text-align: right;\">  0.398353</td></tr>\n",
              "<tr><td>positive </td><td style=\"text-align: right;\">  0.172433</td><td style=\"text-align: right;\"> 0.387065</td><td style=\"text-align: right;\">  0.440502</td></tr>\n",
              "<tr><td>positive </td><td style=\"text-align: right;\">  0.191229</td><td style=\"text-align: right;\"> 0.343165</td><td style=\"text-align: right;\">  0.465606</td></tr>\n",
              "</tbody>\n",
              "</table>"
            ]
          },
          "metadata": {
            "tags": []
          }
        },
        {
          "output_type": "execute_result",
          "data": {
            "text/plain": [
              ""
            ]
          },
          "metadata": {
            "tags": []
          },
          "execution_count": 51
        }
      ]
    },
    {
      "metadata": {
        "id": "-61QorvcwkWC",
        "colab_type": "code",
        "colab": {
          "base_uri": "https://localhost:8080/",
          "height": 385
        },
        "outputId": "79c27b29-4c62-4202-e97f-1888f9ecb7cd"
      },
      "cell_type": "code",
      "source": [
        "metrics = aml.leader.model_performance(valid)\n",
        "metrics"
      ],
      "execution_count": 52,
      "outputs": [
        {
          "output_type": "stream",
          "text": [
            "\n",
            "ModelMetricsMultinomial: xgboost\n",
            "** Reported on test data. **\n",
            "\n",
            "MSE: 0.3301899617415586\n",
            "RMSE: 0.5746215813398925\n",
            "LogLoss: 0.8678709433116387\n",
            "Mean Per-Class Error: 0.5454908539020689\n",
            "Confusion Matrix: Row labels: Actual class; Column labels: Predicted class\n",
            "\n"
          ],
          "name": "stdout"
        },
        {
          "output_type": "display_data",
          "data": {
            "text/html": [
              "<div style=\"overflow:auto\"><table style=\"width:50%\"><tr><td><b>negative</b></td>\n",
              "<td><b>neutral</b></td>\n",
              "<td><b>positive</b></td>\n",
              "<td><b>Error</b></td>\n",
              "<td><b>Rate</b></td></tr>\n",
              "<tr><td>0.0</td>\n",
              "<td>6.0</td>\n",
              "<td>17.0</td>\n",
              "<td>1.0</td>\n",
              "<td>23 / 23</td></tr>\n",
              "<tr><td>0.0</td>\n",
              "<td>32.0</td>\n",
              "<td>46.0</td>\n",
              "<td>0.5897436</td>\n",
              "<td>46 / 78</td></tr>\n",
              "<tr><td>0.0</td>\n",
              "<td>5.0</td>\n",
              "<td>102.0</td>\n",
              "<td>0.0467290</td>\n",
              "<td>5 / 107</td></tr>\n",
              "<tr><td>0.0</td>\n",
              "<td>43.0</td>\n",
              "<td>165.0</td>\n",
              "<td>0.3557692</td>\n",
              "<td>74 / 208</td></tr></table></div>"
            ],
            "text/plain": [
              "negative    neutral    positive    Error     Rate\n",
              "----------  ---------  ----------  --------  --------\n",
              "0           6          17          1         23 / 23\n",
              "0           32         46          0.589744  46 / 78\n",
              "0           5          102         0.046729  5 / 107\n",
              "0           43         165         0.355769  74 / 208"
            ]
          },
          "metadata": {
            "tags": []
          }
        },
        {
          "output_type": "stream",
          "text": [
            "Top-3 Hit Ratios: \n"
          ],
          "name": "stdout"
        },
        {
          "output_type": "display_data",
          "data": {
            "text/html": [
              "<div style=\"overflow:auto\"><table style=\"width:50%\"><tr><td><b>k</b></td>\n",
              "<td><b>hit_ratio</b></td></tr>\n",
              "<tr><td>1</td>\n",
              "<td>0.6442308</td></tr>\n",
              "<tr><td>2</td>\n",
              "<td>0.8942308</td></tr>\n",
              "<tr><td>3</td>\n",
              "<td>1.0</td></tr></table></div>"
            ],
            "text/plain": [
              "k    hit_ratio\n",
              "---  -----------\n",
              "1    0.644231\n",
              "2    0.894231\n",
              "3    1"
            ]
          },
          "metadata": {
            "tags": []
          }
        },
        {
          "output_type": "execute_result",
          "data": {
            "text/plain": [
              ""
            ]
          },
          "metadata": {
            "tags": []
          },
          "execution_count": 52
        }
      ]
    },
    {
      "metadata": {
        "id": "tu6bAefBwl-5",
        "colab_type": "code",
        "colab": {
          "base_uri": "https://localhost:8080/",
          "height": 152
        },
        "outputId": "77e88e81-b8dc-43b8-9dd6-e1108f5b5647"
      },
      "cell_type": "code",
      "source": [
        "metrics.confusion_matrix()"
      ],
      "execution_count": 53,
      "outputs": [
        {
          "output_type": "stream",
          "text": [
            "Confusion Matrix: Row labels: Actual class; Column labels: Predicted class\n",
            "\n"
          ],
          "name": "stdout"
        },
        {
          "output_type": "display_data",
          "data": {
            "text/html": [
              "<div style=\"overflow:auto\"><table style=\"width:50%\"><tr><td><b>negative</b></td>\n",
              "<td><b>neutral</b></td>\n",
              "<td><b>positive</b></td>\n",
              "<td><b>Error</b></td>\n",
              "<td><b>Rate</b></td></tr>\n",
              "<tr><td>0.0</td>\n",
              "<td>6.0</td>\n",
              "<td>17.0</td>\n",
              "<td>1.0</td>\n",
              "<td>23 / 23</td></tr>\n",
              "<tr><td>0.0</td>\n",
              "<td>32.0</td>\n",
              "<td>46.0</td>\n",
              "<td>0.5897436</td>\n",
              "<td>46 / 78</td></tr>\n",
              "<tr><td>0.0</td>\n",
              "<td>5.0</td>\n",
              "<td>102.0</td>\n",
              "<td>0.0467290</td>\n",
              "<td>5 / 107</td></tr>\n",
              "<tr><td>0.0</td>\n",
              "<td>43.0</td>\n",
              "<td>165.0</td>\n",
              "<td>0.3557692</td>\n",
              "<td>74 / 208</td></tr></table></div>"
            ],
            "text/plain": [
              "negative    neutral    positive    Error     Rate\n",
              "----------  ---------  ----------  --------  --------\n",
              "0           6          17          1         23 / 23\n",
              "0           32         46          0.589744  46 / 78\n",
              "0           5          102         0.046729  5 / 107\n",
              "0           43         165         0.355769  74 / 208"
            ]
          },
          "metadata": {
            "tags": []
          }
        },
        {
          "output_type": "execute_result",
          "data": {
            "text/plain": [
              ""
            ]
          },
          "metadata": {
            "tags": []
          },
          "execution_count": 53
        }
      ]
    }
  ]
}