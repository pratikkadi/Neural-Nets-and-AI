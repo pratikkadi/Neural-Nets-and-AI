{
 "cells": [
  {
   "cell_type": "code",
   "execution_count": 1,
   "metadata": {
    "colab": {
     "base_uri": "https://localhost:8080/",
     "height": 35
    },
    "colab_type": "code",
    "id": "P1h3X0rLuTIT",
    "outputId": "4290eeb5-eff3-47b6-9384-5672d38c15dc"
   },
   "outputs": [
    {
     "name": "stderr",
     "output_type": "stream",
     "text": [
      "Using TensorFlow backend.\n"
     ]
    },
    {
     "data": {
      "text/plain": [
       "'2.2.4'"
      ]
     },
     "execution_count": 1,
     "metadata": {},
     "output_type": "execute_result"
    }
   ],
   "source": [
    "import keras\n",
    "keras.__version__"
   ]
  },
  {
   "cell_type": "code",
   "execution_count": 3,
   "metadata": {
    "colab": {},
    "colab_type": "code",
    "id": "oeuN48G3ucFY"
   },
   "outputs": [],
   "source": [
    "from keras.layers import SimpleRNN"
   ]
  },
  {
   "cell_type": "code",
   "execution_count": 4,
   "metadata": {
    "colab": {},
    "colab_type": "code",
    "id": "B9mHsUIKDH18"
   },
   "outputs": [],
   "source": [
    "import pandas as pd\n",
    "import numpy as np\n",
    "import itertools\n",
    "from keras.preprocessing import text, sequence\n",
    "from keras import utils\n",
    "from sklearn.preprocessing import LabelBinarizer, LabelEncoder\n",
    "from keras.layers import Dense, Activation, Dropout\n",
    "from keras.models import Sequential\n",
    "%matplotlib inline\n",
    "import matplotlib.pyplot as plt\n",
    "from sklearn.metrics import confusion_matrix"
   ]
  },
  {
   "cell_type": "code",
   "execution_count": 5,
   "metadata": {
    "colab": {
     "base_uri": "https://localhost:8080/",
     "height": 208
    },
    "colab_type": "code",
    "id": "vDZ61iwJu1-w",
    "outputId": "bc2eb908-694c-4ae8-b7fe-ebab32ae2b20"
   },
   "outputs": [
    {
     "name": "stdout",
     "output_type": "stream",
     "text": [
      "WARNING:tensorflow:From c:\\users\\prati\\appdata\\local\\programs\\python\\python37\\lib\\site-packages\\tensorflow\\python\\framework\\op_def_library.py:263: colocate_with (from tensorflow.python.framework.ops) is deprecated and will be removed in a future version.\n",
      "Instructions for updating:\n",
      "Colocations handled automatically by placer.\n",
      "_________________________________________________________________\n",
      "Layer (type)                 Output Shape              Param #   \n",
      "=================================================================\n",
      "embedding_1 (Embedding)      (None, None, 32)          320000    \n",
      "_________________________________________________________________\n",
      "simple_rnn_1 (SimpleRNN)     (None, 32)                2080      \n",
      "=================================================================\n",
      "Total params: 322,080\n",
      "Trainable params: 322,080\n",
      "Non-trainable params: 0\n",
      "_________________________________________________________________\n"
     ]
    }
   ],
   "source": [
    "from keras.models import Sequential\n",
    "from keras.layers import Embedding, SimpleRNN\n",
    "\n",
    "model = Sequential()\n",
    "model.add(Embedding(10000, 32))\n",
    "model.add(SimpleRNN(32))\n",
    "model.summary()"
   ]
  },
  {
   "cell_type": "code",
   "execution_count": 6,
   "metadata": {
    "colab": {
     "base_uri": "https://localhost:8080/",
     "height": 208
    },
    "colab_type": "code",
    "id": "haurAancu8nL",
    "outputId": "ff7756f9-336b-4d9e-9465-f4e677f0cc1e"
   },
   "outputs": [
    {
     "name": "stdout",
     "output_type": "stream",
     "text": [
      "_________________________________________________________________\n",
      "Layer (type)                 Output Shape              Param #   \n",
      "=================================================================\n",
      "embedding_2 (Embedding)      (None, None, 32)          320000    \n",
      "_________________________________________________________________\n",
      "simple_rnn_2 (SimpleRNN)     (None, None, 32)          2080      \n",
      "=================================================================\n",
      "Total params: 322,080\n",
      "Trainable params: 322,080\n",
      "Non-trainable params: 0\n",
      "_________________________________________________________________\n"
     ]
    }
   ],
   "source": [
    "model = Sequential()\n",
    "model.add(Embedding(10000, 32))\n",
    "model.add(SimpleRNN(32, return_sequences=True))\n",
    "model.summary()"
   ]
  },
  {
   "cell_type": "code",
   "execution_count": 7,
   "metadata": {
    "colab": {
     "base_uri": "https://localhost:8080/",
     "height": 312
    },
    "colab_type": "code",
    "id": "Awc_oEnIvNCi",
    "outputId": "5c7a7b19-1d18-4330-eabb-1e9c96732075"
   },
   "outputs": [
    {
     "name": "stdout",
     "output_type": "stream",
     "text": [
      "_________________________________________________________________\n",
      "Layer (type)                 Output Shape              Param #   \n",
      "=================================================================\n",
      "embedding_3 (Embedding)      (None, None, 32)          320000    \n",
      "_________________________________________________________________\n",
      "simple_rnn_3 (SimpleRNN)     (None, None, 32)          2080      \n",
      "_________________________________________________________________\n",
      "simple_rnn_4 (SimpleRNN)     (None, None, 32)          2080      \n",
      "_________________________________________________________________\n",
      "simple_rnn_5 (SimpleRNN)     (None, None, 32)          2080      \n",
      "_________________________________________________________________\n",
      "simple_rnn_6 (SimpleRNN)     (None, 32)                2080      \n",
      "=================================================================\n",
      "Total params: 328,320\n",
      "Trainable params: 328,320\n",
      "Non-trainable params: 0\n",
      "_________________________________________________________________\n"
     ]
    }
   ],
   "source": [
    "model = Sequential()\n",
    "model.add(Embedding(10000, 32))\n",
    "model.add(SimpleRNN(32, return_sequences=True))\n",
    "model.add(SimpleRNN(32, return_sequences=True))\n",
    "model.add(SimpleRNN(32, return_sequences=True))\n",
    "model.add(SimpleRNN(32))  # This last layer only returns the last outputs.\n",
    "model.summary()"
   ]
  },
  {
   "cell_type": "code",
   "execution_count": 8,
   "metadata": {
    "colab": {},
    "colab_type": "code",
    "id": "n9821Dqm6NSc"
   },
   "outputs": [],
   "source": [
    "import pandas as pd\n",
    "import numpy as np\n",
    "df=pd.read_json(\"Team12_Chevron.json\")"
   ]
  },
  {
   "cell_type": "code",
   "execution_count": 9,
   "metadata": {
    "colab": {
     "base_uri": "https://localhost:8080/",
     "height": 202
    },
    "colab_type": "code",
    "id": "Hi9HOgrE7ux_",
    "outputId": "9189cd3c-ab0a-4793-fd4e-0dd4c6b601ac"
   },
   "outputs": [
    {
     "data": {
      "text/html": [
       "<div>\n",
       "<style scoped>\n",
       "    .dataframe tbody tr th:only-of-type {\n",
       "        vertical-align: middle;\n",
       "    }\n",
       "\n",
       "    .dataframe tbody tr th {\n",
       "        vertical-align: top;\n",
       "    }\n",
       "\n",
       "    .dataframe thead th {\n",
       "        text-align: right;\n",
       "    }\n",
       "</style>\n",
       "<table border=\"1\" class=\"dataframe\">\n",
       "  <thead>\n",
       "    <tr style=\"text-align: right;\">\n",
       "      <th></th>\n",
       "      <th>text</th>\n",
       "      <th>sentiment</th>\n",
       "    </tr>\n",
       "  </thead>\n",
       "  <tbody>\n",
       "    <tr>\n",
       "      <th>1</th>\n",
       "      <td>Good morning. My name is Jonathan and I will b...</td>\n",
       "      <td>neutral</td>\n",
       "    </tr>\n",
       "    <tr>\n",
       "      <th>10</th>\n",
       "      <td>Thanks Mike. Turning to Slide 5, an overview o...</td>\n",
       "      <td>neutral</td>\n",
       "    </tr>\n",
       "    <tr>\n",
       "      <th>100</th>\n",
       "      <td>And so, there are times when we can fall in lo...</td>\n",
       "      <td>negative</td>\n",
       "    </tr>\n",
       "    <tr>\n",
       "      <th>101</th>\n",
       "      <td>Our next question comes from the line of Sam M...</td>\n",
       "      <td>neutral</td>\n",
       "    </tr>\n",
       "    <tr>\n",
       "      <th>102</th>\n",
       "      <td>Mike, I'm going to try to not ask you to say t...</td>\n",
       "      <td>neutral</td>\n",
       "    </tr>\n",
       "  </tbody>\n",
       "</table>\n",
       "</div>"
      ],
      "text/plain": [
       "                                                  text sentiment\n",
       "1    Good morning. My name is Jonathan and I will b...   neutral\n",
       "10   Thanks Mike. Turning to Slide 5, an overview o...   neutral\n",
       "100  And so, there are times when we can fall in lo...  negative\n",
       "101  Our next question comes from the line of Sam M...   neutral\n",
       "102  Mike, I'm going to try to not ask you to say t...   neutral"
      ]
     },
     "execution_count": 9,
     "metadata": {},
     "output_type": "execute_result"
    }
   ],
   "source": [
    "df.head(5)"
   ]
  },
  {
   "cell_type": "code",
   "execution_count": 10,
   "metadata": {
    "colab": {
     "base_uri": "https://localhost:8080/",
     "height": 87
    },
    "colab_type": "code",
    "id": "oo13j1vD8fhy",
    "outputId": "4b771961-6024-4a7e-f68d-9e1ab50e885e"
   },
   "outputs": [
    {
     "data": {
      "text/plain": [
       "neutral     54\n",
       "positive    45\n",
       "negative    29\n",
       "Name: sentiment, dtype: int64"
      ]
     },
     "execution_count": 10,
     "metadata": {},
     "output_type": "execute_result"
    }
   ],
   "source": [
    "df['sentiment'].value_counts()"
   ]
  },
  {
   "cell_type": "code",
   "execution_count": 11,
   "metadata": {
    "colab": {
     "base_uri": "https://localhost:8080/",
     "height": 52
    },
    "colab_type": "code",
    "id": "hRNaLj1F8kpx",
    "outputId": "3da06d8e-4468-41f3-e8b9-8a74bf9325f3"
   },
   "outputs": [
    {
     "name": "stdout",
     "output_type": "stream",
     "text": [
      "Train size: 102\n",
      "Test size: 26\n"
     ]
    }
   ],
   "source": [
    "train_size = int(len(df) * .8)\n",
    "print (\"Train size: %d\" % train_size)\n",
    "print (\"Test size: %d\" % (len(df) - train_size))"
   ]
  },
  {
   "cell_type": "code",
   "execution_count": 12,
   "metadata": {
    "colab": {},
    "colab_type": "code",
    "id": "NTJbWozr8rNP"
   },
   "outputs": [],
   "source": [
    "train_posts = df['text'][:train_size]\n",
    "train_tags = df['sentiment'][:train_size]\n",
    "\n",
    "test_posts = df['text'][train_size:]\n",
    "test_tags = df['sentiment'][train_size:]"
   ]
  },
  {
   "cell_type": "code",
   "execution_count": 13,
   "metadata": {
    "colab": {},
    "colab_type": "code",
    "id": "3eZUwhv4-fH1"
   },
   "outputs": [],
   "source": [
    "max_words = 1000\n",
    "tokenize = text.Tokenizer(num_words=max_words, char_level=False)"
   ]
  },
  {
   "cell_type": "code",
   "execution_count": 14,
   "metadata": {
    "colab": {},
    "colab_type": "code",
    "id": "nShQImqKDX7R"
   },
   "outputs": [],
   "source": [
    "tokenize.fit_on_texts(train_posts) # only fit on train\n",
    "x_train = tokenize.texts_to_matrix(train_posts)\n",
    "x_test = tokenize.texts_to_matrix(test_posts)"
   ]
  },
  {
   "cell_type": "code",
   "execution_count": 15,
   "metadata": {
    "colab": {},
    "colab_type": "code",
    "id": "qvj2rNUHDc_s"
   },
   "outputs": [],
   "source": [
    "# Use sklearn utility to convert label strings to numbered index\n",
    "encoder = LabelEncoder()\n",
    "encoder.fit(train_tags)\n",
    "y_train = encoder.transform(train_tags)\n",
    "y_test = encoder.transform(test_tags)"
   ]
  },
  {
   "cell_type": "code",
   "execution_count": 16,
   "metadata": {
    "colab": {},
    "colab_type": "code",
    "id": "ifD6G-AODoQY"
   },
   "outputs": [],
   "source": [
    "# Converts the labels to a one-hot representation\n",
    "num_classes = np.max(y_train) + 1\n",
    "y_train = utils.to_categorical(y_train, num_classes)\n",
    "y_test = utils.to_categorical(y_test, num_classes)"
   ]
  },
  {
   "cell_type": "code",
   "execution_count": 17,
   "metadata": {
    "colab": {
     "base_uri": "https://localhost:8080/",
     "height": 87
    },
    "colab_type": "code",
    "id": "ML7oEZe5DrDb",
    "outputId": "426844b6-5494-4db2-de32-b0ebc3c91983"
   },
   "outputs": [
    {
     "name": "stdout",
     "output_type": "stream",
     "text": [
      "x_train shape: (102, 1000)\n",
      "x_test shape: (26, 1000)\n",
      "y_train shape: (102, 3)\n",
      "y_test shape: (26, 3)\n"
     ]
    }
   ],
   "source": [
    "# Inspect the dimenstions of our training and test data (this is helpful to debug)\n",
    "print('x_train shape:', x_train.shape)\n",
    "print('x_test shape:', x_test.shape)\n",
    "print('y_train shape:', y_train.shape)\n",
    "print('y_test shape:', y_test.shape)"
   ]
  },
  {
   "cell_type": "code",
   "execution_count": 18,
   "metadata": {
    "colab": {},
    "colab_type": "code",
    "id": "taq03mJSEpFg"
   },
   "outputs": [],
   "source": [
    "# This model trains very quickly and 2 epochs are already more than enough\n",
    "# Training for more epochs will likely lead to overfitting on this dataset\n",
    "# You can try tweaking these hyperparamaters when using this model with your own data\n",
    "batch_size = 32\n",
    "epochs = 2"
   ]
  },
  {
   "cell_type": "code",
   "execution_count": 19,
   "metadata": {
    "colab": {
     "base_uri": "https://localhost:8080/",
     "height": 69
    },
    "colab_type": "code",
    "id": "AVNnBNcsvXjJ",
    "outputId": "9047f47b-20cf-4757-e0d8-89d0bc43b875"
   },
   "outputs": [
    {
     "name": "stdout",
     "output_type": "stream",
     "text": [
      "Pad sequences (samples x time)\n",
      "input_train shape: (102, 1000)\n",
      "input_test shape: (26, 1000)\n"
     ]
    }
   ],
   "source": [
    "#from keras.datasets import imdb\n",
    "from keras.preprocessing import sequence\n",
    "\n",
    "max_features = 10000  # number of words to consider as features\n",
    "maxlen = 500  # cut texts after this number of words (among top max_features most common words)\n",
    "batch_size = 32\n",
    "\n",
    "# print('Loading data...')\n",
    "# (input_train, y_train), (input_test, y_test) = df.load_data(num_words=max_features)\n",
    "# print(len(input_train), 'train sequences')\n",
    "# print(len(input_test), 'test sequences')\n",
    "\n",
    "print('Pad sequences (samples x time)')\n",
    "input_train = sequence.pad_sequences(x_train, maxlen=maxlen)\n",
    "input_test = sequence.pad_sequences(x_test, maxlen=maxlen)\n",
    "print('input_train shape:', x_train.shape)\n",
    "print('input_test shape:', x_test.shape)"
   ]
  },
  {
   "cell_type": "code",
   "execution_count": 21,
   "metadata": {
    "colab": {
     "base_uri": "https://localhost:8080/",
     "height": 381
    },
    "colab_type": "code",
    "id": "G4FLdLz9vfq5",
    "outputId": "21bbe9fd-69fd-42f7-fd28-faf581ad547f"
   },
   "outputs": [
    {
     "name": "stdout",
     "output_type": "stream",
     "text": [
      "Train on 81 samples, validate on 21 samples\n",
      "Epoch 1/15\n",
      "81/81 [==============================] - 1s 13ms/step - loss: 0.7313 - acc: 0.3745 - val_loss: 0.6439 - val_acc: 0.6667\n",
      "Epoch 2/15\n",
      "81/81 [==============================] - 0s 3ms/step - loss: 0.6557 - acc: 0.6749 - val_loss: 0.6271 - val_acc: 0.6667\n",
      "Epoch 3/15\n",
      "81/81 [==============================] - 0s 3ms/step - loss: 0.6395 - acc: 0.6667 - val_loss: 0.6097 - val_acc: 0.6667\n",
      "Epoch 4/15\n",
      "81/81 [==============================] - 0s 3ms/step - loss: 0.6322 - acc: 0.6667 - val_loss: 0.5997 - val_acc: 0.6667\n",
      "Epoch 5/15\n",
      "81/81 [==============================] - 0s 3ms/step - loss: 0.6298 - acc: 0.6667 - val_loss: 0.6037 - val_acc: 0.6667\n",
      "Epoch 6/15\n",
      "81/81 [==============================] - 0s 3ms/step - loss: 0.6278 - acc: 0.6667 - val_loss: 0.6095 - val_acc: 0.6667\n",
      "Epoch 7/15\n",
      "81/81 [==============================] - 0s 3ms/step - loss: 0.6286 - acc: 0.6667 - val_loss: 0.5994 - val_acc: 0.6667\n",
      "Epoch 8/15\n",
      "81/81 [==============================] - 0s 3ms/step - loss: 0.6261 - acc: 0.6667 - val_loss: 0.5971 - val_acc: 0.6667\n",
      "Epoch 9/15\n",
      "81/81 [==============================] - 0s 3ms/step - loss: 0.6259 - acc: 0.6667 - val_loss: 0.6014 - val_acc: 0.6667\n",
      "Epoch 10/15\n",
      "81/81 [==============================] - 0s 3ms/step - loss: 0.6254 - acc: 0.6667 - val_loss: 0.6025 - val_acc: 0.6667\n",
      "Epoch 11/15\n",
      "81/81 [==============================] - 0s 3ms/step - loss: 0.6255 - acc: 0.6667 - val_loss: 0.6070 - val_acc: 0.6667\n",
      "Epoch 12/15\n",
      "81/81 [==============================] - 0s 3ms/step - loss: 0.6268 - acc: 0.6667 - val_loss: 0.6153 - val_acc: 0.6667\n",
      "Epoch 13/15\n",
      "81/81 [==============================] - 0s 3ms/step - loss: 0.6268 - acc: 0.6667 - val_loss: 0.6056 - val_acc: 0.6667\n",
      "Epoch 14/15\n",
      "81/81 [==============================] - 0s 3ms/step - loss: 0.6251 - acc: 0.6667 - val_loss: 0.6051 - val_acc: 0.6667\n",
      "Epoch 15/15\n",
      "81/81 [==============================] - 0s 3ms/step - loss: 0.6252 - acc: 0.6667 - val_loss: 0.6073 - val_acc: 0.6667\n"
     ]
    }
   ],
   "source": [
    "from keras.layers import Dense\n",
    "\n",
    "model = Sequential()\n",
    "model.add(Embedding(max_features, 32))\n",
    "model.add(SimpleRNN(32))\n",
    "model.add(Dense(num_classes, activation='sigmoid'))\n",
    "\n",
    "model.compile(optimizer='rmsprop', loss='binary_crossentropy', metrics=['acc'])\n",
    "history = model.fit(input_train, y_train,\n",
    "                    epochs=15,\n",
    "                    batch_size=64,\n",
    "                    validation_split=0.2)"
   ]
  },
  {
   "cell_type": "code",
   "execution_count": 22,
   "metadata": {
    "colab": {
     "base_uri": "https://localhost:8080/",
     "height": 544
    },
    "colab_type": "code",
    "id": "8e4SW-2Dy1yd",
    "outputId": "aeb84dbe-e73e-47fa-f658-489cef42504d"
   },
   "outputs": [
    {
     "data": {
      "image/png": "[encoded data removed]",
      "text/plain": [
       "<Figure size 432x288 with 1 Axes>"
      ]
     },
     "metadata": {
      "needs_background": "light"
     },
     "output_type": "display_data"
    },
    {
     "data": {
      "image/png": "[encoded data removed]",
      "text/plain": [
       "<Figure size 432x288 with 1 Axes>"
      ]
     },
     "metadata": {
      "needs_background": "light"
     },
     "output_type": "display_data"
    }
   ],
   "source": [
    "import matplotlib.pyplot as plt\n",
    "\n",
    "acc = history.history['acc']\n",
    "val_acc = history.history['val_acc']\n",
    "loss = history.history['loss']\n",
    "val_loss = history.history['val_loss']\n",
    "\n",
    "epochs = range(len(acc))\n",
    "\n",
    "plt.plot(epochs, acc, 'bo', label='Training acc')\n",
    "plt.plot(epochs, val_acc, 'b', label='Validation acc')\n",
    "plt.title('Training and validation accuracy')\n",
    "plt.legend()\n",
    "\n",
    "plt.figure()\n",
    "\n",
    "plt.plot(epochs, loss, 'bo', label='Training loss')\n",
    "plt.plot(epochs, val_loss, 'b', label='Validation loss')\n",
    "plt.title('Training and validation loss')\n",
    "plt.legend()\n",
    "\n",
    "plt.show()"
   ]
  },
  {
   "cell_type": "code",
   "execution_count": 25,
   "metadata": {
    "colab": {
     "base_uri": "https://localhost:8080/",
     "height": 381
    },
    "colab_type": "code",
    "id": "LD6KiJbty36x",
    "outputId": "a51ad9a7-a287-4a90-dbcb-9c5730bf0a71"
   },
   "outputs": [
    {
     "name": "stdout",
     "output_type": "stream",
     "text": [
      "Train on 81 samples, validate on 21 samples\n",
      "Epoch 1/10\n",
      "81/81 [==============================] - 3s 35ms/step - loss: 0.6935 - acc: 0.4198 - val_loss: 0.6846 - val_acc: 0.6667\n",
      "Epoch 2/10\n",
      "81/81 [==============================] - 1s 10ms/step - loss: 0.6867 - acc: 0.6667 - val_loss: 0.6774 - val_acc: 0.6667\n",
      "Epoch 3/10\n",
      "81/81 [==============================] - 1s 11ms/step - loss: 0.6812 - acc: 0.6667 - val_loss: 0.6700 - val_acc: 0.6667\n",
      "Epoch 4/10\n",
      "81/81 [==============================] - 1s 10ms/step - loss: 0.6756 - acc: 0.6667 - val_loss: 0.6619 - val_acc: 0.6667\n",
      "Epoch 5/10\n",
      "81/81 [==============================] - 1s 10ms/step - loss: 0.6696 - acc: 0.6667 - val_loss: 0.6527 - val_acc: 0.6667\n",
      "Epoch 6/10\n",
      "81/81 [==============================] - 1s 11ms/step - loss: 0.6630 - acc: 0.6667 - val_loss: 0.6419 - val_acc: 0.6667\n",
      "Epoch 7/10\n",
      "81/81 [==============================] - 1s 11ms/step - loss: 0.6555 - acc: 0.6667 - val_loss: 0.6292 - val_acc: 0.6667\n",
      "Epoch 8/10\n",
      "81/81 [==============================] - 1s 11ms/step - loss: 0.6472 - acc: 0.6667 - val_loss: 0.6152 - val_acc: 0.6667\n",
      "Epoch 9/10\n",
      "81/81 [==============================] - 1s 12ms/step - loss: 0.6389 - acc: 0.6667 - val_loss: 0.6026 - val_acc: 0.6667\n",
      "Epoch 10/10\n",
      "81/81 [==============================] - 1s 11ms/step - loss: 0.6332 - acc: 0.6667 - val_loss: 0.5977 - val_acc: 0.6667\n"
     ]
    }
   ],
   "source": [
    "from keras.layers import LSTM\n",
    "\n",
    "model = Sequential()\n",
    "model.add(Embedding(max_features, 32))\n",
    "model.add(LSTM(32))\n",
    "model.add(Dense(num_classes, activation='sigmoid'))\n",
    "\n",
    "model.compile(optimizer='rmsprop',\n",
    "              loss='binary_crossentropy',\n",
    "              metrics=['acc'])\n",
    "history = model.fit(x_train, y_train,\n",
    "                    epochs=10,\n",
    "                    batch_size=128,\n",
    "                    validation_split=0.2)"
   ]
  },
  {
   "cell_type": "code",
   "execution_count": 26,
   "metadata": {
    "colab": {
     "base_uri": "https://localhost:8080/",
     "height": 69
    },
    "colab_type": "code",
    "id": "uvuAdlqkHMry",
    "outputId": "1309aa77-587b-4d06-f6d0-7543b5ff1bae"
   },
   "outputs": [
    {
     "name": "stdout",
     "output_type": "stream",
     "text": [
      "26/26 [==============================] - 0s 4ms/step\n",
      "Test score: 0.6211764812469482\n",
      "Test accuracy: 0.6666666865348816\n"
     ]
    }
   ],
   "source": [
    "score = model.evaluate(x_test, y_test,\n",
    "                       batch_size=batch_size, verbose=1)\n",
    "print('Test score:', score[0])\n",
    "print('Test accuracy:', score[1])"
   ]
  },
  {
   "cell_type": "code",
   "execution_count": 27,
   "metadata": {
    "colab": {
     "base_uri": "https://localhost:8080/",
     "height": 711
    },
    "colab_type": "code",
    "id": "YGjF1hhWHPVF",
    "outputId": "1f372636-d6be-47d7-bee6-5097dea1da29"
   },
   "outputs": [
    {
     "name": "stdout",
     "output_type": "stream",
     "text": [
      "You mentioned that you've done about 150,000 acres ...\n",
      "Actual label:negative\n",
      "Predicted label: neutral\n",
      "\n",
      "Yes, so, we will share lot more detail in March be ...\n",
      "Actual label:neutral\n",
      "Predicted label: neutral\n",
      "\n",
      "And so, with our 2.2 million net acres and 1.7 mil ...\n",
      "Actual label:positive\n",
      "Predicted label: neutral\n",
      "\n",
      "Our currently disclosed resource, there is 1.2 bil ...\n",
      "Actual label:positive\n",
      "Predicted label: neutral\n",
      "\n",
      "Earlier this week, we announced a $0.07 per share  ...\n",
      "Actual label:positive\n",
      "Predicted label: neutral\n",
      "\n",
      "We are returns-driven and I mentioned that in my p ...\n",
      "Actual label:neutral\n",
      "Predicted label: neutral\n",
      "\n",
      "And as you go through that kind of growth, you str ...\n",
      "Actual label:positive\n",
      "Predicted label: neutral\n",
      "\n",
      "So, our Jay will talk a lot more about this in Mar ...\n",
      "Actual label:neutral\n",
      "Predicted label: neutral\n",
      "\n",
      "Thanks Mike. And we know also that you have got an ...\n",
      "Actual label:positive\n",
      "Predicted label: neutral\n",
      "\n",
      "Yes, so we were committed to capital discipline. W ...\n",
      "Actual label:negative\n",
      "Predicted label: neutral\n",
      "\n"
     ]
    }
   ],
   "source": [
    "text_labels = encoder.classes_ \n",
    "\n",
    "for i in range(10):\n",
    "    prediction = model.predict(np.array([x_test[i]]))\n",
    "    predicted_label = text_labels[np.argmax(prediction)]\n",
    "    print(test_posts.iloc[i][:50], \"...\")\n",
    "    print('Actual label:' + test_tags.iloc[i])\n",
    "    print(\"Predicted label: \" + predicted_label + \"\\n\")"
   ]
  },
  {
   "cell_type": "code",
   "execution_count": 28,
   "metadata": {
    "colab": {},
    "colab_type": "code",
    "id": "T7an9V3KHWwU"
   },
   "outputs": [],
   "source": [
    "y_softmax = model.predict(x_test)\n",
    "\n",
    "y_test_1d = []\n",
    "y_pred_1d = []\n",
    "\n",
    "for i in range(len(y_test)):\n",
    "    probs = y_test[i]\n",
    "    index_arr = np.nonzero(probs)\n",
    "    one_hot_index = index_arr[0].item(0)\n",
    "    y_test_1d.append(one_hot_index)\n",
    "\n",
    "for i in range(0, len(y_softmax)):\n",
    "    probs = y_softmax[i]\n",
    "    predicted_index = np.argmax(probs)\n",
    "    y_pred_1d.append(predicted_index)"
   ]
  },
  {
   "cell_type": "code",
   "execution_count": 29,
   "metadata": {
    "colab": {},
    "colab_type": "code",
    "id": "i8SHdTt4GhTi"
   },
   "outputs": [],
   "source": [
    "def plot_confusion_matrix(cm, classes,\n",
    "                          title='Confusion matrix',\n",
    "                          cmap=plt.cm.Blues):\n",
    "    \"\"\"\n",
    "    This function prints and plots the confusion matrix.\n",
    "    Normalization can be applied by setting `normalize=True`.\n",
    "    \"\"\"\n",
    "\n",
    "    cm = cm.astype('float') / cm.sum(axis=1)[:, np.newaxis]\n",
    "\n",
    "    plt.imshow(cm, interpolation='nearest', cmap=cmap)\n",
    "    plt.title(title, fontsize=30)\n",
    "    plt.colorbar()\n",
    "    tick_marks = np.arange(len(classes))\n",
    "    plt.xticks(tick_marks, classes, rotation=45, fontsize=22)\n",
    "    plt.yticks(tick_marks, classes, fontsize=22)\n",
    "\n",
    "    fmt = '.2f'\n",
    "    thresh = cm.max() / 2.\n",
    "    for i, j in itertools.product(range(cm.shape[0]), range(cm.shape[1])):\n",
    "        plt.text(j, i, format(cm[i, j], fmt),\n",
    "                 horizontalalignment=\"center\",\n",
    "                 color=\"white\" if cm[i, j] > thresh else \"black\")\n",
    "\n",
    "    plt.ylabel('True label', fontsize=25)\n",
    "    plt.xlabel('Predicted label', fontsize=25)"
   ]
  },
  {
   "cell_type": "code",
   "execution_count": 30,
   "metadata": {
    "colab": {
     "base_uri": "https://localhost:8080/",
     "height": 1241
    },
    "colab_type": "code",
    "id": "NNT6A5QmGsBq",
    "outputId": "9ab95f3c-9187-4679-9344-6238513f8ca5"
   },
   "outputs": [
    {
     "data": {
      "image/png": "[encoded data removed]",
      "text/plain": [
       "<Figure size 1728x1440 with 2 Axes>"
      ]
     },
     "metadata": {
      "needs_background": "light"
     },
     "output_type": "display_data"
    }
   ],
   "source": [
    "cnf_matrix = confusion_matrix(y_test_1d, y_pred_1d)\n",
    "plt.figure(figsize=(24,20))\n",
    "plot_confusion_matrix(cnf_matrix, classes=text_labels, title=\"Confusion matrix\")\n",
    "plt.show()"
   ]
  },
  {
   "cell_type": "code",
   "execution_count": null,
   "metadata": {},
   "outputs": [],
   "source": []
  },
  {
   "cell_type": "code",
   "execution_count": null,
   "metadata": {},
   "outputs": [],
   "source": []
  },
  {
   "cell_type": "code",
   "execution_count": null,
   "metadata": {},
   "outputs": [],
   "source": []
  },
  {
   "cell_type": "code",
   "execution_count": null,
   "metadata": {},
   "outputs": [],
   "source": []
  }
 ],
 "metadata": {
  "colab": {
   "name": "SentimentAnalysisUsingRNN.ipynb",
   "provenance": [],
   "version": "0.3.2"
  },
  "kernelspec": {
   "display_name": "Python 3",
   "language": "python",
   "name": "python3"
  },
  "language_info": {
   "codemirror_mode": {
    "name": "ipython",
    "version": 3
   },
   "file_extension": ".py",
   "mimetype": "text/x-python",
   "name": "python",
   "nbconvert_exporter": "python",
   "pygments_lexer": "ipython3",
   "version": "3.7.1"
  }
 },
 "nbformat": 4,
 "nbformat_minor": 1
}
