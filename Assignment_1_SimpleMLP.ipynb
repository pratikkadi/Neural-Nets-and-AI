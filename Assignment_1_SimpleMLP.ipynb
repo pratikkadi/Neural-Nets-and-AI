{
  "nbformat": 4,
  "nbformat_minor": 0,
  "metadata": {
    "colab": {
      "name": "Assignment_1_SimpleMLP.ipynb",
      "version": "0.3.2",
      "provenance": [],
      "collapsed_sections": []
    },
    "kernelspec": {
      "name": "python3",
      "display_name": "Python 3"
    },
    "accelerator": "GPU"
  },
  "cells": [
    {
      "metadata": {
        "id": "PBDJY8skj1SG",
        "colab_type": "code",
        "colab": {}
      },
      "cell_type": "code",
      "source": [
        "import keras"
      ],
      "execution_count": 0,
      "outputs": []
    },
    {
      "metadata": {
        "id": "N0BAcL3tkD7I",
        "colab_type": "code",
        "colab": {}
      },
      "cell_type": "code",
      "source": [
        "from keras.datasets import cifar10\n",
        "from keras.models import Sequential\n",
        "from keras.layers import Dense, Dropout,Activation,Flatten\n",
        "from keras.optimizers import RMSprop\n",
        "import matplotlib.pyplot as plt"
      ],
      "execution_count": 0,
      "outputs": []
    },
    {
      "metadata": {
        "id": "SANnxpoCkL87",
        "colab_type": "code",
        "colab": {}
      },
      "cell_type": "code",
      "source": [
        "batch_size = 64\n",
        "num_classes = 10\n",
        "epochs = 5"
      ],
      "execution_count": 0,
      "outputs": []
    },
    {
      "metadata": {
        "id": "X5dYB9D8kXpJ",
        "colab_type": "code",
        "colab": {}
      },
      "cell_type": "code",
      "source": [
        "(x_train, y_train), (x_test, y_test) = cifar10.load_data()"
      ],
      "execution_count": 0,
      "outputs": []
    },
    {
      "metadata": {
        "id": "WONM81dwrF8V",
        "colab_type": "code",
        "outputId": "fd5e0470-53fb-427a-a2e1-70851df9bbfd",
        "colab": {
          "base_uri": "https://localhost:8080/",
          "height": 52
        }
      },
      "cell_type": "code",
      "source": [
        "#x_train = x_train.reshape(50000, 32*32*3)\n",
        "#x_test = x_test.reshape(10000, 32*32*3)\n",
        "\n",
        "print(x_train.shape[0], 'train samples')\n",
        "print(x_test.shape[0], 'test samples')"
      ],
      "execution_count": 0,
      "outputs": [
        {
          "output_type": "stream",
          "text": [
            "50000 train samples\n",
            "10000 test samples\n"
          ],
          "name": "stdout"
        }
      ]
    },
    {
      "metadata": {
        "id": "wdMDVMdmksI4",
        "colab_type": "code",
        "colab": {}
      },
      "cell_type": "code",
      "source": [
        "y_train = keras.utils.to_categorical(y_train, num_classes)\n",
        "y_test = keras.utils.to_categorical(y_test, num_classes)"
      ],
      "execution_count": 0,
      "outputs": []
    },
    {
      "metadata": {
        "id": "-We5eQJlAm9n",
        "colab_type": "code",
        "outputId": "be1413e8-d967-4f4c-8f5f-c5023793aa1f",
        "colab": {
          "base_uri": "https://localhost:8080/",
          "height": 35
        }
      },
      "cell_type": "code",
      "source": [
        "x_train.shape[1:]"
      ],
      "execution_count": 0,
      "outputs": [
        {
          "output_type": "execute_result",
          "data": {
            "text/plain": [
              "(32, 32, 3)"
            ]
          },
          "metadata": {
            "tags": []
          },
          "execution_count": 91
        }
      ]
    },
    {
      "metadata": {
        "id": "kbEZIjhflVf8",
        "colab_type": "code",
        "colab": {}
      },
      "cell_type": "code",
      "source": [
        "model = Sequential()\n",
        "\n",
        "model.add(Dense(128, input_shape=x_train.shape[1:]))\n",
        "model.add(Activation('relu'))\n",
        "model.add(Dropout(0.2))\n",
        "\n",
        "model.add(Dense(128))\n",
        "model.add(Activation('relu'))\n",
        "model.add(Dropout(0.2))\n",
        "\n",
        "# model.add(Dense(512))\n",
        "# model.add(Activation('relu'))\n",
        "# model.add(Dropout(0.25))\n",
        "\n",
        "model.add(Flatten())\n",
        "model.add(Dense(num_classes))\n",
        "model.add(Activation('softmax'))"
      ],
      "execution_count": 0,
      "outputs": []
    },
    {
      "metadata": {
        "id": "yqp2y0-dld11",
        "colab_type": "code",
        "outputId": "3f8a1267-a28b-4bfd-8d7b-8a206eb56204",
        "colab": {
          "base_uri": "https://localhost:8080/",
          "height": 461
        }
      },
      "cell_type": "code",
      "source": [
        "model.summary()"
      ],
      "execution_count": 0,
      "outputs": [
        {
          "output_type": "stream",
          "text": [
            "_________________________________________________________________\n",
            "Layer (type)                 Output Shape              Param #   \n",
            "=================================================================\n",
            "dense_29 (Dense)             (None, 32, 32, 128)       512       \n",
            "_________________________________________________________________\n",
            "activation_29 (Activation)   (None, 32, 32, 128)       0         \n",
            "_________________________________________________________________\n",
            "dropout_22 (Dropout)         (None, 32, 32, 128)       0         \n",
            "_________________________________________________________________\n",
            "dense_30 (Dense)             (None, 32, 32, 128)       16512     \n",
            "_________________________________________________________________\n",
            "activation_30 (Activation)   (None, 32, 32, 128)       0         \n",
            "_________________________________________________________________\n",
            "dropout_23 (Dropout)         (None, 32, 32, 128)       0         \n",
            "_________________________________________________________________\n",
            "flatten_8 (Flatten)          (None, 131072)            0         \n",
            "_________________________________________________________________\n",
            "dense_31 (Dense)             (None, 10)                1310730   \n",
            "_________________________________________________________________\n",
            "activation_31 (Activation)   (None, 10)                0         \n",
            "=================================================================\n",
            "Total params: 1,327,754\n",
            "Trainable params: 1,327,754\n",
            "Non-trainable params: 0\n",
            "_________________________________________________________________\n"
          ],
          "name": "stdout"
        }
      ]
    },
    {
      "metadata": {
        "id": "vdx1rhpwyIJb",
        "colab_type": "code",
        "colab": {}
      },
      "cell_type": "code",
      "source": [
        "opt= keras.optimizers.Adam(lr=0.001, beta_1=0.9, beta_2=0.999, epsilon=None, decay=0.0, amsgrad=False)"
      ],
      "execution_count": 0,
      "outputs": []
    },
    {
      "metadata": {
        "id": "6Rk-7uncllJ2",
        "colab_type": "code",
        "colab": {}
      },
      "cell_type": "code",
      "source": [
        "model.compile(loss='categorical_crossentropy',\n",
        "\n",
        "              optimizer=opt,\n",
        "\n",
        "              metrics=['accuracy'])\n",
        "x_train = x_train.astype('float32')\n",
        "x_test = x_test.astype('float32')\n",
        "x_train /= 255\n",
        "x_test /= 255"
      ],
      "execution_count": 0,
      "outputs": []
    },
    {
      "metadata": {
        "id": "PUUEskp6lue6",
        "colab_type": "code",
        "outputId": "d71d7b44-9f3f-44ce-f2cd-ab1442266a9e",
        "colab": {
          "base_uri": "https://localhost:8080/",
          "height": 212
        }
      },
      "cell_type": "code",
      "source": [
        "mlp = model.fit(x_train, y_train,\n",
        "\n",
        "                    batch_size=batch_size,\n",
        "\n",
        "                    epochs=epochs,\n",
        "\n",
        "                    verbose=1,\n",
        "\n",
        "                    validation_data=(x_test, y_test))"
      ],
      "execution_count": 0,
      "outputs": [
        {
          "output_type": "stream",
          "text": [
            "Train on 50000 samples, validate on 10000 samples\n",
            "Epoch 1/5\n",
            "50000/50000 [==============================] - 48s 962us/step - loss: 1.6317 - acc: 0.4264 - val_loss: 1.5043 - val_acc: 0.4572\n",
            "Epoch 2/5\n",
            "50000/50000 [==============================] - 47s 936us/step - loss: 1.4501 - acc: 0.4945 - val_loss: 1.4491 - val_acc: 0.4919\n",
            "Epoch 3/5\n",
            "50000/50000 [==============================] - 41s 828us/step - loss: 1.3902 - acc: 0.5160 - val_loss: 1.4207 - val_acc: 0.5052\n",
            "Epoch 4/5\n",
            "50000/50000 [==============================] - 28s 565us/step - loss: 1.3327 - acc: 0.5366 - val_loss: 1.4365 - val_acc: 0.4991\n",
            "Epoch 5/5\n",
            "50000/50000 [==============================] - 44s 880us/step - loss: 1.2925 - acc: 0.5529 - val_loss: 1.4180 - val_acc: 0.5068\n"
          ],
          "name": "stdout"
        }
      ]
    },
    {
      "metadata": {
        "id": "cArM1XrYnfCx",
        "colab_type": "code",
        "outputId": "763e26c1-f25c-4bbd-fbf7-4daeac454d88",
        "colab": {
          "base_uri": "https://localhost:8080/",
          "height": 70
        }
      },
      "cell_type": "code",
      "source": [
        "scores = model.evaluate(x_test, y_test, verbose=1)\n",
        "print('Test loss:', scores[0])\n",
        "print('Test accuracy:', scores[1])"
      ],
      "execution_count": 0,
      "outputs": [
        {
          "output_type": "stream",
          "text": [
            "10000/10000 [==============================] - 2s 176us/step\n",
            "Test loss: 1.4180343019485473\n",
            "Test accuracy: 0.5068\n"
          ],
          "name": "stdout"
        }
      ]
    },
    {
      "metadata": {
        "id": "8mk9KzIvXyUo",
        "colab_type": "code",
        "outputId": "49505e52-ccf3-457e-c970-4f2f9a4c9920",
        "colab": {
          "base_uri": "https://localhost:8080/",
          "height": 753
        }
      },
      "cell_type": "code",
      "source": [
        "plt.figure()\n",
        "plt.plot(mlp.history['acc'])\n",
        "plt.plot(mlp.history['val_acc'])\n",
        "plt.title('model accuracy')\n",
        "plt.ylabel('accuracy')\n",
        "plt.xlabel('epoch')\n",
        "plt.legend(['train', 'validation'], loc='upper left')\n",
        "plt.show()\n",
        "plt.savefig(\"Experiment_11.png\")\n",
        "# \"Loss\"\n",
        "plt.plot(mlp.history['loss'])\n",
        "plt.plot(mlp.history['val_loss'])\n",
        "plt.title('model loss')\n",
        "plt.ylabel('loss')\n",
        "plt.xlabel('epoch')\n",
        "plt.legend(['train', 'validation'], loc='upper left')\n",
        "plt.show()\n",
        "plt.savefig(\"Experiment_12.png\")"
      ],
      "execution_count": 0,
      "outputs": [
        {
          "output_type": "display_data",
          "data": {
            "image/png": "[encoded data removed]",
            "text/plain": [
              "<Figure size 576x396 with 1 Axes>"
            ]
          },
          "metadata": {
            "tags": []
          }
        },
        {
          "output_type": "display_data",
          "data": {
            "image/png": "[encoded data removed]",
            "text/plain": [
              "<Figure size 576x396 with 1 Axes>"
            ]
          },
          "metadata": {
            "tags": []
          }
        },
        {
          "output_type": "display_data",
          "data": {
            "text/plain": [
              "<Figure size 576x396 with 0 Axes>"
            ]
          },
          "metadata": {
            "tags": []
          }
        }
      ]
    },
    {
      "metadata": {
        "id": "B3S57mq7iG1f",
        "colab_type": "code",
        "colab": {}
      },
      "cell_type": "code",
      "source": [
        ""
      ],
      "execution_count": 0,
      "outputs": []
    }
  ]
}