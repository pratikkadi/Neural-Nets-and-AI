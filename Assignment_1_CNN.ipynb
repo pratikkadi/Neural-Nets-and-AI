{
  "nbformat": 4,
  "nbformat_minor": 0,
  "metadata": {
    "colab": {
      "name": "Assignment_1_CNN.ipynb",
      "version": "0.3.2",
      "provenance": [],
      "collapsed_sections": []
    },
    "kernelspec": {
      "name": "python3",
      "display_name": "Python 3"
    },
    "accelerator": "GPU"
  },
  "cells": [
    {
      "metadata": {
        "id": "XX1wV6Tmy72D",
        "colab_type": "code",
        "colab": {}
      },
      "cell_type": "code",
      "source": [
        "import keras"
      ],
      "execution_count": 0,
      "outputs": []
    },
    {
      "metadata": {
        "id": "UaKGvBA9y-6u",
        "colab_type": "code",
        "colab": {}
      },
      "cell_type": "code",
      "source": [
        "from keras.datasets import cifar10\n",
        "from keras.preprocessing.image import ImageDataGenerator\n",
        "from keras.models import Sequential\n",
        "from keras.layers import Dense, Dropout, Activation, Flatten\n",
        "from keras.layers import Conv2D, MaxPooling2D\n",
        "import matplotlib.pyplot as plt"
      ],
      "execution_count": 0,
      "outputs": []
    },
    {
      "metadata": {
        "id": "QGNGFy4bzTbI",
        "colab_type": "code",
        "colab": {}
      },
      "cell_type": "code",
      "source": [
        "batch_size = 100\n",
        "num_classes = 10\n",
        "epochs = 15\n",
        "num_predictions = 20"
      ],
      "execution_count": 0,
      "outputs": []
    },
    {
      "metadata": {
        "id": "gnfFc7cKzqFM",
        "colab_type": "code",
        "colab": {
          "base_uri": "https://localhost:8080/",
          "height": 70
        },
        "outputId": "c5ebf3f6-a34f-49bf-d329-6ee46362cae4"
      },
      "cell_type": "code",
      "source": [
        "(x_train, y_train), (x_test, y_test) = cifar10.load_data()\n",
        "print('x_train shape:', x_train.shape)\n",
        "print(x_train.shape[0], 'train samples')\n",
        "print(x_test.shape[0], 'test samples')"
      ],
      "execution_count": 235,
      "outputs": [
        {
          "output_type": "stream",
          "text": [
            "x_train shape: (50000, 32, 32, 3)\n",
            "50000 train samples\n",
            "10000 test samples\n"
          ],
          "name": "stdout"
        }
      ]
    },
    {
      "metadata": {
        "id": "vDkpcoPTzuzI",
        "colab_type": "code",
        "colab": {}
      },
      "cell_type": "code",
      "source": [
        "y_train = keras.utils.to_categorical(y_train, num_classes)\n",
        "y_test = keras.utils.to_categorical(y_test, num_classes)"
      ],
      "execution_count": 0,
      "outputs": []
    },
    {
      "metadata": {
        "id": "VCYrr_2d1k-5",
        "colab_type": "code",
        "colab": {}
      },
      "cell_type": "code",
      "source": [
        "model = Sequential()\n",
        "model.add(Conv2D(32, (3, 3), padding='same',\n",
        "                 input_shape=x_train.shape[1:]))\n",
        "model.add(Activation('relu'))\n",
        "model.add(Conv2D(32, (3, 3)))\n",
        "model.add(Activation('relu'))\n",
        "model.add(MaxPooling2D(pool_size=(2, 2)))"
      ],
      "execution_count": 0,
      "outputs": []
    },
    {
      "metadata": {
        "id": "nJKWVjYyfNnV",
        "colab_type": "code",
        "colab": {}
      },
      "cell_type": "code",
      "source": [
        "model.add(Conv2D(64, (3, 3), padding='same'))\n",
        "model.add(Activation('relu'))\n",
        "model.add(Conv2D(64, (3, 3)))\n",
        "model.add(Activation('relu'))\n",
        "model.add(MaxPooling2D(pool_size=(2, 2)))\n",
        "model.add(Dropout(0.2))"
      ],
      "execution_count": 0,
      "outputs": []
    },
    {
      "metadata": {
        "id": "1OrfYLO4HKPI",
        "colab_type": "code",
        "colab": {}
      },
      "cell_type": "code",
      "source": [
        "model.add(Conv2D(64, (3, 3), padding='same'))\n",
        "model.add(Activation('relu'))\n",
        "model.add(Conv2D(64, (3, 3)))\n",
        "model.add(Activation('relu'))\n",
        "model.add(MaxPooling2D(pool_size=(2, 2)))\n",
        "model.add(Dropout(0.2))"
      ],
      "execution_count": 0,
      "outputs": []
    },
    {
      "metadata": {
        "id": "qNRvMQCCfVHo",
        "colab_type": "code",
        "colab": {}
      },
      "cell_type": "code",
      "source": [
        "model.add(Flatten())\n",
        "model.add(Dense(512))\n",
        "model.add(Activation('relu'))\n",
        "model.add(Dropout(0.2))\n",
        "model.add(Dense(num_classes))\n",
        "model.add(Activation('softmax'))"
      ],
      "execution_count": 0,
      "outputs": []
    },
    {
      "metadata": {
        "id": "r0MlBHr4fWwQ",
        "colab_type": "code",
        "colab": {}
      },
      "cell_type": "code",
      "source": [
        "opt = keras.optimizers.rmsprop(lr=0.001, decay=1e-6)"
      ],
      "execution_count": 0,
      "outputs": []
    },
    {
      "metadata": {
        "id": "mn0_d-EN1wG5",
        "colab_type": "code",
        "colab": {}
      },
      "cell_type": "code",
      "source": [
        "model.compile(loss='categorical_crossentropy',\n",
        "              optimizer=opt,\n",
        "              metrics=['accuracy'])\n",
        "\n",
        "x_train = x_train.astype('float32')\n",
        "x_test = x_test.astype('float32')\n",
        "x_train /= 255\n",
        "x_test /= 255"
      ],
      "execution_count": 0,
      "outputs": []
    },
    {
      "metadata": {
        "id": "Ie1rYJEVhejH",
        "colab_type": "code",
        "colab": {
          "base_uri": "https://localhost:8080/",
          "height": 568
        },
        "outputId": "e0569f12-1c82-4220-ec66-2fbc078c1244"
      },
      "cell_type": "code",
      "source": [
        "history=model.fit(x_train, y_train,\n",
        "              batch_size=batch_size,\n",
        "              epochs=epochs,\n",
        "              validation_data=(x_test, y_test),\n",
        "              shuffle=True)"
      ],
      "execution_count": 243,
      "outputs": [
        {
          "output_type": "stream",
          "text": [
            "Train on 50000 samples, validate on 10000 samples\n",
            "Epoch 1/15\n",
            "50000/50000 [==============================] - 28s 563us/step - loss: 1.8368 - acc: 0.3246 - val_loss: 1.4933 - val_acc: 0.4550\n",
            "Epoch 2/15\n",
            "50000/50000 [==============================] - 20s 394us/step - loss: 1.3926 - acc: 0.4980 - val_loss: 1.2222 - val_acc: 0.5634\n",
            "Epoch 3/15\n",
            "50000/50000 [==============================] - 12s 242us/step - loss: 1.1829 - acc: 0.5802 - val_loss: 1.1187 - val_acc: 0.5962\n",
            "Epoch 4/15\n",
            "50000/50000 [==============================] - 12s 233us/step - loss: 1.0396 - acc: 0.6338 - val_loss: 0.9688 - val_acc: 0.6644\n",
            "Epoch 5/15\n",
            "50000/50000 [==============================] - 12s 233us/step - loss: 0.9234 - acc: 0.6753 - val_loss: 0.8646 - val_acc: 0.6995\n",
            "Epoch 6/15\n",
            "50000/50000 [==============================] - 12s 233us/step - loss: 0.8362 - acc: 0.7082 - val_loss: 0.8612 - val_acc: 0.7039\n",
            "Epoch 7/15\n",
            "50000/50000 [==============================] - 12s 233us/step - loss: 0.7725 - acc: 0.7319 - val_loss: 0.8662 - val_acc: 0.7081\n",
            "Epoch 8/15\n",
            "50000/50000 [==============================] - 12s 233us/step - loss: 0.7176 - acc: 0.7502 - val_loss: 0.7002 - val_acc: 0.7612\n",
            "Epoch 9/15\n",
            "50000/50000 [==============================] - 12s 234us/step - loss: 0.6770 - acc: 0.7647 - val_loss: 0.8434 - val_acc: 0.7139\n",
            "Epoch 10/15\n",
            "50000/50000 [==============================] - 12s 232us/step - loss: 0.6384 - acc: 0.7788 - val_loss: 0.7349 - val_acc: 0.7487\n",
            "Epoch 11/15\n",
            "50000/50000 [==============================] - 12s 233us/step - loss: 0.6103 - acc: 0.7884 - val_loss: 0.6566 - val_acc: 0.7800\n",
            "Epoch 12/15\n",
            "50000/50000 [==============================] - 12s 233us/step - loss: 0.5859 - acc: 0.7984 - val_loss: 0.6566 - val_acc: 0.7782\n",
            "Epoch 13/15\n",
            "50000/50000 [==============================] - 12s 234us/step - loss: 0.5615 - acc: 0.8066 - val_loss: 0.6717 - val_acc: 0.7774\n",
            "Epoch 14/15\n",
            "50000/50000 [==============================] - 12s 232us/step - loss: 0.5465 - acc: 0.8123 - val_loss: 0.6318 - val_acc: 0.7894\n",
            "Epoch 15/15\n",
            "50000/50000 [==============================] - 12s 241us/step - loss: 0.5235 - acc: 0.8200 - val_loss: 0.7456 - val_acc: 0.7533\n"
          ],
          "name": "stdout"
        }
      ]
    },
    {
      "metadata": {
        "id": "SZxaSfFwE0VY",
        "colab_type": "code",
        "colab": {
          "base_uri": "https://localhost:8080/",
          "height": 70
        },
        "outputId": "f4425c0a-dead-46e8-a09b-0b5d1e8e5d6e"
      },
      "cell_type": "code",
      "source": [
        "scores = model.evaluate(x_test, y_test, verbose=1)\n",
        "print('Test loss:', scores[0])\n",
        "print('Test accuracy:', scores[1])"
      ],
      "execution_count": 244,
      "outputs": [
        {
          "output_type": "stream",
          "text": [
            "10000/10000 [==============================] - 2s 167us/step\n",
            "Test loss: 0.7455892500162125\n",
            "Test accuracy: 0.7533\n"
          ],
          "name": "stdout"
        }
      ]
    },
    {
      "metadata": {
        "id": "8KZTo9x1E4yV",
        "colab_type": "code",
        "colab": {
          "base_uri": "https://localhost:8080/",
          "height": 735
        },
        "outputId": "cc88a32d-12fb-4488-d940-9635adcad1a7"
      },
      "cell_type": "code",
      "source": [
        "plt.plot(history.history['acc'])\n",
        "plt.plot(history.history['val_acc'])\n",
        "plt.title('model accuracy')\n",
        "plt.ylabel('accuracy')\n",
        "plt.xlabel('epoch')\n",
        "plt.legend(['train', 'validation'], loc='upper left')\n",
        "plt.show()\n",
        "# \"Loss\"\n",
        "plt.plot(history.history['loss'])\n",
        "plt.plot(history.history['val_loss'])\n",
        "plt.title('model loss')\n",
        "plt.ylabel('loss')\n",
        "plt.xlabel('epoch')\n",
        "plt.legend(['train', 'validation'], loc='upper left')\n",
        "plt.show()"
      ],
      "execution_count": 245,
      "outputs": [
        {
          "output_type": "display_data",
          "data": {
            "image/png": "[encoded data removed]",
            "text/plain": [
              "<Figure size 576x396 with 1 Axes>"
            ]
          },
          "metadata": {
            "tags": []
          }
        },
        {
          "output_type": "display_data",
          "data": {
            "image/png": "[encoded data removed]",
            "text/plain": [
              "<Figure size 576x396 with 1 Axes>"
            ]
          },
          "metadata": {
            "tags": []
          }
        }
      ]
    },
    {
      "metadata": {
        "id": "2WMfDH-FW3rr",
        "colab_type": "code",
        "colab": {}
      },
      "cell_type": "code",
      "source": [
        ""
      ],
      "execution_count": 0,
      "outputs": []
    }
  ]
}